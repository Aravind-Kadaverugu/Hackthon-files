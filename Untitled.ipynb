{
  "cells": [
    {
      "cell_type": "code",
      "execution_count": 3,
      "metadata": {
        "pycharm": {}
      },
      "outputs": [
        {
          "name": "stdout",
          "output_type": "stream",
          "text": [
            "The autoreload extension is already loaded. To reload it, use:\n",
            "  %reload_ext autoreload\n"
          ]
        }
      ],
      "source": [
        "%load_ext autoreload\n",
        "%autoreload 2\n",
        "\n",
        "import pandas as pd\n",
        "import numpy as np\n",
        "import time\n",
        "import turicreate as tc\n",
        "from sklearn.cross_validation import train_test_split\n"
      ]
    },
    {
      "cell_type": "code",
      "execution_count": 4,
      "metadata": {
        "pycharm": {}
      },
      "outputs": [],
      "source": [
        "import sys\n",
        "sys.path.append(\"..\")"
      ]
    },
    {
      "cell_type": "code",
      "execution_count": 5,
      "metadata": {
        "pycharm": {}
      },
      "outputs": [],
      "source": [
        "customers \u003d pd.read_csv(\u0027recommend_1.csv\u0027)\n",
        "transactions \u003d pd.read_csv(\u0027trx_data.csv\u0027)"
      ]
    },
    {
      "cell_type": "code",
      "execution_count": 6,
      "metadata": {
        "pycharm": {}
      },
      "outputs": [
        {
          "name": "stdout",
          "output_type": "stream",
          "text": [
            "(1000, 1)\n"
          ]
        },
        {
          "data": {
            "text/html": [
              "\u003cdiv\u003e\n",
              "\u003cstyle scoped\u003e\n",
              "    .dataframe tbody tr th:only-of-type {\n",
              "        vertical-align: middle;\n",
              "    }\n",
              "\n",
              "    .dataframe tbody tr th {\n",
              "        vertical-align: top;\n",
              "    }\n",
              "\n",
              "    .dataframe thead th {\n",
              "        text-align: right;\n",
              "    }\n",
              "\u003c/style\u003e\n",
              "\u003ctable border\u003d\"1\" class\u003d\"dataframe\"\u003e\n",
              "  \u003cthead\u003e\n",
              "    \u003ctr style\u003d\"text-align: right;\"\u003e\n",
              "      \u003cth\u003e\u003c/th\u003e\n",
              "      \u003cth\u003ecustomerId\u003c/th\u003e\n",
              "    \u003c/tr\u003e\n",
              "  \u003c/thead\u003e\n",
              "  \u003ctbody\u003e\n",
              "    \u003ctr\u003e\n",
              "      \u003cth\u003e0\u003c/th\u003e\n",
              "      \u003ctd\u003e1553\u003c/td\u003e\n",
              "    \u003c/tr\u003e\n",
              "    \u003ctr\u003e\n",
              "      \u003cth\u003e1\u003c/th\u003e\n",
              "      \u003ctd\u003e20400\u003c/td\u003e\n",
              "    \u003c/tr\u003e\n",
              "    \u003ctr\u003e\n",
              "      \u003cth\u003e2\u003c/th\u003e\n",
              "      \u003ctd\u003e19750\u003c/td\u003e\n",
              "    \u003c/tr\u003e\n",
              "    \u003ctr\u003e\n",
              "      \u003cth\u003e3\u003c/th\u003e\n",
              "      \u003ctd\u003e6334\u003c/td\u003e\n",
              "    \u003c/tr\u003e\n",
              "    \u003ctr\u003e\n",
              "      \u003cth\u003e4\u003c/th\u003e\n",
              "      \u003ctd\u003e27773\u003c/td\u003e\n",
              "    \u003c/tr\u003e\n",
              "  \u003c/tbody\u003e\n",
              "\u003c/table\u003e\n",
              "\u003c/div\u003e"
            ],
            "text/plain": [
              "   customerId\n",
              "0        1553\n",
              "1       20400\n",
              "2       19750\n",
              "3        6334\n",
              "4       27773"
            ]
          },
          "execution_count": 6,
          "metadata": {},
          "output_type": "execute_result"
        }
      ],
      "source": [
        "print(customers.shape)\n",
        "customers.head()"
      ]
    },
    {
      "cell_type": "code",
      "execution_count": 7,
      "metadata": {
        "pycharm": {}
      },
      "outputs": [
        {
          "name": "stdout",
          "output_type": "stream",
          "text": [
            "(62483, 2)\n"
          ]
        },
        {
          "data": {
            "text/html": [
              "\u003cdiv\u003e\n",
              "\u003cstyle scoped\u003e\n",
              "    .dataframe tbody tr th:only-of-type {\n",
              "        vertical-align: middle;\n",
              "    }\n",
              "\n",
              "    .dataframe tbody tr th {\n",
              "        vertical-align: top;\n",
              "    }\n",
              "\n",
              "    .dataframe thead th {\n",
              "        text-align: right;\n",
              "    }\n",
              "\u003c/style\u003e\n",
              "\u003ctable border\u003d\"1\" class\u003d\"dataframe\"\u003e\n",
              "  \u003cthead\u003e\n",
              "    \u003ctr style\u003d\"text-align: right;\"\u003e\n",
              "      \u003cth\u003e\u003c/th\u003e\n",
              "      \u003cth\u003ecustomerId\u003c/th\u003e\n",
              "      \u003cth\u003eproducts\u003c/th\u003e\n",
              "    \u003c/tr\u003e\n",
              "  \u003c/thead\u003e\n",
              "  \u003ctbody\u003e\n",
              "    \u003ctr\u003e\n",
              "      \u003cth\u003e0\u003c/th\u003e\n",
              "      \u003ctd\u003e0\u003c/td\u003e\n",
              "      \u003ctd\u003e20\u003c/td\u003e\n",
              "    \u003c/tr\u003e\n",
              "    \u003ctr\u003e\n",
              "      \u003cth\u003e1\u003c/th\u003e\n",
              "      \u003ctd\u003e1\u003c/td\u003e\n",
              "      \u003ctd\u003e2|2|23|68|68|111|29|86|107|152\u003c/td\u003e\n",
              "    \u003c/tr\u003e\n",
              "    \u003ctr\u003e\n",
              "      \u003cth\u003e2\u003c/th\u003e\n",
              "      \u003ctd\u003e2\u003c/td\u003e\n",
              "      \u003ctd\u003e111|107|29|11|11|11|33|23\u003c/td\u003e\n",
              "    \u003c/tr\u003e\n",
              "    \u003ctr\u003e\n",
              "      \u003cth\u003e3\u003c/th\u003e\n",
              "      \u003ctd\u003e3\u003c/td\u003e\n",
              "      \u003ctd\u003e164|227\u003c/td\u003e\n",
              "    \u003c/tr\u003e\n",
              "    \u003ctr\u003e\n",
              "      \u003cth\u003e4\u003c/th\u003e\n",
              "      \u003ctd\u003e5\u003c/td\u003e\n",
              "      \u003ctd\u003e2|2\u003c/td\u003e\n",
              "    \u003c/tr\u003e\n",
              "  \u003c/tbody\u003e\n",
              "\u003c/table\u003e\n",
              "\u003c/div\u003e"
            ],
            "text/plain": [
              "   customerId                        products\n",
              "0           0                              20\n",
              "1           1  2|2|23|68|68|111|29|86|107|152\n",
              "2           2       111|107|29|11|11|11|33|23\n",
              "3           3                         164|227\n",
              "4           5                             2|2"
            ]
          },
          "execution_count": 7,
          "metadata": {},
          "output_type": "execute_result"
        }
      ],
      "source": "print(transactions.shape)\ntransactions.he ``` s`4ad()"
    },
    {
      "cell_type": "code",
      "execution_count": 8,
      "metadata": {
        "pycharm": {}
      },
      "outputs": [
        {
          "data": {
            "text/html": [
              "\u003cdiv\u003e\n",
              "\u003cstyle scoped\u003e\n",
              "    .dataframe tbody tr th:only-of-type {\n",
              "        vertical-align: middle;\n",
              "    }\n",
              "\n",
              "    .dataframe tbody tr th {\n",
              "        vertical-align: top;\n",
              "    }\n",
              "\n",
              "    .dataframe thead th {\n",
              "        text-align: right;\n",
              "    }\n",
              "\u003c/style\u003e\n",
              "\u003ctable border\u003d\"1\" class\u003d\"dataframe\"\u003e\n",
              "  \u003cthead\u003e\n",
              "    \u003ctr style\u003d\"text-align: right;\"\u003e\n",
              "      \u003cth\u003e\u003c/th\u003e\n",
              "      \u003cth\u003ecustomerId\u003c/th\u003e\n",
              "      \u003cth\u003e0\u003c/th\u003e\n",
              "      \u003cth\u003e1\u003c/th\u003e\n",
              "      \u003cth\u003e2\u003c/th\u003e\n",
              "      \u003cth\u003e3\u003c/th\u003e\n",
              "      \u003cth\u003e4\u003c/th\u003e\n",
              "      \u003cth\u003e5\u003c/th\u003e\n",
              "      \u003cth\u003e6\u003c/th\u003e\n",
              "      \u003cth\u003e7\u003c/th\u003e\n",
              "      \u003cth\u003e8\u003c/th\u003e\n",
              "      \u003cth\u003e9\u003c/th\u003e\n",
              "    \u003c/tr\u003e\n",
              "  \u003c/thead\u003e\n",
              "  \u003ctbody\u003e\n",
              "    \u003ctr\u003e\n",
              "      \u003cth\u003e0\u003c/th\u003e\n",
              "      \u003ctd\u003e0\u003c/td\u003e\n",
              "      \u003ctd\u003e20.0\u003c/td\u003e\n",
              "      \u003ctd\u003eNaN\u003c/td\u003e\n",
              "      \u003ctd\u003eNaN\u003c/td\u003e\n",
              "      \u003ctd\u003eNaN\u003c/td\u003e\n",
              "      \u003ctd\u003eNaN\u003c/td\u003e\n",
              "      \u003ctd\u003eNaN\u003c/td\u003e\n",
              "      \u003ctd\u003eNaN\u003c/td\u003e\n",
              "      \u003ctd\u003eNaN\u003c/td\u003e\n",
              "      \u003ctd\u003eNaN\u003c/td\u003e\n",
              "      \u003ctd\u003eNaN\u003c/td\u003e\n",
              "    \u003c/tr\u003e\n",
              "    \u003ctr\u003e\n",
              "      \u003cth\u003e1\u003c/th\u003e\n",
              "      \u003ctd\u003e1\u003c/td\u003e\n",
              "      \u003ctd\u003e2.0\u003c/td\u003e\n",
              "      \u003ctd\u003e2.0\u003c/td\u003e\n",
              "      \u003ctd\u003e23.0\u003c/td\u003e\n",
              "      \u003ctd\u003e68.0\u003c/td\u003e\n",
              "      \u003ctd\u003e68.0\u003c/td\u003e\n",
              "      \u003ctd\u003e111.0\u003c/td\u003e\n",
              "      \u003ctd\u003e29.0\u003c/td\u003e\n",
              "      \u003ctd\u003e86.0\u003c/td\u003e\n",
              "      \u003ctd\u003e107.0\u003c/td\u003e\n",
              "      \u003ctd\u003e152.0\u003c/td\u003e\n",
              "    \u003c/tr\u003e\n",
              "  \u003c/tbody\u003e\n",
              "\u003c/table\u003e\n",
              "\u003c/div\u003e"
            ],
            "text/plain": [
              "   customerId     0    1     2     3     4      5     6     7      8      9\n",
              "0           0  20.0  NaN   NaN   NaN   NaN    NaN   NaN   NaN    NaN    NaN\n",
              "1           1   2.0  2.0  23.0  68.0  68.0  111.0  29.0  86.0  107.0  152.0"
            ]
          },
          "execution_count": 8,
          "metadata": {},
          "output_type": "execute_result"
        }
      ],
      "source": [
        "# example 1: split product items\n",
        "transactions[\u0027products\u0027] \u003d transactions[\u0027products\u0027].apply(lambda x: [int(i) for i in x.split(\u0027|\u0027)])\n",
        "transactions.head(2).set_index(\u0027customerId\u0027)[\u0027products\u0027].apply(pd.Series).reset_index()"
      ]
    },
    {
      "cell_type": "code",
      "execution_count": 9,
      "metadata": {
        "pycharm": {}
      },
      "outputs": [
        {
          "data": {
            "text/html": [
              "\u003cdiv\u003e\n",
              "\u003cstyle scoped\u003e\n",
              "    .dataframe tbody tr th:only-of-type {\n",
              "        vertical-align: middle;\n",
              "    }\n",
              "\n",
              "    .dataframe tbody tr th {\n",
              "        vertical-align: top;\n",
              "    }\n",
              "\n",
              "    .dataframe thead th {\n",
              "        text-align: right;\n",
              "    }\n",
              "\u003c/style\u003e\n",
              "\u003ctable border\u003d\"1\" class\u003d\"dataframe\"\u003e\n",
              "  \u003cthead\u003e\n",
              "    \u003ctr style\u003d\"text-align: right;\"\u003e\n",
              "      \u003cth\u003e\u003c/th\u003e\n",
              "      \u003cth\u003ecustomerId\u003c/th\u003e\n",
              "      \u003cth\u003eproductId\u003c/th\u003e\n",
              "      \u003cth\u003epurchase_count\u003c/th\u003e\n",
              "    \u003c/tr\u003e\n",
              "  \u003c/thead\u003e\n",
              "  \u003ctbody\u003e\n",
              "    \u003ctr\u003e\n",
              "      \u003cth\u003e0\u003c/th\u003e\n",
              "      \u003ctd\u003e0\u003c/td\u003e\n",
              "      \u003ctd\u003e20.0\u003c/td\u003e\n",
              "      \u003ctd\u003e1\u003c/td\u003e\n",
              "    \u003c/tr\u003e\n",
              "    \u003ctr\u003e\n",
              "      \u003cth\u003e1\u003c/th\u003e\n",
              "      \u003ctd\u003e1\u003c/td\u003e\n",
              "      \u003ctd\u003e2.0\u003c/td\u003e\n",
              "      \u003ctd\u003e2\u003c/td\u003e\n",
              "    \u003c/tr\u003e\n",
              "    \u003ctr\u003e\n",
              "      \u003cth\u003e2\u003c/th\u003e\n",
              "      \u003ctd\u003e1\u003c/td\u003e\n",
              "      \u003ctd\u003e23.0\u003c/td\u003e\n",
              "      \u003ctd\u003e1\u003c/td\u003e\n",
              "    \u003c/tr\u003e\n",
              "    \u003ctr\u003e\n",
              "      \u003cth\u003e3\u003c/th\u003e\n",
              "      \u003ctd\u003e1\u003c/td\u003e\n",
              "      \u003ctd\u003e29.0\u003c/td\u003e\n",
              "      \u003ctd\u003e1\u003c/td\u003e\n",
              "    \u003c/tr\u003e\n",
              "    \u003ctr\u003e\n",
              "      \u003cth\u003e4\u003c/th\u003e\n",
              "      \u003ctd\u003e1\u003c/td\u003e\n",
              "      \u003ctd\u003e68.0\u003c/td\u003e\n",
              "      \u003ctd\u003e2\u003c/td\u003e\n",
              "    \u003c/tr\u003e\n",
              "    \u003ctr\u003e\n",
              "      \u003cth\u003e5\u003c/th\u003e\n",
              "      \u003ctd\u003e1\u003c/td\u003e\n",
              "      \u003ctd\u003e86.0\u003c/td\u003e\n",
              "      \u003ctd\u003e1\u003c/td\u003e\n",
              "    \u003c/tr\u003e\n",
              "    \u003ctr\u003e\n",
              "      \u003cth\u003e6\u003c/th\u003e\n",
              "      \u003ctd\u003e1\u003c/td\u003e\n",
              "      \u003ctd\u003e107.0\u003c/td\u003e\n",
              "      \u003ctd\u003e1\u003c/td\u003e\n",
              "    \u003c/tr\u003e\n",
              "    \u003ctr\u003e\n",
              "      \u003cth\u003e7\u003c/th\u003e\n",
              "      \u003ctd\u003e1\u003c/td\u003e\n",
              "      \u003ctd\u003e111.0\u003c/td\u003e\n",
              "      \u003ctd\u003e1\u003c/td\u003e\n",
              "    \u003c/tr\u003e\n",
              "    \u003ctr\u003e\n",
              "      \u003cth\u003e8\u003c/th\u003e\n",
              "      \u003ctd\u003e1\u003c/td\u003e\n",
              "      \u003ctd\u003e152.0\u003c/td\u003e\n",
              "      \u003ctd\u003e1\u003c/td\u003e\n",
              "    \u003c/tr\u003e\n",
              "  \u003c/tbody\u003e\n",
              "\u003c/table\u003e\n",
              "\u003c/div\u003e"
            ],
            "text/plain": [
              "   customerId  productId  purchase_count\n",
              "0           0       20.0               1\n",
              "1           1        2.0               2\n",
              "2           1       23.0               1\n",
              "3           1       29.0               1\n",
              "4           1       68.0               2\n",
              "5           1       86.0               1\n",
              "6           1      107.0               1\n",
              "7           1      111.0               1\n",
              "8           1      152.0               1"
            ]
          },
          "execution_count": 9,
          "metadata": {},
          "output_type": "execute_result"
        }
      ],
      "source": [
        "# example 2: organize a given table into a dataframe with customerId, single productId, and purchase count\n",
        "pd.melt(transactions.head(2).set_index(\u0027customerId\u0027)[\u0027products\u0027].apply(pd.Series).reset_index(), \n",
        "             id_vars\u003d[\u0027customerId\u0027],\n",
        "             value_name\u003d\u0027products\u0027) \\\n",
        "    .dropna().drop([\u0027variable\u0027], axis\u003d1) \\\n",
        "    .groupby([\u0027customerId\u0027, \u0027products\u0027]) \\\n",
        "    .agg({\u0027products\u0027: \u0027count\u0027}) \\\n",
        "    .rename(columns\u003d{\u0027products\u0027: \u0027purchase_count\u0027}) \\\n",
        "    .reset_index() \\\n",
        "    .rename(columns\u003d{\u0027products\u0027: \u0027productId\u0027})"
      ]
    },
    {
      "cell_type": "code",
      "execution_count": 12,
      "metadata": {
        "pycharm": {}
      },
      "outputs": [
        {
          "name": "stdout",
          "output_type": "stream",
          "text": [
            "(\u0027Execution time:\u0027, 0.3, \u0027minutes\u0027)\n"
          ]
        }
      ],
      "source": [
        "s\u003dtime.time()\n",
        "\n",
        "data \u003d pd.melt(transactions.set_index(\u0027customerId\u0027)[\u0027products\u0027].apply(pd.Series).reset_index(), \n",
        "             id_vars\u003d[\u0027customerId\u0027],\n",
        "             value_name\u003d\u0027products\u0027) \\\n",
        "    .dropna().drop([\u0027variable\u0027], axis\u003d1) \\\n",
        "    .groupby([\u0027customerId\u0027, \u0027products\u0027]) \\\n",
        "    .agg({\u0027products\u0027: \u0027count\u0027}) \\\n",
        "    .rename(columns\u003d{\u0027products\u0027: \u0027purchase_count\u0027}) \\\n",
        "    .reset_index() \\\n",
        "    .rename(columns\u003d{\u0027products\u0027: \u0027productId\u0027})\n",
        "data[\u0027productId\u0027] \u003d data[\u0027productId\u0027].astype(np.int64)\n",
        "\n",
        "print(\"Execution time:\", round((time.time()-s)/60,2), \"minutes\")"
      ]
    },
    {
      "cell_type": "code",
      "execution_count": 1,
      "metadata": {
        "scrolled": true,
        "pycharm": {}
      },
      "outputs": [
        {
          "ename": "NameError",
          "evalue": "name \u0027data\u0027 is not defined",
          "output_type": "error",
          "traceback": [
            "\u001b[1;31m---------------------------------------------------------------------------\u001b[0m",
            "\u001b[1;31mNameError\u001b[0m                                 Traceback (most recent call last)",
            "\u001b[1;32m\u003cipython-input-1-c0f7ff66cda5\u003e\u001b[0m in \u001b[0;36m\u003cmodule\u003e\u001b[1;34m\u001b[0m\n\u001b[1;32m----\u003e 1\u001b[1;33m \u001b[0mprint\u001b[0m\u001b[1;33m(\u001b[0m\u001b[0mdata\u001b[0m\u001b[1;33m.\u001b[0m\u001b[0mshape\u001b[0m\u001b[1;33m)\u001b[0m\u001b[1;33m\u001b[0m\u001b[1;33m\u001b[0m\u001b[0m\n\u001b[0m\u001b[0;32m      2\u001b[0m \u001b[0mdata\u001b[0m\u001b[1;33m.\u001b[0m\u001b[0mhead\u001b[0m\u001b[1;33m(\u001b[0m\u001b[1;36m100\u001b[0m\u001b[1;33m)\u001b[0m\u001b[1;33m\u001b[0m\u001b[1;33m\u001b[0m\u001b[0m\n",
            "\u001b[1;31mNameError\u001b[0m: name \u0027data\u0027 is not defined"
          ]
        }
      ],
      "source": [
        "print(data.shape)\n",
        "data.head()"
      ]
    },
    {
      "cell_type": "code",
      "execution_count": 14,
      "metadata": {
        "pycharm": {}
      },
      "outputs": [],
      "source": [
        "def create_data_dummy(data):\n",
        "    data_dummy \u003d data.copy()\n",
        "    data_dummy[\u0027purchase_dummy\u0027] \u003d 1\n",
        "    return data_dummy"
      ]
    },
    {
      "cell_type": "code",
      "execution_count": 15,
      "metadata": {
        "pycharm": {}
      },
      "outputs": [],
      "source": [
        "data_dummy \u003d create_data_dummy(data)"
      ]
    },
    {
      "cell_type": "code",
      "execution_count": 16,
      "metadata": {
        "pycharm": {}
      },
      "outputs": [
        {
          "data": {
            "text/html": [
              "\u003cdiv\u003e\n",
              "\u003cstyle scoped\u003e\n",
              "    .dataframe tbody tr th:only-of-type {\n",
              "        vertical-align: middle;\n",
              "    }\n",
              "\n",
              "    .dataframe tbody tr th {\n",
              "        vertical-align: top;\n",
              "    }\n",
              "\n",
              "    .dataframe thead th {\n",
              "        text-align: right;\n",
              "    }\n",
              "\u003c/style\u003e\n",
              "\u003ctable border\u003d\"1\" class\u003d\"dataframe\"\u003e\n",
              "  \u003cthead\u003e\n",
              "    \u003ctr style\u003d\"text-align: right;\"\u003e\n",
              "      \u003cth\u003eproductId\u003c/th\u003e\n",
              "      \u003cth\u003e0\u003c/th\u003e\n",
              "      \u003cth\u003e1\u003c/th\u003e\n",
              "      \u003cth\u003e2\u003c/th\u003e\n",
              "      \u003cth\u003e3\u003c/th\u003e\n",
              "      \u003cth\u003e4\u003c/th\u003e\n",
              "      \u003cth\u003e5\u003c/th\u003e\n",
              "      \u003cth\u003e6\u003c/th\u003e\n",
              "      \u003cth\u003e7\u003c/th\u003e\n",
              "      \u003cth\u003e8\u003c/th\u003e\n",
              "      \u003cth\u003e9\u003c/th\u003e\n",
              "      \u003cth\u003e...\u003c/th\u003e\n",
              "      \u003cth\u003e290\u003c/th\u003e\n",
              "      \u003cth\u003e291\u003c/th\u003e\n",
              "      \u003cth\u003e292\u003c/th\u003e\n",
              "      \u003cth\u003e293\u003c/th\u003e\n",
              "      \u003cth\u003e294\u003c/th\u003e\n",
              "      \u003cth\u003e295\u003c/th\u003e\n",
              "      \u003cth\u003e296\u003c/th\u003e\n",
              "      \u003cth\u003e297\u003c/th\u003e\n",
              "      \u003cth\u003e298\u003c/th\u003e\n",
              "      \u003cth\u003e299\u003c/th\u003e\n",
              "    \u003c/tr\u003e\n",
              "    \u003ctr\u003e\n",
              "      \u003cth\u003ecustomerId\u003c/th\u003e\n",
              "      \u003cth\u003e\u003c/th\u003e\n",
              "      \u003cth\u003e\u003c/th\u003e\n",
              "      \u003cth\u003e\u003c/th\u003e\n",
              "      \u003cth\u003e\u003c/th\u003e\n",
              "      \u003cth\u003e\u003c/th\u003e\n",
              "      \u003cth\u003e\u003c/th\u003e\n",
              "      \u003cth\u003e\u003c/th\u003e\n",
              "      \u003cth\u003e\u003c/th\u003e\n",
              "      \u003cth\u003e\u003c/th\u003e\n",
              "      \u003cth\u003e\u003c/th\u003e\n",
              "      \u003cth\u003e\u003c/th\u003e\n",
              "      \u003cth\u003e\u003c/th\u003e\n",
              "      \u003cth\u003e\u003c/th\u003e\n",
              "      \u003cth\u003e\u003c/th\u003e\n",
              "      \u003cth\u003e\u003c/th\u003e\n",
              "      \u003cth\u003e\u003c/th\u003e\n",
              "      \u003cth\u003e\u003c/th\u003e\n",
              "      \u003cth\u003e\u003c/th\u003e\n",
              "      \u003cth\u003e\u003c/th\u003e\n",
              "      \u003cth\u003e\u003c/th\u003e\n",
              "      \u003cth\u003e\u003c/th\u003e\n",
              "    \u003c/tr\u003e\n",
              "  \u003c/thead\u003e\n",
              "  \u003ctbody\u003e\n",
              "    \u003ctr\u003e\n",
              "      \u003cth\u003e0\u003c/th\u003e\n",
              "      \u003ctd\u003eNaN\u003c/td\u003e\n",
              "      \u003ctd\u003e2.0\u003c/td\u003e\n",
              "      \u003ctd\u003eNaN\u003c/td\u003e\n",
              "      \u003ctd\u003eNaN\u003c/td\u003e\n",
              "      \u003ctd\u003eNaN\u003c/td\u003e\n",
              "      \u003ctd\u003eNaN\u003c/td\u003e\n",
              "      \u003ctd\u003eNaN\u003c/td\u003e\n",
              "      \u003ctd\u003eNaN\u003c/td\u003e\n",
              "      \u003ctd\u003eNaN\u003c/td\u003e\n",
              "      \u003ctd\u003eNaN\u003c/td\u003e\n",
              "      \u003ctd\u003e...\u003c/td\u003e\n",
              "      \u003ctd\u003eNaN\u003c/td\u003e\n",
              "      \u003ctd\u003eNaN\u003c/td\u003e\n",
              "      \u003ctd\u003eNaN\u003c/td\u003e\n",
              "      \u003ctd\u003eNaN\u003c/td\u003e\n",
              "      \u003ctd\u003eNaN\u003c/td\u003e\n",
              "      \u003ctd\u003eNaN\u003c/td\u003e\n",
              "      \u003ctd\u003eNaN\u003c/td\u003e\n",
              "      \u003ctd\u003eNaN\u003c/td\u003e\n",
              "      \u003ctd\u003eNaN\u003c/td\u003e\n",
              "      \u003ctd\u003eNaN\u003c/td\u003e\n",
              "    \u003c/tr\u003e\n",
              "    \u003ctr\u003e\n",
              "      \u003cth\u003e1\u003c/th\u003e\n",
              "      \u003ctd\u003eNaN\u003c/td\u003e\n",
              "      \u003ctd\u003eNaN\u003c/td\u003e\n",
              "      \u003ctd\u003e6.0\u003c/td\u003e\n",
              "      \u003ctd\u003eNaN\u003c/td\u003e\n",
              "      \u003ctd\u003eNaN\u003c/td\u003e\n",
              "      \u003ctd\u003eNaN\u003c/td\u003e\n",
              "      \u003ctd\u003eNaN\u003c/td\u003e\n",
              "      \u003ctd\u003eNaN\u003c/td\u003e\n",
              "      \u003ctd\u003eNaN\u003c/td\u003e\n",
              "      \u003ctd\u003eNaN\u003c/td\u003e\n",
              "      \u003ctd\u003e...\u003c/td\u003e\n",
              "      \u003ctd\u003eNaN\u003c/td\u003e\n",
              "      \u003ctd\u003eNaN\u003c/td\u003e\n",
              "      \u003ctd\u003eNaN\u003c/td\u003e\n",
              "      \u003ctd\u003e1.0\u003c/td\u003e\n",
              "      \u003ctd\u003eNaN\u003c/td\u003e\n",
              "      \u003ctd\u003eNaN\u003c/td\u003e\n",
              "      \u003ctd\u003e1.0\u003c/td\u003e\n",
              "      \u003ctd\u003eNaN\u003c/td\u003e\n",
              "      \u003ctd\u003eNaN\u003c/td\u003e\n",
              "      \u003ctd\u003eNaN\u003c/td\u003e\n",
              "    \u003c/tr\u003e\n",
              "    \u003ctr\u003e\n",
              "      \u003cth\u003e2\u003c/th\u003e\n",
              "      \u003ctd\u003eNaN\u003c/td\u003e\n",
              "      \u003ctd\u003eNaN\u003c/td\u003e\n",
              "      \u003ctd\u003eNaN\u003c/td\u003e\n",
              "      \u003ctd\u003eNaN\u003c/td\u003e\n",
              "      \u003ctd\u003eNaN\u003c/td\u003e\n",
              "      \u003ctd\u003eNaN\u003c/td\u003e\n",
              "      \u003ctd\u003eNaN\u003c/td\u003e\n",
              "      \u003ctd\u003eNaN\u003c/td\u003e\n",
              "      \u003ctd\u003eNaN\u003c/td\u003e\n",
              "      \u003ctd\u003eNaN\u003c/td\u003e\n",
              "      \u003ctd\u003e...\u003c/td\u003e\n",
              "      \u003ctd\u003eNaN\u003c/td\u003e\n",
              "      \u003ctd\u003eNaN\u003c/td\u003e\n",
              "      \u003ctd\u003eNaN\u003c/td\u003e\n",
              "      \u003ctd\u003eNaN\u003c/td\u003e\n",
              "      \u003ctd\u003eNaN\u003c/td\u003e\n",
              "      \u003ctd\u003eNaN\u003c/td\u003e\n",
              "      \u003ctd\u003eNaN\u003c/td\u003e\n",
              "      \u003ctd\u003eNaN\u003c/td\u003e\n",
              "      \u003ctd\u003eNaN\u003c/td\u003e\n",
              "      \u003ctd\u003eNaN\u003c/td\u003e\n",
              "    \u003c/tr\u003e\n",
              "    \u003ctr\u003e\n",
              "      \u003cth\u003e3\u003c/th\u003e\n",
              "      \u003ctd\u003eNaN\u003c/td\u003e\n",
              "      \u003ctd\u003eNaN\u003c/td\u003e\n",
              "      \u003ctd\u003eNaN\u003c/td\u003e\n",
              "      \u003ctd\u003eNaN\u003c/td\u003e\n",
              "      \u003ctd\u003eNaN\u003c/td\u003e\n",
              "      \u003ctd\u003eNaN\u003c/td\u003e\n",
              "      \u003ctd\u003eNaN\u003c/td\u003e\n",
              "      \u003ctd\u003eNaN\u003c/td\u003e\n",
              "      \u003ctd\u003eNaN\u003c/td\u003e\n",
              "      \u003ctd\u003eNaN\u003c/td\u003e\n",
              "      \u003ctd\u003e...\u003c/td\u003e\n",
              "      \u003ctd\u003eNaN\u003c/td\u003e\n",
              "      \u003ctd\u003eNaN\u003c/td\u003e\n",
              "      \u003ctd\u003eNaN\u003c/td\u003e\n",
              "      \u003ctd\u003eNaN\u003c/td\u003e\n",
              "      \u003ctd\u003eNaN\u003c/td\u003e\n",
              "      \u003ctd\u003eNaN\u003c/td\u003e\n",
              "      \u003ctd\u003eNaN\u003c/td\u003e\n",
              "      \u003ctd\u003eNaN\u003c/td\u003e\n",
              "      \u003ctd\u003eNaN\u003c/td\u003e\n",
              "      \u003ctd\u003eNaN\u003c/td\u003e\n",
              "    \u003c/tr\u003e\n",
              "    \u003ctr\u003e\n",
              "      \u003cth\u003e4\u003c/th\u003e\n",
              "      \u003ctd\u003eNaN\u003c/td\u003e\n",
              "      \u003ctd\u003eNaN\u003c/td\u003e\n",
              "      \u003ctd\u003eNaN\u003c/td\u003e\n",
              "      \u003ctd\u003eNaN\u003c/td\u003e\n",
              "      \u003ctd\u003eNaN\u003c/td\u003e\n",
              "      \u003ctd\u003eNaN\u003c/td\u003e\n",
              "      \u003ctd\u003eNaN\u003c/td\u003e\n",
              "      \u003ctd\u003eNaN\u003c/td\u003e\n",
              "      \u003ctd\u003eNaN\u003c/td\u003e\n",
              "      \u003ctd\u003eNaN\u003c/td\u003e\n",
              "      \u003ctd\u003e...\u003c/td\u003e\n",
              "      \u003ctd\u003eNaN\u003c/td\u003e\n",
              "      \u003ctd\u003eNaN\u003c/td\u003e\n",
              "      \u003ctd\u003eNaN\u003c/td\u003e\n",
              "      \u003ctd\u003eNaN\u003c/td\u003e\n",
              "      \u003ctd\u003eNaN\u003c/td\u003e\n",
              "      \u003ctd\u003eNaN\u003c/td\u003e\n",
              "      \u003ctd\u003eNaN\u003c/td\u003e\n",
              "      \u003ctd\u003eNaN\u003c/td\u003e\n",
              "      \u003ctd\u003eNaN\u003c/td\u003e\n",
              "      \u003ctd\u003eNaN\u003c/td\u003e\n",
              "    \u003c/tr\u003e\n",
              "  \u003c/tbody\u003e\n",
              "\u003c/table\u003e\n",
              "\u003cp\u003e5 rows × 300 columns\u003c/p\u003e\n",
              "\u003c/div\u003e"
            ],
            "text/plain": [
              "productId   0    1    2    3    4    5    6    7    8    9   ...   290  291  \\\n",
              "customerId                                                   ...              \n",
              "0           NaN  2.0  NaN  NaN  NaN  NaN  NaN  NaN  NaN  NaN ...   NaN  NaN   \n",
              "1           NaN  NaN  6.0  NaN  NaN  NaN  NaN  NaN  NaN  NaN ...   NaN  NaN   \n",
              "2           NaN  NaN  NaN  NaN  NaN  NaN  NaN  NaN  NaN  NaN ...   NaN  NaN   \n",
              "3           NaN  NaN  NaN  NaN  NaN  NaN  NaN  NaN  NaN  NaN ...   NaN  NaN   \n",
              "4           NaN  NaN  NaN  NaN  NaN  NaN  NaN  NaN  NaN  NaN ...   NaN  NaN   \n",
              "\n",
              "productId   292  293  294  295  296  297  298  299  \n",
              "customerId                                          \n",
              "0           NaN  NaN  NaN  NaN  NaN  NaN  NaN  NaN  \n",
              "1           NaN  1.0  NaN  NaN  1.0  NaN  NaN  NaN  \n",
              "2           NaN  NaN  NaN  NaN  NaN  NaN  NaN  NaN  \n",
              "3           NaN  NaN  NaN  NaN  NaN  NaN  NaN  NaN  \n",
              "4           NaN  NaN  NaN  NaN  NaN  NaN  NaN  NaN  \n",
              "\n",
              "[5 rows x 300 columns]"
            ]
          },
          "execution_count": 16,
          "metadata": {},
          "output_type": "execute_result"
        }
      ],
      "source": [
        "df_matrix \u003d pd.pivot_table(data, values\u003d\u0027purchase_count\u0027, index\u003d\u0027customerId\u0027, columns\u003d\u0027productId\u0027)\n",
        "df_matrix.head()"
      ]
    },
    {
      "cell_type": "code",
      "execution_count": 17,
      "metadata": {
        "pycharm": {}
      },
      "outputs": [
        {
          "data": {
            "text/plain": [
              "(24429, 300)"
            ]
          },
          "execution_count": 17,
          "metadata": {},
          "output_type": "execute_result"
        }
      ],
      "source": [
        "(df_matrix.shape)"
      ]
    },
    {
      "cell_type": "code",
      "execution_count": 18,
      "metadata": {
        "pycharm": {}
      },
      "outputs": [
        {
          "name": "stdout",
          "output_type": "stream",
          "text": [
            "(24429, 300)\n"
          ]
        },
        {
          "data": {
            "text/html": [
              "\u003cdiv\u003e\n",
              "\u003cstyle scoped\u003e\n",
              "    .dataframe tbody tr th:only-of-type {\n",
              "        vertical-align: middle;\n",
              "    }\n",
              "\n",
              "    .dataframe tbody tr th {\n",
              "        vertical-align: top;\n",
              "    }\n",
              "\n",
              "    .dataframe thead th {\n",
              "        text-align: right;\n",
              "    }\n",
              "\u003c/style\u003e\n",
              "\u003ctable border\u003d\"1\" class\u003d\"dataframe\"\u003e\n",
              "  \u003cthead\u003e\n",
              "    \u003ctr style\u003d\"text-align: right;\"\u003e\n",
              "      \u003cth\u003eproductId\u003c/th\u003e\n",
              "      \u003cth\u003e0\u003c/th\u003e\n",
              "      \u003cth\u003e1\u003c/th\u003e\n",
              "      \u003cth\u003e2\u003c/th\u003e\n",
              "      \u003cth\u003e3\u003c/th\u003e\n",
              "      \u003cth\u003e4\u003c/th\u003e\n",
              "      \u003cth\u003e5\u003c/th\u003e\n",
              "      \u003cth\u003e6\u003c/th\u003e\n",
              "      \u003cth\u003e7\u003c/th\u003e\n",
              "      \u003cth\u003e8\u003c/th\u003e\n",
              "      \u003cth\u003e9\u003c/th\u003e\n",
              "      \u003cth\u003e...\u003c/th\u003e\n",
              "      \u003cth\u003e290\u003c/th\u003e\n",
              "      \u003cth\u003e291\u003c/th\u003e\n",
              "      \u003cth\u003e292\u003c/th\u003e\n",
              "      \u003cth\u003e293\u003c/th\u003e\n",
              "      \u003cth\u003e294\u003c/th\u003e\n",
              "      \u003cth\u003e295\u003c/th\u003e\n",
              "      \u003cth\u003e296\u003c/th\u003e\n",
              "      \u003cth\u003e297\u003c/th\u003e\n",
              "      \u003cth\u003e298\u003c/th\u003e\n",
              "      \u003cth\u003e299\u003c/th\u003e\n",
              "    \u003c/tr\u003e\n",
              "    \u003ctr\u003e\n",
              "      \u003cth\u003ecustomerId\u003c/th\u003e\n",
              "      \u003cth\u003e\u003c/th\u003e\n",
              "      \u003cth\u003e\u003c/th\u003e\n",
              "      \u003cth\u003e\u003c/th\u003e\n",
              "      \u003cth\u003e\u003c/th\u003e\n",
              "      \u003cth\u003e\u003c/th\u003e\n",
              "      \u003cth\u003e\u003c/th\u003e\n",
              "      \u003cth\u003e\u003c/th\u003e\n",
              "      \u003cth\u003e\u003c/th\u003e\n",
              "      \u003cth\u003e\u003c/th\u003e\n",
              "      \u003cth\u003e\u003c/th\u003e\n",
              "      \u003cth\u003e\u003c/th\u003e\n",
              "      \u003cth\u003e\u003c/th\u003e\n",
              "      \u003cth\u003e\u003c/th\u003e\n",
              "      \u003cth\u003e\u003c/th\u003e\n",
              "      \u003cth\u003e\u003c/th\u003e\n",
              "      \u003cth\u003e\u003c/th\u003e\n",
              "      \u003cth\u003e\u003c/th\u003e\n",
              "      \u003cth\u003e\u003c/th\u003e\n",
              "      \u003cth\u003e\u003c/th\u003e\n",
              "      \u003cth\u003e\u003c/th\u003e\n",
              "      \u003cth\u003e\u003c/th\u003e\n",
              "    \u003c/tr\u003e\n",
              "  \u003c/thead\u003e\n",
              "  \u003ctbody\u003e\n",
              "    \u003ctr\u003e\n",
              "      \u003cth\u003e0\u003c/th\u003e\n",
              "      \u003ctd\u003eNaN\u003c/td\u003e\n",
              "      \u003ctd\u003e0.1\u003c/td\u003e\n",
              "      \u003ctd\u003eNaN\u003c/td\u003e\n",
              "      \u003ctd\u003eNaN\u003c/td\u003e\n",
              "      \u003ctd\u003eNaN\u003c/td\u003e\n",
              "      \u003ctd\u003eNaN\u003c/td\u003e\n",
              "      \u003ctd\u003eNaN\u003c/td\u003e\n",
              "      \u003ctd\u003eNaN\u003c/td\u003e\n",
              "      \u003ctd\u003eNaN\u003c/td\u003e\n",
              "      \u003ctd\u003eNaN\u003c/td\u003e\n",
              "      \u003ctd\u003e...\u003c/td\u003e\n",
              "      \u003ctd\u003eNaN\u003c/td\u003e\n",
              "      \u003ctd\u003eNaN\u003c/td\u003e\n",
              "      \u003ctd\u003eNaN\u003c/td\u003e\n",
              "      \u003ctd\u003eNaN\u003c/td\u003e\n",
              "      \u003ctd\u003eNaN\u003c/td\u003e\n",
              "      \u003ctd\u003eNaN\u003c/td\u003e\n",
              "      \u003ctd\u003eNaN\u003c/td\u003e\n",
              "      \u003ctd\u003eNaN\u003c/td\u003e\n",
              "      \u003ctd\u003eNaN\u003c/td\u003e\n",
              "      \u003ctd\u003eNaN\u003c/td\u003e\n",
              "    \u003c/tr\u003e\n",
              "    \u003ctr\u003e\n",
              "      \u003cth\u003e1\u003c/th\u003e\n",
              "      \u003ctd\u003eNaN\u003c/td\u003e\n",
              "      \u003ctd\u003eNaN\u003c/td\u003e\n",
              "      \u003ctd\u003e0.166667\u003c/td\u003e\n",
              "      \u003ctd\u003eNaN\u003c/td\u003e\n",
              "      \u003ctd\u003eNaN\u003c/td\u003e\n",
              "      \u003ctd\u003eNaN\u003c/td\u003e\n",
              "      \u003ctd\u003eNaN\u003c/td\u003e\n",
              "      \u003ctd\u003eNaN\u003c/td\u003e\n",
              "      \u003ctd\u003eNaN\u003c/td\u003e\n",
              "      \u003ctd\u003eNaN\u003c/td\u003e\n",
              "      \u003ctd\u003e...\u003c/td\u003e\n",
              "      \u003ctd\u003eNaN\u003c/td\u003e\n",
              "      \u003ctd\u003eNaN\u003c/td\u003e\n",
              "      \u003ctd\u003eNaN\u003c/td\u003e\n",
              "      \u003ctd\u003e0.0\u003c/td\u003e\n",
              "      \u003ctd\u003eNaN\u003c/td\u003e\n",
              "      \u003ctd\u003eNaN\u003c/td\u003e\n",
              "      \u003ctd\u003e0.0\u003c/td\u003e\n",
              "      \u003ctd\u003eNaN\u003c/td\u003e\n",
              "      \u003ctd\u003eNaN\u003c/td\u003e\n",
              "      \u003ctd\u003eNaN\u003c/td\u003e\n",
              "    \u003c/tr\u003e\n",
              "    \u003ctr\u003e\n",
              "      \u003cth\u003e2\u003c/th\u003e\n",
              "      \u003ctd\u003eNaN\u003c/td\u003e\n",
              "      \u003ctd\u003eNaN\u003c/td\u003e\n",
              "      \u003ctd\u003eNaN\u003c/td\u003e\n",
              "      \u003ctd\u003eNaN\u003c/td\u003e\n",
              "      \u003ctd\u003eNaN\u003c/td\u003e\n",
              "      \u003ctd\u003eNaN\u003c/td\u003e\n",
              "      \u003ctd\u003eNaN\u003c/td\u003e\n",
              "      \u003ctd\u003eNaN\u003c/td\u003e\n",
              "      \u003ctd\u003eNaN\u003c/td\u003e\n",
              "      \u003ctd\u003eNaN\u003c/td\u003e\n",
              "      \u003ctd\u003e...\u003c/td\u003e\n",
              "      \u003ctd\u003eNaN\u003c/td\u003e\n",
              "      \u003ctd\u003eNaN\u003c/td\u003e\n",
              "      \u003ctd\u003eNaN\u003c/td\u003e\n",
              "      \u003ctd\u003eNaN\u003c/td\u003e\n",
              "      \u003ctd\u003eNaN\u003c/td\u003e\n",
              "      \u003ctd\u003eNaN\u003c/td\u003e\n",
              "      \u003ctd\u003eNaN\u003c/td\u003e\n",
              "      \u003ctd\u003eNaN\u003c/td\u003e\n",
              "      \u003ctd\u003eNaN\u003c/td\u003e\n",
              "      \u003ctd\u003eNaN\u003c/td\u003e\n",
              "    \u003c/tr\u003e\n",
              "    \u003ctr\u003e\n",
              "      \u003cth\u003e3\u003c/th\u003e\n",
              "      \u003ctd\u003eNaN\u003c/td\u003e\n",
              "      \u003ctd\u003eNaN\u003c/td\u003e\n",
              "      \u003ctd\u003eNaN\u003c/td\u003e\n",
              "      \u003ctd\u003eNaN\u003c/td\u003e\n",
              "      \u003ctd\u003eNaN\u003c/td\u003e\n",
              "      \u003ctd\u003eNaN\u003c/td\u003e\n",
              "      \u003ctd\u003eNaN\u003c/td\u003e\n",
              "      \u003ctd\u003eNaN\u003c/td\u003e\n",
              "      \u003ctd\u003eNaN\u003c/td\u003e\n",
              "      \u003ctd\u003eNaN\u003c/td\u003e\n",
              "      \u003ctd\u003e...\u003c/td\u003e\n",
              "      \u003ctd\u003eNaN\u003c/td\u003e\n",
              "      \u003ctd\u003eNaN\u003c/td\u003e\n",
              "      \u003ctd\u003eNaN\u003c/td\u003e\n",
              "      \u003ctd\u003eNaN\u003c/td\u003e\n",
              "      \u003ctd\u003eNaN\u003c/td\u003e\n",
              "      \u003ctd\u003eNaN\u003c/td\u003e\n",
              "      \u003ctd\u003eNaN\u003c/td\u003e\n",
              "      \u003ctd\u003eNaN\u003c/td\u003e\n",
              "      \u003ctd\u003eNaN\u003c/td\u003e\n",
              "      \u003ctd\u003eNaN\u003c/td\u003e\n",
              "    \u003c/tr\u003e\n",
              "    \u003ctr\u003e\n",
              "      \u003cth\u003e4\u003c/th\u003e\n",
              "      \u003ctd\u003eNaN\u003c/td\u003e\n",
              "      \u003ctd\u003eNaN\u003c/td\u003e\n",
              "      \u003ctd\u003eNaN\u003c/td\u003e\n",
              "      \u003ctd\u003eNaN\u003c/td\u003e\n",
              "      \u003ctd\u003eNaN\u003c/td\u003e\n",
              "      \u003ctd\u003eNaN\u003c/td\u003e\n",
              "      \u003ctd\u003eNaN\u003c/td\u003e\n",
              "      \u003ctd\u003eNaN\u003c/td\u003e\n",
              "      \u003ctd\u003eNaN\u003c/td\u003e\n",
              "      \u003ctd\u003eNaN\u003c/td\u003e\n",
              "      \u003ctd\u003e...\u003c/td\u003e\n",
              "      \u003ctd\u003eNaN\u003c/td\u003e\n",
              "      \u003ctd\u003eNaN\u003c/td\u003e\n",
              "      \u003ctd\u003eNaN\u003c/td\u003e\n",
              "      \u003ctd\u003eNaN\u003c/td\u003e\n",
              "      \u003ctd\u003eNaN\u003c/td\u003e\n",
              "      \u003ctd\u003eNaN\u003c/td\u003e\n",
              "      \u003ctd\u003eNaN\u003c/td\u003e\n",
              "      \u003ctd\u003eNaN\u003c/td\u003e\n",
              "      \u003ctd\u003eNaN\u003c/td\u003e\n",
              "      \u003ctd\u003eNaN\u003c/td\u003e\n",
              "    \u003c/tr\u003e\n",
              "  \u003c/tbody\u003e\n",
              "\u003c/table\u003e\n",
              "\u003cp\u003e5 rows × 300 columns\u003c/p\u003e\n",
              "\u003c/div\u003e"
            ],
            "text/plain": [
              "productId   0    1         2    3    4    5    6    7    8    9   ...   290  \\\n",
              "customerId                                                        ...         \n",
              "0           NaN  0.1       NaN  NaN  NaN  NaN  NaN  NaN  NaN  NaN ...   NaN   \n",
              "1           NaN  NaN  0.166667  NaN  NaN  NaN  NaN  NaN  NaN  NaN ...   NaN   \n",
              "2           NaN  NaN       NaN  NaN  NaN  NaN  NaN  NaN  NaN  NaN ...   NaN   \n",
              "3           NaN  NaN       NaN  NaN  NaN  NaN  NaN  NaN  NaN  NaN ...   NaN   \n",
              "4           NaN  NaN       NaN  NaN  NaN  NaN  NaN  NaN  NaN  NaN ...   NaN   \n",
              "\n",
              "productId   291  292  293  294  295  296  297  298  299  \n",
              "customerId                                               \n",
              "0           NaN  NaN  NaN  NaN  NaN  NaN  NaN  NaN  NaN  \n",
              "1           NaN  NaN  0.0  NaN  NaN  0.0  NaN  NaN  NaN  \n",
              "2           NaN  NaN  NaN  NaN  NaN  NaN  NaN  NaN  NaN  \n",
              "3           NaN  NaN  NaN  NaN  NaN  NaN  NaN  NaN  NaN  \n",
              "4           NaN  NaN  NaN  NaN  NaN  NaN  NaN  NaN  NaN  \n",
              "\n",
              "[5 rows x 300 columns]"
            ]
          },
          "execution_count": 18,
          "metadata": {},
          "output_type": "execute_result"
        }
      ],
      "source": [
        "df_matrix_norm \u003d (df_matrix-df_matrix.min())/(df_matrix.max()-df_matrix.min())\n",
        "print(df_matrix_norm.shape)\n",
        "df_matrix_norm.head()"
      ]
    },
    {
      "cell_type": "code",
      "execution_count": 19,
      "metadata": {
        "pycharm": {}
      },
      "outputs": [
        {
          "name": "stdout",
          "output_type": "stream",
          "text": [
            "(133585, 3)\n"
          ]
        },
        {
          "data": {
            "text/html": [
              "\u003cdiv\u003e\n",
              "\u003cstyle scoped\u003e\n",
              "    .dataframe tbody tr th:only-of-type {\n",
              "        vertical-align: middle;\n",
              "    }\n",
              "\n",
              "    .dataframe tbody tr th {\n",
              "        vertical-align: top;\n",
              "    }\n",
              "\n",
              "    .dataframe thead th {\n",
              "        text-align: right;\n",
              "    }\n",
              "\u003c/style\u003e\n",
              "\u003ctable border\u003d\"1\" class\u003d\"dataframe\"\u003e\n",
              "  \u003cthead\u003e\n",
              "    \u003ctr style\u003d\"text-align: right;\"\u003e\n",
              "      \u003cth\u003e\u003c/th\u003e\n",
              "      \u003cth\u003ecustomerId\u003c/th\u003e\n",
              "      \u003cth\u003eproductId\u003c/th\u003e\n",
              "      \u003cth\u003escaled_purchase_freq\u003c/th\u003e\n",
              "    \u003c/tr\u003e\n",
              "  \u003c/thead\u003e\n",
              "  \u003ctbody\u003e\n",
              "    \u003ctr\u003e\n",
              "      \u003cth\u003e9\u003c/th\u003e\n",
              "      \u003ctd\u003e9\u003c/td\u003e\n",
              "      \u003ctd\u003e0\u003c/td\u003e\n",
              "      \u003ctd\u003e0.133333\u003c/td\u003e\n",
              "    \u003c/tr\u003e\n",
              "    \u003ctr\u003e\n",
              "      \u003cth\u003e25\u003c/th\u003e\n",
              "      \u003ctd\u003e25\u003c/td\u003e\n",
              "      \u003ctd\u003e0\u003c/td\u003e\n",
              "      \u003ctd\u003e0.133333\u003c/td\u003e\n",
              "    \u003c/tr\u003e\n",
              "    \u003ctr\u003e\n",
              "      \u003cth\u003e32\u003c/th\u003e\n",
              "      \u003ctd\u003e33\u003c/td\u003e\n",
              "      \u003ctd\u003e0\u003c/td\u003e\n",
              "      \u003ctd\u003e0.133333\u003c/td\u003e\n",
              "    \u003c/tr\u003e\n",
              "    \u003ctr\u003e\n",
              "      \u003cth\u003e35\u003c/th\u003e\n",
              "      \u003ctd\u003e36\u003c/td\u003e\n",
              "      \u003ctd\u003e0\u003c/td\u003e\n",
              "      \u003ctd\u003e0.133333\u003c/td\u003e\n",
              "    \u003c/tr\u003e\n",
              "    \u003ctr\u003e\n",
              "      \u003cth\u003e43\u003c/th\u003e\n",
              "      \u003ctd\u003e44\u003c/td\u003e\n",
              "      \u003ctd\u003e0\u003c/td\u003e\n",
              "      \u003ctd\u003e0.133333\u003c/td\u003e\n",
              "    \u003c/tr\u003e\n",
              "  \u003c/tbody\u003e\n",
              "\u003c/table\u003e\n",
              "\u003c/div\u003e"
            ],
            "text/plain": [
              "    customerId productId  scaled_purchase_freq\n",
              "9            9         0              0.133333\n",
              "25          25         0              0.133333\n",
              "32          33         0              0.133333\n",
              "35          36         0              0.133333\n",
              "43          44         0              0.133333"
            ]
          },
          "execution_count": 19,
          "metadata": {},
          "output_type": "execute_result"
        }
      ],
      "source": [
        "# create a table for input to the modeling\n",
        "\n",
        "d \u003d df_matrix_norm.reset_index()\n",
        "d.index.names \u003d [\u0027scaled_purchase_freq\u0027]\n",
        "data_norm \u003d pd.melt(d, id_vars\u003d[\u0027customerId\u0027], value_name\u003d\u0027scaled_purchase_freq\u0027).dropna()\n",
        "print(data_norm.shape)\n",
        "data_norm.head()"
      ]
    },
    {
      "cell_type": "code",
      "execution_count": 20,
      "metadata": {
        "pycharm": {}
      },
      "outputs": [],
      "source": [
        "def normalize_data(data):\n",
        "    df_matrix \u003d pd.pivot_table(data, values\u003d\u0027purchase_count\u0027, index\u003d\u0027customerId\u0027, columns\u003d\u0027productId\u0027)\n",
        "    df_matrix_norm \u003d (df_matrix-df_matrix.min())/(df_matrix.max()-df_matrix.min())\n",
        "    d \u003d df_matrix_norm.reset_index()\n",
        "    d.index.names \u003d [\u0027scaled_purchase_freq\u0027]\n",
        "    return pd.melt(d, id_vars\u003d[\u0027customerId\u0027], value_name\u003d\u0027scaled_purchase_freq\u0027).dropna()"
      ]
    },
    {
      "cell_type": "code",
      "execution_count": 21,
      "metadata": {
        "pycharm": {}
      },
      "outputs": [
        {
          "name": "stdout",
          "output_type": "stream",
          "text": [
            "((106868, 3), (26717, 3))\n"
          ]
        }
      ],
      "source": [
        "train, test \u003d train_test_split(data, test_size \u003d .2)\n",
        "print(train.shape, test.shape)"
      ]
    },
    {
      "cell_type": "code",
      "execution_count": 23,
      "metadata": {
        "pycharm": {}
      },
      "outputs": [],
      "source": [
        "# Using turicreate library, we convert dataframe to SFrame - this will be useful in the modeling part\n",
        "#sf \u003d pd.SFrame(data\u003dtrain)\n",
        "train_data \u003d tc.SFrame(train)\n",
        "test_data \u003d tc.SFrame(test)"
      ]
    },
    {
      "cell_type": "code",
      "execution_count": 24,
      "metadata": {
        "pycharm": {}
      },
      "outputs": [
        {
          "data": {
            "text/html": [
              "\u003cdiv style\u003d\"max-height:1000px;max-width:1500px;overflow:auto;\"\u003e\u003ctable frame\u003d\"box\" rules\u003d\"cols\"\u003e\n",
              "    \u003ctr\u003e\n",
              "        \u003cth style\u003d\"padding-left: 1em; padding-right: 1em; text-align: center\"\u003ecustomerId\u003c/th\u003e\n",
              "        \u003cth style\u003d\"padding-left: 1em; padding-right: 1em; text-align: center\"\u003eproductId\u003c/th\u003e\n",
              "        \u003cth style\u003d\"padding-left: 1em; padding-right: 1em; text-align: center\"\u003epurchase_count\u003c/th\u003e\n",
              "    \u003c/tr\u003e\n",
              "    \u003ctr\u003e\n",
              "        \u003ctd style\u003d\"padding-left: 1em; padding-right: 1em; text-align: center; vertical-align: top\"\u003e15398\u003c/td\u003e\n",
              "        \u003ctd style\u003d\"padding-left: 1em; padding-right: 1em; text-align: center; vertical-align: top\"\u003e99\u003c/td\u003e\n",
              "        \u003ctd style\u003d\"padding-left: 1em; padding-right: 1em; text-align: center; vertical-align: top\"\u003e1\u003c/td\u003e\n",
              "    \u003c/tr\u003e\n",
              "    \u003ctr\u003e\n",
              "        \u003ctd style\u003d\"padding-left: 1em; padding-right: 1em; text-align: center; vertical-align: top\"\u003e7953\u003c/td\u003e\n",
              "        \u003ctd style\u003d\"padding-left: 1em; padding-right: 1em; text-align: center; vertical-align: top\"\u003e149\u003c/td\u003e\n",
              "        \u003ctd style\u003d\"padding-left: 1em; padding-right: 1em; text-align: center; vertical-align: top\"\u003e1\u003c/td\u003e\n",
              "    \u003c/tr\u003e\n",
              "    \u003ctr\u003e\n",
              "        \u003ctd style\u003d\"padding-left: 1em; padding-right: 1em; text-align: center; vertical-align: top\"\u003e11168\u003c/td\u003e\n",
              "        \u003ctd style\u003d\"padding-left: 1em; padding-right: 1em; text-align: center; vertical-align: top\"\u003e175\u003c/td\u003e\n",
              "        \u003ctd style\u003d\"padding-left: 1em; padding-right: 1em; text-align: center; vertical-align: top\"\u003e1\u003c/td\u003e\n",
              "    \u003c/tr\u003e\n",
              "    \u003ctr\u003e\n",
              "        \u003ctd style\u003d\"padding-left: 1em; padding-right: 1em; text-align: center; vertical-align: top\"\u003e11024\u003c/td\u003e\n",
              "        \u003ctd style\u003d\"padding-left: 1em; padding-right: 1em; text-align: center; vertical-align: top\"\u003e231\u003c/td\u003e\n",
              "        \u003ctd style\u003d\"padding-left: 1em; padding-right: 1em; text-align: center; vertical-align: top\"\u003e3\u003c/td\u003e\n",
              "    \u003c/tr\u003e\n",
              "    \u003ctr\u003e\n",
              "        \u003ctd style\u003d\"padding-left: 1em; padding-right: 1em; text-align: center; vertical-align: top\"\u003e15378\u003c/td\u003e\n",
              "        \u003ctd style\u003d\"padding-left: 1em; padding-right: 1em; text-align: center; vertical-align: top\"\u003e186\u003c/td\u003e\n",
              "        \u003ctd style\u003d\"padding-left: 1em; padding-right: 1em; text-align: center; vertical-align: top\"\u003e2\u003c/td\u003e\n",
              "    \u003c/tr\u003e\n",
              "    \u003ctr\u003e\n",
              "        \u003ctd style\u003d\"padding-left: 1em; padding-right: 1em; text-align: center; vertical-align: top\"\u003e3374\u003c/td\u003e\n",
              "        \u003ctd style\u003d\"padding-left: 1em; padding-right: 1em; text-align: center; vertical-align: top\"\u003e15\u003c/td\u003e\n",
              "        \u003ctd style\u003d\"padding-left: 1em; padding-right: 1em; text-align: center; vertical-align: top\"\u003e1\u003c/td\u003e\n",
              "    \u003c/tr\u003e\n",
              "    \u003ctr\u003e\n",
              "        \u003ctd style\u003d\"padding-left: 1em; padding-right: 1em; text-align: center; vertical-align: top\"\u003e8113\u003c/td\u003e\n",
              "        \u003ctd style\u003d\"padding-left: 1em; padding-right: 1em; text-align: center; vertical-align: top\"\u003e77\u003c/td\u003e\n",
              "        \u003ctd style\u003d\"padding-left: 1em; padding-right: 1em; text-align: center; vertical-align: top\"\u003e2\u003c/td\u003e\n",
              "    \u003c/tr\u003e\n",
              "    \u003ctr\u003e\n",
              "        \u003ctd style\u003d\"padding-left: 1em; padding-right: 1em; text-align: center; vertical-align: top\"\u003e1986\u003c/td\u003e\n",
              "        \u003ctd style\u003d\"padding-left: 1em; padding-right: 1em; text-align: center; vertical-align: top\"\u003e287\u003c/td\u003e\n",
              "        \u003ctd style\u003d\"padding-left: 1em; padding-right: 1em; text-align: center; vertical-align: top\"\u003e1\u003c/td\u003e\n",
              "    \u003c/tr\u003e\n",
              "    \u003ctr\u003e\n",
              "        \u003ctd style\u003d\"padding-left: 1em; padding-right: 1em; text-align: center; vertical-align: top\"\u003e6043\u003c/td\u003e\n",
              "        \u003ctd style\u003d\"padding-left: 1em; padding-right: 1em; text-align: center; vertical-align: top\"\u003e63\u003c/td\u003e\n",
              "        \u003ctd style\u003d\"padding-left: 1em; padding-right: 1em; text-align: center; vertical-align: top\"\u003e1\u003c/td\u003e\n",
              "    \u003c/tr\u003e\n",
              "    \u003ctr\u003e\n",
              "        \u003ctd style\u003d\"padding-left: 1em; padding-right: 1em; text-align: center; vertical-align: top\"\u003e6814\u003c/td\u003e\n",
              "        \u003ctd style\u003d\"padding-left: 1em; padding-right: 1em; text-align: center; vertical-align: top\"\u003e299\u003c/td\u003e\n",
              "        \u003ctd style\u003d\"padding-left: 1em; padding-right: 1em; text-align: center; vertical-align: top\"\u003e1\u003c/td\u003e\n",
              "    \u003c/tr\u003e\n",
              "\u003c/table\u003e\n",
              "[106868 rows x 3 columns]\u003cbr/\u003eNote: Only the head of the SFrame is printed.\u003cbr/\u003eYou can use print_rows(num_rows\u003dm, num_columns\u003dn) to print more rows and columns.\n",
              "\u003c/div\u003e"
            ],
            "text/plain": [
              "Columns:\n",
              "\tcustomerId\tint\n",
              "\tproductId\tint\n",
              "\tpurchase_count\tint\n",
              "\n",
              "Rows: 106868\n",
              "\n",
              "Data:\n",
              "+------------+-----------+----------------+\n",
              "| customerId | productId | purchase_count |\n",
              "+------------+-----------+----------------+\n",
              "|   15398    |     99    |       1        |\n",
              "|    7953    |    149    |       1        |\n",
              "|   11168    |    175    |       1        |\n",
              "|   11024    |    231    |       3        |\n",
              "|   15378    |    186    |       2        |\n",
              "|    3374    |     15    |       1        |\n",
              "|    8113    |     77    |       2        |\n",
              "|    1986    |    287    |       1        |\n",
              "|    6043    |     63    |       1        |\n",
              "|    6814    |    299    |       1        |\n",
              "+------------+-----------+----------------+\n",
              "[106868 rows x 3 columns]\n",
              "Note: Only the head of the SFrame is printed.\n",
              "You can use print_rows(num_rows\u003dm, num_columns\u003dn) to print more rows and columns."
            ]
          },
          "execution_count": 24,
          "metadata": {},
          "output_type": "execute_result"
        }
      ],
      "source": [
        "train_data"
      ]
    },
    {
      "cell_type": "code",
      "execution_count": 25,
      "metadata": {
        "pycharm": {}
      },
      "outputs": [
        {
          "data": {
            "text/html": [
              "\u003cdiv style\u003d\"max-height:1000px;max-width:1500px;overflow:auto;\"\u003e\u003ctable frame\u003d\"box\" rules\u003d\"cols\"\u003e\n",
              "    \u003ctr\u003e\n",
              "        \u003cth style\u003d\"padding-left: 1em; padding-right: 1em; text-align: center\"\u003ecustomerId\u003c/th\u003e\n",
              "        \u003cth style\u003d\"padding-left: 1em; padding-right: 1em; text-align: center\"\u003eproductId\u003c/th\u003e\n",
              "        \u003cth style\u003d\"padding-left: 1em; padding-right: 1em; text-align: center\"\u003epurchase_count\u003c/th\u003e\n",
              "    \u003c/tr\u003e\n",
              "    \u003ctr\u003e\n",
              "        \u003ctd style\u003d\"padding-left: 1em; padding-right: 1em; text-align: center; vertical-align: top\"\u003e6050\u003c/td\u003e\n",
              "        \u003ctd style\u003d\"padding-left: 1em; padding-right: 1em; text-align: center; vertical-align: top\"\u003e162\u003c/td\u003e\n",
              "        \u003ctd style\u003d\"padding-left: 1em; padding-right: 1em; text-align: center; vertical-align: top\"\u003e1\u003c/td\u003e\n",
              "    \u003c/tr\u003e\n",
              "    \u003ctr\u003e\n",
              "        \u003ctd style\u003d\"padding-left: 1em; padding-right: 1em; text-align: center; vertical-align: top\"\u003e5808\u003c/td\u003e\n",
              "        \u003ctd style\u003d\"padding-left: 1em; padding-right: 1em; text-align: center; vertical-align: top\"\u003e157\u003c/td\u003e\n",
              "        \u003ctd style\u003d\"padding-left: 1em; padding-right: 1em; text-align: center; vertical-align: top\"\u003e1\u003c/td\u003e\n",
              "    \u003c/tr\u003e\n",
              "    \u003ctr\u003e\n",
              "        \u003ctd style\u003d\"padding-left: 1em; padding-right: 1em; text-align: center; vertical-align: top\"\u003e4319\u003c/td\u003e\n",
              "        \u003ctd style\u003d\"padding-left: 1em; padding-right: 1em; text-align: center; vertical-align: top\"\u003e116\u003c/td\u003e\n",
              "        \u003ctd style\u003d\"padding-left: 1em; padding-right: 1em; text-align: center; vertical-align: top\"\u003e2\u003c/td\u003e\n",
              "    \u003c/tr\u003e\n",
              "    \u003ctr\u003e\n",
              "        \u003ctd style\u003d\"padding-left: 1em; padding-right: 1em; text-align: center; vertical-align: top\"\u003e4976\u003c/td\u003e\n",
              "        \u003ctd style\u003d\"padding-left: 1em; padding-right: 1em; text-align: center; vertical-align: top\"\u003e17\u003c/td\u003e\n",
              "        \u003ctd style\u003d\"padding-left: 1em; padding-right: 1em; text-align: center; vertical-align: top\"\u003e1\u003c/td\u003e\n",
              "    \u003c/tr\u003e\n",
              "    \u003ctr\u003e\n",
              "        \u003ctd style\u003d\"padding-left: 1em; padding-right: 1em; text-align: center; vertical-align: top\"\u003e3718\u003c/td\u003e\n",
              "        \u003ctd style\u003d\"padding-left: 1em; padding-right: 1em; text-align: center; vertical-align: top\"\u003e152\u003c/td\u003e\n",
              "        \u003ctd style\u003d\"padding-left: 1em; padding-right: 1em; text-align: center; vertical-align: top\"\u003e1\u003c/td\u003e\n",
              "    \u003c/tr\u003e\n",
              "    \u003ctr\u003e\n",
              "        \u003ctd style\u003d\"padding-left: 1em; padding-right: 1em; text-align: center; vertical-align: top\"\u003e4559\u003c/td\u003e\n",
              "        \u003ctd style\u003d\"padding-left: 1em; padding-right: 1em; text-align: center; vertical-align: top\"\u003e5\u003c/td\u003e\n",
              "        \u003ctd style\u003d\"padding-left: 1em; padding-right: 1em; text-align: center; vertical-align: top\"\u003e3\u003c/td\u003e\n",
              "    \u003c/tr\u003e\n",
              "    \u003ctr\u003e\n",
              "        \u003ctd style\u003d\"padding-left: 1em; padding-right: 1em; text-align: center; vertical-align: top\"\u003e8037\u003c/td\u003e\n",
              "        \u003ctd style\u003d\"padding-left: 1em; padding-right: 1em; text-align: center; vertical-align: top\"\u003e2\u003c/td\u003e\n",
              "        \u003ctd style\u003d\"padding-left: 1em; padding-right: 1em; text-align: center; vertical-align: top\"\u003e2\u003c/td\u003e\n",
              "    \u003c/tr\u003e\n",
              "    \u003ctr\u003e\n",
              "        \u003ctd style\u003d\"padding-left: 1em; padding-right: 1em; text-align: center; vertical-align: top\"\u003e15834\u003c/td\u003e\n",
              "        \u003ctd style\u003d\"padding-left: 1em; padding-right: 1em; text-align: center; vertical-align: top\"\u003e283\u003c/td\u003e\n",
              "        \u003ctd style\u003d\"padding-left: 1em; padding-right: 1em; text-align: center; vertical-align: top\"\u003e1\u003c/td\u003e\n",
              "    \u003c/tr\u003e\n",
              "    \u003ctr\u003e\n",
              "        \u003ctd style\u003d\"padding-left: 1em; padding-right: 1em; text-align: center; vertical-align: top\"\u003e15551\u003c/td\u003e\n",
              "        \u003ctd style\u003d\"padding-left: 1em; padding-right: 1em; text-align: center; vertical-align: top\"\u003e4\u003c/td\u003e\n",
              "        \u003ctd style\u003d\"padding-left: 1em; padding-right: 1em; text-align: center; vertical-align: top\"\u003e2\u003c/td\u003e\n",
              "    \u003c/tr\u003e\n",
              "    \u003ctr\u003e\n",
              "        \u003ctd style\u003d\"padding-left: 1em; padding-right: 1em; text-align: center; vertical-align: top\"\u003e15644\u003c/td\u003e\n",
              "        \u003ctd style\u003d\"padding-left: 1em; padding-right: 1em; text-align: center; vertical-align: top\"\u003e196\u003c/td\u003e\n",
              "        \u003ctd style\u003d\"padding-left: 1em; padding-right: 1em; text-align: center; vertical-align: top\"\u003e1\u003c/td\u003e\n",
              "    \u003c/tr\u003e\n",
              "\u003c/table\u003e\n",
              "[26717 rows x 3 columns]\u003cbr/\u003eNote: Only the head of the SFrame is printed.\u003cbr/\u003eYou can use print_rows(num_rows\u003dm, num_columns\u003dn) to print more rows and columns.\n",
              "\u003c/div\u003e"
            ],
            "text/plain": [
              "Columns:\n",
              "\tcustomerId\tint\n",
              "\tproductId\tint\n",
              "\tpurchase_count\tint\n",
              "\n",
              "Rows: 26717\n",
              "\n",
              "Data:\n",
              "+------------+-----------+----------------+\n",
              "| customerId | productId | purchase_count |\n",
              "+------------+-----------+----------------+\n",
              "|    6050    |    162    |       1        |\n",
              "|    5808    |    157    |       1        |\n",
              "|    4319    |    116    |       2        |\n",
              "|    4976    |     17    |       1        |\n",
              "|    3718    |    152    |       1        |\n",
              "|    4559    |     5     |       3        |\n",
              "|    8037    |     2     |       2        |\n",
              "|   15834    |    283    |       1        |\n",
              "|   15551    |     4     |       2        |\n",
              "|   15644    |    196    |       1        |\n",
              "+------------+-----------+----------------+\n",
              "[26717 rows x 3 columns]\n",
              "Note: Only the head of the SFrame is printed.\n",
              "You can use print_rows(num_rows\u003dm, num_columns\u003dn) to print more rows and columns."
            ]
          },
          "execution_count": 25,
          "metadata": {},
          "output_type": "execute_result"
        }
      ],
      "source": [
        "test_data"
      ]
    },
    {
      "cell_type": "code",
      "execution_count": 26,
      "metadata": {
        "pycharm": {}
      },
      "outputs": [],
      "source": [
        "# We can define a function for this step as follows\n",
        "\n",
        "def split_data(data):\n",
        "    \u0027\u0027\u0027\n",
        "    Splits dataset into training and test set.\n",
        "    \n",
        "    Args:\n",
        "        data (pandas.DataFrame)\n",
        "        \n",
        "    Returns\n",
        "        train_data (tc.SFrame)\n",
        "        test_data (tc.SFrame)\n",
        "    \u0027\u0027\u0027\n",
        "    train, test \u003d train_test_split(data, test_size \u003d .2)\n",
        "    train_data \u003d tc.SFrame(train)\n",
        "    test_data \u003d tc.SFrame(test)\n",
        "    return train_data, test_data"
      ]
    },
    {
      "cell_type": "code",
      "execution_count": 27,
      "metadata": {
        "pycharm": {}
      },
      "outputs": [],
      "source": [
        "# lets try with both dummy table and scaled/normalized purchase table\n",
        "\n",
        "train_data_dummy, test_data_dummy \u003d split_data(data_dummy)\n",
        "train_data_norm, test_data_norm \u003d split_data(data_norm)"
      ]
    },
    {
      "cell_type": "code",
      "execution_count": 28,
      "metadata": {
        "pycharm": {}
      },
      "outputs": [],
      "source": [
        "# variables to define field names\n",
        "user_id \u003d \u0027customerId\u0027\n",
        "item_id \u003d \u0027productId\u0027\n",
        "target \u003d \u0027purchase_count\u0027\n",
        "users_to_recommend \u003d list(transactions[user_id])\n",
        "n_rec \u003d 10 # number of items to recommend\n",
        "n_display \u003d 30"
      ]
    },
    {
      "cell_type": "code",
      "execution_count": 29,
      "metadata": {
        "pycharm": {}
      },
      "outputs": [
        {
          "data": {
            "text/html": [
              "\u003cpre\u003ePreparing data set.\u003c/pre\u003e"
            ],
            "text/plain": [
              "Preparing data set."
            ]
          },
          "metadata": {},
          "output_type": "display_data"
        },
        {
          "data": {
            "text/html": [
              "\u003cpre\u003e    Data has 106868 observations with 23262 users and 300 items.\u003c/pre\u003e"
            ],
            "text/plain": [
              "    Data has 106868 observations with 23262 users and 300 items."
            ]
          },
          "metadata": {},
          "output_type": "display_data"
        },
        {
          "data": {
            "text/html": [
              "\u003cpre\u003e    Data prepared in: 0.139418s\u003c/pre\u003e"
            ],
            "text/plain": [
              "    Data prepared in: 0.139418s"
            ]
          },
          "metadata": {},
          "output_type": "display_data"
        },
        {
          "data": {
            "text/html": [
              "\u003cpre\u003e106868 observations to process; with 300 unique items.\u003c/pre\u003e"
            ],
            "text/plain": [
              "106868 observations to process; with 300 unique items."
            ]
          },
          "metadata": {},
          "output_type": "display_data"
        }
      ],
      "source": [
        "popularity_model \u003d tc.popularity_recommender.create(train_data, \n",
        "                                                    user_id\u003duser_id, \n",
        "                                                    item_id\u003ditem_id, \n",
        "                                                    target\u003dtarget)"
      ]
    },
    {
      "cell_type": "code",
      "execution_count": 30,
      "metadata": {
        "pycharm": {}
      },
      "outputs": [
        {
          "data": {
            "text/html": [
              "\u003cpre\u003erecommendations finished on 1000/62483 queries. users per second: 160256\u003c/pre\u003e"
            ],
            "text/plain": [
              "recommendations finished on 1000/62483 queries. users per second: 160256"
            ]
          },
          "metadata": {},
          "output_type": "display_data"
        },
        {
          "data": {
            "text/html": [
              "\u003cpre\u003erecommendations finished on 2000/62483 queries. users per second: 172786\u003c/pre\u003e"
            ],
            "text/plain": [
              "recommendations finished on 2000/62483 queries. users per second: 172786"
            ]
          },
          "metadata": {},
          "output_type": "display_data"
        },
        {
          "data": {
            "text/html": [
              "\u003cpre\u003erecommendations finished on 3000/62483 queries. users per second: 174145\u003c/pre\u003e"
            ],
            "text/plain": [
              "recommendations finished on 3000/62483 queries. users per second: 174145"
            ]
          },
          "metadata": {},
          "output_type": "display_data"
        },
        {
          "data": {
            "text/html": [
              "\u003cpre\u003erecommendations finished on 4000/62483 queries. users per second: 177517\u003c/pre\u003e"
            ],
            "text/plain": [
              "recommendations finished on 4000/62483 queries. users per second: 177517"
            ]
          },
          "metadata": {},
          "output_type": "display_data"
        },
        {
          "data": {
            "text/html": [
              "\u003cpre\u003erecommendations finished on 5000/62483 queries. users per second: 178661\u003c/pre\u003e"
            ],
            "text/plain": [
              "recommendations finished on 5000/62483 queries. users per second: 178661"
            ]
          },
          "metadata": {},
          "output_type": "display_data"
        },
        {
          "data": {
            "text/html": [
              "\u003cpre\u003erecommendations finished on 6000/62483 queries. users per second: 178052\u003c/pre\u003e"
            ],
            "text/plain": [
              "recommendations finished on 6000/62483 queries. users per second: 178052"
            ]
          },
          "metadata": {},
          "output_type": "display_data"
        },
        {
          "data": {
            "text/html": [
              "\u003cpre\u003erecommendations finished on 7000/62483 queries. users per second: 179593\u003c/pre\u003e"
            ],
            "text/plain": [
              "recommendations finished on 7000/62483 queries. users per second: 179593"
            ]
          },
          "metadata": {},
          "output_type": "display_data"
        },
        {
          "data": {
            "text/html": [
              "\u003cpre\u003erecommendations finished on 8000/62483 queries. users per second: 181209\u003c/pre\u003e"
            ],
            "text/plain": [
              "recommendations finished on 8000/62483 queries. users per second: 181209"
            ]
          },
          "metadata": {},
          "output_type": "display_data"
        },
        {
          "data": {
            "text/html": [
              "\u003cpre\u003erecommendations finished on 9000/62483 queries. users per second: 181917\u003c/pre\u003e"
            ],
            "text/plain": [
              "recommendations finished on 9000/62483 queries. users per second: 181917"
            ]
          },
          "metadata": {},
          "output_type": "display_data"
        },
        {
          "data": {
            "text/html": [
              "\u003cpre\u003erecommendations finished on 10000/62483 queries. users per second: 182120\u003c/pre\u003e"
            ],
            "text/plain": [
              "recommendations finished on 10000/62483 queries. users per second: 182120"
            ]
          },
          "metadata": {},
          "output_type": "display_data"
        },
        {
          "data": {
            "text/html": [
              "\u003cpre\u003erecommendations finished on 11000/62483 queries. users per second: 181431\u003c/pre\u003e"
            ],
            "text/plain": [
              "recommendations finished on 11000/62483 queries. users per second: 181431"
            ]
          },
          "metadata": {},
          "output_type": "display_data"
        },
        {
          "data": {
            "text/html": [
              "\u003cpre\u003erecommendations finished on 12000/62483 queries. users per second: 180938\u003c/pre\u003e"
            ],
            "text/plain": [
              "recommendations finished on 12000/62483 queries. users per second: 180938"
            ]
          },
          "metadata": {},
          "output_type": "display_data"
        },
        {
          "data": {
            "text/html": [
              "\u003cpre\u003erecommendations finished on 13000/62483 queries. users per second: 176561\u003c/pre\u003e"
            ],
            "text/plain": [
              "recommendations finished on 13000/62483 queries. users per second: 176561"
            ]
          },
          "metadata": {},
          "output_type": "display_data"
        },
        {
          "data": {
            "text/html": [
              "\u003cpre\u003erecommendations finished on 14000/62483 queries. users per second: 176810\u003c/pre\u003e"
            ],
            "text/plain": [
              "recommendations finished on 14000/62483 queries. users per second: 176810"
            ]
          },
          "metadata": {},
          "output_type": "display_data"
        },
        {
          "data": {
            "text/html": [
              "\u003cpre\u003erecommendations finished on 15000/62483 queries. users per second: 156248\u003c/pre\u003e"
            ],
            "text/plain": [
              "recommendations finished on 15000/62483 queries. users per second: 156248"
            ]
          },
          "metadata": {},
          "output_type": "display_data"
        },
        {
          "data": {
            "text/html": [
              "\u003cpre\u003erecommendations finished on 16000/62483 queries. users per second: 158410\u003c/pre\u003e"
            ],
            "text/plain": [
              "recommendations finished on 16000/62483 queries. users per second: 158410"
            ]
          },
          "metadata": {},
          "output_type": "display_data"
        },
        {
          "data": {
            "text/html": [
              "\u003cpre\u003erecommendations finished on 17000/62483 queries. users per second: 159759\u003c/pre\u003e"
            ],
            "text/plain": [
              "recommendations finished on 17000/62483 queries. users per second: 159759"
            ]
          },
          "metadata": {},
          "output_type": "display_data"
        },
        {
          "data": {
            "text/html": [
              "\u003cpre\u003erecommendations finished on 18000/62483 queries. users per second: 160810\u003c/pre\u003e"
            ],
            "text/plain": [
              "recommendations finished on 18000/62483 queries. users per second: 160810"
            ]
          },
          "metadata": {},
          "output_type": "display_data"
        },
        {
          "data": {
            "text/html": [
              "\u003cpre\u003erecommendations finished on 19000/62483 queries. users per second: 161672\u003c/pre\u003e"
            ],
            "text/plain": [
              "recommendations finished on 19000/62483 queries. users per second: 161672"
            ]
          },
          "metadata": {},
          "output_type": "display_data"
        },
        {
          "data": {
            "text/html": [
              "\u003cpre\u003erecommendations finished on 20000/62483 queries. users per second: 161323\u003c/pre\u003e"
            ],
            "text/plain": [
              "recommendations finished on 20000/62483 queries. users per second: 161323"
            ]
          },
          "metadata": {},
          "output_type": "display_data"
        },
        {
          "data": {
            "text/html": [
              "\u003cpre\u003erecommendations finished on 21000/62483 queries. users per second: 162760\u003c/pre\u003e"
            ],
            "text/plain": [
              "recommendations finished on 21000/62483 queries. users per second: 162760"
            ]
          },
          "metadata": {},
          "output_type": "display_data"
        },
        {
          "data": {
            "text/html": [
              "\u003cpre\u003erecommendations finished on 22000/62483 queries. users per second: 162745\u003c/pre\u003e"
            ],
            "text/plain": [
              "recommendations finished on 22000/62483 queries. users per second: 162745"
            ]
          },
          "metadata": {},
          "output_type": "display_data"
        },
        {
          "data": {
            "text/html": [
              "\u003cpre\u003erecommendations finished on 23000/62483 queries. users per second: 163468\u003c/pre\u003e"
            ],
            "text/plain": [
              "recommendations finished on 23000/62483 queries. users per second: 163468"
            ]
          },
          "metadata": {},
          "output_type": "display_data"
        },
        {
          "data": {
            "text/html": [
              "\u003cpre\u003erecommendations finished on 24000/62483 queries. users per second: 164487\u003c/pre\u003e"
            ],
            "text/plain": [
              "recommendations finished on 24000/62483 queries. users per second: 164487"
            ]
          },
          "metadata": {},
          "output_type": "display_data"
        },
        {
          "data": {
            "text/html": [
              "\u003cpre\u003erecommendations finished on 25000/62483 queries. users per second: 165361\u003c/pre\u003e"
            ],
            "text/plain": [
              "recommendations finished on 25000/62483 queries. users per second: 165361"
            ]
          },
          "metadata": {},
          "output_type": "display_data"
        },
        {
          "data": {
            "text/html": [
              "\u003cpre\u003erecommendations finished on 26000/62483 queries. users per second: 163980\u003c/pre\u003e"
            ],
            "text/plain": [
              "recommendations finished on 26000/62483 queries. users per second: 163980"
            ]
          },
          "metadata": {},
          "output_type": "display_data"
        },
        {
          "data": {
            "text/html": [
              "\u003cpre\u003erecommendations finished on 27000/62483 queries. users per second: 165112\u003c/pre\u003e"
            ],
            "text/plain": [
              "recommendations finished on 27000/62483 queries. users per second: 165112"
            ]
          },
          "metadata": {},
          "output_type": "display_data"
        },
        {
          "data": {
            "text/html": [
              "\u003cpre\u003erecommendations finished on 28000/62483 queries. users per second: 165225\u003c/pre\u003e"
            ],
            "text/plain": [
              "recommendations finished on 28000/62483 queries. users per second: 165225"
            ]
          },
          "metadata": {},
          "output_type": "display_data"
        },
        {
          "data": {
            "text/html": [
              "\u003cpre\u003erecommendations finished on 29000/62483 queries. users per second: 150835\u003c/pre\u003e"
            ],
            "text/plain": [
              "recommendations finished on 29000/62483 queries. users per second: 150835"
            ]
          },
          "metadata": {},
          "output_type": "display_data"
        },
        {
          "data": {
            "text/html": [
              "\u003cpre\u003erecommendations finished on 30000/62483 queries. users per second: 151292\u003c/pre\u003e"
            ],
            "text/plain": [
              "recommendations finished on 30000/62483 queries. users per second: 151292"
            ]
          },
          "metadata": {},
          "output_type": "display_data"
        },
        {
          "data": {
            "text/html": [
              "\u003cpre\u003erecommendations finished on 31000/62483 queries. users per second: 151796\u003c/pre\u003e"
            ],
            "text/plain": [
              "recommendations finished on 31000/62483 queries. users per second: 151796"
            ]
          },
          "metadata": {},
          "output_type": "display_data"
        },
        {
          "data": {
            "text/html": [
              "\u003cpre\u003erecommendations finished on 32000/62483 queries. users per second: 152418\u003c/pre\u003e"
            ],
            "text/plain": [
              "recommendations finished on 32000/62483 queries. users per second: 152418"
            ]
          },
          "metadata": {},
          "output_type": "display_data"
        },
        {
          "data": {
            "text/html": [
              "\u003cpre\u003erecommendations finished on 33000/62483 queries. users per second: 153167\u003c/pre\u003e"
            ],
            "text/plain": [
              "recommendations finished on 33000/62483 queries. users per second: 153167"
            ]
          },
          "metadata": {},
          "output_type": "display_data"
        },
        {
          "data": {
            "text/html": [
              "\u003cpre\u003erecommendations finished on 34000/62483 queries. users per second: 153586\u003c/pre\u003e"
            ],
            "text/plain": [
              "recommendations finished on 34000/62483 queries. users per second: 153586"
            ]
          },
          "metadata": {},
          "output_type": "display_data"
        },
        {
          "data": {
            "text/html": [
              "\u003cpre\u003erecommendations finished on 35000/62483 queries. users per second: 153952\u003c/pre\u003e"
            ],
            "text/plain": [
              "recommendations finished on 35000/62483 queries. users per second: 153952"
            ]
          },
          "metadata": {},
          "output_type": "display_data"
        },
        {
          "data": {
            "text/html": [
              "\u003cpre\u003erecommendations finished on 36000/62483 queries. users per second: 154284\u003c/pre\u003e"
            ],
            "text/plain": [
              "recommendations finished on 36000/62483 queries. users per second: 154284"
            ]
          },
          "metadata": {},
          "output_type": "display_data"
        },
        {
          "data": {
            "text/html": [
              "\u003cpre\u003erecommendations finished on 37000/62483 queries. users per second: 155096\u003c/pre\u003e"
            ],
            "text/plain": [
              "recommendations finished on 37000/62483 queries. users per second: 155096"
            ]
          },
          "metadata": {},
          "output_type": "display_data"
        },
        {
          "data": {
            "text/html": [
              "\u003cpre\u003erecommendations finished on 38000/62483 queries. users per second: 155765\u003c/pre\u003e"
            ],
            "text/plain": [
              "recommendations finished on 38000/62483 queries. users per second: 155765"
            ]
          },
          "metadata": {},
          "output_type": "display_data"
        },
        {
          "data": {
            "text/html": [
              "\u003cpre\u003erecommendations finished on 39000/62483 queries. users per second: 155993\u003c/pre\u003e"
            ],
            "text/plain": [
              "recommendations finished on 39000/62483 queries. users per second: 155993"
            ]
          },
          "metadata": {},
          "output_type": "display_data"
        },
        {
          "data": {
            "text/html": [
              "\u003cpre\u003erecommendations finished on 40000/62483 queries. users per second: 156010\u003c/pre\u003e"
            ],
            "text/plain": [
              "recommendations finished on 40000/62483 queries. users per second: 156010"
            ]
          },
          "metadata": {},
          "output_type": "display_data"
        },
        {
          "data": {
            "text/html": [
              "\u003cpre\u003erecommendations finished on 41000/62483 queries. users per second: 156343\u003c/pre\u003e"
            ],
            "text/plain": [
              "recommendations finished on 41000/62483 queries. users per second: 156343"
            ]
          },
          "metadata": {},
          "output_type": "display_data"
        },
        {
          "data": {
            "text/html": [
              "\u003cpre\u003erecommendations finished on 42000/62483 queries. users per second: 156843\u003c/pre\u003e"
            ],
            "text/plain": [
              "recommendations finished on 42000/62483 queries. users per second: 156843"
            ]
          },
          "metadata": {},
          "output_type": "display_data"
        },
        {
          "data": {
            "text/html": [
              "\u003cpre\u003erecommendations finished on 43000/62483 queries. users per second: 156344\u003c/pre\u003e"
            ],
            "text/plain": [
              "recommendations finished on 43000/62483 queries. users per second: 156344"
            ]
          },
          "metadata": {},
          "output_type": "display_data"
        },
        {
          "data": {
            "text/html": [
              "\u003cpre\u003erecommendations finished on 44000/62483 queries. users per second: 149408\u003c/pre\u003e"
            ],
            "text/plain": [
              "recommendations finished on 44000/62483 queries. users per second: 149408"
            ]
          },
          "metadata": {},
          "output_type": "display_data"
        },
        {
          "data": {
            "text/html": [
              "\u003cpre\u003erecommendations finished on 45000/62483 queries. users per second: 149581\u003c/pre\u003e"
            ],
            "text/plain": [
              "recommendations finished on 45000/62483 queries. users per second: 149581"
            ]
          },
          "metadata": {},
          "output_type": "display_data"
        },
        {
          "data": {
            "text/html": [
              "\u003cpre\u003erecommendations finished on 46000/62483 queries. users per second: 150271\u003c/pre\u003e"
            ],
            "text/plain": [
              "recommendations finished on 46000/62483 queries. users per second: 150271"
            ]
          },
          "metadata": {},
          "output_type": "display_data"
        },
        {
          "data": {
            "text/html": [
              "\u003cpre\u003erecommendations finished on 47000/62483 queries. users per second: 150266\u003c/pre\u003e"
            ],
            "text/plain": [
              "recommendations finished on 47000/62483 queries. users per second: 150266"
            ]
          },
          "metadata": {},
          "output_type": "display_data"
        },
        {
          "data": {
            "text/html": [
              "\u003cpre\u003erecommendations finished on 48000/62483 queries. users per second: 150692\u003c/pre\u003e"
            ],
            "text/plain": [
              "recommendations finished on 48000/62483 queries. users per second: 150692"
            ]
          },
          "metadata": {},
          "output_type": "display_data"
        },
        {
          "data": {
            "text/html": [
              "\u003cpre\u003erecommendations finished on 49000/62483 queries. users per second: 150627\u003c/pre\u003e"
            ],
            "text/plain": [
              "recommendations finished on 49000/62483 queries. users per second: 150627"
            ]
          },
          "metadata": {},
          "output_type": "display_data"
        },
        {
          "data": {
            "text/html": [
              "\u003cpre\u003erecommendations finished on 50000/62483 queries. users per second: 149727\u003c/pre\u003e"
            ],
            "text/plain": [
              "recommendations finished on 50000/62483 queries. users per second: 149727"
            ]
          },
          "metadata": {},
          "output_type": "display_data"
        },
        {
          "data": {
            "text/html": [
              "\u003cpre\u003erecommendations finished on 51000/62483 queries. users per second: 149447\u003c/pre\u003e"
            ],
            "text/plain": [
              "recommendations finished on 51000/62483 queries. users per second: 149447"
            ]
          },
          "metadata": {},
          "output_type": "display_data"
        },
        {
          "data": {
            "text/html": [
              "\u003cpre\u003erecommendations finished on 52000/62483 queries. users per second: 150185\u003c/pre\u003e"
            ],
            "text/plain": [
              "recommendations finished on 52000/62483 queries. users per second: 150185"
            ]
          },
          "metadata": {},
          "output_type": "display_data"
        },
        {
          "data": {
            "text/html": [
              "\u003cpre\u003erecommendations finished on 53000/62483 queries. users per second: 150643\u003c/pre\u003e"
            ],
            "text/plain": [
              "recommendations finished on 53000/62483 queries. users per second: 150643"
            ]
          },
          "metadata": {},
          "output_type": "display_data"
        },
        {
          "data": {
            "text/html": [
              "\u003cpre\u003erecommendations finished on 54000/62483 queries. users per second: 151287\u003c/pre\u003e"
            ],
            "text/plain": [
              "recommendations finished on 54000/62483 queries. users per second: 151287"
            ]
          },
          "metadata": {},
          "output_type": "display_data"
        },
        {
          "data": {
            "text/html": [
              "\u003cpre\u003erecommendations finished on 55000/62483 queries. users per second: 151498\u003c/pre\u003e"
            ],
            "text/plain": [
              "recommendations finished on 55000/62483 queries. users per second: 151498"
            ]
          },
          "metadata": {},
          "output_type": "display_data"
        },
        {
          "data": {
            "text/html": [
              "\u003cpre\u003erecommendations finished on 56000/62483 queries. users per second: 152076\u003c/pre\u003e"
            ],
            "text/plain": [
              "recommendations finished on 56000/62483 queries. users per second: 152076"
            ]
          },
          "metadata": {},
          "output_type": "display_data"
        },
        {
          "data": {
            "text/html": [
              "\u003cpre\u003erecommendations finished on 57000/62483 queries. users per second: 152391\u003c/pre\u003e"
            ],
            "text/plain": [
              "recommendations finished on 57000/62483 queries. users per second: 152391"
            ]
          },
          "metadata": {},
          "output_type": "display_data"
        },
        {
          "data": {
            "text/html": [
              "\u003cpre\u003erecommendations finished on 58000/62483 queries. users per second: 148277\u003c/pre\u003e"
            ],
            "text/plain": [
              "recommendations finished on 58000/62483 queries. users per second: 148277"
            ]
          },
          "metadata": {},
          "output_type": "display_data"
        },
        {
          "data": {
            "text/html": [
              "\u003cpre\u003erecommendations finished on 59000/62483 queries. users per second: 147088\u003c/pre\u003e"
            ],
            "text/plain": [
              "recommendations finished on 59000/62483 queries. users per second: 147088"
            ]
          },
          "metadata": {},
          "output_type": "display_data"
        },
        {
          "data": {
            "text/html": [
              "\u003cpre\u003erecommendations finished on 60000/62483 queries. users per second: 143004\u003c/pre\u003e"
            ],
            "text/plain": [
              "recommendations finished on 60000/62483 queries. users per second: 143004"
            ]
          },
          "metadata": {},
          "output_type": "display_data"
        },
        {
          "data": {
            "text/html": [
              "\u003cpre\u003erecommendations finished on 61000/62483 queries. users per second: 141468\u003c/pre\u003e"
            ],
            "text/plain": [
              "recommendations finished on 61000/62483 queries. users per second: 141468"
            ]
          },
          "metadata": {},
          "output_type": "display_data"
        },
        {
          "data": {
            "text/html": [
              "\u003cpre\u003erecommendations finished on 62000/62483 queries. users per second: 140070\u003c/pre\u003e"
            ],
            "text/plain": [
              "recommendations finished on 62000/62483 queries. users per second: 140070"
            ]
          },
          "metadata": {},
          "output_type": "display_data"
        },
        {
          "name": "stdout",
          "output_type": "stream",
          "text": [
            "+------------+-----------+---------------+------+\n",
            "| customerId | productId |     score     | rank |\n",
            "+------------+-----------+---------------+------+\n",
            "|     0      |    132    | 3.07547169811 |  1   |\n",
            "|     0      |    248    | 3.06976744186 |  2   |\n",
            "|     0      |     34    | 3.05681818182 |  3   |\n",
            "|     0      |     37    | 3.00377358491 |  4   |\n",
            "|     0      |     0     | 2.98240469208 |  5   |\n",
            "|     0      |     3     | 2.83501006036 |  6   |\n",
            "|     0      |    110    | 2.70481927711 |  7   |\n",
            "|     0      |     82    | 2.68161434978 |  8   |\n",
            "|     0      |     32    | 2.65700483092 |  9   |\n",
            "|     0      |     27    | 2.65079365079 |  10  |\n",
            "|     1      |    132    | 3.07547169811 |  1   |\n",
            "|     1      |    248    | 3.06976744186 |  2   |\n",
            "|     1      |     34    | 3.05681818182 |  3   |\n",
            "|     1      |     37    | 3.00377358491 |  4   |\n",
            "|     1      |     0     | 2.98240469208 |  5   |\n",
            "|     1      |     3     | 2.83501006036 |  6   |\n",
            "|     1      |    110    | 2.70481927711 |  7   |\n",
            "|     1      |     82    | 2.68161434978 |  8   |\n",
            "|     1      |     32    | 2.65700483092 |  9   |\n",
            "|     1      |     27    | 2.65079365079 |  10  |\n",
            "|     2      |    132    | 3.07547169811 |  1   |\n",
            "|     2      |    248    | 3.06976744186 |  2   |\n",
            "|     2      |     34    | 3.05681818182 |  3   |\n",
            "|     2      |     37    | 3.00377358491 |  4   |\n",
            "|     2      |     0     | 2.98240469208 |  5   |\n",
            "|     2      |     3     | 2.83501006036 |  6   |\n",
            "|     2      |    110    | 2.70481927711 |  7   |\n",
            "|     2      |     82    | 2.68161434978 |  8   |\n",
            "|     2      |     32    | 2.65700483092 |  9   |\n",
            "|     2      |     27    | 2.65079365079 |  10  |\n",
            "+------------+-----------+---------------+------+\n",
            "[624830 rows x 4 columns]\n",
            "\n"
          ]
        }
      ],
      "source": [
        "# Get recommendations for a list of users to recommend (from customers file)\n",
        "# Printed below is head / top 30 rows for first 3 customers with 10 recommendations each\n",
        "\n",
        "popularity_recomm \u003d popularity_model.recommend(users\u003dusers_to_recommend, k\u003dn_rec)\n",
        "popularity_recomm.print_rows(n_display)"
      ]
    },
    {
      "cell_type": "code",
      "execution_count": 31,
      "metadata": {
        "pycharm": {}
      },
      "outputs": [],
      "source": [
        "# Since turicreate is very accessible library, we can define a model selection function as below\n",
        "\n",
        "def model(train_data, name, user_id, item_id, target, users_to_recommend, n_rec, n_display):\n",
        "    if name \u003d\u003d \u0027popularity\u0027:\n",
        "        model \u003d tc.popularity_recommender.create(train_data, \n",
        "                                                    user_id\u003duser_id, \n",
        "                                                    item_id\u003ditem_id, \n",
        "                                                    target\u003dtarget)\n",
        "    elif name \u003d\u003d \u0027cosine\u0027:\n",
        "        model \u003d tc.item_similarity_recommender.create(train_data, \n",
        "                                                    user_id\u003duser_id, \n",
        "                                                    item_id\u003ditem_id, \n",
        "                                                    target\u003dtarget, \n",
        "                                                    similarity_type\u003d\u0027cosine\u0027)\n",
        "    elif name \u003d\u003d \u0027pearson\u0027:\n",
        "        model \u003d tc.item_similarity_recommender.create(train_data, \n",
        "                                                    user_id\u003duser_id, \n",
        "                                                    item_id\u003ditem_id, \n",
        "                                                    target\u003dtarget, \n",
        "                                                    similarity_type\u003d\u0027pearson\u0027)\n",
        "        \n",
        "    recom \u003d model.recommend(users\u003dusers_to_recommend, k\u003dn_rec)\n",
        "    recom.print_rows(n_display)\n",
        "    return model"
      ]
    },
    {
      "cell_type": "code",
      "execution_count": 32,
      "metadata": {
        "pycharm": {}
      },
      "outputs": [],
      "source": [
        "# variables to define field names\n",
        "# constant variables include:\n",
        "user_id \u003d \u0027customerId\u0027\n",
        "item_id \u003d \u0027productId\u0027\n",
        "users_to_recommend \u003d list(customers[user_id])\n",
        "n_rec \u003d 10 # number of items to recommend\n",
        "n_display \u003d 30 # to print the head / first few rows in a defined dataset"
      ]
    },
    {
      "cell_type": "code",
      "execution_count": 33,
      "metadata": {
        "pycharm": {}
      },
      "outputs": [
        {
          "data": {
            "text/html": [
              "\u003cpre\u003eWarning: Ignoring columns purchase_count;\u003c/pre\u003e"
            ],
            "text/plain": [
              "Warning: Ignoring columns purchase_count;"
            ]
          },
          "metadata": {},
          "output_type": "display_data"
        },
        {
          "data": {
            "text/html": [
              "\u003cpre\u003e    To use these columns in scoring predictions, use a model that allows the use of additional features.\u003c/pre\u003e"
            ],
            "text/plain": [
              "    To use these columns in scoring predictions, use a model that allows the use of additional features."
            ]
          },
          "metadata": {},
          "output_type": "display_data"
        },
        {
          "data": {
            "text/html": [
              "\u003cpre\u003ePreparing data set.\u003c/pre\u003e"
            ],
            "text/plain": [
              "Preparing data set."
            ]
          },
          "metadata": {},
          "output_type": "display_data"
        },
        {
          "data": {
            "text/html": [
              "\u003cpre\u003e    Data has 106868 observations with 23330 users and 300 items.\u003c/pre\u003e"
            ],
            "text/plain": [
              "    Data has 106868 observations with 23330 users and 300 items."
            ]
          },
          "metadata": {},
          "output_type": "display_data"
        },
        {
          "data": {
            "text/html": [
              "\u003cpre\u003e    Data prepared in: 0.146324s\u003c/pre\u003e"
            ],
            "text/plain": [
              "    Data prepared in: 0.146324s"
            ]
          },
          "metadata": {},
          "output_type": "display_data"
        },
        {
          "data": {
            "text/html": [
              "\u003cpre\u003e106868 observations to process; with 300 unique items.\u003c/pre\u003e"
            ],
            "text/plain": [
              "106868 observations to process; with 300 unique items."
            ]
          },
          "metadata": {},
          "output_type": "display_data"
        },
        {
          "data": {
            "text/html": [
              "\u003cpre\u003erecommendations finished on 1000/1000 queries. users per second: 74239\u003c/pre\u003e"
            ],
            "text/plain": [
              "recommendations finished on 1000/1000 queries. users per second: 74239"
            ]
          },
          "metadata": {},
          "output_type": "display_data"
        },
        {
          "name": "stdout",
          "output_type": "stream",
          "text": [
            "+------------+-----------+-------+------+\n",
            "| customerId | productId | score | rank |\n",
            "+------------+-----------+-------+------+\n",
            "|    1553    |    280    |  1.0  |  1   |\n",
            "|    1553    |     59    |  1.0  |  2   |\n",
            "|    1553    |     13    |  1.0  |  3   |\n",
            "|    1553    |    122    |  1.0  |  4   |\n",
            "|    1553    |    113    |  1.0  |  5   |\n",
            "|    1553    |     1     |  1.0  |  6   |\n",
            "|    1553    |    238    |  1.0  |  7   |\n",
            "|    1553    |     88    |  1.0  |  8   |\n",
            "|    1553    |     64    |  1.0  |  9   |\n",
            "|    1553    |     72    |  1.0  |  10  |\n",
            "|   20400    |    280    |  1.0  |  1   |\n",
            "|   20400    |     59    |  1.0  |  2   |\n",
            "|   20400    |     13    |  1.0  |  3   |\n",
            "|   20400    |    122    |  1.0  |  4   |\n",
            "|   20400    |    113    |  1.0  |  5   |\n",
            "|   20400    |     1     |  1.0  |  6   |\n",
            "|   20400    |    238    |  1.0  |  7   |\n",
            "|   20400    |     88    |  1.0  |  8   |\n",
            "|   20400    |     64    |  1.0  |  9   |\n",
            "|   20400    |     72    |  1.0  |  10  |\n",
            "|   19750    |    194    |  1.0  |  1   |\n",
            "|   19750    |    280    |  1.0  |  2   |\n",
            "|   19750    |     59    |  1.0  |  3   |\n",
            "|   19750    |     13    |  1.0  |  4   |\n",
            "|   19750    |    122    |  1.0  |  5   |\n",
            "|   19750    |    113    |  1.0  |  6   |\n",
            "|   19750    |     1     |  1.0  |  7   |\n",
            "|   19750    |    238    |  1.0  |  8   |\n",
            "|   19750    |     88    |  1.0  |  9   |\n",
            "|   19750    |     72    |  1.0  |  10  |\n",
            "+------------+-----------+-------+------+\n",
            "[10000 rows x 4 columns]\n",
            "\n"
          ]
        }
      ],
      "source": [
        "# these variables will change accordingly\n",
        "name \u003d \u0027popularity\u0027\n",
        "target \u003d \u0027purchase_dummy\u0027\n",
        "pop_dummy \u003d model(train_data_dummy, name, user_id, item_id, target, users_to_recommend, n_rec, n_display)"
      ]
    },
    {
      "cell_type": "code",
      "execution_count": 34,
      "metadata": {
        "pycharm": {}
      },
      "outputs": [
        {
          "data": {
            "text/html": [
              "\u003cpre\u003ePreparing data set.\u003c/pre\u003e"
            ],
            "text/plain": [
              "Preparing data set."
            ]
          },
          "metadata": {},
          "output_type": "display_data"
        },
        {
          "data": {
            "text/html": [
              "\u003cpre\u003e    Data has 106868 observations with 23318 users and 300 items.\u003c/pre\u003e"
            ],
            "text/plain": [
              "    Data has 106868 observations with 23318 users and 300 items."
            ]
          },
          "metadata": {},
          "output_type": "display_data"
        },
        {
          "data": {
            "text/html": [
              "\u003cpre\u003e    Data prepared in: 0.099701s\u003c/pre\u003e"
            ],
            "text/plain": [
              "    Data prepared in: 0.099701s"
            ]
          },
          "metadata": {},
          "output_type": "display_data"
        },
        {
          "data": {
            "text/html": [
              "\u003cpre\u003e106868 observations to process; with 300 unique items.\u003c/pre\u003e"
            ],
            "text/plain": [
              "106868 observations to process; with 300 unique items."
            ]
          },
          "metadata": {},
          "output_type": "display_data"
        },
        {
          "data": {
            "text/html": [
              "\u003cpre\u003erecommendations finished on 1000/1000 queries. users per second: 135520\u003c/pre\u003e"
            ],
            "text/plain": [
              "recommendations finished on 1000/1000 queries. users per second: 135520"
            ]
          },
          "metadata": {},
          "output_type": "display_data"
        },
        {
          "name": "stdout",
          "output_type": "stream",
          "text": [
            "+------------+-----------+----------------+------+\n",
            "| customerId | productId |     score      | rank |\n",
            "+------------+-----------+----------------+------+\n",
            "|    1553    |    226    | 0.755244755245 |  1   |\n",
            "|    1553    |    230    | 0.324615384615 |  2   |\n",
            "|    1553    |    247    | 0.322834645669 |  3   |\n",
            "|    1553    |    125    | 0.265671641791 |  4   |\n",
            "|    1553    |    248    | 0.261111111111 |  5   |\n",
            "|    1553    |    294    | 0.251612903226 |  6   |\n",
            "|    1553    |    204    | 0.242222222222 |  7   |\n",
            "|    1553    |    213    | 0.227752639517 |  8   |\n",
            "|    1553    |     72    | 0.225510204082 |  9   |\n",
            "|    1553    |    276    | 0.221374045802 |  10  |\n",
            "|   20400    |    226    | 0.755244755245 |  1   |\n",
            "|   20400    |    230    | 0.324615384615 |  2   |\n",
            "|   20400    |    247    | 0.322834645669 |  3   |\n",
            "|   20400    |    125    | 0.265671641791 |  4   |\n",
            "|   20400    |    248    | 0.261111111111 |  5   |\n",
            "|   20400    |    294    | 0.251612903226 |  6   |\n",
            "|   20400    |    204    | 0.242222222222 |  7   |\n",
            "|   20400    |    213    | 0.227752639517 |  8   |\n",
            "|   20400    |     72    | 0.225510204082 |  9   |\n",
            "|   20400    |    276    | 0.221374045802 |  10  |\n",
            "|   19750    |    226    | 0.755244755245 |  1   |\n",
            "|   19750    |    230    | 0.324615384615 |  2   |\n",
            "|   19750    |    125    | 0.265671641791 |  3   |\n",
            "|   19750    |    248    | 0.261111111111 |  4   |\n",
            "|   19750    |    294    | 0.251612903226 |  5   |\n",
            "|   19750    |    204    | 0.242222222222 |  6   |\n",
            "|   19750    |    213    | 0.227752639517 |  7   |\n",
            "|   19750    |     72    | 0.225510204082 |  8   |\n",
            "|   19750    |    276    | 0.221374045802 |  9   |\n",
            "|   19750    |     83    | 0.219444444444 |  10  |\n",
            "+------------+-----------+----------------+------+\n",
            "[10000 rows x 4 columns]\n",
            "\n"
          ]
        }
      ],
      "source": [
        "name \u003d \u0027popularity\u0027\n",
        "target \u003d \u0027scaled_purchase_freq\u0027\n",
        "pop_norm \u003d model(train_data_norm, name, user_id, item_id, target, users_to_recommend, n_rec, n_display)"
      ]
    },
    {
      "cell_type": "code",
      "execution_count": 35,
      "metadata": {
        "pycharm": {}
      },
      "outputs": [
        {
          "data": {
            "text/plain": [
              "productId\n",
              "132    3.075472\n",
              "248    3.069767\n",
              "34     3.056818\n",
              "37     3.003774\n",
              "0      2.982405\n",
              "3      2.835010\n",
              "110    2.704819\n",
              "82     2.681614\n",
              "32     2.657005\n",
              "27     2.650794\n",
              "230    2.637037\n",
              "10     2.634218\n",
              "245    2.617021\n",
              "83     2.529412\n",
              "226    2.517241\n",
              "129    2.502674\n",
              "58     2.430233\n",
              "87     2.426295\n",
              "252    2.423729\n",
              "54     2.391003\n",
              "Name: purchase_count, dtype: float64"
            ]
          },
          "execution_count": 35,
          "metadata": {},
          "output_type": "execute_result"
        }
      ],
      "source": [
        "train.groupby(by\u003ditem_id)[\u0027purchase_count\u0027].mean().sort_values(ascending\u003dFalse).head(20)"
      ]
    },
    {
      "cell_type": "code",
      "execution_count": 36,
      "metadata": {
        "pycharm": {}
      },
      "outputs": [
        {
          "data": {
            "text/html": [
              "\u003cpre\u003ePreparing data set.\u003c/pre\u003e"
            ],
            "text/plain": [
              "Preparing data set."
            ]
          },
          "metadata": {},
          "output_type": "display_data"
        },
        {
          "data": {
            "text/html": [
              "\u003cpre\u003e    Data has 106868 observations with 23262 users and 300 items.\u003c/pre\u003e"
            ],
            "text/plain": [
              "    Data has 106868 observations with 23262 users and 300 items."
            ]
          },
          "metadata": {},
          "output_type": "display_data"
        },
        {
          "data": {
            "text/html": [
              "\u003cpre\u003e    Data prepared in: 0.16204s\u003c/pre\u003e"
            ],
            "text/plain": [
              "    Data prepared in: 0.16204s"
            ]
          },
          "metadata": {},
          "output_type": "display_data"
        },
        {
          "data": {
            "text/html": [
              "\u003cpre\u003eTraining model from provided data.\u003c/pre\u003e"
            ],
            "text/plain": [
              "Training model from provided data."
            ]
          },
          "metadata": {},
          "output_type": "display_data"
        },
        {
          "data": {
            "text/html": [
              "\u003cpre\u003eGathering per-item and per-user statistics.\u003c/pre\u003e"
            ],
            "text/plain": [
              "Gathering per-item and per-user statistics."
            ]
          },
          "metadata": {},
          "output_type": "display_data"
        },
        {
          "data": {
            "text/html": [
              "\u003cpre\u003e+--------------------------------+------------+\u003c/pre\u003e"
            ],
            "text/plain": [
              "+--------------------------------+------------+"
            ]
          },
          "metadata": {},
          "output_type": "display_data"
        },
        {
          "data": {
            "text/html": [
              "\u003cpre\u003e| Elapsed Time (Item Statistics) | % Complete |\u003c/pre\u003e"
            ],
            "text/plain": [
              "| Elapsed Time (Item Statistics) | % Complete |"
            ]
          },
          "metadata": {},
          "output_type": "display_data"
        },
        {
          "data": {
            "text/html": [
              "\u003cpre\u003e+--------------------------------+------------+\u003c/pre\u003e"
            ],
            "text/plain": [
              "+--------------------------------+------------+"
            ]
          },
          "metadata": {},
          "output_type": "display_data"
        },
        {
          "data": {
            "text/html": [
              "\u003cpre\u003e| 872us                          | 4.25       |\u003c/pre\u003e"
            ],
            "text/plain": [
              "| 872us                          | 4.25       |"
            ]
          },
          "metadata": {},
          "output_type": "display_data"
        },
        {
          "data": {
            "text/html": [
              "\u003cpre\u003e| 5.148ms                        | 100        |\u003c/pre\u003e"
            ],
            "text/plain": [
              "| 5.148ms                        | 100        |"
            ]
          },
          "metadata": {},
          "output_type": "display_data"
        },
        {
          "data": {
            "text/html": [
              "\u003cpre\u003e+--------------------------------+------------+\u003c/pre\u003e"
            ],
            "text/plain": [
              "+--------------------------------+------------+"
            ]
          },
          "metadata": {},
          "output_type": "display_data"
        },
        {
          "data": {
            "text/html": [
              "\u003cpre\u003eSetting up lookup tables.\u003c/pre\u003e"
            ],
            "text/plain": [
              "Setting up lookup tables."
            ]
          },
          "metadata": {},
          "output_type": "display_data"
        },
        {
          "data": {
            "text/html": [
              "\u003cpre\u003eProcessing data in one pass using dense lookup tables.\u003c/pre\u003e"
            ],
            "text/plain": [
              "Processing data in one pass using dense lookup tables."
            ]
          },
          "metadata": {},
          "output_type": "display_data"
        },
        {
          "data": {
            "text/html": [
              "\u003cpre\u003e+-------------------------------------+------------------+-----------------+\u003c/pre\u003e"
            ],
            "text/plain": [
              "+-------------------------------------+------------------+-----------------+"
            ]
          },
          "metadata": {},
          "output_type": "display_data"
        },
        {
          "data": {
            "text/html": [
              "\u003cpre\u003e| Elapsed Time (Constructing Lookups) | Total % Complete | Items Processed |\u003c/pre\u003e"
            ],
            "text/plain": [
              "| Elapsed Time (Constructing Lookups) | Total % Complete | Items Processed |"
            ]
          },
          "metadata": {},
          "output_type": "display_data"
        },
        {
          "data": {
            "text/html": [
              "\u003cpre\u003e+-------------------------------------+------------------+-----------------+\u003c/pre\u003e"
            ],
            "text/plain": [
              "+-------------------------------------+------------------+-----------------+"
            ]
          },
          "metadata": {},
          "output_type": "display_data"
        },
        {
          "data": {
            "text/html": [
              "\u003cpre\u003e| 5.928ms                             | 0                | 0               |\u003c/pre\u003e"
            ],
            "text/plain": [
              "| 5.928ms                             | 0                | 0               |"
            ]
          },
          "metadata": {},
          "output_type": "display_data"
        },
        {
          "data": {
            "text/html": [
              "\u003cpre\u003e| 21.227ms                            | 100              | 300             |\u003c/pre\u003e"
            ],
            "text/plain": [
              "| 21.227ms                            | 100              | 300             |"
            ]
          },
          "metadata": {},
          "output_type": "display_data"
        },
        {
          "data": {
            "text/html": [
              "\u003cpre\u003e+-------------------------------------+------------------+-----------------+\u003c/pre\u003e"
            ],
            "text/plain": [
              "+-------------------------------------+------------------+-----------------+"
            ]
          },
          "metadata": {},
          "output_type": "display_data"
        },
        {
          "data": {
            "text/html": [
              "\u003cpre\u003eFinalizing lookup tables.\u003c/pre\u003e"
            ],
            "text/plain": [
              "Finalizing lookup tables."
            ]
          },
          "metadata": {},
          "output_type": "display_data"
        },
        {
          "data": {
            "text/html": [
              "\u003cpre\u003eGenerating candidate set for working with new users.\u003c/pre\u003e"
            ],
            "text/plain": [
              "Generating candidate set for working with new users."
            ]
          },
          "metadata": {},
          "output_type": "display_data"
        },
        {
          "data": {
            "text/html": [
              "\u003cpre\u003eFinished training in 1.03153s\u003c/pre\u003e"
            ],
            "text/plain": [
              "Finished training in 1.03153s"
            ]
          },
          "metadata": {},
          "output_type": "display_data"
        },
        {
          "data": {
            "text/html": [
              "\u003cpre\u003erecommendations finished on 1000/1000 queries. users per second: 51757.2\u003c/pre\u003e"
            ],
            "text/plain": [
              "recommendations finished on 1000/1000 queries. users per second: 51757.2"
            ]
          },
          "metadata": {},
          "output_type": "display_data"
        },
        {
          "name": "stdout",
          "output_type": "stream",
          "text": [
            "+------------+-----------+-----------------+------+\n",
            "| customerId | productId |      score      | rank |\n",
            "+------------+-----------+-----------------+------+\n",
            "|    1553    |     2     |  0.120050120354 |  1   |\n",
            "|    1553    |     5     | 0.0821681857109 |  2   |\n",
            "|    1553    |     1     | 0.0745913267136 |  3   |\n",
            "|    1553    |     17    | 0.0647382855415 |  4   |\n",
            "|    1553    |     41    | 0.0573661327362 |  5   |\n",
            "|    1553    |     21    | 0.0551808714867 |  6   |\n",
            "|    1553    |     8     | 0.0521538376808 |  7   |\n",
            "|    1553    |     61    | 0.0518043637276 |  8   |\n",
            "|    1553    |     33    | 0.0512759804726 |  9   |\n",
            "|    1553    |    148    | 0.0511680960655 |  10  |\n",
            "|   20400    |    280    | 0.0846663713455 |  1   |\n",
            "|   20400    |    160    | 0.0429470539093 |  2   |\n",
            "|   20400    |     6     | 0.0420014262199 |  3   |\n",
            "|   20400    |    122    | 0.0406091213226 |  4   |\n",
            "|   20400    |    265    | 0.0405495166779 |  5   |\n",
            "|   20400    |     1     | 0.0385465621948 |  6   |\n",
            "|   20400    |     56    | 0.0351424217224 |  7   |\n",
            "|   20400    |    299    | 0.0337716341019 |  8   |\n",
            "|   20400    |     13    | 0.0331811904907 |  9   |\n",
            "|   20400    |    131    | 0.0331366062164 |  10  |\n",
            "|   19750    |     48    |  0.173401872317 |  1   |\n",
            "|   19750    |     79    |  0.161187529564 |  2   |\n",
            "|   19750    |     38    |  0.145873367786 |  3   |\n",
            "|   19750    |     36    |  0.134555160999 |  4   |\n",
            "|   19750    |     2     |  0.105868140856 |  5   |\n",
            "|   19750    |    261    | 0.0754472613335 |  6   |\n",
            "|   19750    |     21    | 0.0702464779218 |  7   |\n",
            "|   19750    |     14    | 0.0693739255269 |  8   |\n",
            "|   19750    |     1     | 0.0645857055982 |  9   |\n",
            "|   19750    |     5     | 0.0632037123044 |  10  |\n",
            "+------------+-----------+-----------------+------+\n",
            "[10000 rows x 4 columns]\n",
            "\n"
          ]
        }
      ],
      "source": [
        "# these variables will change accordingly\n",
        "name \u003d \u0027cosine\u0027\n",
        "target \u003d \u0027purchase_count\u0027\n",
        "cos \u003d model(train_data, name, user_id, item_id, target, users_to_recommend, n_rec, n_display)"
      ]
    },
    {
      "cell_type": "code",
      "execution_count": 37,
      "metadata": {
        "pycharm": {}
      },
      "outputs": [
        {
          "data": {
            "text/html": [
              "\u003cpre\u003eWarning: Ignoring columns purchase_count;\u003c/pre\u003e"
            ],
            "text/plain": [
              "Warning: Ignoring columns purchase_count;"
            ]
          },
          "metadata": {},
          "output_type": "display_data"
        },
        {
          "data": {
            "text/html": [
              "\u003cpre\u003e    To use these columns in scoring predictions, use a model that allows the use of additional features.\u003c/pre\u003e"
            ],
            "text/plain": [
              "    To use these columns in scoring predictions, use a model that allows the use of additional features."
            ]
          },
          "metadata": {},
          "output_type": "display_data"
        },
        {
          "data": {
            "text/html": [
              "\u003cpre\u003ePreparing data set.\u003c/pre\u003e"
            ],
            "text/plain": [
              "Preparing data set."
            ]
          },
          "metadata": {},
          "output_type": "display_data"
        },
        {
          "data": {
            "text/html": [
              "\u003cpre\u003e    Data has 106868 observations with 23330 users and 300 items.\u003c/pre\u003e"
            ],
            "text/plain": [
              "    Data has 106868 observations with 23330 users and 300 items."
            ]
          },
          "metadata": {},
          "output_type": "display_data"
        },
        {
          "data": {
            "text/html": [
              "\u003cpre\u003e    Data prepared in: 0.134147s\u003c/pre\u003e"
            ],
            "text/plain": [
              "    Data prepared in: 0.134147s"
            ]
          },
          "metadata": {},
          "output_type": "display_data"
        },
        {
          "data": {
            "text/html": [
              "\u003cpre\u003eTraining model from provided data.\u003c/pre\u003e"
            ],
            "text/plain": [
              "Training model from provided data."
            ]
          },
          "metadata": {},
          "output_type": "display_data"
        },
        {
          "data": {
            "text/html": [
              "\u003cpre\u003eGathering per-item and per-user statistics.\u003c/pre\u003e"
            ],
            "text/plain": [
              "Gathering per-item and per-user statistics."
            ]
          },
          "metadata": {},
          "output_type": "display_data"
        },
        {
          "data": {
            "text/html": [
              "\u003cpre\u003e+--------------------------------+------------+\u003c/pre\u003e"
            ],
            "text/plain": [
              "+--------------------------------+------------+"
            ]
          },
          "metadata": {},
          "output_type": "display_data"
        },
        {
          "data": {
            "text/html": [
              "\u003cpre\u003e| Elapsed Time (Item Statistics) | % Complete |\u003c/pre\u003e"
            ],
            "text/plain": [
              "| Elapsed Time (Item Statistics) | % Complete |"
            ]
          },
          "metadata": {},
          "output_type": "display_data"
        },
        {
          "data": {
            "text/html": [
              "\u003cpre\u003e+--------------------------------+------------+\u003c/pre\u003e"
            ],
            "text/plain": [
              "+--------------------------------+------------+"
            ]
          },
          "metadata": {},
          "output_type": "display_data"
        },
        {
          "data": {
            "text/html": [
              "\u003cpre\u003e| 689us                          | 4.25       |\u003c/pre\u003e"
            ],
            "text/plain": [
              "| 689us                          | 4.25       |"
            ]
          },
          "metadata": {},
          "output_type": "display_data"
        },
        {
          "data": {
            "text/html": [
              "\u003cpre\u003e| 4.784ms                        | 100        |\u003c/pre\u003e"
            ],
            "text/plain": [
              "| 4.784ms                        | 100        |"
            ]
          },
          "metadata": {},
          "output_type": "display_data"
        },
        {
          "data": {
            "text/html": [
              "\u003cpre\u003e+--------------------------------+------------+\u003c/pre\u003e"
            ],
            "text/plain": [
              "+--------------------------------+------------+"
            ]
          },
          "metadata": {},
          "output_type": "display_data"
        },
        {
          "data": {
            "text/html": [
              "\u003cpre\u003eSetting up lookup tables.\u003c/pre\u003e"
            ],
            "text/plain": [
              "Setting up lookup tables."
            ]
          },
          "metadata": {},
          "output_type": "display_data"
        },
        {
          "data": {
            "text/html": [
              "\u003cpre\u003eProcessing data in one pass using dense lookup tables.\u003c/pre\u003e"
            ],
            "text/plain": [
              "Processing data in one pass using dense lookup tables."
            ]
          },
          "metadata": {},
          "output_type": "display_data"
        },
        {
          "data": {
            "text/html": [
              "\u003cpre\u003e+-------------------------------------+------------------+-----------------+\u003c/pre\u003e"
            ],
            "text/plain": [
              "+-------------------------------------+------------------+-----------------+"
            ]
          },
          "metadata": {},
          "output_type": "display_data"
        },
        {
          "data": {
            "text/html": [
              "\u003cpre\u003e| Elapsed Time (Constructing Lookups) | Total % Complete | Items Processed |\u003c/pre\u003e"
            ],
            "text/plain": [
              "| Elapsed Time (Constructing Lookups) | Total % Complete | Items Processed |"
            ]
          },
          "metadata": {},
          "output_type": "display_data"
        },
        {
          "data": {
            "text/html": [
              "\u003cpre\u003e+-------------------------------------+------------------+-----------------+\u003c/pre\u003e"
            ],
            "text/plain": [
              "+-------------------------------------+------------------+-----------------+"
            ]
          },
          "metadata": {},
          "output_type": "display_data"
        },
        {
          "data": {
            "text/html": [
              "\u003cpre\u003e| 5.372ms                             | 0                | 0               |\u003c/pre\u003e"
            ],
            "text/plain": [
              "| 5.372ms                             | 0                | 0               |"
            ]
          },
          "metadata": {},
          "output_type": "display_data"
        },
        {
          "data": {
            "text/html": [
              "\u003cpre\u003e| 21.293ms                            | 100              | 300             |\u003c/pre\u003e"
            ],
            "text/plain": [
              "| 21.293ms                            | 100              | 300             |"
            ]
          },
          "metadata": {},
          "output_type": "display_data"
        },
        {
          "data": {
            "text/html": [
              "\u003cpre\u003e+-------------------------------------+------------------+-----------------+\u003c/pre\u003e"
            ],
            "text/plain": [
              "+-------------------------------------+------------------+-----------------+"
            ]
          },
          "metadata": {},
          "output_type": "display_data"
        },
        {
          "data": {
            "text/html": [
              "\u003cpre\u003eFinalizing lookup tables.\u003c/pre\u003e"
            ],
            "text/plain": [
              "Finalizing lookup tables."
            ]
          },
          "metadata": {},
          "output_type": "display_data"
        },
        {
          "data": {
            "text/html": [
              "\u003cpre\u003eGenerating candidate set for working with new users.\u003c/pre\u003e"
            ],
            "text/plain": [
              "Generating candidate set for working with new users."
            ]
          },
          "metadata": {},
          "output_type": "display_data"
        },
        {
          "data": {
            "text/html": [
              "\u003cpre\u003eFinished training in 0.031249s\u003c/pre\u003e"
            ],
            "text/plain": [
              "Finished training in 0.031249s"
            ]
          },
          "metadata": {},
          "output_type": "display_data"
        },
        {
          "data": {
            "text/html": [
              "\u003cpre\u003erecommendations finished on 1000/1000 queries. users per second: 57359.2\u003c/pre\u003e"
            ],
            "text/plain": [
              "recommendations finished on 1000/1000 queries. users per second: 57359.2"
            ]
          },
          "metadata": {},
          "output_type": "display_data"
        },
        {
          "name": "stdout",
          "output_type": "stream",
          "text": [
            "+------------+-----------+-----------------+------+\n",
            "| customerId | productId |      score      | rank |\n",
            "+------------+-----------+-----------------+------+\n",
            "|    1553    |     2     |  0.107144162059 |  1   |\n",
            "|    1553    |     35    |  0.104893699288 |  2   |\n",
            "|    1553    |     1     | 0.0910145491362 |  3   |\n",
            "|    1553    |     5     | 0.0789981484413 |  4   |\n",
            "|    1553    |     17    | 0.0709657967091 |  5   |\n",
            "|    1553    |     15    | 0.0641018897295 |  6   |\n",
            "|    1553    |     61    | 0.0607624351978 |  7   |\n",
            "|    1553    |     33    | 0.0594508200884 |  8   |\n",
            "|    1553    |     21    | 0.0592833608389 |  9   |\n",
            "|    1553    |    167    | 0.0591427385807 |  10  |\n",
            "|   20400    |     27    | 0.0490576028824 |  1   |\n",
            "|   20400    |    215    | 0.0477587580681 |  2   |\n",
            "|   20400    |    113    | 0.0444514751434 |  3   |\n",
            "|   20400    |     6     |  0.043904542923 |  4   |\n",
            "|   20400    |    282    | 0.0430799722672 |  5   |\n",
            "|   20400    |     15    |  0.042468547821 |  6   |\n",
            "|   20400    |     85    | 0.0422446131706 |  7   |\n",
            "|   20400    |     54    | 0.0417953133583 |  8   |\n",
            "|   20400    |    224    | 0.0410733819008 |  9   |\n",
            "|   20400    |     1     | 0.0388960838318 |  10  |\n",
            "|   19750    |     1     | 0.0701217850049 |  1   |\n",
            "|   19750    |     8     | 0.0532557368279 |  2   |\n",
            "|   19750    |     14    | 0.0515286127726 |  3   |\n",
            "|   19750    |     13    | 0.0498550136884 |  4   |\n",
            "|   19750    |     2     | 0.0443044106166 |  5   |\n",
            "|   19750    |     5     | 0.0439987381299 |  6   |\n",
            "|   19750    |    156    | 0.0436577796936 |  7   |\n",
            "|   19750    |     9     | 0.0383533040682 |  8   |\n",
            "|   19750    |     12    | 0.0351595878601 |  9   |\n",
            "|   19750    |     21    | 0.0349506735802 |  10  |\n",
            "+------------+-----------+-----------------+------+\n",
            "[10000 rows x 4 columns]\n",
            "\n"
          ]
        }
      ],
      "source": [
        "# these variables will change accordingly\n",
        "name \u003d \u0027cosine\u0027\n",
        "target \u003d \u0027purchase_dummy\u0027\n",
        "cos_dummy \u003d model(train_data_dummy, name, user_id, item_id, target, users_to_recommend, n_rec, n_display)"
      ]
    },
    {
      "cell_type": "code",
      "execution_count": 38,
      "metadata": {
        "pycharm": {}
      },
      "outputs": [
        {
          "data": {
            "text/html": [
              "\u003cpre\u003ePreparing data set.\u003c/pre\u003e"
            ],
            "text/plain": [
              "Preparing data set."
            ]
          },
          "metadata": {},
          "output_type": "display_data"
        },
        {
          "data": {
            "text/html": [
              "\u003cpre\u003e    Data has 106868 observations with 23318 users and 300 items.\u003c/pre\u003e"
            ],
            "text/plain": [
              "    Data has 106868 observations with 23318 users and 300 items."
            ]
          },
          "metadata": {},
          "output_type": "display_data"
        },
        {
          "data": {
            "text/html": [
              "\u003cpre\u003e    Data prepared in: 0.10041s\u003c/pre\u003e"
            ],
            "text/plain": [
              "    Data prepared in: 0.10041s"
            ]
          },
          "metadata": {},
          "output_type": "display_data"
        },
        {
          "data": {
            "text/html": [
              "\u003cpre\u003eTraining model from provided data.\u003c/pre\u003e"
            ],
            "text/plain": [
              "Training model from provided data."
            ]
          },
          "metadata": {},
          "output_type": "display_data"
        },
        {
          "data": {
            "text/html": [
              "\u003cpre\u003eGathering per-item and per-user statistics.\u003c/pre\u003e"
            ],
            "text/plain": [
              "Gathering per-item and per-user statistics."
            ]
          },
          "metadata": {},
          "output_type": "display_data"
        },
        {
          "data": {
            "text/html": [
              "\u003cpre\u003e+--------------------------------+------------+\u003c/pre\u003e"
            ],
            "text/plain": [
              "+--------------------------------+------------+"
            ]
          },
          "metadata": {},
          "output_type": "display_data"
        },
        {
          "data": {
            "text/html": [
              "\u003cpre\u003e| Elapsed Time (Item Statistics) | % Complete |\u003c/pre\u003e"
            ],
            "text/plain": [
              "| Elapsed Time (Item Statistics) | % Complete |"
            ]
          },
          "metadata": {},
          "output_type": "display_data"
        },
        {
          "data": {
            "text/html": [
              "\u003cpre\u003e+--------------------------------+------------+\u003c/pre\u003e"
            ],
            "text/plain": [
              "+--------------------------------+------------+"
            ]
          },
          "metadata": {},
          "output_type": "display_data"
        },
        {
          "data": {
            "text/html": [
              "\u003cpre\u003e| 997us                          | 4.25       |\u003c/pre\u003e"
            ],
            "text/plain": [
              "| 997us                          | 4.25       |"
            ]
          },
          "metadata": {},
          "output_type": "display_data"
        },
        {
          "data": {
            "text/html": [
              "\u003cpre\u003e| 20.329ms                       | 100        |\u003c/pre\u003e"
            ],
            "text/plain": [
              "| 20.329ms                       | 100        |"
            ]
          },
          "metadata": {},
          "output_type": "display_data"
        },
        {
          "data": {
            "text/html": [
              "\u003cpre\u003e+--------------------------------+------------+\u003c/pre\u003e"
            ],
            "text/plain": [
              "+--------------------------------+------------+"
            ]
          },
          "metadata": {},
          "output_type": "display_data"
        },
        {
          "data": {
            "text/html": [
              "\u003cpre\u003eSetting up lookup tables.\u003c/pre\u003e"
            ],
            "text/plain": [
              "Setting up lookup tables."
            ]
          },
          "metadata": {},
          "output_type": "display_data"
        },
        {
          "data": {
            "text/html": [
              "\u003cpre\u003eProcessing data in one pass using dense lookup tables.\u003c/pre\u003e"
            ],
            "text/plain": [
              "Processing data in one pass using dense lookup tables."
            ]
          },
          "metadata": {},
          "output_type": "display_data"
        },
        {
          "data": {
            "text/html": [
              "\u003cpre\u003e+-------------------------------------+------------------+-----------------+\u003c/pre\u003e"
            ],
            "text/plain": [
              "+-------------------------------------+------------------+-----------------+"
            ]
          },
          "metadata": {},
          "output_type": "display_data"
        },
        {
          "data": {
            "text/html": [
              "\u003cpre\u003e| Elapsed Time (Constructing Lookups) | Total % Complete | Items Processed |\u003c/pre\u003e"
            ],
            "text/plain": [
              "| Elapsed Time (Constructing Lookups) | Total % Complete | Items Processed |"
            ]
          },
          "metadata": {},
          "output_type": "display_data"
        },
        {
          "data": {
            "text/html": [
              "\u003cpre\u003e+-------------------------------------+------------------+-----------------+\u003c/pre\u003e"
            ],
            "text/plain": [
              "+-------------------------------------+------------------+-----------------+"
            ]
          },
          "metadata": {},
          "output_type": "display_data"
        },
        {
          "data": {
            "text/html": [
              "\u003cpre\u003e| 21.16ms                             | 0                | 0               |\u003c/pre\u003e"
            ],
            "text/plain": [
              "| 21.16ms                             | 0                | 0               |"
            ]
          },
          "metadata": {},
          "output_type": "display_data"
        },
        {
          "data": {
            "text/html": [
              "\u003cpre\u003e| 37.325ms                            | 100              | 300             |\u003c/pre\u003e"
            ],
            "text/plain": [
              "| 37.325ms                            | 100              | 300             |"
            ]
          },
          "metadata": {},
          "output_type": "display_data"
        },
        {
          "data": {
            "text/html": [
              "\u003cpre\u003e+-------------------------------------+------------------+-----------------+\u003c/pre\u003e"
            ],
            "text/plain": [
              "+-------------------------------------+------------------+-----------------+"
            ]
          },
          "metadata": {},
          "output_type": "display_data"
        },
        {
          "data": {
            "text/html": [
              "\u003cpre\u003eFinalizing lookup tables.\u003c/pre\u003e"
            ],
            "text/plain": [
              "Finalizing lookup tables."
            ]
          },
          "metadata": {},
          "output_type": "display_data"
        },
        {
          "data": {
            "text/html": [
              "\u003cpre\u003eGenerating candidate set for working with new users.\u003c/pre\u003e"
            ],
            "text/plain": [
              "Generating candidate set for working with new users."
            ]
          },
          "metadata": {},
          "output_type": "display_data"
        },
        {
          "data": {
            "text/html": [
              "\u003cpre\u003eFinished training in 0.048241s\u003c/pre\u003e"
            ],
            "text/plain": [
              "Finished training in 0.048241s"
            ]
          },
          "metadata": {},
          "output_type": "display_data"
        },
        {
          "data": {
            "text/html": [
              "\u003cpre\u003erecommendations finished on 1000/1000 queries. users per second: 40072.1\u003c/pre\u003e"
            ],
            "text/plain": [
              "recommendations finished on 1000/1000 queries. users per second: 40072.1"
            ]
          },
          "metadata": {},
          "output_type": "display_data"
        },
        {
          "name": "stdout",
          "output_type": "stream",
          "text": [
            "+------------+-----------+------------------+------+\n",
            "| customerId | productId |      score       | rank |\n",
            "+------------+-----------+------------------+------+\n",
            "|    1553    |     2     |       0.0        |  1   |\n",
            "|    1553    |    223    |       0.0        |  2   |\n",
            "|    1553    |     8     |       0.0        |  3   |\n",
            "|    1553    |    298    |       0.0        |  4   |\n",
            "|    1553    |     1     |       0.0        |  5   |\n",
            "|    1553    |    109    |       0.0        |  6   |\n",
            "|    1553    |     65    |       0.0        |  7   |\n",
            "|    1553    |    202    |       0.0        |  8   |\n",
            "|    1553    |     80    |       0.0        |  9   |\n",
            "|    1553    |     7     |       0.0        |  10  |\n",
            "|   20400    |     2     |       0.0        |  1   |\n",
            "|   20400    |    223    |       0.0        |  2   |\n",
            "|   20400    |     8     |       0.0        |  3   |\n",
            "|   20400    |    298    |       0.0        |  4   |\n",
            "|   20400    |     1     |       0.0        |  5   |\n",
            "|   20400    |    109    |       0.0        |  6   |\n",
            "|   20400    |     65    |       0.0        |  7   |\n",
            "|   20400    |    202    |       0.0        |  8   |\n",
            "|   20400    |     80    |       0.0        |  9   |\n",
            "|   20400    |     7     |       0.0        |  10  |\n",
            "|   19750    |    248    | 0.00342259407043 |  1   |\n",
            "|   19750    |    134    | 0.00323405265808 |  2   |\n",
            "|   19750    |    228    | 0.00317492485046 |  3   |\n",
            "|   19750    |    181    | 0.00316474437714 |  4   |\n",
            "|   19750    |     3     | 0.00290157794952 |  5   |\n",
            "|   19750    |    222    | 0.00271534919739 |  6   |\n",
            "|   19750    |    105    | 0.0023402094841  |  7   |\n",
            "|   19750    |    232    | 0.00218387842178 |  8   |\n",
            "|   19750    |    212    | 0.00211151838303 |  9   |\n",
            "|   19750    |    110    | 0.00206226110458 |  10  |\n",
            "+------------+-----------+------------------+------+\n",
            "[10000 rows x 4 columns]\n",
            "\n"
          ]
        }
      ],
      "source": [
        "name \u003d \u0027cosine\u0027\n",
        "target \u003d \u0027scaled_purchase_freq\u0027\n",
        "cos_norm \u003d model(train_data_norm, name, user_id, item_id, target, users_to_recommend, n_rec, n_display)"
      ]
    },
    {
      "cell_type": "code",
      "execution_count": 39,
      "metadata": {
        "pycharm": {}
      },
      "outputs": [
        {
          "data": {
            "text/html": [
              "\u003cpre\u003ePreparing data set.\u003c/pre\u003e"
            ],
            "text/plain": [
              "Preparing data set."
            ]
          },
          "metadata": {},
          "output_type": "display_data"
        },
        {
          "data": {
            "text/html": [
              "\u003cpre\u003e    Data has 106868 observations with 23262 users and 300 items.\u003c/pre\u003e"
            ],
            "text/plain": [
              "    Data has 106868 observations with 23262 users and 300 items."
            ]
          },
          "metadata": {},
          "output_type": "display_data"
        },
        {
          "data": {
            "text/html": [
              "\u003cpre\u003e    Data prepared in: 0.172292s\u003c/pre\u003e"
            ],
            "text/plain": [
              "    Data prepared in: 0.172292s"
            ]
          },
          "metadata": {},
          "output_type": "display_data"
        },
        {
          "data": {
            "text/html": [
              "\u003cpre\u003eTraining model from provided data.\u003c/pre\u003e"
            ],
            "text/plain": [
              "Training model from provided data."
            ]
          },
          "metadata": {},
          "output_type": "display_data"
        },
        {
          "data": {
            "text/html": [
              "\u003cpre\u003eGathering per-item and per-user statistics.\u003c/pre\u003e"
            ],
            "text/plain": [
              "Gathering per-item and per-user statistics."
            ]
          },
          "metadata": {},
          "output_type": "display_data"
        },
        {
          "data": {
            "text/html": [
              "\u003cpre\u003e+--------------------------------+------------+\u003c/pre\u003e"
            ],
            "text/plain": [
              "+--------------------------------+------------+"
            ]
          },
          "metadata": {},
          "output_type": "display_data"
        },
        {
          "data": {
            "text/html": [
              "\u003cpre\u003e| Elapsed Time (Item Statistics) | % Complete |\u003c/pre\u003e"
            ],
            "text/plain": [
              "| Elapsed Time (Item Statistics) | % Complete |"
            ]
          },
          "metadata": {},
          "output_type": "display_data"
        },
        {
          "data": {
            "text/html": [
              "\u003cpre\u003e+--------------------------------+------------+\u003c/pre\u003e"
            ],
            "text/plain": [
              "+--------------------------------+------------+"
            ]
          },
          "metadata": {},
          "output_type": "display_data"
        },
        {
          "data": {
            "text/html": [
              "\u003cpre\u003e| 981us                          | 4.25       |\u003c/pre\u003e"
            ],
            "text/plain": [
              "| 981us                          | 4.25       |"
            ]
          },
          "metadata": {},
          "output_type": "display_data"
        },
        {
          "data": {
            "text/html": [
              "\u003cpre\u003e| 8.697ms                        | 100        |\u003c/pre\u003e"
            ],
            "text/plain": [
              "| 8.697ms                        | 100        |"
            ]
          },
          "metadata": {},
          "output_type": "display_data"
        },
        {
          "data": {
            "text/html": [
              "\u003cpre\u003e+--------------------------------+------------+\u003c/pre\u003e"
            ],
            "text/plain": [
              "+--------------------------------+------------+"
            ]
          },
          "metadata": {},
          "output_type": "display_data"
        },
        {
          "data": {
            "text/html": [
              "\u003cpre\u003eSetting up lookup tables.\u003c/pre\u003e"
            ],
            "text/plain": [
              "Setting up lookup tables."
            ]
          },
          "metadata": {},
          "output_type": "display_data"
        },
        {
          "data": {
            "text/html": [
              "\u003cpre\u003eProcessing data in one pass using dense lookup tables.\u003c/pre\u003e"
            ],
            "text/plain": [
              "Processing data in one pass using dense lookup tables."
            ]
          },
          "metadata": {},
          "output_type": "display_data"
        },
        {
          "data": {
            "text/html": [
              "\u003cpre\u003e+-------------------------------------+------------------+-----------------+\u003c/pre\u003e"
            ],
            "text/plain": [
              "+-------------------------------------+------------------+-----------------+"
            ]
          },
          "metadata": {},
          "output_type": "display_data"
        },
        {
          "data": {
            "text/html": [
              "\u003cpre\u003e| Elapsed Time (Constructing Lookups) | Total % Complete | Items Processed |\u003c/pre\u003e"
            ],
            "text/plain": [
              "| Elapsed Time (Constructing Lookups) | Total % Complete | Items Processed |"
            ]
          },
          "metadata": {},
          "output_type": "display_data"
        },
        {
          "data": {
            "text/html": [
              "\u003cpre\u003e+-------------------------------------+------------------+-----------------+\u003c/pre\u003e"
            ],
            "text/plain": [
              "+-------------------------------------+------------------+-----------------+"
            ]
          },
          "metadata": {},
          "output_type": "display_data"
        },
        {
          "data": {
            "text/html": [
              "\u003cpre\u003e| 9.564ms                             | 0                | 0               |\u003c/pre\u003e"
            ],
            "text/plain": [
              "| 9.564ms                             | 0                | 0               |"
            ]
          },
          "metadata": {},
          "output_type": "display_data"
        },
        {
          "data": {
            "text/html": [
              "\u003cpre\u003e| 50.187ms                            | 100              | 300             |\u003c/pre\u003e"
            ],
            "text/plain": [
              "| 50.187ms                            | 100              | 300             |"
            ]
          },
          "metadata": {},
          "output_type": "display_data"
        },
        {
          "data": {
            "text/html": [
              "\u003cpre\u003e+-------------------------------------+------------------+-----------------+\u003c/pre\u003e"
            ],
            "text/plain": [
              "+-------------------------------------+------------------+-----------------+"
            ]
          },
          "metadata": {},
          "output_type": "display_data"
        },
        {
          "data": {
            "text/html": [
              "\u003cpre\u003eFinalizing lookup tables.\u003c/pre\u003e"
            ],
            "text/plain": [
              "Finalizing lookup tables."
            ]
          },
          "metadata": {},
          "output_type": "display_data"
        },
        {
          "data": {
            "text/html": [
              "\u003cpre\u003eGenerating candidate set for working with new users.\u003c/pre\u003e"
            ],
            "text/plain": [
              "Generating candidate set for working with new users."
            ]
          },
          "metadata": {},
          "output_type": "display_data"
        },
        {
          "data": {
            "text/html": [
              "\u003cpre\u003eFinished training in 0.061631s\u003c/pre\u003e"
            ],
            "text/plain": [
              "Finished training in 0.061631s"
            ]
          },
          "metadata": {},
          "output_type": "display_data"
        },
        {
          "data": {
            "text/html": [
              "\u003cpre\u003erecommendations finished on 1000/1000 queries. users per second: 100939\u003c/pre\u003e"
            ],
            "text/plain": [
              "recommendations finished on 1000/1000 queries. users per second: 100939"
            ]
          },
          "metadata": {},
          "output_type": "display_data"
        },
        {
          "name": "stdout",
          "output_type": "stream",
          "text": [
            "+------------+-----------+---------------+------+\n",
            "| customerId | productId |     score     | rank |\n",
            "+------------+-----------+---------------+------+\n",
            "|    1553    |    132    | 3.07491505034 |  1   |\n",
            "|    1553    |    248    | 3.06976744186 |  2   |\n",
            "|    1553    |     34    | 3.03927293474 |  3   |\n",
            "|    1553    |     37    | 3.00313316876 |  4   |\n",
            "|    1553    |     0     | 2.98053477517 |  5   |\n",
            "|    1553    |     3     | 2.83481572538 |  6   |\n",
            "|    1553    |    110    | 2.70355425197 |  7   |\n",
            "|    1553    |     82    | 2.67877518981 |  8   |\n",
            "|    1553    |     32    | 2.65700483092 |  9   |\n",
            "|    1553    |     27    | 2.65079365079 |  10  |\n",
            "|   20400    |    248    | 3.06976744186 |  1   |\n",
            "|   20400    |    132    | 3.06224918253 |  2   |\n",
            "|   20400    |     34    | 3.05681818182 |  3   |\n",
            "|   20400    |     37    | 3.00091899926 |  4   |\n",
            "|   20400    |     0     | 2.98092178812 |  5   |\n",
            "|   20400    |     3     | 2.83335597187 |  6   |\n",
            "|   20400    |    110    | 2.70481927711 |  7   |\n",
            "|   20400    |     82    | 2.68161434978 |  8   |\n",
            "|   20400    |     32    | 2.65700483092 |  9   |\n",
            "|   20400    |     27    | 2.65079365079 |  10  |\n",
            "|   19750    |    132    | 3.07547169811 |  1   |\n",
            "|   19750    |    248    | 3.06920242956 |  2   |\n",
            "|   19750    |     34    | 3.03974294121 |  3   |\n",
            "|   19750    |     37    | 3.00377358491 |  4   |\n",
            "|   19750    |     0     | 2.98240469208 |  5   |\n",
            "|   19750    |     3     | 2.82800653447 |  6   |\n",
            "|   19750    |    110    | 2.70033263681 |  7   |\n",
            "|   19750    |     82    | 2.68161434978 |  8   |\n",
            "|   19750    |     32    | 2.65485963988 |  9   |\n",
            "|   19750    |     27    | 2.65079365079 |  10  |\n",
            "+------------+-----------+---------------+------+\n",
            "[10000 rows x 4 columns]\n",
            "\n"
          ]
        }
      ],
      "source": [
        "# these variables will change accordingly\n",
        "name \u003d \u0027pearson\u0027\n",
        "target \u003d \u0027purchase_count\u0027\n",
        "pear \u003d model(train_data, name, user_id, item_id, target, users_to_recommend, n_rec, n_display)"
      ]
    },
    {
      "cell_type": "code",
      "execution_count": 40,
      "metadata": {
        "pycharm": {}
      },
      "outputs": [
        {
          "data": {
            "text/html": [
              "\u003cpre\u003eWarning: Ignoring columns purchase_count;\u003c/pre\u003e"
            ],
            "text/plain": [
              "Warning: Ignoring columns purchase_count;"
            ]
          },
          "metadata": {},
          "output_type": "display_data"
        },
        {
          "data": {
            "text/html": [
              "\u003cpre\u003e    To use these columns in scoring predictions, use a model that allows the use of additional features.\u003c/pre\u003e"
            ],
            "text/plain": [
              "    To use these columns in scoring predictions, use a model that allows the use of additional features."
            ]
          },
          "metadata": {},
          "output_type": "display_data"
        },
        {
          "data": {
            "text/html": [
              "\u003cpre\u003ePreparing data set.\u003c/pre\u003e"
            ],
            "text/plain": [
              "Preparing data set."
            ]
          },
          "metadata": {},
          "output_type": "display_data"
        },
        {
          "data": {
            "text/html": [
              "\u003cpre\u003e    Data has 106868 observations with 23330 users and 300 items.\u003c/pre\u003e"
            ],
            "text/plain": [
              "    Data has 106868 observations with 23330 users and 300 items."
            ]
          },
          "metadata": {},
          "output_type": "display_data"
        },
        {
          "data": {
            "text/html": [
              "\u003cpre\u003e    Data prepared in: 0.100664s\u003c/pre\u003e"
            ],
            "text/plain": [
              "    Data prepared in: 0.100664s"
            ]
          },
          "metadata": {},
          "output_type": "display_data"
        },
        {
          "data": {
            "text/html": [
              "\u003cpre\u003eTraining model from provided data.\u003c/pre\u003e"
            ],
            "text/plain": [
              "Training model from provided data."
            ]
          },
          "metadata": {},
          "output_type": "display_data"
        },
        {
          "data": {
            "text/html": [
              "\u003cpre\u003eGathering per-item and per-user statistics.\u003c/pre\u003e"
            ],
            "text/plain": [
              "Gathering per-item and per-user statistics."
            ]
          },
          "metadata": {},
          "output_type": "display_data"
        },
        {
          "data": {
            "text/html": [
              "\u003cpre\u003e+--------------------------------+------------+\u003c/pre\u003e"
            ],
            "text/plain": [
              "+--------------------------------+------------+"
            ]
          },
          "metadata": {},
          "output_type": "display_data"
        },
        {
          "data": {
            "text/html": [
              "\u003cpre\u003e| Elapsed Time (Item Statistics) | % Complete |\u003c/pre\u003e"
            ],
            "text/plain": [
              "| Elapsed Time (Item Statistics) | % Complete |"
            ]
          },
          "metadata": {},
          "output_type": "display_data"
        },
        {
          "data": {
            "text/html": [
              "\u003cpre\u003e+--------------------------------+------------+\u003c/pre\u003e"
            ],
            "text/plain": [
              "+--------------------------------+------------+"
            ]
          },
          "metadata": {},
          "output_type": "display_data"
        },
        {
          "data": {
            "text/html": [
              "\u003cpre\u003e| 946us                          | 4.25       |\u003c/pre\u003e"
            ],
            "text/plain": [
              "| 946us                          | 4.25       |"
            ]
          },
          "metadata": {},
          "output_type": "display_data"
        },
        {
          "data": {
            "text/html": [
              "\u003cpre\u003e| 13.697ms                       | 100        |\u003c/pre\u003e"
            ],
            "text/plain": [
              "| 13.697ms                       | 100        |"
            ]
          },
          "metadata": {},
          "output_type": "display_data"
        },
        {
          "data": {
            "text/html": [
              "\u003cpre\u003e+--------------------------------+------------+\u003c/pre\u003e"
            ],
            "text/plain": [
              "+--------------------------------+------------+"
            ]
          },
          "metadata": {},
          "output_type": "display_data"
        },
        {
          "data": {
            "text/html": [
              "\u003cpre\u003eSetting up lookup tables.\u003c/pre\u003e"
            ],
            "text/plain": [
              "Setting up lookup tables."
            ]
          },
          "metadata": {},
          "output_type": "display_data"
        },
        {
          "data": {
            "text/html": [
              "\u003cpre\u003eProcessing data in one pass using dense lookup tables.\u003c/pre\u003e"
            ],
            "text/plain": [
              "Processing data in one pass using dense lookup tables."
            ]
          },
          "metadata": {},
          "output_type": "display_data"
        },
        {
          "data": {
            "text/html": [
              "\u003cpre\u003e+-------------------------------------+------------------+-----------------+\u003c/pre\u003e"
            ],
            "text/plain": [
              "+-------------------------------------+------------------+-----------------+"
            ]
          },
          "metadata": {},
          "output_type": "display_data"
        },
        {
          "data": {
            "text/html": [
              "\u003cpre\u003e| Elapsed Time (Constructing Lookups) | Total % Complete | Items Processed |\u003c/pre\u003e"
            ],
            "text/plain": [
              "| Elapsed Time (Constructing Lookups) | Total % Complete | Items Processed |"
            ]
          },
          "metadata": {},
          "output_type": "display_data"
        },
        {
          "data": {
            "text/html": [
              "\u003cpre\u003e+-------------------------------------+------------------+-----------------+\u003c/pre\u003e"
            ],
            "text/plain": [
              "+-------------------------------------+------------------+-----------------+"
            ]
          },
          "metadata": {},
          "output_type": "display_data"
        },
        {
          "data": {
            "text/html": [
              "\u003cpre\u003e| 14.478ms                            | 0                | 0               |\u003c/pre\u003e"
            ],
            "text/plain": [
              "| 14.478ms                            | 0                | 0               |"
            ]
          },
          "metadata": {},
          "output_type": "display_data"
        },
        {
          "data": {
            "text/html": [
              "\u003cpre\u003e| 54.611ms                            | 100              | 300             |\u003c/pre\u003e"
            ],
            "text/plain": [
              "| 54.611ms                            | 100              | 300             |"
            ]
          },
          "metadata": {},
          "output_type": "display_data"
        },
        {
          "data": {
            "text/html": [
              "\u003cpre\u003e+-------------------------------------+------------------+-----------------+\u003c/pre\u003e"
            ],
            "text/plain": [
              "+-------------------------------------+------------------+-----------------+"
            ]
          },
          "metadata": {},
          "output_type": "display_data"
        },
        {
          "data": {
            "text/html": [
              "\u003cpre\u003eFinalizing lookup tables.\u003c/pre\u003e"
            ],
            "text/plain": [
              "Finalizing lookup tables."
            ]
          },
          "metadata": {},
          "output_type": "display_data"
        },
        {
          "data": {
            "text/html": [
              "\u003cpre\u003eGenerating candidate set for working with new users.\u003c/pre\u003e"
            ],
            "text/plain": [
              "Generating candidate set for working with new users."
            ]
          },
          "metadata": {},
          "output_type": "display_data"
        },
        {
          "data": {
            "text/html": [
              "\u003cpre\u003eFinished training in 0.064064s\u003c/pre\u003e"
            ],
            "text/plain": [
              "Finished training in 0.064064s"
            ]
          },
          "metadata": {},
          "output_type": "display_data"
        },
        {
          "data": {
            "text/html": [
              "\u003cpre\u003erecommendations finished on 1000/1000 queries. users per second: 102176\u003c/pre\u003e"
            ],
            "text/plain": [
              "recommendations finished on 1000/1000 queries. users per second: 102176"
            ]
          },
          "metadata": {},
          "output_type": "display_data"
        },
        {
          "name": "stdout",
          "output_type": "stream",
          "text": [
            "+------------+-----------+-------+------+\n",
            "| customerId | productId | score | rank |\n",
            "+------------+-----------+-------+------+\n",
            "|    1553    |    280    |  0.0  |  1   |\n",
            "|    1553    |     59    |  0.0  |  2   |\n",
            "|    1553    |     13    |  0.0  |  3   |\n",
            "|    1553    |    122    |  0.0  |  4   |\n",
            "|    1553    |    113    |  0.0  |  5   |\n",
            "|    1553    |     1     |  0.0  |  6   |\n",
            "|    1553    |    238    |  0.0  |  7   |\n",
            "|    1553    |     88    |  0.0  |  8   |\n",
            "|    1553    |     64    |  0.0  |  9   |\n",
            "|    1553    |     72    |  0.0  |  10  |\n",
            "|   20400    |    280    |  0.0  |  1   |\n",
            "|   20400    |     59    |  0.0  |  2   |\n",
            "|   20400    |     13    |  0.0  |  3   |\n",
            "|   20400    |    122    |  0.0  |  4   |\n",
            "|   20400    |    113    |  0.0  |  5   |\n",
            "|   20400    |     1     |  0.0  |  6   |\n",
            "|   20400    |    238    |  0.0  |  7   |\n",
            "|   20400    |     88    |  0.0  |  8   |\n",
            "|   20400    |     64    |  0.0  |  9   |\n",
            "|   20400    |     72    |  0.0  |  10  |\n",
            "|   19750    |    194    |  0.0  |  1   |\n",
            "|   19750    |    280    |  0.0  |  2   |\n",
            "|   19750    |     59    |  0.0  |  3   |\n",
            "|   19750    |     13    |  0.0  |  4   |\n",
            "|   19750    |    122    |  0.0  |  5   |\n",
            "|   19750    |    113    |  0.0  |  6   |\n",
            "|   19750    |     1     |  0.0  |  7   |\n",
            "|   19750    |    238    |  0.0  |  8   |\n",
            "|   19750    |     88    |  0.0  |  9   |\n",
            "|   19750    |     72    |  0.0  |  10  |\n",
            "+------------+-----------+-------+------+\n",
            "[10000 rows x 4 columns]\n",
            "\n"
          ]
        }
      ],
      "source": [
        "# these variables will change accordingly\n",
        "name \u003d \u0027pearson\u0027\n",
        "target \u003d \u0027purchase_dummy\u0027\n",
        "pear_dummy \u003d model(train_data_dummy, name, user_id, item_id, target, users_to_recommend, n_rec, n_display)"
      ]
    },
    {
      "cell_type": "code",
      "execution_count": 41,
      "metadata": {
        "pycharm": {}
      },
      "outputs": [
        {
          "data": {
            "text/html": [
              "\u003cpre\u003ePreparing data set.\u003c/pre\u003e"
            ],
            "text/plain": [
              "Preparing data set."
            ]
          },
          "metadata": {},
          "output_type": "display_data"
        },
        {
          "data": {
            "text/html": [
              "\u003cpre\u003e    Data has 106868 observations with 23318 users and 300 items.\u003c/pre\u003e"
            ],
            "text/plain": [
              "    Data has 106868 observations with 23318 users and 300 items."
            ]
          },
          "metadata": {},
          "output_type": "display_data"
        },
        {
          "data": {
            "text/html": [
              "\u003cpre\u003e    Data prepared in: 0.151847s\u003c/pre\u003e"
            ],
            "text/plain": [
              "    Data prepared in: 0.151847s"
            ]
          },
          "metadata": {},
          "output_type": "display_data"
        },
        {
          "data": {
            "text/html": [
              "\u003cpre\u003eTraining model from provided data.\u003c/pre\u003e"
            ],
            "text/plain": [
              "Training model from provided data."
            ]
          },
          "metadata": {},
          "output_type": "display_data"
        },
        {
          "data": {
            "text/html": [
              "\u003cpre\u003eGathering per-item and per-user statistics.\u003c/pre\u003e"
            ],
            "text/plain": [
              "Gathering per-item and per-user statistics."
            ]
          },
          "metadata": {},
          "output_type": "display_data"
        },
        {
          "data": {
            "text/html": [
              "\u003cpre\u003e+--------------------------------+------------+\u003c/pre\u003e"
            ],
            "text/plain": [
              "+--------------------------------+------------+"
            ]
          },
          "metadata": {},
          "output_type": "display_data"
        },
        {
          "data": {
            "text/html": [
              "\u003cpre\u003e| Elapsed Time (Item Statistics) | % Complete |\u003c/pre\u003e"
            ],
            "text/plain": [
              "| Elapsed Time (Item Statistics) | % Complete |"
            ]
          },
          "metadata": {},
          "output_type": "display_data"
        },
        {
          "data": {
            "text/html": [
              "\u003cpre\u003e+--------------------------------+------------+\u003c/pre\u003e"
            ],
            "text/plain": [
              "+--------------------------------+------------+"
            ]
          },
          "metadata": {},
          "output_type": "display_data"
        },
        {
          "data": {
            "text/html": [
              "\u003cpre\u003e| 1.031ms                        | 4.25       |\u003c/pre\u003e"
            ],
            "text/plain": [
              "| 1.031ms                        | 4.25       |"
            ]
          },
          "metadata": {},
          "output_type": "display_data"
        },
        {
          "data": {
            "text/html": [
              "\u003cpre\u003e| 11.429ms                       | 100        |\u003c/pre\u003e"
            ],
            "text/plain": [
              "| 11.429ms                       | 100        |"
            ]
          },
          "metadata": {},
          "output_type": "display_data"
        },
        {
          "data": {
            "text/html": [
              "\u003cpre\u003e+--------------------------------+------------+\u003c/pre\u003e"
            ],
            "text/plain": [
              "+--------------------------------+------------+"
            ]
          },
          "metadata": {},
          "output_type": "display_data"
        },
        {
          "data": {
            "text/html": [
              "\u003cpre\u003eSetting up lookup tables.\u003c/pre\u003e"
            ],
            "text/plain": [
              "Setting up lookup tables."
            ]
          },
          "metadata": {},
          "output_type": "display_data"
        },
        {
          "data": {
            "text/html": [
              "\u003cpre\u003eProcessing data in one pass using dense lookup tables.\u003c/pre\u003e"
            ],
            "text/plain": [
              "Processing data in one pass using dense lookup tables."
            ]
          },
          "metadata": {},
          "output_type": "display_data"
        },
        {
          "data": {
            "text/html": [
              "\u003cpre\u003e+-------------------------------------+------------------+-----------------+\u003c/pre\u003e"
            ],
            "text/plain": [
              "+-------------------------------------+------------------+-----------------+"
            ]
          },
          "metadata": {},
          "output_type": "display_data"
        },
        {
          "data": {
            "text/html": [
              "\u003cpre\u003e| Elapsed Time (Constructing Lookups) | Total % Complete | Items Processed |\u003c/pre\u003e"
            ],
            "text/plain": [
              "| Elapsed Time (Constructing Lookups) | Total % Complete | Items Processed |"
            ]
          },
          "metadata": {},
          "output_type": "display_data"
        },
        {
          "data": {
            "text/html": [
              "\u003cpre\u003e+-------------------------------------+------------------+-----------------+\u003c/pre\u003e"
            ],
            "text/plain": [
              "+-------------------------------------+------------------+-----------------+"
            ]
          },
          "metadata": {},
          "output_type": "display_data"
        },
        {
          "data": {
            "text/html": [
              "\u003cpre\u003e| 12.775ms                            | 0                | 0               |\u003c/pre\u003e"
            ],
            "text/plain": [
              "| 12.775ms                            | 0                | 0               |"
            ]
          },
          "metadata": {},
          "output_type": "display_data"
        },
        {
          "data": {
            "text/html": [
              "\u003cpre\u003e| 49.308ms                            | 100              | 300             |\u003c/pre\u003e"
            ],
            "text/plain": [
              "| 49.308ms                            | 100              | 300             |"
            ]
          },
          "metadata": {},
          "output_type": "display_data"
        },
        {
          "data": {
            "text/html": [
              "\u003cpre\u003e+-------------------------------------+------------------+-----------------+\u003c/pre\u003e"
            ],
            "text/plain": [
              "+-------------------------------------+------------------+-----------------+"
            ]
          },
          "metadata": {},
          "output_type": "display_data"
        },
        {
          "data": {
            "text/html": [
              "\u003cpre\u003eFinalizing lookup tables.\u003c/pre\u003e"
            ],
            "text/plain": [
              "Finalizing lookup tables."
            ]
          },
          "metadata": {},
          "output_type": "display_data"
        },
        {
          "data": {
            "text/html": [
              "\u003cpre\u003eGenerating candidate set for working with new users.\u003c/pre\u003e"
            ],
            "text/plain": [
              "Generating candidate set for working with new users."
            ]
          },
          "metadata": {},
          "output_type": "display_data"
        },
        {
          "data": {
            "text/html": [
              "\u003cpre\u003eFinished training in 0.060483s\u003c/pre\u003e"
            ],
            "text/plain": [
              "Finished training in 0.060483s"
            ]
          },
          "metadata": {},
          "output_type": "display_data"
        },
        {
          "data": {
            "text/html": [
              "\u003cpre\u003erecommendations finished on 1000/1000 queries. users per second: 100969\u003c/pre\u003e"
            ],
            "text/plain": [
              "recommendations finished on 1000/1000 queries. users per second: 100969"
            ]
          },
          "metadata": {},
          "output_type": "display_data"
        },
        {
          "name": "stdout",
          "output_type": "stream",
          "text": [
            "+------------+-----------+----------------+------+\n",
            "| customerId | productId |     score      | rank |\n",
            "+------------+-----------+----------------+------+\n",
            "|    1553    |    226    | 0.754833512998 |  1   |\n",
            "|    1553    |    230    | 0.324118415988 |  2   |\n",
            "|    1553    |    247    | 0.322729160349 |  3   |\n",
            "|    1553    |    125    | 0.265545220339 |  4   |\n",
            "|    1553    |    248    | 0.260696754522 |  5   |\n",
            "|    1553    |    294    | 0.251612903226 |  6   |\n",
            "|    1553    |    204    | 0.242222222222 |  7   |\n",
            "|    1553    |    213    | 0.227242259845 |  8   |\n",
            "|    1553    |     72    | 0.225297847633 |  9   |\n",
            "|    1553    |    276    | 0.220931078983 |  10  |\n",
            "|   20400    |    226    | 0.755244755245 |  1   |\n",
            "|   20400    |    230    | 0.324615384615 |  2   |\n",
            "|   20400    |    247    | 0.322834645669 |  3   |\n",
            "|   20400    |    125    | 0.265015633071 |  4   |\n",
            "|   20400    |    248    | 0.261111111111 |  5   |\n",
            "|   20400    |    294    | 0.251612903226 |  6   |\n",
            "|   20400    |    204    | 0.242222222222 |  7   |\n",
            "|   20400    |    213    | 0.227752639517 |  8   |\n",
            "|   20400    |     72    | 0.225510204082 |  9   |\n",
            "|   20400    |    276    | 0.220619391394 |  10  |\n",
            "|   19750    |    226    | 0.755244755245 |  1   |\n",
            "|   19750    |    230    | 0.324615384615 |  2   |\n",
            "|   19750    |    125    | 0.265531356299 |  3   |\n",
            "|   19750    |    248    | 0.260954505867 |  4   |\n",
            "|   19750    |    294    | 0.251612903226 |  5   |\n",
            "|   19750    |    204    | 0.241919204129 |  6   |\n",
            "|   19750    |    213    | 0.22736846374  |  7   |\n",
            "|   19750    |     72    | 0.225183832889 |  8   |\n",
            "|   19750    |    276    | 0.221070312453 |  9   |\n",
            "|   19750    |     83    | 0.219444444444 |  10  |\n",
            "+------------+-----------+----------------+------+\n",
            "[10000 rows x 4 columns]\n",
            "\n"
          ]
        }
      ],
      "source": [
        "name \u003d \u0027pearson\u0027\n",
        "target \u003d \u0027scaled_purchase_freq\u0027\n",
        "pear_norm \u003d model(train_data_norm, name, user_id, item_id, target, users_to_recommend, n_rec, n_display)"
      ]
    },
    {
      "cell_type": "code",
      "execution_count": 42,
      "metadata": {
        "pycharm": {}
      },
      "outputs": [],
      "source": [
        "# create initial callable variables\n",
        "\n",
        "models_w_counts \u003d [popularity_model, cos, pear]\n",
        "models_w_dummy \u003d [pop_dummy, cos_dummy, pear_dummy]\n",
        "models_w_norm \u003d [pop_norm, cos_norm, pear_norm]\n",
        "\n",
        "names_w_counts \u003d [\u0027Popularity Model on Purchase Counts\u0027, \u0027Cosine Similarity on Purchase Counts\u0027, \u0027Pearson Similarity on Purchase Counts\u0027]\n",
        "names_w_dummy \u003d [\u0027Popularity Model on Purchase Dummy\u0027, \u0027Cosine Similarity on Purchase Dummy\u0027, \u0027Pearson Similarity on Purchase Dummy\u0027]\n",
        "names_w_norm \u003d [\u0027Popularity Model on Scaled Purchase Counts\u0027, \u0027Cosine Similarity on Scaled Purchase Counts\u0027, \u0027Pearson Similarity on Scaled Purchase Counts\u0027]"
      ]
    },
    {
      "cell_type": "code",
      "execution_count": 43,
      "metadata": {
        "pycharm": {}
      },
      "outputs": [
        {
          "name": "stdout",
          "output_type": "stream",
          "text": [
            "PROGRESS: Evaluate model Popularity Model on Purchase Counts\n"
          ]
        },
        {
          "data": {
            "text/html": [
              "\u003cpre\u003erecommendations finished on 1000/13872 queries. users per second: 55139\u003c/pre\u003e"
            ],
            "text/plain": [
              "recommendations finished on 1000/13872 queries. users per second: 55139"
            ]
          },
          "metadata": {},
          "output_type": "display_data"
        },
        {
          "data": {
            "text/html": [
              "\u003cpre\u003erecommendations finished on 2000/13872 queries. users per second: 65621.1\u003c/pre\u003e"
            ],
            "text/plain": [
              "recommendations finished on 2000/13872 queries. users per second: 65621.1"
            ]
          },
          "metadata": {},
          "output_type": "display_data"
        },
        {
          "data": {
            "text/html": [
              "\u003cpre\u003erecommendations finished on 3000/13872 queries. users per second: 71804.7\u003c/pre\u003e"
            ],
            "text/plain": [
              "recommendations finished on 3000/13872 queries. users per second: 71804.7"
            ]
          },
          "metadata": {},
          "output_type": "display_data"
        },
        {
          "data": {
            "text/html": [
              "\u003cpre\u003erecommendations finished on 4000/13872 queries. users per second: 75031.4\u003c/pre\u003e"
            ],
            "text/plain": [
              "recommendations finished on 4000/13872 queries. users per second: 75031.4"
            ]
          },
          "metadata": {},
          "output_type": "display_data"
        },
        {
          "data": {
            "text/html": [
              "\u003cpre\u003erecommendations finished on 5000/13872 queries. users per second: 77967.8\u003c/pre\u003e"
            ],
            "text/plain": [
              "recommendations finished on 5000/13872 queries. users per second: 77967.8"
            ]
          },
          "metadata": {},
          "output_type": "display_data"
        },
        {
          "data": {
            "text/html": [
              "\u003cpre\u003erecommendations finished on 6000/13872 queries. users per second: 77945.4\u003c/pre\u003e"
            ],
            "text/plain": [
              "recommendations finished on 6000/13872 queries. users per second: 77945.4"
            ]
          },
          "metadata": {},
          "output_type": "display_data"
        },
        {
          "data": {
            "text/html": [
              "\u003cpre\u003erecommendations finished on 7000/13872 queries. users per second: 78395.4\u003c/pre\u003e"
            ],
            "text/plain": [
              "recommendations finished on 7000/13872 queries. users per second: 78395.4"
            ]
          },
          "metadata": {},
          "output_type": "display_data"
        },
        {
          "data": {
            "text/html": [
              "\u003cpre\u003erecommendations finished on 8000/13872 queries. users per second: 79058.4\u003c/pre\u003e"
            ],
            "text/plain": [
              "recommendations finished on 8000/13872 queries. users per second: 79058.4"
            ]
          },
          "metadata": {},
          "output_type": "display_data"
        },
        {
          "data": {
            "text/html": [
              "\u003cpre\u003erecommendations finished on 9000/13872 queries. users per second: 80486.5\u003c/pre\u003e"
            ],
            "text/plain": [
              "recommendations finished on 9000/13872 queries. users per second: 80486.5"
            ]
          },
          "metadata": {},
          "output_type": "display_data"
        },
        {
          "data": {
            "text/html": [
              "\u003cpre\u003erecommendations finished on 10000/13872 queries. users per second: 81623.3\u003c/pre\u003e"
            ],
            "text/plain": [
              "recommendations finished on 10000/13872 queries. users per second: 81623.3"
            ]
          },
          "metadata": {},
          "output_type": "display_data"
        },
        {
          "data": {
            "text/html": [
              "\u003cpre\u003erecommendations finished on 11000/13872 queries. users per second: 81189.8\u003c/pre\u003e"
            ],
            "text/plain": [
              "recommendations finished on 11000/13872 queries. users per second: 81189.8"
            ]
          },
          "metadata": {},
          "output_type": "display_data"
        },
        {
          "data": {
            "text/html": [
              "\u003cpre\u003erecommendations finished on 12000/13872 queries. users per second: 73460.1\u003c/pre\u003e"
            ],
            "text/plain": [
              "recommendations finished on 12000/13872 queries. users per second: 73460.1"
            ]
          },
          "metadata": {},
          "output_type": "display_data"
        },
        {
          "data": {
            "text/html": [
              "\u003cpre\u003erecommendations finished on 13000/13872 queries. users per second: 72824.6\u003c/pre\u003e"
            ],
            "text/plain": [
              "recommendations finished on 13000/13872 queries. users per second: 72824.6"
            ]
          },
          "metadata": {},
          "output_type": "display_data"
        },
        {
          "name": "stdout",
          "output_type": "stream",
          "text": [
            "\n",
            "Precision and recall summary statistics by cutoff\n",
            "+--------+------------------+------------------+\n",
            "| cutoff |  mean_precision  |   mean_recall    |\n",
            "+--------+------------------+------------------+\n",
            "|   1    | 0.00165801614764 | 0.00109081734298 |\n",
            "|   2    | 0.00111735870819 | 0.00130836759838 |\n",
            "|   3    | 0.00240292195309 | 0.00423393180714 |\n",
            "|   4    | 0.00279339677047 | 0.00623019042646 |\n",
            "|   5    | 0.00635813148789 |   0.0177732816   |\n",
            "|   6    | 0.00646386005383 | 0.0213468623683  |\n",
            "|   7    | 0.00606566155874 | 0.0229007232917  |\n",
            "|   8    | 0.00588415513264 | 0.0255213297294  |\n",
            "|   9    | 0.00563885684993 |  0.027702667951  |\n",
            "|   10   | 0.00531286043829 | 0.0290208162739  |\n",
            "+--------+------------------+------------------+\n",
            "[10 rows x 3 columns]\n",
            "\n",
            "\n",
            "Overall RMSE: 1.02843032483\n",
            "\n",
            "Per User RMSE (best)\n",
            "+------------+-------+------------------+\n",
            "| customerId | count |       rmse       |\n",
            "+------------+-------+------------------+\n",
            "|   18388    |   1   | 0.00377358490566 |\n",
            "+------------+-------+------------------+\n",
            "[1 rows x 3 columns]\n",
            "\n",
            "\n",
            "Per User RMSE (worst)\n",
            "+------------+-------+---------------+\n",
            "| customerId | count |      rmse     |\n",
            "+------------+-------+---------------+\n",
            "|    1734    |   4   | 22.7057389615 |\n",
            "+------------+-------+---------------+\n",
            "[1 rows x 3 columns]\n",
            "\n",
            "\n",
            "Per Item RMSE (best)\n",
            "+-----------+-------+----------------+\n",
            "| productId | count |      rmse      |\n",
            "+-----------+-------+----------------+\n",
            "|    166    |  113  | 0.241889017397 |\n",
            "+-----------+-------+----------------+\n",
            "[1 rows x 3 columns]\n",
            "\n",
            "\n",
            "Per Item RMSE (worst)\n",
            "+-----------+-------+---------------+\n",
            "| productId | count |      rmse     |\n",
            "+-----------+-------+---------------+\n",
            "|    240    |   58  | 3.55027109364 |\n",
            "+-----------+-------+---------------+\n",
            "[1 rows x 3 columns]\n",
            "\n",
            "PROGRESS: Evaluate model Cosine Similarity on Purchase Counts\n"
          ]
        },
        {
          "data": {
            "text/html": [
              "\u003cpre\u003erecommendations finished on 1000/13872 queries. users per second: 61173.3\u003c/pre\u003e"
            ],
            "text/plain": [
              "recommendations finished on 1000/13872 queries. users per second: 61173.3"
            ]
          },
          "metadata": {},
          "output_type": "display_data"
        },
        {
          "data": {
            "text/html": [
              "\u003cpre\u003erecommendations finished on 2000/13872 queries. users per second: 63091.5\u003c/pre\u003e"
            ],
            "text/plain": [
              "recommendations finished on 2000/13872 queries. users per second: 63091.5"
            ]
          },
          "metadata": {},
          "output_type": "display_data"
        },
        {
          "data": {
            "text/html": [
              "\u003cpre\u003erecommendations finished on 3000/13872 queries. users per second: 64487\u003c/pre\u003e"
            ],
            "text/plain": [
              "recommendations finished on 3000/13872 queries. users per second: 64487"
            ]
          },
          "metadata": {},
          "output_type": "display_data"
        },
        {
          "data": {
            "text/html": [
              "\u003cpre\u003erecommendations finished on 4000/13872 queries. users per second: 66030.6\u003c/pre\u003e"
            ],
            "text/plain": [
              "recommendations finished on 4000/13872 queries. users per second: 66030.6"
            ]
          },
          "metadata": {},
          "output_type": "display_data"
        },
        {
          "data": {
            "text/html": [
              "\u003cpre\u003erecommendations finished on 5000/13872 queries. users per second: 66011\u003c/pre\u003e"
            ],
            "text/plain": [
              "recommendations finished on 5000/13872 queries. users per second: 66011"
            ]
          },
          "metadata": {},
          "output_type": "display_data"
        },
        {
          "data": {
            "text/html": [
              "\u003cpre\u003erecommendations finished on 6000/13872 queries. users per second: 66229.6\u003c/pre\u003e"
            ],
            "text/plain": [
              "recommendations finished on 6000/13872 queries. users per second: 66229.6"
            ]
          },
          "metadata": {},
          "output_type": "display_data"
        },
        {
          "data": {
            "text/html": [
              "\u003cpre\u003erecommendations finished on 7000/13872 queries. users per second: 66792\u003c/pre\u003e"
            ],
            "text/plain": [
              "recommendations finished on 7000/13872 queries. users per second: 66792"
            ]
          },
          "metadata": {},
          "output_type": "display_data"
        },
        {
          "data": {
            "text/html": [
              "\u003cpre\u003erecommendations finished on 8000/13872 queries. users per second: 66963.5\u003c/pre\u003e"
            ],
            "text/plain": [
              "recommendations finished on 8000/13872 queries. users per second: 66963.5"
            ]
          },
          "metadata": {},
          "output_type": "display_data"
        },
        {
          "data": {
            "text/html": [
              "\u003cpre\u003erecommendations finished on 9000/13872 queries. users per second: 67555.9\u003c/pre\u003e"
            ],
            "text/plain": [
              "recommendations finished on 9000/13872 queries. users per second: 67555.9"
            ]
          },
          "metadata": {},
          "output_type": "display_data"
        },
        {
          "data": {
            "text/html": [
              "\u003cpre\u003erecommendations finished on 10000/13872 queries. users per second: 61671.7\u003c/pre\u003e"
            ],
            "text/plain": [
              "recommendations finished on 10000/13872 queries. users per second: 61671.7"
            ]
          },
          "metadata": {},
          "output_type": "display_data"
        },
        {
          "data": {
            "text/html": [
              "\u003cpre\u003erecommendations finished on 11000/13872 queries. users per second: 61823.1\u003c/pre\u003e"
            ],
            "text/plain": [
              "recommendations finished on 11000/13872 queries. users per second: 61823.1"
            ]
          },
          "metadata": {},
          "output_type": "display_data"
        },
        {
          "data": {
            "text/html": [
              "\u003cpre\u003erecommendations finished on 12000/13872 queries. users per second: 62606.3\u003c/pre\u003e"
            ],
            "text/plain": [
              "recommendations finished on 12000/13872 queries. users per second: 62606.3"
            ]
          },
          "metadata": {},
          "output_type": "display_data"
        },
        {
          "data": {
            "text/html": [
              "\u003cpre\u003erecommendations finished on 13000/13872 queries. users per second: 61989.2\u003c/pre\u003e"
            ],
            "text/plain": [
              "recommendations finished on 13000/13872 queries. users per second: 61989.2"
            ]
          },
          "metadata": {},
          "output_type": "display_data"
        },
        {
          "name": "stdout",
          "output_type": "stream",
          "text": [
            "\n",
            "Precision and recall summary statistics by cutoff\n",
            "+--------+-----------------+-----------------+\n",
            "| cutoff |  mean_precision |   mean_recall   |\n",
            "+--------+-----------------+-----------------+\n",
            "|   1    |  0.113538062284 | 0.0645857419859 |\n",
            "|   2    | 0.0932453863898 |  0.105887768712 |\n",
            "|   3    | 0.0793444828912 |  0.13305582925  |\n",
            "|   4    | 0.0691320645905 |  0.153226267686 |\n",
            "|   5    | 0.0618079584775 |  0.169618706386 |\n",
            "|   6    | 0.0564085928489 |  0.186059765177 |\n",
            "|   7    | 0.0516147635525 |  0.197565742159 |\n",
            "|   8    | 0.0480734573241 |  0.209838040098 |\n",
            "|   9    | 0.0452390106369 |  0.222671461688 |\n",
            "|   10   | 0.0424235870819 |  0.23180763101  |\n",
            "+--------+-----------------+-----------------+\n",
            "[10 rows x 3 columns]\n",
            "\n",
            "\n",
            "Overall RMSE: 1.87334413641\n",
            "\n",
            "Per User RMSE (best)\n",
            "+------------+-------+------------------+\n",
            "| customerId | count |       rmse       |\n",
            "+------------+-------+------------------+\n",
            "|   28437    |   1   | 0.00481593608856 |\n",
            "+------------+-------+------------------+\n",
            "[1 rows x 3 columns]\n",
            "\n",
            "\n",
            "Per User RMSE (worst)\n",
            "+------------+-------+---------------+\n",
            "| customerId | count |      rmse     |\n",
            "+------------+-------+---------------+\n",
            "|    1734    |   4   | 23.6428125839 |\n",
            "+------------+-------+---------------+\n",
            "[1 rows x 3 columns]\n",
            "\n",
            "\n",
            "Per Item RMSE (best)\n",
            "+-----------+-------+---------------+\n",
            "| productId | count |      rmse     |\n",
            "+-----------+-------+---------------+\n",
            "|    166    |  113  | 1.04929204641 |\n",
            "+-----------+-------+---------------+\n",
            "[1 rows x 3 columns]\n",
            "\n",
            "\n",
            "Per Item RMSE (worst)\n",
            "+-----------+-------+---------------+\n",
            "| productId | count |      rmse     |\n",
            "+-----------+-------+---------------+\n",
            "|    132    |   19  | 4.42614068754 |\n",
            "+-----------+-------+---------------+\n",
            "[1 rows x 3 columns]\n",
            "\n",
            "PROGRESS: Evaluate model Pearson Similarity on Purchase Counts\n"
          ]
        },
        {
          "data": {
            "text/html": [
              "\u003cpre\u003erecommendations finished on 1000/13872 queries. users per second: 56503.6\u003c/pre\u003e"
            ],
            "text/plain": [
              "recommendations finished on 1000/13872 queries. users per second: 56503.6"
            ]
          },
          "metadata": {},
          "output_type": "display_data"
        },
        {
          "data": {
            "text/html": [
              "\u003cpre\u003erecommendations finished on 2000/13872 queries. users per second: 59075.5\u003c/pre\u003e"
            ],
            "text/plain": [
              "recommendations finished on 2000/13872 queries. users per second: 59075.5"
            ]
          },
          "metadata": {},
          "output_type": "display_data"
        },
        {
          "data": {
            "text/html": [
              "\u003cpre\u003erecommendations finished on 3000/13872 queries. users per second: 56339.1\u003c/pre\u003e"
            ],
            "text/plain": [
              "recommendations finished on 3000/13872 queries. users per second: 56339.1"
            ]
          },
          "metadata": {},
          "output_type": "display_data"
        },
        {
          "data": {
            "text/html": [
              "\u003cpre\u003erecommendations finished on 4000/13872 queries. users per second: 58547.2\u003c/pre\u003e"
            ],
            "text/plain": [
              "recommendations finished on 4000/13872 queries. users per second: 58547.2"
            ]
          },
          "metadata": {},
          "output_type": "display_data"
        },
        {
          "data": {
            "text/html": [
              "\u003cpre\u003erecommendations finished on 5000/13872 queries. users per second: 60135.9\u003c/pre\u003e"
            ],
            "text/plain": [
              "recommendations finished on 5000/13872 queries. users per second: 60135.9"
            ]
          },
          "metadata": {},
          "output_type": "display_data"
        },
        {
          "data": {
            "text/html": [
              "\u003cpre\u003erecommendations finished on 6000/13872 queries. users per second: 59817\u003c/pre\u003e"
            ],
            "text/plain": [
              "recommendations finished on 6000/13872 queries. users per second: 59817"
            ]
          },
          "metadata": {},
          "output_type": "display_data"
        },
        {
          "data": {
            "text/html": [
              "\u003cpre\u003erecommendations finished on 7000/13872 queries. users per second: 60585.6\u003c/pre\u003e"
            ],
            "text/plain": [
              "recommendations finished on 7000/13872 queries. users per second: 60585.6"
            ]
          },
          "metadata": {},
          "output_type": "display_data"
        },
        {
          "data": {
            "text/html": [
              "\u003cpre\u003erecommendations finished on 8000/13872 queries. users per second: 61335.1\u003c/pre\u003e"
            ],
            "text/plain": [
              "recommendations finished on 8000/13872 queries. users per second: 61335.1"
            ]
          },
          "metadata": {},
          "output_type": "display_data"
        },
        {
          "data": {
            "text/html": [
              "\u003cpre\u003erecommendations finished on 9000/13872 queries. users per second: 61915.2\u003c/pre\u003e"
            ],
            "text/plain": [
              "recommendations finished on 9000/13872 queries. users per second: 61915.2"
            ]
          },
          "metadata": {},
          "output_type": "display_data"
        },
        {
          "data": {
            "text/html": [
              "\u003cpre\u003erecommendations finished on 10000/13872 queries. users per second: 57202\u003c/pre\u003e"
            ],
            "text/plain": [
              "recommendations finished on 10000/13872 queries. users per second: 57202"
            ]
          },
          "metadata": {},
          "output_type": "display_data"
        },
        {
          "data": {
            "text/html": [
              "\u003cpre\u003erecommendations finished on 11000/13872 queries. users per second: 58084.6\u003c/pre\u003e"
            ],
            "text/plain": [
              "recommendations finished on 11000/13872 queries. users per second: 58084.6"
            ]
          },
          "metadata": {},
          "output_type": "display_data"
        },
        {
          "data": {
            "text/html": [
              "\u003cpre\u003erecommendations finished on 12000/13872 queries. users per second: 57303.6\u003c/pre\u003e"
            ],
            "text/plain": [
              "recommendations finished on 12000/13872 queries. users per second: 57303.6"
            ]
          },
          "metadata": {},
          "output_type": "display_data"
        },
        {
          "data": {
            "text/html": [
              "\u003cpre\u003erecommendations finished on 13000/13872 queries. users per second: 57841.8\u003c/pre\u003e"
            ],
            "text/plain": [
              "recommendations finished on 13000/13872 queries. users per second: 57841.8"
            ]
          },
          "metadata": {},
          "output_type": "display_data"
        },
        {
          "name": "stdout",
          "output_type": "stream",
          "text": [
            "\n",
            "Precision and recall summary statistics by cutoff\n",
            "+--------+------------------+------------------+\n",
            "| cutoff |  mean_precision  |   mean_recall    |\n",
            "+--------+------------------+------------------+\n",
            "|   1    | 0.00173010380623 | 0.00109081734298 |\n",
            "|   2    | 0.00122549019608 | 0.00139847717162 |\n",
            "|   3    | 0.00245098039216 | 0.00430601946574 |\n",
            "|   4    | 0.00282944059977 | 0.00630227808505 |\n",
            "|   5    | 0.00640138408304 | 0.0178573838683  |\n",
            "|   6    | 0.00652393310265 | 0.0215390961245  |\n",
            "|   7    | 0.00610685450651 | 0.0231265979553  |\n",
            "|   8    | 0.00590217704729 | 0.0256210509904  |\n",
            "|   9    | 0.0056148276304  | 0.0276101554558  |\n",
            "|   10   | 0.00532727797001 | 0.0291445667544  |\n",
            "+--------+------------------+------------------+\n",
            "[10 rows x 3 columns]\n",
            "\n",
            "\n",
            "Overall RMSE: 1.02551480027\n",
            "\n",
            "Per User RMSE (best)\n",
            "+------------+-------+-------------------+\n",
            "| customerId | count |        rmse       |\n",
            "+------------+-------+-------------------+\n",
            "|    6839    |   1   | 0.000913543610274 |\n",
            "+------------+-------+-------------------+\n",
            "[1 rows x 3 columns]\n",
            "\n",
            "\n",
            "Per User RMSE (worst)\n",
            "+------------+-------+---------------+\n",
            "| customerId | count |      rmse     |\n",
            "+------------+-------+---------------+\n",
            "|    1734    |   4   | 22.6939330849 |\n",
            "+------------+-------+---------------+\n",
            "[1 rows x 3 columns]\n",
            "\n",
            "\n",
            "Per Item RMSE (best)\n",
            "+-----------+-------+----------------+\n",
            "| productId | count |      rmse      |\n",
            "+-----------+-------+----------------+\n",
            "|    166    |  113  | 0.241606317723 |\n",
            "+-----------+-------+----------------+\n",
            "[1 rows x 3 columns]\n",
            "\n",
            "\n",
            "Per Item RMSE (worst)\n",
            "+-----------+-------+---------------+\n",
            "| productId | count |      rmse     |\n",
            "+-----------+-------+---------------+\n",
            "|    240    |   58  | 3.55005854554 |\n",
            "+-----------+-------+---------------+\n",
            "[1 rows x 3 columns]\n",
            "\n"
          ]
        }
      ],
      "source": [
        "eval_counts \u003d tc.recommender.util.compare_models(test_data, models_w_counts, model_names\u003dnames_w_counts)"
      ]
    },
    {
      "cell_type": "code",
      "execution_count": 45,
      "metadata": {
        "pycharm": {}
      },
      "outputs": [
        {
          "name": "stdout",
          "output_type": "stream",
          "text": [
            "PROGRESS: Evaluate model Popularity Model on Purchase Dummy\n"
          ]
        },
        {
          "data": {
            "text/html": [
              "\u003cpre\u003erecommendations finished on 1000/13843 queries. users per second: 74537.9\u003c/pre\u003e"
            ],
            "text/plain": [
              "recommendations finished on 1000/13843 queries. users per second: 74537.9"
            ]
          },
          "metadata": {},
          "output_type": "display_data"
        },
        {
          "data": {
            "text/html": [
              "\u003cpre\u003erecommendations finished on 2000/13843 queries. users per second: 80337.4\u003c/pre\u003e"
            ],
            "text/plain": [
              "recommendations finished on 2000/13843 queries. users per second: 80337.4"
            ]
          },
          "metadata": {},
          "output_type": "display_data"
        },
        {
          "data": {
            "text/html": [
              "\u003cpre\u003erecommendations finished on 3000/13843 queries. users per second: 83777.8\u003c/pre\u003e"
            ],
            "text/plain": [
              "recommendations finished on 3000/13843 queries. users per second: 83777.8"
            ]
          },
          "metadata": {},
          "output_type": "display_data"
        },
        {
          "data": {
            "text/html": [
              "\u003cpre\u003erecommendations finished on 4000/13843 queries. users per second: 86937.6\u003c/pre\u003e"
            ],
            "text/plain": [
              "recommendations finished on 4000/13843 queries. users per second: 86937.6"
            ]
          },
          "metadata": {},
          "output_type": "display_data"
        },
        {
          "data": {
            "text/html": [
              "\u003cpre\u003erecommendations finished on 5000/13843 queries. users per second: 89668.4\u003c/pre\u003e"
            ],
            "text/plain": [
              "recommendations finished on 5000/13843 queries. users per second: 89668.4"
            ]
          },
          "metadata": {},
          "output_type": "display_data"
        },
        {
          "data": {
            "text/html": [
              "\u003cpre\u003erecommendations finished on 6000/13843 queries. users per second: 88691.8\u003c/pre\u003e"
            ],
            "text/plain": [
              "recommendations finished on 6000/13843 queries. users per second: 88691.8"
            ]
          },
          "metadata": {},
          "output_type": "display_data"
        },
        {
          "data": {
            "text/html": [
              "\u003cpre\u003erecommendations finished on 7000/13843 queries. users per second: 89592\u003c/pre\u003e"
            ],
            "text/plain": [
              "recommendations finished on 7000/13843 queries. users per second: 89592"
            ]
          },
          "metadata": {},
          "output_type": "display_data"
        },
        {
          "data": {
            "text/html": [
              "\u003cpre\u003erecommendations finished on 8000/13843 queries. users per second: 90799.7\u003c/pre\u003e"
            ],
            "text/plain": [
              "recommendations finished on 8000/13843 queries. users per second: 90799.7"
            ]
          },
          "metadata": {},
          "output_type": "display_data"
        },
        {
          "data": {
            "text/html": [
              "\u003cpre\u003erecommendations finished on 9000/13843 queries. users per second: 92042.4\u003c/pre\u003e"
            ],
            "text/plain": [
              "recommendations finished on 9000/13843 queries. users per second: 92042.4"
            ]
          },
          "metadata": {},
          "output_type": "display_data"
        },
        {
          "data": {
            "text/html": [
              "\u003cpre\u003erecommendations finished on 10000/13843 queries. users per second: 83313.2\u003c/pre\u003e"
            ],
            "text/plain": [
              "recommendations finished on 10000/13843 queries. users per second: 83313.2"
            ]
          },
          "metadata": {},
          "output_type": "display_data"
        },
        {
          "data": {
            "text/html": [
              "\u003cpre\u003erecommendations finished on 11000/13843 queries. users per second: 83318.2\u003c/pre\u003e"
            ],
            "text/plain": [
              "recommendations finished on 11000/13843 queries. users per second: 83318.2"
            ]
          },
          "metadata": {},
          "output_type": "display_data"
        },
        {
          "data": {
            "text/html": [
              "\u003cpre\u003erecommendations finished on 12000/13843 queries. users per second: 82604.2\u003c/pre\u003e"
            ],
            "text/plain": [
              "recommendations finished on 12000/13843 queries. users per second: 82604.2"
            ]
          },
          "metadata": {},
          "output_type": "display_data"
        },
        {
          "data": {
            "text/html": [
              "\u003cpre\u003erecommendations finished on 13000/13843 queries. users per second: 82546.5\u003c/pre\u003e"
            ],
            "text/plain": [
              "recommendations finished on 13000/13843 queries. users per second: 82546.5"
            ]
          },
          "metadata": {},
          "output_type": "display_data"
        },
        {
          "name": "stdout",
          "output_type": "stream",
          "text": [
            "\n",
            "Precision and recall summary statistics by cutoff\n",
            "+--------+------------------+------------------+\n",
            "| cutoff |  mean_precision  |   mean_recall    |\n",
            "+--------+------------------+------------------+\n",
            "|   1    | 0.00339521779961 | 0.00153174660507 |\n",
            "|   2    | 0.00426208191866 | 0.00434205604328 |\n",
            "|   3    | 0.00488815044908 | 0.00757433549458 |\n",
            "|   4    | 0.00511088636856 | 0.0104029383412  |\n",
            "|   5    | 0.00525897565557 | 0.0130102698477  |\n",
            "|   6    | 0.00536974162633 | 0.0154685491453  |\n",
            "|   7    | 0.00531470263465 | 0.0175500836783  |\n",
            "|   8    | 0.00525536372174 | 0.0198968086863  |\n",
            "|   9    | 0.00524934383202 | 0.0226269146707  |\n",
            "|   10   | 0.00525897565557 | 0.0252668943063  |\n",
            "+--------+------------------+------------------+\n",
            "[10 rows x 3 columns]\n",
            "\n",
            "\n",
            "Overall RMSE: 0.0\n",
            "\n",
            "Per User RMSE (best)\n",
            "+------------+-------+------+\n",
            "| customerId | count | rmse |\n",
            "+------------+-------+------+\n",
            "|   16436    |   4   | 0.0  |\n",
            "+------------+-------+------+\n",
            "[1 rows x 3 columns]\n",
            "\n",
            "\n",
            "Per User RMSE (worst)\n",
            "+------------+-------+------+\n",
            "| customerId | count | rmse |\n",
            "+------------+-------+------+\n",
            "|    7899    |   4   | 0.0  |\n",
            "+------------+-------+------+\n",
            "[1 rows x 3 columns]\n",
            "\n",
            "\n",
            "Per Item RMSE (best)\n",
            "+-----------+-------+------+\n",
            "| productId | count | rmse |\n",
            "+-----------+-------+------+\n",
            "|    207    |   22  | 0.0  |\n",
            "+-----------+-------+------+\n",
            "[1 rows x 3 columns]\n",
            "\n",
            "\n",
            "Per Item RMSE (worst)\n",
            "+-----------+-------+------+\n",
            "| productId | count | rmse |\n",
            "+-----------+-------+------+\n",
            "|    118    |   41  | 0.0  |\n",
            "+-----------+-------+------+\n",
            "[1 rows x 3 columns]\n",
            "\n",
            "PROGRESS: Evaluate model Cosine Similarity on Purchase Dummy\n"
          ]
        },
        {
          "data": {
            "text/html": [
              "\u003cpre\u003erecommendations finished on 1000/13843 queries. users per second: 60397.4\u003c/pre\u003e"
            ],
            "text/plain": [
              "recommendations finished on 1000/13843 queries. users per second: 60397.4"
            ]
          },
          "metadata": {},
          "output_type": "display_data"
        },
        {
          "data": {
            "text/html": [
              "\u003cpre\u003erecommendations finished on 2000/13843 queries. users per second: 64572.4\u003c/pre\u003e"
            ],
            "text/plain": [
              "recommendations finished on 2000/13843 queries. users per second: 64572.4"
            ]
          },
          "metadata": {},
          "output_type": "display_data"
        },
        {
          "data": {
            "text/html": [
              "\u003cpre\u003erecommendations finished on 3000/13843 queries. users per second: 66127.4\u003c/pre\u003e"
            ],
            "text/plain": [
              "recommendations finished on 3000/13843 queries. users per second: 66127.4"
            ]
          },
          "metadata": {},
          "output_type": "display_data"
        },
        {
          "data": {
            "text/html": [
              "\u003cpre\u003erecommendations finished on 4000/13843 queries. users per second: 67805.8\u003c/pre\u003e"
            ],
            "text/plain": [
              "recommendations finished on 4000/13843 queries. users per second: 67805.8"
            ]
          },
          "metadata": {},
          "output_type": "display_data"
        },
        {
          "data": {
            "text/html": [
              "\u003cpre\u003erecommendations finished on 5000/13843 queries. users per second: 67664.5\u003c/pre\u003e"
            ],
            "text/plain": [
              "recommendations finished on 5000/13843 queries. users per second: 67664.5"
            ]
          },
          "metadata": {},
          "output_type": "display_data"
        },
        {
          "data": {
            "text/html": [
              "\u003cpre\u003erecommendations finished on 6000/13843 queries. users per second: 64892.2\u003c/pre\u003e"
            ],
            "text/plain": [
              "recommendations finished on 6000/13843 queries. users per second: 64892.2"
            ]
          },
          "metadata": {},
          "output_type": "display_data"
        },
        {
          "data": {
            "text/html": [
              "\u003cpre\u003erecommendations finished on 7000/13843 queries. users per second: 58940.9\u003c/pre\u003e"
            ],
            "text/plain": [
              "recommendations finished on 7000/13843 queries. users per second: 58940.9"
            ]
          },
          "metadata": {},
          "output_type": "display_data"
        },
        {
          "data": {
            "text/html": [
              "\u003cpre\u003erecommendations finished on 8000/13843 queries. users per second: 60279.5\u003c/pre\u003e"
            ],
            "text/plain": [
              "recommendations finished on 8000/13843 queries. users per second: 60279.5"
            ]
          },
          "metadata": {},
          "output_type": "display_data"
        },
        {
          "data": {
            "text/html": [
              "\u003cpre\u003erecommendations finished on 9000/13843 queries. users per second: 61440.6\u003c/pre\u003e"
            ],
            "text/plain": [
              "recommendations finished on 9000/13843 queries. users per second: 61440.6"
            ]
          },
          "metadata": {},
          "output_type": "display_data"
        },
        {
          "data": {
            "text/html": [
              "\u003cpre\u003erecommendations finished on 10000/13843 queries. users per second: 62471.5\u003c/pre\u003e"
            ],
            "text/plain": [
              "recommendations finished on 10000/13843 queries. users per second: 62471.5"
            ]
          },
          "metadata": {},
          "output_type": "display_data"
        },
        {
          "data": {
            "text/html": [
              "\u003cpre\u003erecommendations finished on 11000/13843 queries. users per second: 62755.7\u003c/pre\u003e"
            ],
            "text/plain": [
              "recommendations finished on 11000/13843 queries. users per second: 62755.7"
            ]
          },
          "metadata": {},
          "output_type": "display_data"
        },
        {
          "data": {
            "text/html": [
              "\u003cpre\u003erecommendations finished on 12000/13843 queries. users per second: 58174.5\u003c/pre\u003e"
            ],
            "text/plain": [
              "recommendations finished on 12000/13843 queries. users per second: 58174.5"
            ]
          },
          "metadata": {},
          "output_type": "display_data"
        },
        {
          "data": {
            "text/html": [
              "\u003cpre\u003erecommendations finished on 13000/13843 queries. users per second: 58890.9\u003c/pre\u003e"
            ],
            "text/plain": [
              "recommendations finished on 13000/13843 queries. users per second: 58890.9"
            ]
          },
          "metadata": {},
          "output_type": "display_data"
        },
        {
          "name": "stdout",
          "output_type": "stream",
          "text": [
            "\n",
            "Precision and recall summary statistics by cutoff\n",
            "+--------+-----------------+-----------------+\n",
            "| cutoff |  mean_precision |   mean_recall   |\n",
            "+--------+-----------------+-----------------+\n",
            "|   1    |  0.12193888608  | 0.0705170506731 |\n",
            "|   2    | 0.0975944520696 |  0.110490194167 |\n",
            "|   3    | 0.0815333863084 |  0.135544200676 |\n",
            "|   4    | 0.0714801704833 |  0.156962744167 |\n",
            "|   5    | 0.0636422740735 |  0.173000105636 |\n",
            "|   6    | 0.0580076572997 |  0.188600008755 |\n",
            "|   7    | 0.0531367065355 |  0.200591875336 |\n",
            "|   8    | 0.0492396879289 |  0.211867743292 |\n",
            "|   9    | 0.0461284082609 |  0.222335514522 |\n",
            "|   10   |  0.043502131041 |  0.232223371013 |\n",
            "+--------+-----------------+-----------------+\n",
            "[10 rows x 3 columns]\n",
            "\n",
            "\n",
            "Overall RMSE: 0.97056526985\n",
            "\n",
            "Per User RMSE (best)\n",
            "+------------+-------+----------------+\n",
            "| customerId | count |      rmse      |\n",
            "+------------+-------+----------------+\n",
            "|   20442    |   1   | 0.395595133305 |\n",
            "+------------+-------+----------------+\n",
            "[1 rows x 3 columns]\n",
            "\n",
            "\n",
            "Per User RMSE (worst)\n",
            "+------------+-------+------+\n",
            "| customerId | count | rmse |\n",
            "+------------+-------+------+\n",
            "|    118     |   1   | 1.0  |\n",
            "+------------+-------+------+\n",
            "[1 rows x 3 columns]\n",
            "\n",
            "\n",
            "Per Item RMSE (best)\n",
            "+-----------+-------+--------------+\n",
            "| productId | count |     rmse     |\n",
            "+-----------+-------+--------------+\n",
            "|     48    |  130  | 0.8716114295 |\n",
            "+-----------+-------+--------------+\n",
            "[1 rows x 3 columns]\n",
            "\n",
            "\n",
            "Per Item RMSE (worst)\n",
            "+-----------+-------+----------------+\n",
            "| productId | count |      rmse      |\n",
            "+-----------+-------+----------------+\n",
            "|    125    |   29  | 0.999310888629 |\n",
            "+-----------+-------+----------------+\n",
            "[1 rows x 3 columns]\n",
            "\n",
            "PROGRESS: Evaluate model Pearson Similarity on Purchase Dummy\n"
          ]
        },
        {
          "data": {
            "text/html": [
              "\u003cpre\u003erecommendations finished on 1000/13843 queries. users per second: 69022.6\u003c/pre\u003e"
            ],
            "text/plain": [
              "recommendations finished on 1000/13843 queries. users per second: 69022.6"
            ]
          },
          "metadata": {},
          "output_type": "display_data"
        },
        {
          "data": {
            "text/html": [
              "\u003cpre\u003erecommendations finished on 2000/13843 queries. users per second: 75369.3\u003c/pre\u003e"
            ],
            "text/plain": [
              "recommendations finished on 2000/13843 queries. users per second: 75369.3"
            ]
          },
          "metadata": {},
          "output_type": "display_data"
        },
        {
          "data": {
            "text/html": [
              "\u003cpre\u003erecommendations finished on 3000/13843 queries. users per second: 78984.8\u003c/pre\u003e"
            ],
            "text/plain": [
              "recommendations finished on 3000/13843 queries. users per second: 78984.8"
            ]
          },
          "metadata": {},
          "output_type": "display_data"
        },
        {
          "data": {
            "text/html": [
              "\u003cpre\u003erecommendations finished on 4000/13843 queries. users per second: 81569.4\u003c/pre\u003e"
            ],
            "text/plain": [
              "recommendations finished on 4000/13843 queries. users per second: 81569.4"
            ]
          },
          "metadata": {},
          "output_type": "display_data"
        },
        {
          "data": {
            "text/html": [
              "\u003cpre\u003erecommendations finished on 5000/13843 queries. users per second: 84231.8\u003c/pre\u003e"
            ],
            "text/plain": [
              "recommendations finished on 5000/13843 queries. users per second: 84231.8"
            ]
          },
          "metadata": {},
          "output_type": "display_data"
        },
        {
          "data": {
            "text/html": [
              "\u003cpre\u003erecommendations finished on 6000/13843 queries. users per second: 82707.3\u003c/pre\u003e"
            ],
            "text/plain": [
              "recommendations finished on 6000/13843 queries. users per second: 82707.3"
            ]
          },
          "metadata": {},
          "output_type": "display_data"
        },
        {
          "data": {
            "text/html": [
              "\u003cpre\u003erecommendations finished on 7000/13843 queries. users per second: 82320\u003c/pre\u003e"
            ],
            "text/plain": [
              "recommendations finished on 7000/13843 queries. users per second: 82320"
            ]
          },
          "metadata": {},
          "output_type": "display_data"
        },
        {
          "data": {
            "text/html": [
              "\u003cpre\u003erecommendations finished on 8000/13843 queries. users per second: 82852.6\u003c/pre\u003e"
            ],
            "text/plain": [
              "recommendations finished on 8000/13843 queries. users per second: 82852.6"
            ]
          },
          "metadata": {},
          "output_type": "display_data"
        },
        {
          "data": {
            "text/html": [
              "\u003cpre\u003erecommendations finished on 9000/13843 queries. users per second: 84166.4\u003c/pre\u003e"
            ],
            "text/plain": [
              "recommendations finished on 9000/13843 queries. users per second: 84166.4"
            ]
          },
          "metadata": {},
          "output_type": "display_data"
        },
        {
          "data": {
            "text/html": [
              "\u003cpre\u003erecommendations finished on 10000/13843 queries. users per second: 84822\u003c/pre\u003e"
            ],
            "text/plain": [
              "recommendations finished on 10000/13843 queries. users per second: 84822"
            ]
          },
          "metadata": {},
          "output_type": "display_data"
        },
        {
          "data": {
            "text/html": [
              "\u003cpre\u003erecommendations finished on 11000/13843 queries. users per second: 84419.9\u003c/pre\u003e"
            ],
            "text/plain": [
              "recommendations finished on 11000/13843 queries. users per second: 84419.9"
            ]
          },
          "metadata": {},
          "output_type": "display_data"
        },
        {
          "data": {
            "text/html": [
              "\u003cpre\u003erecommendations finished on 12000/13843 queries. users per second: 85225.5\u003c/pre\u003e"
            ],
            "text/plain": [
              "recommendations finished on 12000/13843 queries. users per second: 85225.5"
            ]
          },
          "metadata": {},
          "output_type": "display_data"
        },
        {
          "data": {
            "text/html": [
              "\u003cpre\u003erecommendations finished on 13000/13843 queries. users per second: 82434.5\u003c/pre\u003e"
            ],
            "text/plain": [
              "recommendations finished on 13000/13843 queries. users per second: 82434.5"
            ]
          },
          "metadata": {},
          "output_type": "display_data"
        },
        {
          "name": "stdout",
          "output_type": "stream",
          "text": [
            "\n",
            "Precision and recall summary statistics by cutoff\n",
            "+--------+------------------+------------------+\n",
            "| cutoff |  mean_precision  |   mean_recall    |\n",
            "+--------+------------------+------------------+\n",
            "|   1    | 0.00339521779961 | 0.00153174660507 |\n",
            "|   2    | 0.00426208191866 | 0.00434205604328 |\n",
            "|   3    | 0.00488815044908 | 0.00757433549458 |\n",
            "|   4    | 0.00511088636856 | 0.0104029383412  |\n",
            "|   5    | 0.00525897565557 | 0.0130102698477  |\n",
            "|   6    | 0.00536974162633 | 0.0154685491453  |\n",
            "|   7    | 0.00531470263465 | 0.0175500836783  |\n",
            "|   8    | 0.00525536372174 | 0.0198968086863  |\n",
            "|   9    | 0.00524934383202 | 0.0226269146707  |\n",
            "|   10   | 0.00525897565557 | 0.0252668943063  |\n",
            "+--------+------------------+------------------+\n",
            "[10 rows x 3 columns]\n",
            "\n",
            "\n",
            "Overall RMSE: 1.0\n",
            "\n",
            "Per User RMSE (best)\n",
            "+------------+-------+------+\n",
            "| customerId | count | rmse |\n",
            "+------------+-------+------+\n",
            "|   16436    |   4   | 1.0  |\n",
            "+------------+-------+------+\n",
            "[1 rows x 3 columns]\n",
            "\n",
            "\n",
            "Per User RMSE (worst)\n",
            "+------------+-------+------+\n",
            "| customerId | count | rmse |\n",
            "+------------+-------+------+\n",
            "|    7899    |   4   | 1.0  |\n",
            "+------------+-------+------+\n",
            "[1 rows x 3 columns]\n",
            "\n",
            "\n",
            "Per Item RMSE (best)\n",
            "+-----------+-------+------+\n",
            "| productId | count | rmse |\n",
            "+-----------+-------+------+\n",
            "|    207    |   22  | 1.0  |\n",
            "+-----------+-------+------+\n",
            "[1 rows x 3 columns]\n",
            "\n",
            "\n",
            "Per Item RMSE (worst)\n",
            "+-----------+-------+------+\n",
            "| productId | count | rmse |\n",
            "+-----------+-------+------+\n",
            "|    118    |   41  | 1.0  |\n",
            "+-----------+-------+------+\n",
            "[1 rows x 3 columns]\n",
            "\n"
          ]
        }
      ],
      "source": [
        "eval_dummy \u003d tc.recommender.util.compare_models(test_data_dummy, models_w_dummy, model_names\u003dnames_w_dummy)"
      ]
    },
    {
      "cell_type": "code",
      "execution_count": 46,
      "metadata": {
        "pycharm": {}
      },
      "outputs": [
        {
          "name": "stdout",
          "output_type": "stream",
          "text": [
            "PROGRESS: Evaluate model Popularity Model on Scaled Purchase Counts\n"
          ]
        },
        {
          "data": {
            "text/html": [
              "\u003cpre\u003erecommendations finished on 1000/13862 queries. users per second: 71123.8\u003c/pre\u003e"
            ],
            "text/plain": [
              "recommendations finished on 1000/13862 queries. users per second: 71123.8"
            ]
          },
          "metadata": {},
          "output_type": "display_data"
        },
        {
          "data": {
            "text/html": [
              "\u003cpre\u003erecommendations finished on 2000/13862 queries. users per second: 77842.2\u003c/pre\u003e"
            ],
            "text/plain": [
              "recommendations finished on 2000/13862 queries. users per second: 77842.2"
            ]
          },
          "metadata": {},
          "output_type": "display_data"
        },
        {
          "data": {
            "text/html": [
              "\u003cpre\u003erecommendations finished on 3000/13862 queries. users per second: 80368.6\u003c/pre\u003e"
            ],
            "text/plain": [
              "recommendations finished on 3000/13862 queries. users per second: 80368.6"
            ]
          },
          "metadata": {},
          "output_type": "display_data"
        },
        {
          "data": {
            "text/html": [
              "\u003cpre\u003erecommendations finished on 4000/13862 queries. users per second: 83896.1\u003c/pre\u003e"
            ],
            "text/plain": [
              "recommendations finished on 4000/13862 queries. users per second: 83896.1"
            ]
          },
          "metadata": {},
          "output_type": "display_data"
        },
        {
          "data": {
            "text/html": [
              "\u003cpre\u003erecommendations finished on 5000/13862 queries. users per second: 85360.6\u003c/pre\u003e"
            ],
            "text/plain": [
              "recommendations finished on 5000/13862 queries. users per second: 85360.6"
            ]
          },
          "metadata": {},
          "output_type": "display_data"
        },
        {
          "data": {
            "text/html": [
              "\u003cpre\u003erecommendations finished on 6000/13862 queries. users per second: 85015.9\u003c/pre\u003e"
            ],
            "text/plain": [
              "recommendations finished on 6000/13862 queries. users per second: 85015.9"
            ]
          },
          "metadata": {},
          "output_type": "display_data"
        },
        {
          "data": {
            "text/html": [
              "\u003cpre\u003erecommendations finished on 7000/13862 queries. users per second: 86632.6\u003c/pre\u003e"
            ],
            "text/plain": [
              "recommendations finished on 7000/13862 queries. users per second: 86632.6"
            ]
          },
          "metadata": {},
          "output_type": "display_data"
        },
        {
          "data": {
            "text/html": [
              "\u003cpre\u003erecommendations finished on 8000/13862 queries. users per second: 87695.3\u003c/pre\u003e"
            ],
            "text/plain": [
              "recommendations finished on 8000/13862 queries. users per second: 87695.3"
            ]
          },
          "metadata": {},
          "output_type": "display_data"
        },
        {
          "data": {
            "text/html": [
              "\u003cpre\u003erecommendations finished on 9000/13862 queries. users per second: 88216.3\u003c/pre\u003e"
            ],
            "text/plain": [
              "recommendations finished on 9000/13862 queries. users per second: 88216.3"
            ]
          },
          "metadata": {},
          "output_type": "display_data"
        },
        {
          "data": {
            "text/html": [
              "\u003cpre\u003erecommendations finished on 10000/13862 queries. users per second: 88298.7\u003c/pre\u003e"
            ],
            "text/plain": [
              "recommendations finished on 10000/13862 queries. users per second: 88298.7"
            ]
          },
          "metadata": {},
          "output_type": "display_data"
        },
        {
          "data": {
            "text/html": [
              "\u003cpre\u003erecommendations finished on 11000/13862 queries. users per second: 86049.8\u003c/pre\u003e"
            ],
            "text/plain": [
              "recommendations finished on 11000/13862 queries. users per second: 86049.8"
            ]
          },
          "metadata": {},
          "output_type": "display_data"
        },
        {
          "data": {
            "text/html": [
              "\u003cpre\u003erecommendations finished on 12000/13862 queries. users per second: 79708.8\u003c/pre\u003e"
            ],
            "text/plain": [
              "recommendations finished on 12000/13862 queries. users per second: 79708.8"
            ]
          },
          "metadata": {},
          "output_type": "display_data"
        },
        {
          "data": {
            "text/html": [
              "\u003cpre\u003erecommendations finished on 13000/13862 queries. users per second: 79100\u003c/pre\u003e"
            ],
            "text/plain": [
              "recommendations finished on 13000/13862 queries. users per second: 79100"
            ]
          },
          "metadata": {},
          "output_type": "display_data"
        },
        {
          "name": "stdout",
          "output_type": "stream",
          "text": [
            "\n",
            "Precision and recall summary statistics by cutoff\n",
            "+--------+------------------+------------------+\n",
            "| cutoff |  mean_precision  |   mean_recall    |\n",
            "+--------+------------------+------------------+\n",
            "|   1    | 0.0026691675083  | 0.00151922693764 |\n",
            "|   2    | 0.00270523733949 | 0.00344134816433 |\n",
            "|   3    | 0.00257298129178 | 0.00459188989884 |\n",
            "|   4    | 0.00256095801472 | 0.00587443003941 |\n",
            "|   5    | 0.00219304573655 | 0.00618772228749 |\n",
            "|   6    | 0.00228442264224 | 0.00781283994385 |\n",
            "|   7    | 0.00229816353031 | 0.00905796479126 |\n",
            "|   8    | 0.00242569614774 | 0.0107977329825  |\n",
            "|   9    | 0.00303788133827 | 0.0147706640408  |\n",
            "|   10   | 0.00297215409032 | 0.0158707938922  |\n",
            "+--------+------------------+------------------+\n",
            "[10 rows x 3 columns]\n",
            "\n",
            "\n",
            "Overall RMSE: 0.129670072947\n",
            "\n",
            "Per User RMSE (best)\n",
            "+------------+-------+-------------------+\n",
            "| customerId | count |        rmse       |\n",
            "+------------+-------+-------------------+\n",
            "|   17090    |   1   | 1.66533453694e-16 |\n",
            "+------------+-------+-------------------+\n",
            "[1 rows x 3 columns]\n",
            "\n",
            "\n",
            "Per User RMSE (worst)\n",
            "+------------+-------+---------------+\n",
            "| customerId | count |      rmse     |\n",
            "+------------+-------+---------------+\n",
            "|    6157    |   1   | 0.96644295302 |\n",
            "+------------+-------+---------------+\n",
            "[1 rows x 3 columns]\n",
            "\n",
            "\n",
            "Per Item RMSE (best)\n",
            "+-----------+-------+-----------------+\n",
            "| productId | count |       rmse      |\n",
            "+-----------+-------+-----------------+\n",
            "|    173    |   43  | 0.0208733114521 |\n",
            "+-----------+-------+-----------------+\n",
            "[1 rows x 3 columns]\n",
            "\n",
            "\n",
            "Per Item RMSE (worst)\n",
            "+-----------+-------+----------------+\n",
            "| productId | count |      rmse      |\n",
            "+-----------+-------+----------------+\n",
            "|    226    |   37  | 0.359407427725 |\n",
            "+-----------+-------+----------------+\n",
            "[1 rows x 3 columns]\n",
            "\n",
            "PROGRESS: Evaluate model Cosine Similarity on Scaled Purchase Counts\n"
          ]
        },
        {
          "data": {
            "text/html": [
              "\u003cpre\u003erecommendations finished on 1000/13862 queries. users per second: 64267.4\u003c/pre\u003e"
            ],
            "text/plain": [
              "recommendations finished on 1000/13862 queries. users per second: 64267.4"
            ]
          },
          "metadata": {},
          "output_type": "display_data"
        },
        {
          "data": {
            "text/html": [
              "\u003cpre\u003erecommendations finished on 2000/13862 queries. users per second: 67808.1\u003c/pre\u003e"
            ],
            "text/plain": [
              "recommendations finished on 2000/13862 queries. users per second: 67808.1"
            ]
          },
          "metadata": {},
          "output_type": "display_data"
        },
        {
          "data": {
            "text/html": [
              "\u003cpre\u003erecommendations finished on 3000/13862 queries. users per second: 67828.8\u003c/pre\u003e"
            ],
            "text/plain": [
              "recommendations finished on 3000/13862 queries. users per second: 67828.8"
            ]
          },
          "metadata": {},
          "output_type": "display_data"
        },
        {
          "data": {
            "text/html": [
              "\u003cpre\u003erecommendations finished on 4000/13862 queries. users per second: 69065.5\u003c/pre\u003e"
            ],
            "text/plain": [
              "recommendations finished on 4000/13862 queries. users per second: 69065.5"
            ]
          },
          "metadata": {},
          "output_type": "display_data"
        },
        {
          "data": {
            "text/html": [
              "\u003cpre\u003erecommendations finished on 5000/13862 queries. users per second: 69865.6\u003c/pre\u003e"
            ],
            "text/plain": [
              "recommendations finished on 5000/13862 queries. users per second: 69865.6"
            ]
          },
          "metadata": {},
          "output_type": "display_data"
        },
        {
          "data": {
            "text/html": [
              "\u003cpre\u003erecommendations finished on 6000/13862 queries. users per second: 69636.3\u003c/pre\u003e"
            ],
            "text/plain": [
              "recommendations finished on 6000/13862 queries. users per second: 69636.3"
            ]
          },
          "metadata": {},
          "output_type": "display_data"
        },
        {
          "data": {
            "text/html": [
              "\u003cpre\u003erecommendations finished on 7000/13862 queries. users per second: 69804.5\u003c/pre\u003e"
            ],
            "text/plain": [
              "recommendations finished on 7000/13862 queries. users per second: 69804.5"
            ]
          },
          "metadata": {},
          "output_type": "display_data"
        },
        {
          "data": {
            "text/html": [
              "\u003cpre\u003erecommendations finished on 8000/13862 queries. users per second: 61472.7\u003c/pre\u003e"
            ],
            "text/plain": [
              "recommendations finished on 8000/13862 queries. users per second: 61472.7"
            ]
          },
          "metadata": {},
          "output_type": "display_data"
        },
        {
          "data": {
            "text/html": [
              "\u003cpre\u003erecommendations finished on 9000/13862 queries. users per second: 62572.1\u003c/pre\u003e"
            ],
            "text/plain": [
              "recommendations finished on 9000/13862 queries. users per second: 62572.1"
            ]
          },
          "metadata": {},
          "output_type": "display_data"
        },
        {
          "data": {
            "text/html": [
              "\u003cpre\u003erecommendations finished on 10000/13862 queries. users per second: 63246.7\u003c/pre\u003e"
            ],
            "text/plain": [
              "recommendations finished on 10000/13862 queries. users per second: 63246.7"
            ]
          },
          "metadata": {},
          "output_type": "display_data"
        },
        {
          "data": {
            "text/html": [
              "\u003cpre\u003erecommendations finished on 11000/13862 queries. users per second: 63327.6\u003c/pre\u003e"
            ],
            "text/plain": [
              "recommendations finished on 11000/13862 queries. users per second: 63327.6"
            ]
          },
          "metadata": {},
          "output_type": "display_data"
        },
        {
          "data": {
            "text/html": [
              "\u003cpre\u003erecommendations finished on 12000/13862 queries. users per second: 63938.3\u003c/pre\u003e"
            ],
            "text/plain": [
              "recommendations finished on 12000/13862 queries. users per second: 63938.3"
            ]
          },
          "metadata": {},
          "output_type": "display_data"
        },
        {
          "data": {
            "text/html": [
              "\u003cpre\u003erecommendations finished on 13000/13862 queries. users per second: 63577.5\u003c/pre\u003e"
            ],
            "text/plain": [
              "recommendations finished on 13000/13862 queries. users per second: 63577.5"
            ]
          },
          "metadata": {},
          "output_type": "display_data"
        },
        {
          "name": "stdout",
          "output_type": "stream",
          "text": [
            "\n",
            "Precision and recall summary statistics by cutoff\n",
            "+--------+-----------------+-----------------+\n",
            "| cutoff |  mean_precision |   mean_recall   |\n",
            "+--------+-----------------+-----------------+\n",
            "|   1    | 0.0670898860193 | 0.0383387003505 |\n",
            "|   2    | 0.0545015149329 | 0.0606446123716 |\n",
            "|   3    |  0.045928918386 | 0.0748408838689 |\n",
            "|   4    | 0.0408130139951 | 0.0873391926491 |\n",
            "|   5    | 0.0365026691675 |  0.09757667982  |\n",
            "|   6    | 0.0335689895638 |  0.107224305676 |\n",
            "|   7    | 0.0311952511491 |  0.115350669485 |\n",
            "|   8    | 0.0292796854711 |  0.122888722896 |\n",
            "|   9    | 0.0275733820677 |  0.129891063573 |\n",
            "|   10   |  0.02617948348  |  0.136702622179 |\n",
            "+--------+-----------------+-----------------+\n",
            "[10 rows x 3 columns]\n",
            "\n",
            "\n",
            "Overall RMSE: 0.157419280009\n",
            "\n",
            "Per User RMSE (best)\n",
            "+------------+-------+------+\n",
            "| customerId | count | rmse |\n",
            "+------------+-------+------+\n",
            "|   15095    |   1   | 0.0  |\n",
            "+------------+-------+------+\n",
            "[1 rows x 3 columns]\n",
            "\n",
            "\n",
            "Per User RMSE (worst)\n",
            "+------------+-------+------+\n",
            "| customerId | count | rmse |\n",
            "+------------+-------+------+\n",
            "|   25251    |   1   | 1.0  |\n",
            "+------------+-------+------+\n",
            "[1 rows x 3 columns]\n",
            "\n",
            "\n",
            "Per Item RMSE (best)\n",
            "+-----------+-------+-----------------+\n",
            "| productId | count |       rmse      |\n",
            "+-----------+-------+-----------------+\n",
            "|    173    |   43  | 0.0199231701387 |\n",
            "+-----------+-------+-----------------+\n",
            "[1 rows x 3 columns]\n",
            "\n",
            "\n",
            "Per Item RMSE (worst)\n",
            "+-----------+-------+----------------+\n",
            "| productId | count |      rmse      |\n",
            "+-----------+-------+----------------+\n",
            "|    226    |   37  | 0.906246775681 |\n",
            "+-----------+-------+----------------+\n",
            "[1 rows x 3 columns]\n",
            "\n",
            "PROGRESS: Evaluate model Pearson Similarity on Scaled Purchase Counts\n"
          ]
        },
        {
          "data": {
            "text/html": [
              "\u003cpre\u003erecommendations finished on 1000/13862 queries. users per second: 38921.1\u003c/pre\u003e"
            ],
            "text/plain": [
              "recommendations finished on 1000/13862 queries. users per second: 38921.1"
            ]
          },
          "metadata": {},
          "output_type": "display_data"
        },
        {
          "data": {
            "text/html": [
              "\u003cpre\u003erecommendations finished on 2000/13862 queries. users per second: 47602\u003c/pre\u003e"
            ],
            "text/plain": [
              "recommendations finished on 2000/13862 queries. users per second: 47602"
            ]
          },
          "metadata": {},
          "output_type": "display_data"
        },
        {
          "data": {
            "text/html": [
              "\u003cpre\u003erecommendations finished on 3000/13862 queries. users per second: 52700\u003c/pre\u003e"
            ],
            "text/plain": [
              "recommendations finished on 3000/13862 queries. users per second: 52700"
            ]
          },
          "metadata": {},
          "output_type": "display_data"
        },
        {
          "data": {
            "text/html": [
              "\u003cpre\u003erecommendations finished on 4000/13862 queries. users per second: 56013\u003c/pre\u003e"
            ],
            "text/plain": [
              "recommendations finished on 4000/13862 queries. users per second: 56013"
            ]
          },
          "metadata": {},
          "output_type": "display_data"
        },
        {
          "data": {
            "text/html": [
              "\u003cpre\u003erecommendations finished on 5000/13862 queries. users per second: 56727.3\u003c/pre\u003e"
            ],
            "text/plain": [
              "recommendations finished on 5000/13862 queries. users per second: 56727.3"
            ]
          },
          "metadata": {},
          "output_type": "display_data"
        },
        {
          "data": {
            "text/html": [
              "\u003cpre\u003erecommendations finished on 6000/13862 queries. users per second: 58014.2\u003c/pre\u003e"
            ],
            "text/plain": [
              "recommendations finished on 6000/13862 queries. users per second: 58014.2"
            ]
          },
          "metadata": {},
          "output_type": "display_data"
        },
        {
          "data": {
            "text/html": [
              "\u003cpre\u003erecommendations finished on 7000/13862 queries. users per second: 59683.7\u003c/pre\u003e"
            ],
            "text/plain": [
              "recommendations finished on 7000/13862 queries. users per second: 59683.7"
            ]
          },
          "metadata": {},
          "output_type": "display_data"
        },
        {
          "data": {
            "text/html": [
              "\u003cpre\u003erecommendations finished on 8000/13862 queries. users per second: 54181.5\u003c/pre\u003e"
            ],
            "text/plain": [
              "recommendations finished on 8000/13862 queries. users per second: 54181.5"
            ]
          },
          "metadata": {},
          "output_type": "display_data"
        },
        {
          "data": {
            "text/html": [
              "\u003cpre\u003erecommendations finished on 9000/13862 queries. users per second: 55811.5\u003c/pre\u003e"
            ],
            "text/plain": [
              "recommendations finished on 9000/13862 queries. users per second: 55811.5"
            ]
          },
          "metadata": {},
          "output_type": "display_data"
        },
        {
          "data": {
            "text/html": [
              "\u003cpre\u003erecommendations finished on 10000/13862 queries. users per second: 57173.2\u003c/pre\u003e"
            ],
            "text/plain": [
              "recommendations finished on 10000/13862 queries. users per second: 57173.2"
            ]
          },
          "metadata": {},
          "output_type": "display_data"
        },
        {
          "data": {
            "text/html": [
              "\u003cpre\u003erecommendations finished on 11000/13862 queries. users per second: 57354.1\u003c/pre\u003e"
            ],
            "text/plain": [
              "recommendations finished on 11000/13862 queries. users per second: 57354.1"
            ]
          },
          "metadata": {},
          "output_type": "display_data"
        },
        {
          "data": {
            "text/html": [
              "\u003cpre\u003erecommendations finished on 12000/13862 queries. users per second: 58365.2\u003c/pre\u003e"
            ],
            "text/plain": [
              "recommendations finished on 12000/13862 queries. users per second: 58365.2"
            ]
          },
          "metadata": {},
          "output_type": "display_data"
        },
        {
          "data": {
            "text/html": [
              "\u003cpre\u003erecommendations finished on 13000/13862 queries. users per second: 58714.3\u003c/pre\u003e"
            ],
            "text/plain": [
              "recommendations finished on 13000/13862 queries. users per second: 58714.3"
            ]
          },
          "metadata": {},
          "output_type": "display_data"
        },
        {
          "name": "stdout",
          "output_type": "stream",
          "text": [
            "\n",
            "Precision and recall summary statistics by cutoff\n",
            "+--------+------------------+------------------+\n",
            "| cutoff |  mean_precision  |   mean_recall    |\n",
            "+--------+------------------+------------------+\n",
            "|   1    | 0.0026691675083  | 0.00151922693764 |\n",
            "|   2    | 0.00274130717068 | 0.00347741799553 |\n",
            "|   3    | 0.00257298129178 | 0.00459188989884 |\n",
            "|   4    | 0.00256095801472 | 0.00587443003941 |\n",
            "|   5    | 0.00219304573655 | 0.00618772228749 |\n",
            "|   6    | 0.00228442264224 | 0.00781283994385 |\n",
            "|   7    | 0.00230846919636 | 0.00913010445365 |\n",
            "|   8    | 0.00244373106334 | 0.0109059424761  |\n",
            "|   9    | 0.00305391237436 | 0.0148572316356  |\n",
            "|   10   | 0.00300100995527 |  0.016047536065  |\n",
            "+--------+------------------+------------------+\n",
            "[10 rows x 3 columns]\n",
            "\n",
            "\n",
            "Overall RMSE: 0.129346195289\n",
            "\n",
            "Per User RMSE (best)\n",
            "+------------+-------+-------------------+\n",
            "| customerId | count |        rmse       |\n",
            "+------------+-------+-------------------+\n",
            "|   10332    |   1   | 2.77555756156e-17 |\n",
            "+------------+-------+-------------------+\n",
            "[1 rows x 3 columns]\n",
            "\n",
            "\n",
            "Per User RMSE (worst)\n",
            "+------------+-------+---------------+\n",
            "| customerId | count |      rmse     |\n",
            "+------------+-------+---------------+\n",
            "|    6157    |   1   | 0.96644295302 |\n",
            "+------------+-------+---------------+\n",
            "[1 rows x 3 columns]\n",
            "\n",
            "\n",
            "Per Item RMSE (best)\n",
            "+-----------+-------+-----------------+\n",
            "| productId | count |       rmse      |\n",
            "+-----------+-------+-----------------+\n",
            "|     47    |  140  | 0.0207874672971 |\n",
            "+-----------+-------+-----------------+\n",
            "[1 rows x 3 columns]\n",
            "\n",
            "\n",
            "Per Item RMSE (worst)\n",
            "+-----------+-------+----------------+\n",
            "| productId | count |      rmse      |\n",
            "+-----------+-------+----------------+\n",
            "|    226    |   37  | 0.359394103623 |\n",
            "+-----------+-------+----------------+\n",
            "[1 rows x 3 columns]\n",
            "\n"
          ]
        }
      ],
      "source": [
        "eval_norm \u003d tc.recommender.util.compare_models(test_data_norm, models_w_norm, model_names\u003dnames_w_norm)"
      ]
    },
    {
      "cell_type": "code",
      "execution_count": 47,
      "metadata": {
        "pycharm": {}
      },
      "outputs": [
        {
          "data": {
            "text/html": [
              "\u003cpre\u003eWarning: Ignoring columns purchase_count;\u003c/pre\u003e"
            ],
            "text/plain": [
              "Warning: Ignoring columns purchase_count;"
            ]
          },
          "metadata": {},
          "output_type": "display_data"
        },
        {
          "data": {
            "text/html": [
              "\u003cpre\u003e    To use these columns in scoring predictions, use a model that allows the use of additional features.\u003c/pre\u003e"
            ],
            "text/plain": [
              "    To use these columns in scoring predictions, use a model that allows the use of additional features."
            ]
          },
          "metadata": {},
          "output_type": "display_data"
        },
        {
          "data": {
            "text/html": [
              "\u003cpre\u003ePreparing data set.\u003c/pre\u003e"
            ],
            "text/plain": [
              "Preparing data set."
            ]
          },
          "metadata": {},
          "output_type": "display_data"
        },
        {
          "data": {
            "text/html": [
              "\u003cpre\u003e    Data has 133585 observations with 24429 users and 300 items.\u003c/pre\u003e"
            ],
            "text/plain": [
              "    Data has 133585 observations with 24429 users and 300 items."
            ]
          },
          "metadata": {},
          "output_type": "display_data"
        },
        {
          "data": {
            "text/html": [
              "\u003cpre\u003e    Data prepared in: 0.099392s\u003c/pre\u003e"
            ],
            "text/plain": [
              "    Data prepared in: 0.099392s"
            ]
          },
          "metadata": {},
          "output_type": "display_data"
        },
        {
          "data": {
            "text/html": [
              "\u003cpre\u003eTraining model from provided data.\u003c/pre\u003e"
            ],
            "text/plain": [
              "Training model from provided data."
            ]
          },
          "metadata": {},
          "output_type": "display_data"
        },
        {
          "data": {
            "text/html": [
              "\u003cpre\u003eGathering per-item and per-user statistics.\u003c/pre\u003e"
            ],
            "text/plain": [
              "Gathering per-item and per-user statistics."
            ]
          },
          "metadata": {},
          "output_type": "display_data"
        },
        {
          "data": {
            "text/html": [
              "\u003cpre\u003e+--------------------------------+------------+\u003c/pre\u003e"
            ],
            "text/plain": [
              "+--------------------------------+------------+"
            ]
          },
          "metadata": {},
          "output_type": "display_data"
        },
        {
          "data": {
            "text/html": [
              "\u003cpre\u003e| Elapsed Time (Item Statistics) | % Complete |\u003c/pre\u003e"
            ],
            "text/plain": [
              "| Elapsed Time (Item Statistics) | % Complete |"
            ]
          },
          "metadata": {},
          "output_type": "display_data"
        },
        {
          "data": {
            "text/html": [
              "\u003cpre\u003e+--------------------------------+------------+\u003c/pre\u003e"
            ],
            "text/plain": [
              "+--------------------------------+------------+"
            ]
          },
          "metadata": {},
          "output_type": "display_data"
        },
        {
          "data": {
            "text/html": [
              "\u003cpre\u003e| 705us                          | 4          |\u003c/pre\u003e"
            ],
            "text/plain": [
              "| 705us                          | 4          |"
            ]
          },
          "metadata": {},
          "output_type": "display_data"
        },
        {
          "data": {
            "text/html": [
              "\u003cpre\u003e| 5.194ms                        | 100        |\u003c/pre\u003e"
            ],
            "text/plain": [
              "| 5.194ms                        | 100        |"
            ]
          },
          "metadata": {},
          "output_type": "display_data"
        },
        {
          "data": {
            "text/html": [
              "\u003cpre\u003e+--------------------------------+------------+\u003c/pre\u003e"
            ],
            "text/plain": [
              "+--------------------------------+------------+"
            ]
          },
          "metadata": {},
          "output_type": "display_data"
        },
        {
          "data": {
            "text/html": [
              "\u003cpre\u003eSetting up lookup tables.\u003c/pre\u003e"
            ],
            "text/plain": [
              "Setting up lookup tables."
            ]
          },
          "metadata": {},
          "output_type": "display_data"
        },
        {
          "data": {
            "text/html": [
              "\u003cpre\u003eProcessing data in one pass using dense lookup tables.\u003c/pre\u003e"
            ],
            "text/plain": [
              "Processing data in one pass using dense lookup tables."
            ]
          },
          "metadata": {},
          "output_type": "display_data"
        },
        {
          "data": {
            "text/html": [
              "\u003cpre\u003e+-------------------------------------+------------------+-----------------+\u003c/pre\u003e"
            ],
            "text/plain": [
              "+-------------------------------------+------------------+-----------------+"
            ]
          },
          "metadata": {},
          "output_type": "display_data"
        },
        {
          "data": {
            "text/html": [
              "\u003cpre\u003e| Elapsed Time (Constructing Lookups) | Total % Complete | Items Processed |\u003c/pre\u003e"
            ],
            "text/plain": [
              "| Elapsed Time (Constructing Lookups) | Total % Complete | Items Processed |"
            ]
          },
          "metadata": {},
          "output_type": "display_data"
        },
        {
          "data": {
            "text/html": [
              "\u003cpre\u003e+-------------------------------------+------------------+-----------------+\u003c/pre\u003e"
            ],
            "text/plain": [
              "+-------------------------------------+------------------+-----------------+"
            ]
          },
          "metadata": {},
          "output_type": "display_data"
        },
        {
          "data": {
            "text/html": [
              "\u003cpre\u003e| 5.779ms                             | 0                | 0               |\u003c/pre\u003e"
            ],
            "text/plain": [
              "| 5.779ms                             | 0                | 0               |"
            ]
          },
          "metadata": {},
          "output_type": "display_data"
        },
        {
          "data": {
            "text/html": [
              "\u003cpre\u003e| 24.856ms                            | 100              | 300             |\u003c/pre\u003e"
            ],
            "text/plain": [
              "| 24.856ms                            | 100              | 300             |"
            ]
          },
          "metadata": {},
          "output_type": "display_data"
        },
        {
          "data": {
            "text/html": [
              "\u003cpre\u003e+-------------------------------------+------------------+-----------------+\u003c/pre\u003e"
            ],
            "text/plain": [
              "+-------------------------------------+------------------+-----------------+"
            ]
          },
          "metadata": {},
          "output_type": "display_data"
        },
        {
          "data": {
            "text/html": [
              "\u003cpre\u003eFinalizing lookup tables.\u003c/pre\u003e"
            ],
            "text/plain": [
              "Finalizing lookup tables."
            ]
          },
          "metadata": {},
          "output_type": "display_data"
        },
        {
          "data": {
            "text/html": [
              "\u003cpre\u003eGenerating candidate set for working with new users.\u003c/pre\u003e"
            ],
            "text/plain": [
              "Generating candidate set for working with new users."
            ]
          },
          "metadata": {},
          "output_type": "display_data"
        },
        {
          "data": {
            "text/html": [
              "\u003cpre\u003eFinished training in 0.040741s\u003c/pre\u003e"
            ],
            "text/plain": [
              "Finished training in 0.040741s"
            ]
          },
          "metadata": {},
          "output_type": "display_data"
        },
        {
          "data": {
            "text/html": [
              "\u003cpre\u003erecommendations finished on 1000/1000 queries. users per second: 67371.8\u003c/pre\u003e"
            ],
            "text/plain": [
              "recommendations finished on 1000/1000 queries. users per second: 67371.8"
            ]
          },
          "metadata": {},
          "output_type": "display_data"
        },
        {
          "name": "stdout",
          "output_type": "stream",
          "text": [
            "+------------+-----------+-----------------+------+\n",
            "| customerId | productId |      score      | rank |\n",
            "+------------+-----------+-----------------+------+\n",
            "|    1553    |     1     |  0.103481757641 |  1   |\n",
            "|    1553    |     2     | 0.0934672474861 |  2   |\n",
            "|    1553    |     35    | 0.0845762014389 |  3   |\n",
            "|    1553    |     33    | 0.0668614387512 |  4   |\n",
            "|    1553    |     61    | 0.0651255607605 |  5   |\n",
            "|    1553    |     15    | 0.0647641539574 |  6   |\n",
            "|    1553    |     11    | 0.0546789884567 |  7   |\n",
            "|    1553    |     5     | 0.0540698170662 |  8   |\n",
            "|    1553    |     36    | 0.0504865050316 |  9   |\n",
            "|    1553    |     13    | 0.0498546719551 |  10  |\n",
            "|   20400    |     26    | 0.0581226944923 |  1   |\n",
            "|   20400    |     6     | 0.0536174178123 |  2   |\n",
            "|   20400    |    113    | 0.0531278848648 |  3   |\n",
            "|   20400    |     1     | 0.0521045923233 |  4   |\n",
            "|   20400    |     15    | 0.0476838946342 |  5   |\n",
            "|   20400    |     27    | 0.0446733832359 |  6   |\n",
            "|   20400    |     13    | 0.0438398122787 |  7   |\n",
            "|   20400    |    246    | 0.0437311530113 |  8   |\n",
            "|   20400    |    160    | 0.0425115227699 |  9   |\n",
            "|   20400    |     4     | 0.0424287319183 |  10  |\n",
            "|   19750    |     48    |  0.13228414456  |  1   |\n",
            "|   19750    |     36    |  0.124051958323 |  2   |\n",
            "|   19750    |     38    |  0.123459448417 |  3   |\n",
            "|   19750    |     79    |  0.104314138492 |  4   |\n",
            "|   19750    |     1     |  0.103862037261 |  5   |\n",
            "|   19750    |     2     | 0.0902213354905 |  6   |\n",
            "|   19750    |     21    | 0.0739881594976 |  7   |\n",
            "|   19750    |     5     |  0.070933530728 |  8   |\n",
            "|   19750    |     17    | 0.0650665064653 |  9   |\n",
            "|   19750    |     44    | 0.0646822353204 |  10  |\n",
            "+------------+-----------+-----------------+------+\n",
            "[10000 rows x 4 columns]\n",
            "\n"
          ]
        }
      ],
      "source": [
        "users_to_recommend \u003d list(customers[user_id])\n",
        "\n",
        "final_model \u003d tc.item_similarity_recommender.create(tc.SFrame(data_dummy), \n",
        "                                            user_id\u003duser_id, \n",
        "                                            item_id\u003ditem_id, \n",
        "                                            target\u003d\u0027purchase_dummy\u0027, \n",
        "                                            similarity_type\u003d\u0027cosine\u0027)\n",
        "\n",
        "recom \u003d final_model.recommend(users\u003dusers_to_recommend, k\u003dn_rec)\n",
        "recom.print_rows(n_display)"
      ]
    },
    {
      "cell_type": "code",
      "execution_count": 48,
      "metadata": {
        "pycharm": {}
      },
      "outputs": [
        {
          "name": "stdout",
          "output_type": "stream",
          "text": [
            "(10000, 4)\n"
          ]
        },
        {
          "data": {
            "text/html": [
              "\u003cdiv\u003e\n",
              "\u003cstyle scoped\u003e\n",
              "    .dataframe tbody tr th:only-of-type {\n",
              "        vertical-align: middle;\n",
              "    }\n",
              "\n",
              "    .dataframe tbody tr th {\n",
              "        vertical-align: top;\n",
              "    }\n",
              "\n",
              "    .dataframe thead th {\n",
              "        text-align: right;\n",
              "    }\n",
              "\u003c/style\u003e\n",
              "\u003ctable border\u003d\"1\" class\u003d\"dataframe\"\u003e\n",
              "  \u003cthead\u003e\n",
              "    \u003ctr style\u003d\"text-align: right;\"\u003e\n",
              "      \u003cth\u003e\u003c/th\u003e\n",
              "      \u003cth\u003ecustomerId\u003c/th\u003e\n",
              "      \u003cth\u003eproductId\u003c/th\u003e\n",
              "      \u003cth\u003escore\u003c/th\u003e\n",
              "      \u003cth\u003erank\u003c/th\u003e\n",
              "    \u003c/tr\u003e\n",
              "  \u003c/thead\u003e\n",
              "  \u003ctbody\u003e\n",
              "    \u003ctr\u003e\n",
              "      \u003cth\u003e0\u003c/th\u003e\n",
              "      \u003ctd\u003e1553\u003c/td\u003e\n",
              "      \u003ctd\u003e1\u003c/td\u003e\n",
              "      \u003ctd\u003e0.103482\u003c/td\u003e\n",
              "      \u003ctd\u003e1\u003c/td\u003e\n",
              "    \u003c/tr\u003e\n",
              "    \u003ctr\u003e\n",
              "      \u003cth\u003e1\u003c/th\u003e\n",
              "      \u003ctd\u003e1553\u003c/td\u003e\n",
              "      \u003ctd\u003e2\u003c/td\u003e\n",
              "      \u003ctd\u003e0.093467\u003c/td\u003e\n",
              "      \u003ctd\u003e2\u003c/td\u003e\n",
              "    \u003c/tr\u003e\n",
              "    \u003ctr\u003e\n",
              "      \u003cth\u003e2\u003c/th\u003e\n",
              "      \u003ctd\u003e1553\u003c/td\u003e\n",
              "      \u003ctd\u003e35\u003c/td\u003e\n",
              "      \u003ctd\u003e0.084576\u003c/td\u003e\n",
              "      \u003ctd\u003e3\u003c/td\u003e\n",
              "    \u003c/tr\u003e\n",
              "    \u003ctr\u003e\n",
              "      \u003cth\u003e3\u003c/th\u003e\n",
              "      \u003ctd\u003e1553\u003c/td\u003e\n",
              "      \u003ctd\u003e33\u003c/td\u003e\n",
              "      \u003ctd\u003e0.066861\u003c/td\u003e\n",
              "      \u003ctd\u003e4\u003c/td\u003e\n",
              "    \u003c/tr\u003e\n",
              "    \u003ctr\u003e\n",
              "      \u003cth\u003e4\u003c/th\u003e\n",
              "      \u003ctd\u003e1553\u003c/td\u003e\n",
              "      \u003ctd\u003e61\u003c/td\u003e\n",
              "      \u003ctd\u003e0.065126\u003c/td\u003e\n",
              "      \u003ctd\u003e5\u003c/td\u003e\n",
              "    \u003c/tr\u003e\n",
              "  \u003c/tbody\u003e\n",
              "\u003c/table\u003e\n",
              "\u003c/div\u003e"
            ],
            "text/plain": [
              "   customerId  productId     score  rank\n",
              "0        1553          1  0.103482     1\n",
              "1        1553          2  0.093467     2\n",
              "2        1553         35  0.084576     3\n",
              "3        1553         33  0.066861     4\n",
              "4        1553         61  0.065126     5"
            ]
          },
          "execution_count": 48,
          "metadata": {},
          "output_type": "execute_result"
        }
      ],
      "source": [
        "df_rec \u003d recom.to_dataframe()\n",
        "print(df_rec.shape)\n",
        "df_rec.head()"
      ]
    },
    {
      "cell_type": "code",
      "execution_count": 49,
      "metadata": {
        "pycharm": {}
      },
      "outputs": [],
      "source": [
        "df_rec[\u0027recommendedProducts\u0027] \u003d df_rec.groupby([user_id])[item_id].transform(lambda x: \u0027|\u0027.join(x.astype(str)))\n",
        "df_output \u003d df_rec[[\u0027customerId\u0027, \u0027recommendedProducts\u0027]].drop_duplicates().sort_values(\u0027customerId\u0027).set_index(\u0027customerId\u0027)"
      ]
    },
    {
      "cell_type": "code",
      "execution_count": 52,
      "metadata": {
        "pycharm": {}
      },
      "outputs": [],
      "source": [
        "def create_output(model, users_to_recommend, n_rec, print_csv\u003dTrue):\n",
        "    recomendation \u003d model.recommend(users\u003dusers_to_recommend, k\u003dn_rec)\n",
        "    df_rec \u003d recomendation.to_dataframe()\n",
        "    df_rec[\u0027recommendedProducts\u0027] \u003d df_rec.groupby([user_id])[item_id] \\\n",
        "        .transform(lambda x: \u0027|\u0027.join(x.astype(str)))\n",
        "    df_output \u003d df_rec[[\u0027customerId\u0027, \u0027recommendedProducts\u0027]].drop_duplicates() \\\n",
        "        .sort_values(\u0027customerId\u0027).set_index(\u0027customerId\u0027)\n",
        "    if print_csv:\n",
        "        df_output.to_csv(\u0027output/option1_recommendation.csv\u0027)\n",
        "        print(\"An output file can be found in \u0027output\u0027 folder with name \u0027option1_recommendation.csv\u0027\")\n",
        "    return df_output"
      ]
    },
    {
      "cell_type": "code",
      "execution_count": 53,
      "metadata": {
        "pycharm": {}
      },
      "outputs": [
        {
          "data": {
            "text/html": [
              "\u003cpre\u003erecommendations finished on 1000/1000 queries. users per second: 95374.3\u003c/pre\u003e"
            ],
            "text/plain": [
              "recommendations finished on 1000/1000 queries. users per second: 95374.3"
            ]
          },
          "metadata": {},
          "output_type": "display_data"
        },
        {
          "name": "stdout",
          "output_type": "stream",
          "text": [
            "An output file can be found in \u0027output\u0027 folder with name \u0027option1_recommendation.csv\u0027\n",
            "(1000, 1)\n"
          ]
        },
        {
          "data": {
            "text/html": [
              "\u003cdiv\u003e\n",
              "\u003cstyle scoped\u003e\n",
              "    .dataframe tbody tr th:only-of-type {\n",
              "        vertical-align: middle;\n",
              "    }\n",
              "\n",
              "    .dataframe tbody tr th {\n",
              "        vertical-align: top;\n",
              "    }\n",
              "\n",
              "    .dataframe thead th {\n",
              "        text-align: right;\n",
              "    }\n",
              "\u003c/style\u003e\n",
              "\u003ctable border\u003d\"1\" class\u003d\"dataframe\"\u003e\n",
              "  \u003cthead\u003e\n",
              "    \u003ctr style\u003d\"text-align: right;\"\u003e\n",
              "      \u003cth\u003e\u003c/th\u003e\n",
              "      \u003cth\u003erecommendedProducts\u003c/th\u003e\n",
              "    \u003c/tr\u003e\n",
              "    \u003ctr\u003e\n",
              "      \u003cth\u003ecustomerId\u003c/th\u003e\n",
              "      \u003cth\u003e\u003c/th\u003e\n",
              "    \u003c/tr\u003e\n",
              "  \u003c/thead\u003e\n",
              "  \u003ctbody\u003e\n",
              "    \u003ctr\u003e\n",
              "      \u003cth\u003e4\u003c/th\u003e\n",
              "      \u003ctd\u003e226|230|247|125|248|294|204|213|72|276\u003c/td\u003e\n",
              "    \u003c/tr\u003e\n",
              "    \u003ctr\u003e\n",
              "      \u003cth\u003e11\u003c/th\u003e\n",
              "      \u003ctd\u003e226|230|247|125|248|294|204|213|276|83\u003c/td\u003e\n",
              "    \u003c/tr\u003e\n",
              "    \u003ctr\u003e\n",
              "      \u003cth\u003e12\u003c/th\u003e\n",
              "      \u003ctd\u003e226|230|247|125|248|294|204|213|72|276\u003c/td\u003e\n",
              "    \u003c/tr\u003e\n",
              "    \u003ctr\u003e\n",
              "      \u003cth\u003e16\u003c/th\u003e\n",
              "      \u003ctd\u003e226|230|247|125|248|294|204|213|72|276\u003c/td\u003e\n",
              "    \u003c/tr\u003e\n",
              "    \u003ctr\u003e\n",
              "      \u003cth\u003e21\u003c/th\u003e\n",
              "      \u003ctd\u003e226|230|247|125|248|294|204|213|72|276\u003c/td\u003e\n",
              "    \u003c/tr\u003e\n",
              "  \u003c/tbody\u003e\n",
              "\u003c/table\u003e\n",
              "\u003c/div\u003e"
            ],
            "text/plain": [
              "                               recommendedProducts\n",
              "customerId                                        \n",
              "4           226|230|247|125|248|294|204|213|72|276\n",
              "11          226|230|247|125|248|294|204|213|276|83\n",
              "12          226|230|247|125|248|294|204|213|72|276\n",
              "16          226|230|247|125|248|294|204|213|72|276\n",
              "21          226|230|247|125|248|294|204|213|72|276"
            ]
          },
          "execution_count": 53,
          "metadata": {},
          "output_type": "execute_result"
        }
      ],
      "source": [
        "df_output \u003d create_output(pear_norm, users_to_recommend, n_rec, print_csv\u003dTrue)\n",
        "print(df_output.shape)\n",
        "df_output.head()"
      ]
    },
    {
      "cell_type": "code",
      "execution_count": 54,
      "metadata": {
        "pycharm": {}
      },
      "outputs": [],
      "source": [
        "def customer_recomendation(customer_id):\n",
        "    if customer_id not in df_output.index:\n",
        "        print(\u0027Customer not found.\u0027)\n",
        "        return customer_id\n",
        "    return df_output.loc[customer_id]"
      ]
    },
    {
      "cell_type": "code",
      "execution_count": 55,
      "metadata": {
        "pycharm": {}
      },
      "outputs": [
        {
          "data": {
            "text/plain": [
              "recommendedProducts    226|230|247|125|248|294|204|213|72|276\n",
              "Name: 4, dtype: object"
            ]
          },
          "execution_count": 55,
          "metadata": {},
          "output_type": "execute_result"
        }
      ],
      "source": [
        "customer_recomendation(4)"
      ]
    },
    {
      "cell_type": "code",
      "execution_count": 56,
      "metadata": {
        "pycharm": {}
      },
      "outputs": [
        {
          "data": {
            "text/plain": [
              "recommendedProducts    226|230|247|125|248|294|204|213|72|276\n",
              "Name: 21, dtype: object"
            ]
          },
          "execution_count": 56,
          "metadata": {},
          "output_type": "execute_result"
        }
      ],
      "source": [
        "customer_recomendation(21)"
      ]
    }
  ],
  "metadata": {
    "kernelspec": {
      "display_name": "Python 3",
      "language": "python",
      "name": "python3"
    },
    "language_info": {
      "codemirror_mode": {
        "name": "ipython",
        "version": 3
      },
      "file_extension": ".py",
      "mimetype": "text/x-python",
      "name": "python",
      "nbconvert_exporter": "python",
      "pygments_lexer": "ipython3",
      "version": "3.7.1"
    }
  },
  "nbformat": 4,
  "nbformat_minor": 2
}