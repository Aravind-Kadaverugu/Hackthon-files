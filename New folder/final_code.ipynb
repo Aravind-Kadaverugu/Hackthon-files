{
 "cells": [
  {
   "cell_type": "code",
   "execution_count": 1,
   "metadata": {},
   "outputs": [
    {
     "name": "stderr",
     "output_type": "stream",
     "text": [
      "/usr/local/lib/python2.7/dist-packages/sklearn/cross_validation.py:41: DeprecationWarning: This module was deprecated in version 0.18 in favor of the model_selection module into which all the refactored classes and functions are moved. Also note that the interface of the new CV iterators are different from that of this module. This module will be removed in 0.20.\n",
      "  \"This module will be removed in 0.20.\", DeprecationWarning)\n"
     ]
    }
   ],
   "source": [
    "import pandas as pd\n",
    "import numpy as np\n",
    "import time\n",
    "import turicreate as tc\n",
    "from sklearn.cross_validation import train_test_split"
   ]
  },
  {
   "cell_type": "code",
   "execution_count": 131,
   "metadata": {},
   "outputs": [],
   "source": [
    "customers = pd.read_csv('recommend_1.csv')\n",
    "transactions = pd.read_csv('trx_data.csv')"
   ]
  },
  {
   "cell_type": "code",
   "execution_count": 4,
   "metadata": {},
   "outputs": [
    {
     "name": "stdout",
     "output_type": "stream",
     "text": [
      "(1000, 1)\n"
     ]
    },
    {
     "data": {
      "text/html": [
       "<div>\n",
       "<style scoped>\n",
       "    .dataframe tbody tr th:only-of-type {\n",
       "        vertical-align: middle;\n",
       "    }\n",
       "\n",
       "    .dataframe tbody tr th {\n",
       "        vertical-align: top;\n",
       "    }\n",
       "\n",
       "    .dataframe thead th {\n",
       "        text-align: right;\n",
       "    }\n",
       "</style>\n",
       "<table border=\"1\" class=\"dataframe\">\n",
       "  <thead>\n",
       "    <tr style=\"text-align: right;\">\n",
       "      <th></th>\n",
       "      <th>customerId</th>\n",
       "    </tr>\n",
       "  </thead>\n",
       "  <tbody>\n",
       "    <tr>\n",
       "      <th>0</th>\n",
       "      <td>1553</td>\n",
       "    </tr>\n",
       "    <tr>\n",
       "      <th>1</th>\n",
       "      <td>20400</td>\n",
       "    </tr>\n",
       "    <tr>\n",
       "      <th>2</th>\n",
       "      <td>19750</td>\n",
       "    </tr>\n",
       "    <tr>\n",
       "      <th>3</th>\n",
       "      <td>6334</td>\n",
       "    </tr>\n",
       "    <tr>\n",
       "      <th>4</th>\n",
       "      <td>27773</td>\n",
       "    </tr>\n",
       "  </tbody>\n",
       "</table>\n",
       "</div>"
      ],
      "text/plain": [
       "   customerId\n",
       "0        1553\n",
       "1       20400\n",
       "2       19750\n",
       "3        6334\n",
       "4       27773"
      ]
     },
     "execution_count": 4,
     "metadata": {},
     "output_type": "execute_result"
    }
   ],
   "source": [
    "print(customers.shape)\n",
    "customers.head()"
   ]
  },
  {
   "cell_type": "code",
   "execution_count": 5,
   "metadata": {},
   "outputs": [
    {
     "name": "stdout",
     "output_type": "stream",
     "text": [
      "(62483, 2)\n"
     ]
    },
    {
     "data": {
      "text/html": [
       "<div>\n",
       "<style scoped>\n",
       "    .dataframe tbody tr th:only-of-type {\n",
       "        vertical-align: middle;\n",
       "    }\n",
       "\n",
       "    .dataframe tbody tr th {\n",
       "        vertical-align: top;\n",
       "    }\n",
       "\n",
       "    .dataframe thead th {\n",
       "        text-align: right;\n",
       "    }\n",
       "</style>\n",
       "<table border=\"1\" class=\"dataframe\">\n",
       "  <thead>\n",
       "    <tr style=\"text-align: right;\">\n",
       "      <th></th>\n",
       "      <th>customerId</th>\n",
       "      <th>products</th>\n",
       "    </tr>\n",
       "  </thead>\n",
       "  <tbody>\n",
       "    <tr>\n",
       "      <th>0</th>\n",
       "      <td>0</td>\n",
       "      <td>20</td>\n",
       "    </tr>\n",
       "    <tr>\n",
       "      <th>1</th>\n",
       "      <td>1</td>\n",
       "      <td>2|2|23|68|68|111|29|86|107|152</td>\n",
       "    </tr>\n",
       "    <tr>\n",
       "      <th>2</th>\n",
       "      <td>2</td>\n",
       "      <td>111|107|29|11|11|11|33|23</td>\n",
       "    </tr>\n",
       "    <tr>\n",
       "      <th>3</th>\n",
       "      <td>3</td>\n",
       "      <td>164|227</td>\n",
       "    </tr>\n",
       "    <tr>\n",
       "      <th>4</th>\n",
       "      <td>5</td>\n",
       "      <td>2|2</td>\n",
       "    </tr>\n",
       "  </tbody>\n",
       "</table>\n",
       "</div>"
      ],
      "text/plain": [
       "   customerId                        products\n",
       "0           0                              20\n",
       "1           1  2|2|23|68|68|111|29|86|107|152\n",
       "2           2       111|107|29|11|11|11|33|23\n",
       "3           3                         164|227\n",
       "4           5                             2|2"
      ]
     },
     "execution_count": 5,
     "metadata": {},
     "output_type": "execute_result"
    }
   ],
   "source": [
    "print(transactions.shape)\n",
    "transactions.head()"
   ]
  },
  {
   "cell_type": "code",
   "execution_count": 6,
   "metadata": {},
   "outputs": [
    {
     "data": {
      "text/html": [
       "<div>\n",
       "<style scoped>\n",
       "    .dataframe tbody tr th:only-of-type {\n",
       "        vertical-align: middle;\n",
       "    }\n",
       "\n",
       "    .dataframe tbody tr th {\n",
       "        vertical-align: top;\n",
       "    }\n",
       "\n",
       "    .dataframe thead th {\n",
       "        text-align: right;\n",
       "    }\n",
       "</style>\n",
       "<table border=\"1\" class=\"dataframe\">\n",
       "  <thead>\n",
       "    <tr style=\"text-align: right;\">\n",
       "      <th></th>\n",
       "      <th>customerId</th>\n",
       "      <th>0</th>\n",
       "      <th>1</th>\n",
       "      <th>2</th>\n",
       "      <th>3</th>\n",
       "      <th>4</th>\n",
       "      <th>5</th>\n",
       "      <th>6</th>\n",
       "      <th>7</th>\n",
       "      <th>8</th>\n",
       "      <th>9</th>\n",
       "    </tr>\n",
       "  </thead>\n",
       "  <tbody>\n",
       "    <tr>\n",
       "      <th>0</th>\n",
       "      <td>0</td>\n",
       "      <td>20.0</td>\n",
       "      <td>NaN</td>\n",
       "      <td>NaN</td>\n",
       "      <td>NaN</td>\n",
       "      <td>NaN</td>\n",
       "      <td>NaN</td>\n",
       "      <td>NaN</td>\n",
       "      <td>NaN</td>\n",
       "      <td>NaN</td>\n",
       "      <td>NaN</td>\n",
       "    </tr>\n",
       "    <tr>\n",
       "      <th>1</th>\n",
       "      <td>1</td>\n",
       "      <td>2.0</td>\n",
       "      <td>2.0</td>\n",
       "      <td>23.0</td>\n",
       "      <td>68.0</td>\n",
       "      <td>68.0</td>\n",
       "      <td>111.0</td>\n",
       "      <td>29.0</td>\n",
       "      <td>86.0</td>\n",
       "      <td>107.0</td>\n",
       "      <td>152.0</td>\n",
       "    </tr>\n",
       "  </tbody>\n",
       "</table>\n",
       "</div>"
      ],
      "text/plain": [
       "   customerId     0    1     2     3     4      5     6     7      8      9\n",
       "0           0  20.0  NaN   NaN   NaN   NaN    NaN   NaN   NaN    NaN    NaN\n",
       "1           1   2.0  2.0  23.0  68.0  68.0  111.0  29.0  86.0  107.0  152.0"
      ]
     },
     "execution_count": 6,
     "metadata": {},
     "output_type": "execute_result"
    }
   ],
   "source": [
    "transactions['products'] = transactions['products'].apply(lambda x: [int(i) for i in x.split('|')])\n",
    "transactions.head(2).set_index('customerId')['products'].apply(pd.Series).reset_index()"
   ]
  },
  {
   "cell_type": "code",
   "execution_count": 7,
   "metadata": {},
   "outputs": [
    {
     "data": {
      "text/html": [
       "<div>\n",
       "<style scoped>\n",
       "    .dataframe tbody tr th:only-of-type {\n",
       "        vertical-align: middle;\n",
       "    }\n",
       "\n",
       "    .dataframe tbody tr th {\n",
       "        vertical-align: top;\n",
       "    }\n",
       "\n",
       "    .dataframe thead th {\n",
       "        text-align: right;\n",
       "    }\n",
       "</style>\n",
       "<table border=\"1\" class=\"dataframe\">\n",
       "  <thead>\n",
       "    <tr style=\"text-align: right;\">\n",
       "      <th></th>\n",
       "      <th>customerId</th>\n",
       "      <th>productId</th>\n",
       "      <th>purchase_count</th>\n",
       "    </tr>\n",
       "  </thead>\n",
       "  <tbody>\n",
       "    <tr>\n",
       "      <th>0</th>\n",
       "      <td>0</td>\n",
       "      <td>20.0</td>\n",
       "      <td>1</td>\n",
       "    </tr>\n",
       "    <tr>\n",
       "      <th>1</th>\n",
       "      <td>1</td>\n",
       "      <td>2.0</td>\n",
       "      <td>2</td>\n",
       "    </tr>\n",
       "    <tr>\n",
       "      <th>2</th>\n",
       "      <td>1</td>\n",
       "      <td>23.0</td>\n",
       "      <td>1</td>\n",
       "    </tr>\n",
       "    <tr>\n",
       "      <th>3</th>\n",
       "      <td>1</td>\n",
       "      <td>29.0</td>\n",
       "      <td>1</td>\n",
       "    </tr>\n",
       "    <tr>\n",
       "      <th>4</th>\n",
       "      <td>1</td>\n",
       "      <td>68.0</td>\n",
       "      <td>2</td>\n",
       "    </tr>\n",
       "    <tr>\n",
       "      <th>5</th>\n",
       "      <td>1</td>\n",
       "      <td>86.0</td>\n",
       "      <td>1</td>\n",
       "    </tr>\n",
       "    <tr>\n",
       "      <th>6</th>\n",
       "      <td>1</td>\n",
       "      <td>107.0</td>\n",
       "      <td>1</td>\n",
       "    </tr>\n",
       "    <tr>\n",
       "      <th>7</th>\n",
       "      <td>1</td>\n",
       "      <td>111.0</td>\n",
       "      <td>1</td>\n",
       "    </tr>\n",
       "    <tr>\n",
       "      <th>8</th>\n",
       "      <td>1</td>\n",
       "      <td>152.0</td>\n",
       "      <td>1</td>\n",
       "    </tr>\n",
       "  </tbody>\n",
       "</table>\n",
       "</div>"
      ],
      "text/plain": [
       "   customerId  productId  purchase_count\n",
       "0           0       20.0               1\n",
       "1           1        2.0               2\n",
       "2           1       23.0               1\n",
       "3           1       29.0               1\n",
       "4           1       68.0               2\n",
       "5           1       86.0               1\n",
       "6           1      107.0               1\n",
       "7           1      111.0               1\n",
       "8           1      152.0               1"
      ]
     },
     "execution_count": 7,
     "metadata": {},
     "output_type": "execute_result"
    }
   ],
   "source": [
    "pd.melt(transactions.head(2).set_index('customerId')['products'].apply(pd.Series).reset_index(), \n",
    "             id_vars=['customerId'],\n",
    "             value_name='products') \\\n",
    "    .dropna().drop(['variable'], axis=1) \\\n",
    "    .groupby(['customerId', 'products']) \\\n",
    "    .agg({'products': 'count'}) \\\n",
    "    .rename(columns={'products': 'purchase_count'}) \\\n",
    "    .reset_index() \\\n",
    "    .rename(columns={'products': 'productId'})"
   ]
  },
  {
   "cell_type": "code",
   "execution_count": 8,
   "metadata": {},
   "outputs": [
    {
     "name": "stdout",
     "output_type": "stream",
     "text": [
      "('Execution time:', 0.27, 'minutes')\n"
     ]
    }
   ],
   "source": [
    "s=time.time()\n",
    "\n",
    "data = pd.melt(transactions.set_index('customerId')['products'].apply(pd.Series).reset_index(), \n",
    "             id_vars=['customerId'],\n",
    "             value_name='products') \\\n",
    "    .dropna().drop(['variable'], axis=1) \\\n",
    "    .groupby(['customerId', 'products']) \\\n",
    "    .agg({'products': 'count'}) \\\n",
    "    .rename(columns={'products': 'purchase_count'}) \\\n",
    "    .reset_index() \\\n",
    "    .rename(columns={'products': 'productId'})\n",
    "data['productId'] = data['productId'].astype(np.int64)\n",
    "\n",
    "print(\"Execution time:\", round((time.time()-s)/60,2), \"minutes\")"
   ]
  },
  {
   "cell_type": "code",
   "execution_count": 9,
   "metadata": {},
   "outputs": [
    {
     "name": "stdout",
     "output_type": "stream",
     "text": [
      "(133585, 3)\n"
     ]
    },
    {
     "data": {
      "text/html": [
       "<div>\n",
       "<style scoped>\n",
       "    .dataframe tbody tr th:only-of-type {\n",
       "        vertical-align: middle;\n",
       "    }\n",
       "\n",
       "    .dataframe tbody tr th {\n",
       "        vertical-align: top;\n",
       "    }\n",
       "\n",
       "    .dataframe thead th {\n",
       "        text-align: right;\n",
       "    }\n",
       "</style>\n",
       "<table border=\"1\" class=\"dataframe\">\n",
       "  <thead>\n",
       "    <tr style=\"text-align: right;\">\n",
       "      <th></th>\n",
       "      <th>customerId</th>\n",
       "      <th>productId</th>\n",
       "      <th>purchase_count</th>\n",
       "    </tr>\n",
       "  </thead>\n",
       "  <tbody>\n",
       "    <tr>\n",
       "      <th>0</th>\n",
       "      <td>0</td>\n",
       "      <td>1</td>\n",
       "      <td>2</td>\n",
       "    </tr>\n",
       "    <tr>\n",
       "      <th>1</th>\n",
       "      <td>0</td>\n",
       "      <td>13</td>\n",
       "      <td>1</td>\n",
       "    </tr>\n",
       "    <tr>\n",
       "      <th>2</th>\n",
       "      <td>0</td>\n",
       "      <td>19</td>\n",
       "      <td>3</td>\n",
       "    </tr>\n",
       "    <tr>\n",
       "      <th>3</th>\n",
       "      <td>0</td>\n",
       "      <td>20</td>\n",
       "      <td>1</td>\n",
       "    </tr>\n",
       "    <tr>\n",
       "      <th>4</th>\n",
       "      <td>0</td>\n",
       "      <td>31</td>\n",
       "      <td>2</td>\n",
       "    </tr>\n",
       "  </tbody>\n",
       "</table>\n",
       "</div>"
      ],
      "text/plain": [
       "   customerId  productId  purchase_count\n",
       "0           0          1               2\n",
       "1           0         13               1\n",
       "2           0         19               3\n",
       "3           0         20               1\n",
       "4           0         31               2"
      ]
     },
     "execution_count": 9,
     "metadata": {},
     "output_type": "execute_result"
    }
   ],
   "source": [
    "print(data.shape)\n",
    "data.head()"
   ]
  },
  {
   "cell_type": "code",
   "execution_count": 10,
   "metadata": {},
   "outputs": [],
   "source": [
    "def create_data_dummy(data):\n",
    "    data_dummy = data.copy()\n",
    "    data_dummy['purchase_dummy'] = 1\n",
    "    return data_dummy"
   ]
  },
  {
   "cell_type": "code",
   "execution_count": 11,
   "metadata": {},
   "outputs": [],
   "source": [
    "data_dummy = create_data_dummy(data)"
   ]
  },
  {
   "cell_type": "code",
   "execution_count": 12,
   "metadata": {},
   "outputs": [
    {
     "data": {
      "text/html": [
       "<div>\n",
       "<style scoped>\n",
       "    .dataframe tbody tr th:only-of-type {\n",
       "        vertical-align: middle;\n",
       "    }\n",
       "\n",
       "    .dataframe tbody tr th {\n",
       "        vertical-align: top;\n",
       "    }\n",
       "\n",
       "    .dataframe thead th {\n",
       "        text-align: right;\n",
       "    }\n",
       "</style>\n",
       "<table border=\"1\" class=\"dataframe\">\n",
       "  <thead>\n",
       "    <tr style=\"text-align: right;\">\n",
       "      <th>productId</th>\n",
       "      <th>0</th>\n",
       "      <th>1</th>\n",
       "      <th>2</th>\n",
       "      <th>3</th>\n",
       "      <th>4</th>\n",
       "      <th>5</th>\n",
       "      <th>6</th>\n",
       "      <th>7</th>\n",
       "      <th>8</th>\n",
       "      <th>9</th>\n",
       "      <th>...</th>\n",
       "      <th>290</th>\n",
       "      <th>291</th>\n",
       "      <th>292</th>\n",
       "      <th>293</th>\n",
       "      <th>294</th>\n",
       "      <th>295</th>\n",
       "      <th>296</th>\n",
       "      <th>297</th>\n",
       "      <th>298</th>\n",
       "      <th>299</th>\n",
       "    </tr>\n",
       "    <tr>\n",
       "      <th>customerId</th>\n",
       "      <th></th>\n",
       "      <th></th>\n",
       "      <th></th>\n",
       "      <th></th>\n",
       "      <th></th>\n",
       "      <th></th>\n",
       "      <th></th>\n",
       "      <th></th>\n",
       "      <th></th>\n",
       "      <th></th>\n",
       "      <th></th>\n",
       "      <th></th>\n",
       "      <th></th>\n",
       "      <th></th>\n",
       "      <th></th>\n",
       "      <th></th>\n",
       "      <th></th>\n",
       "      <th></th>\n",
       "      <th></th>\n",
       "      <th></th>\n",
       "      <th></th>\n",
       "    </tr>\n",
       "  </thead>\n",
       "  <tbody>\n",
       "    <tr>\n",
       "      <th>0</th>\n",
       "      <td>NaN</td>\n",
       "      <td>2.0</td>\n",
       "      <td>NaN</td>\n",
       "      <td>NaN</td>\n",
       "      <td>NaN</td>\n",
       "      <td>NaN</td>\n",
       "      <td>NaN</td>\n",
       "      <td>NaN</td>\n",
       "      <td>NaN</td>\n",
       "      <td>NaN</td>\n",
       "      <td>...</td>\n",
       "      <td>NaN</td>\n",
       "      <td>NaN</td>\n",
       "      <td>NaN</td>\n",
       "      <td>NaN</td>\n",
       "      <td>NaN</td>\n",
       "      <td>NaN</td>\n",
       "      <td>NaN</td>\n",
       "      <td>NaN</td>\n",
       "      <td>NaN</td>\n",
       "      <td>NaN</td>\n",
       "    </tr>\n",
       "    <tr>\n",
       "      <th>1</th>\n",
       "      <td>NaN</td>\n",
       "      <td>NaN</td>\n",
       "      <td>6.0</td>\n",
       "      <td>NaN</td>\n",
       "      <td>NaN</td>\n",
       "      <td>NaN</td>\n",
       "      <td>NaN</td>\n",
       "      <td>NaN</td>\n",
       "      <td>NaN</td>\n",
       "      <td>NaN</td>\n",
       "      <td>...</td>\n",
       "      <td>NaN</td>\n",
       "      <td>NaN</td>\n",
       "      <td>NaN</td>\n",
       "      <td>1.0</td>\n",
       "      <td>NaN</td>\n",
       "      <td>NaN</td>\n",
       "      <td>1.0</td>\n",
       "      <td>NaN</td>\n",
       "      <td>NaN</td>\n",
       "      <td>NaN</td>\n",
       "    </tr>\n",
       "    <tr>\n",
       "      <th>2</th>\n",
       "      <td>NaN</td>\n",
       "      <td>NaN</td>\n",
       "      <td>NaN</td>\n",
       "      <td>NaN</td>\n",
       "      <td>NaN</td>\n",
       "      <td>NaN</td>\n",
       "      <td>NaN</td>\n",
       "      <td>NaN</td>\n",
       "      <td>NaN</td>\n",
       "      <td>NaN</td>\n",
       "      <td>...</td>\n",
       "      <td>NaN</td>\n",
       "      <td>NaN</td>\n",
       "      <td>NaN</td>\n",
       "      <td>NaN</td>\n",
       "      <td>NaN</td>\n",
       "      <td>NaN</td>\n",
       "      <td>NaN</td>\n",
       "      <td>NaN</td>\n",
       "      <td>NaN</td>\n",
       "      <td>NaN</td>\n",
       "    </tr>\n",
       "    <tr>\n",
       "      <th>3</th>\n",
       "      <td>NaN</td>\n",
       "      <td>NaN</td>\n",
       "      <td>NaN</td>\n",
       "      <td>NaN</td>\n",
       "      <td>NaN</td>\n",
       "      <td>NaN</td>\n",
       "      <td>NaN</td>\n",
       "      <td>NaN</td>\n",
       "      <td>NaN</td>\n",
       "      <td>NaN</td>\n",
       "      <td>...</td>\n",
       "      <td>NaN</td>\n",
       "      <td>NaN</td>\n",
       "      <td>NaN</td>\n",
       "      <td>NaN</td>\n",
       "      <td>NaN</td>\n",
       "      <td>NaN</td>\n",
       "      <td>NaN</td>\n",
       "      <td>NaN</td>\n",
       "      <td>NaN</td>\n",
       "      <td>NaN</td>\n",
       "    </tr>\n",
       "    <tr>\n",
       "      <th>4</th>\n",
       "      <td>NaN</td>\n",
       "      <td>NaN</td>\n",
       "      <td>NaN</td>\n",
       "      <td>NaN</td>\n",
       "      <td>NaN</td>\n",
       "      <td>NaN</td>\n",
       "      <td>NaN</td>\n",
       "      <td>NaN</td>\n",
       "      <td>NaN</td>\n",
       "      <td>NaN</td>\n",
       "      <td>...</td>\n",
       "      <td>NaN</td>\n",
       "      <td>NaN</td>\n",
       "      <td>NaN</td>\n",
       "      <td>NaN</td>\n",
       "      <td>NaN</td>\n",
       "      <td>NaN</td>\n",
       "      <td>NaN</td>\n",
       "      <td>NaN</td>\n",
       "      <td>NaN</td>\n",
       "      <td>NaN</td>\n",
       "    </tr>\n",
       "  </tbody>\n",
       "</table>\n",
       "<p>5 rows × 300 columns</p>\n",
       "</div>"
      ],
      "text/plain": [
       "productId   0    1    2    3    4    5    6    7    8    9   ...   290  291  \\\n",
       "customerId                                                   ...              \n",
       "0           NaN  2.0  NaN  NaN  NaN  NaN  NaN  NaN  NaN  NaN ...   NaN  NaN   \n",
       "1           NaN  NaN  6.0  NaN  NaN  NaN  NaN  NaN  NaN  NaN ...   NaN  NaN   \n",
       "2           NaN  NaN  NaN  NaN  NaN  NaN  NaN  NaN  NaN  NaN ...   NaN  NaN   \n",
       "3           NaN  NaN  NaN  NaN  NaN  NaN  NaN  NaN  NaN  NaN ...   NaN  NaN   \n",
       "4           NaN  NaN  NaN  NaN  NaN  NaN  NaN  NaN  NaN  NaN ...   NaN  NaN   \n",
       "\n",
       "productId   292  293  294  295  296  297  298  299  \n",
       "customerId                                          \n",
       "0           NaN  NaN  NaN  NaN  NaN  NaN  NaN  NaN  \n",
       "1           NaN  1.0  NaN  NaN  1.0  NaN  NaN  NaN  \n",
       "2           NaN  NaN  NaN  NaN  NaN  NaN  NaN  NaN  \n",
       "3           NaN  NaN  NaN  NaN  NaN  NaN  NaN  NaN  \n",
       "4           NaN  NaN  NaN  NaN  NaN  NaN  NaN  NaN  \n",
       "\n",
       "[5 rows x 300 columns]"
      ]
     },
     "execution_count": 12,
     "metadata": {},
     "output_type": "execute_result"
    }
   ],
   "source": [
    "df_matrix = pd.pivot_table(data, values='purchase_count', index='customerId', columns='productId')\n",
    "df_matrix.head()"
   ]
  },
  {
   "cell_type": "code",
   "execution_count": 13,
   "metadata": {},
   "outputs": [
    {
     "data": {
      "text/plain": [
       "(24429, 300)"
      ]
     },
     "execution_count": 13,
     "metadata": {},
     "output_type": "execute_result"
    }
   ],
   "source": [
    "(df_matrix.shape)"
   ]
  },
  {
   "cell_type": "code",
   "execution_count": 14,
   "metadata": {},
   "outputs": [
    {
     "name": "stdout",
     "output_type": "stream",
     "text": [
      "(24429, 300)\n"
     ]
    },
    {
     "data": {
      "text/html": [
       "<div>\n",
       "<style scoped>\n",
       "    .dataframe tbody tr th:only-of-type {\n",
       "        vertical-align: middle;\n",
       "    }\n",
       "\n",
       "    .dataframe tbody tr th {\n",
       "        vertical-align: top;\n",
       "    }\n",
       "\n",
       "    .dataframe thead th {\n",
       "        text-align: right;\n",
       "    }\n",
       "</style>\n",
       "<table border=\"1\" class=\"dataframe\">\n",
       "  <thead>\n",
       "    <tr style=\"text-align: right;\">\n",
       "      <th>productId</th>\n",
       "      <th>0</th>\n",
       "      <th>1</th>\n",
       "      <th>2</th>\n",
       "      <th>3</th>\n",
       "      <th>4</th>\n",
       "      <th>5</th>\n",
       "      <th>6</th>\n",
       "      <th>7</th>\n",
       "      <th>8</th>\n",
       "      <th>9</th>\n",
       "      <th>...</th>\n",
       "      <th>290</th>\n",
       "      <th>291</th>\n",
       "      <th>292</th>\n",
       "      <th>293</th>\n",
       "      <th>294</th>\n",
       "      <th>295</th>\n",
       "      <th>296</th>\n",
       "      <th>297</th>\n",
       "      <th>298</th>\n",
       "      <th>299</th>\n",
       "    </tr>\n",
       "    <tr>\n",
       "      <th>customerId</th>\n",
       "      <th></th>\n",
       "      <th></th>\n",
       "      <th></th>\n",
       "      <th></th>\n",
       "      <th></th>\n",
       "      <th></th>\n",
       "      <th></th>\n",
       "      <th></th>\n",
       "      <th></th>\n",
       "      <th></th>\n",
       "      <th></th>\n",
       "      <th></th>\n",
       "      <th></th>\n",
       "      <th></th>\n",
       "      <th></th>\n",
       "      <th></th>\n",
       "      <th></th>\n",
       "      <th></th>\n",
       "      <th></th>\n",
       "      <th></th>\n",
       "      <th></th>\n",
       "    </tr>\n",
       "  </thead>\n",
       "  <tbody>\n",
       "    <tr>\n",
       "      <th>0</th>\n",
       "      <td>NaN</td>\n",
       "      <td>0.1</td>\n",
       "      <td>NaN</td>\n",
       "      <td>NaN</td>\n",
       "      <td>NaN</td>\n",
       "      <td>NaN</td>\n",
       "      <td>NaN</td>\n",
       "      <td>NaN</td>\n",
       "      <td>NaN</td>\n",
       "      <td>NaN</td>\n",
       "      <td>...</td>\n",
       "      <td>NaN</td>\n",
       "      <td>NaN</td>\n",
       "      <td>NaN</td>\n",
       "      <td>NaN</td>\n",
       "      <td>NaN</td>\n",
       "      <td>NaN</td>\n",
       "      <td>NaN</td>\n",
       "      <td>NaN</td>\n",
       "      <td>NaN</td>\n",
       "      <td>NaN</td>\n",
       "    </tr>\n",
       "    <tr>\n",
       "      <th>1</th>\n",
       "      <td>NaN</td>\n",
       "      <td>NaN</td>\n",
       "      <td>0.166667</td>\n",
       "      <td>NaN</td>\n",
       "      <td>NaN</td>\n",
       "      <td>NaN</td>\n",
       "      <td>NaN</td>\n",
       "      <td>NaN</td>\n",
       "      <td>NaN</td>\n",
       "      <td>NaN</td>\n",
       "      <td>...</td>\n",
       "      <td>NaN</td>\n",
       "      <td>NaN</td>\n",
       "      <td>NaN</td>\n",
       "      <td>0.0</td>\n",
       "      <td>NaN</td>\n",
       "      <td>NaN</td>\n",
       "      <td>0.0</td>\n",
       "      <td>NaN</td>\n",
       "      <td>NaN</td>\n",
       "      <td>NaN</td>\n",
       "    </tr>\n",
       "    <tr>\n",
       "      <th>2</th>\n",
       "      <td>NaN</td>\n",
       "      <td>NaN</td>\n",
       "      <td>NaN</td>\n",
       "      <td>NaN</td>\n",
       "      <td>NaN</td>\n",
       "      <td>NaN</td>\n",
       "      <td>NaN</td>\n",
       "      <td>NaN</td>\n",
       "      <td>NaN</td>\n",
       "      <td>NaN</td>\n",
       "      <td>...</td>\n",
       "      <td>NaN</td>\n",
       "      <td>NaN</td>\n",
       "      <td>NaN</td>\n",
       "      <td>NaN</td>\n",
       "      <td>NaN</td>\n",
       "      <td>NaN</td>\n",
       "      <td>NaN</td>\n",
       "      <td>NaN</td>\n",
       "      <td>NaN</td>\n",
       "      <td>NaN</td>\n",
       "    </tr>\n",
       "    <tr>\n",
       "      <th>3</th>\n",
       "      <td>NaN</td>\n",
       "      <td>NaN</td>\n",
       "      <td>NaN</td>\n",
       "      <td>NaN</td>\n",
       "      <td>NaN</td>\n",
       "      <td>NaN</td>\n",
       "      <td>NaN</td>\n",
       "      <td>NaN</td>\n",
       "      <td>NaN</td>\n",
       "      <td>NaN</td>\n",
       "      <td>...</td>\n",
       "      <td>NaN</td>\n",
       "      <td>NaN</td>\n",
       "      <td>NaN</td>\n",
       "      <td>NaN</td>\n",
       "      <td>NaN</td>\n",
       "      <td>NaN</td>\n",
       "      <td>NaN</td>\n",
       "      <td>NaN</td>\n",
       "      <td>NaN</td>\n",
       "      <td>NaN</td>\n",
       "    </tr>\n",
       "    <tr>\n",
       "      <th>4</th>\n",
       "      <td>NaN</td>\n",
       "      <td>NaN</td>\n",
       "      <td>NaN</td>\n",
       "      <td>NaN</td>\n",
       "      <td>NaN</td>\n",
       "      <td>NaN</td>\n",
       "      <td>NaN</td>\n",
       "      <td>NaN</td>\n",
       "      <td>NaN</td>\n",
       "      <td>NaN</td>\n",
       "      <td>...</td>\n",
       "      <td>NaN</td>\n",
       "      <td>NaN</td>\n",
       "      <td>NaN</td>\n",
       "      <td>NaN</td>\n",
       "      <td>NaN</td>\n",
       "      <td>NaN</td>\n",
       "      <td>NaN</td>\n",
       "      <td>NaN</td>\n",
       "      <td>NaN</td>\n",
       "      <td>NaN</td>\n",
       "    </tr>\n",
       "  </tbody>\n",
       "</table>\n",
       "<p>5 rows × 300 columns</p>\n",
       "</div>"
      ],
      "text/plain": [
       "productId   0    1         2    3    4    5    6    7    8    9   ...   290  \\\n",
       "customerId                                                        ...         \n",
       "0           NaN  0.1       NaN  NaN  NaN  NaN  NaN  NaN  NaN  NaN ...   NaN   \n",
       "1           NaN  NaN  0.166667  NaN  NaN  NaN  NaN  NaN  NaN  NaN ...   NaN   \n",
       "2           NaN  NaN       NaN  NaN  NaN  NaN  NaN  NaN  NaN  NaN ...   NaN   \n",
       "3           NaN  NaN       NaN  NaN  NaN  NaN  NaN  NaN  NaN  NaN ...   NaN   \n",
       "4           NaN  NaN       NaN  NaN  NaN  NaN  NaN  NaN  NaN  NaN ...   NaN   \n",
       "\n",
       "productId   291  292  293  294  295  296  297  298  299  \n",
       "customerId                                               \n",
       "0           NaN  NaN  NaN  NaN  NaN  NaN  NaN  NaN  NaN  \n",
       "1           NaN  NaN  0.0  NaN  NaN  0.0  NaN  NaN  NaN  \n",
       "2           NaN  NaN  NaN  NaN  NaN  NaN  NaN  NaN  NaN  \n",
       "3           NaN  NaN  NaN  NaN  NaN  NaN  NaN  NaN  NaN  \n",
       "4           NaN  NaN  NaN  NaN  NaN  NaN  NaN  NaN  NaN  \n",
       "\n",
       "[5 rows x 300 columns]"
      ]
     },
     "execution_count": 14,
     "metadata": {},
     "output_type": "execute_result"
    }
   ],
   "source": [
    "df_matrix_norm = (df_matrix-df_matrix.min())/(df_matrix.max()-df_matrix.min())\n",
    "print(df_matrix_norm.shape)\n",
    "df_matrix_norm.head()"
   ]
  },
  {
   "cell_type": "code",
   "execution_count": 15,
   "metadata": {},
   "outputs": [
    {
     "name": "stdout",
     "output_type": "stream",
     "text": [
      "(133585, 3)\n"
     ]
    },
    {
     "data": {
      "text/html": [
       "<div>\n",
       "<style scoped>\n",
       "    .dataframe tbody tr th:only-of-type {\n",
       "        vertical-align: middle;\n",
       "    }\n",
       "\n",
       "    .dataframe tbody tr th {\n",
       "        vertical-align: top;\n",
       "    }\n",
       "\n",
       "    .dataframe thead th {\n",
       "        text-align: right;\n",
       "    }\n",
       "</style>\n",
       "<table border=\"1\" class=\"dataframe\">\n",
       "  <thead>\n",
       "    <tr style=\"text-align: right;\">\n",
       "      <th></th>\n",
       "      <th>customerId</th>\n",
       "      <th>productId</th>\n",
       "      <th>scaled_purchase_freq</th>\n",
       "    </tr>\n",
       "  </thead>\n",
       "  <tbody>\n",
       "    <tr>\n",
       "      <th>9</th>\n",
       "      <td>9</td>\n",
       "      <td>0</td>\n",
       "      <td>0.133333</td>\n",
       "    </tr>\n",
       "    <tr>\n",
       "      <th>25</th>\n",
       "      <td>25</td>\n",
       "      <td>0</td>\n",
       "      <td>0.133333</td>\n",
       "    </tr>\n",
       "    <tr>\n",
       "      <th>32</th>\n",
       "      <td>33</td>\n",
       "      <td>0</td>\n",
       "      <td>0.133333</td>\n",
       "    </tr>\n",
       "    <tr>\n",
       "      <th>35</th>\n",
       "      <td>36</td>\n",
       "      <td>0</td>\n",
       "      <td>0.133333</td>\n",
       "    </tr>\n",
       "    <tr>\n",
       "      <th>43</th>\n",
       "      <td>44</td>\n",
       "      <td>0</td>\n",
       "      <td>0.133333</td>\n",
       "    </tr>\n",
       "  </tbody>\n",
       "</table>\n",
       "</div>"
      ],
      "text/plain": [
       "    customerId productId  scaled_purchase_freq\n",
       "9            9         0              0.133333\n",
       "25          25         0              0.133333\n",
       "32          33         0              0.133333\n",
       "35          36         0              0.133333\n",
       "43          44         0              0.133333"
      ]
     },
     "execution_count": 15,
     "metadata": {},
     "output_type": "execute_result"
    }
   ],
   "source": [
    "d = df_matrix_norm.reset_index()\n",
    "d.index.names = ['scaled_purchase_freq']\n",
    "data_norm = pd.melt(d, id_vars=['customerId'], value_name='scaled_purchase_freq').dropna()\n",
    "print(data_norm.shape)\n",
    "data_norm.head()"
   ]
  },
  {
   "cell_type": "code",
   "execution_count": 16,
   "metadata": {},
   "outputs": [],
   "source": [
    "def normalize_data(data):\n",
    "    df_matrix = pd.pivot_table(data, values='purchase_count', index='customerId', columns='productId')\n",
    "    df_matrix_norm = (df_matrix-df_matrix.min())/(df_matrix.max()-df_matrix.min())\n",
    "    d = df_matrix_norm.reset_index()\n",
    "    d.index.names = ['scaled_purchase_freq']\n",
    "    return pd.melt(d, id_vars=['customerId'], value_name='scaled_purchase_freq').dropna()"
   ]
  },
  {
   "cell_type": "code",
   "execution_count": 27,
   "metadata": {},
   "outputs": [
    {
     "name": "stdout",
     "output_type": "stream",
     "text": [
      "((93509, 3), (40076, 3))\n"
     ]
    }
   ],
   "source": [
    "train, test = train_test_split(data, test_size = .3)\n",
    "print(train.shape, test.shape)"
   ]
  },
  {
   "cell_type": "code",
   "execution_count": 28,
   "metadata": {},
   "outputs": [],
   "source": [
    "train_data = tc.SFrame(train)\n",
    "test_data = tc.SFrame(test)"
   ]
  },
  {
   "cell_type": "code",
   "execution_count": 29,
   "metadata": {},
   "outputs": [
    {
     "data": {
      "text/html": [
       "<div style=\"max-height:1000px;max-width:1500px;overflow:auto;\"><table frame=\"box\" rules=\"cols\">\n",
       "    <tr>\n",
       "        <th style=\"padding-left: 1em; padding-right: 1em; text-align: center\">customerId</th>\n",
       "        <th style=\"padding-left: 1em; padding-right: 1em; text-align: center\">productId</th>\n",
       "        <th style=\"padding-left: 1em; padding-right: 1em; text-align: center\">purchase_count</th>\n",
       "    </tr>\n",
       "    <tr>\n",
       "        <td style=\"padding-left: 1em; padding-right: 1em; text-align: center; vertical-align: top\">4024</td>\n",
       "        <td style=\"padding-left: 1em; padding-right: 1em; text-align: center; vertical-align: top\">246</td>\n",
       "        <td style=\"padding-left: 1em; padding-right: 1em; text-align: center; vertical-align: top\">1</td>\n",
       "    </tr>\n",
       "    <tr>\n",
       "        <td style=\"padding-left: 1em; padding-right: 1em; text-align: center; vertical-align: top\">17875</td>\n",
       "        <td style=\"padding-left: 1em; padding-right: 1em; text-align: center; vertical-align: top\">16</td>\n",
       "        <td style=\"padding-left: 1em; padding-right: 1em; text-align: center; vertical-align: top\">3</td>\n",
       "    </tr>\n",
       "    <tr>\n",
       "        <td style=\"padding-left: 1em; padding-right: 1em; text-align: center; vertical-align: top\">7170</td>\n",
       "        <td style=\"padding-left: 1em; padding-right: 1em; text-align: center; vertical-align: top\">13</td>\n",
       "        <td style=\"padding-left: 1em; padding-right: 1em; text-align: center; vertical-align: top\">1</td>\n",
       "    </tr>\n",
       "    <tr>\n",
       "        <td style=\"padding-left: 1em; padding-right: 1em; text-align: center; vertical-align: top\">8170</td>\n",
       "        <td style=\"padding-left: 1em; padding-right: 1em; text-align: center; vertical-align: top\">50</td>\n",
       "        <td style=\"padding-left: 1em; padding-right: 1em; text-align: center; vertical-align: top\">2</td>\n",
       "    </tr>\n",
       "    <tr>\n",
       "        <td style=\"padding-left: 1em; padding-right: 1em; text-align: center; vertical-align: top\">22024</td>\n",
       "        <td style=\"padding-left: 1em; padding-right: 1em; text-align: center; vertical-align: top\">55</td>\n",
       "        <td style=\"padding-left: 1em; padding-right: 1em; text-align: center; vertical-align: top\">2</td>\n",
       "    </tr>\n",
       "    <tr>\n",
       "        <td style=\"padding-left: 1em; padding-right: 1em; text-align: center; vertical-align: top\">16142</td>\n",
       "        <td style=\"padding-left: 1em; padding-right: 1em; text-align: center; vertical-align: top\">25</td>\n",
       "        <td style=\"padding-left: 1em; padding-right: 1em; text-align: center; vertical-align: top\">1</td>\n",
       "    </tr>\n",
       "    <tr>\n",
       "        <td style=\"padding-left: 1em; padding-right: 1em; text-align: center; vertical-align: top\">1261</td>\n",
       "        <td style=\"padding-left: 1em; padding-right: 1em; text-align: center; vertical-align: top\">75</td>\n",
       "        <td style=\"padding-left: 1em; padding-right: 1em; text-align: center; vertical-align: top\">2</td>\n",
       "    </tr>\n",
       "    <tr>\n",
       "        <td style=\"padding-left: 1em; padding-right: 1em; text-align: center; vertical-align: top\">2163</td>\n",
       "        <td style=\"padding-left: 1em; padding-right: 1em; text-align: center; vertical-align: top\">87</td>\n",
       "        <td style=\"padding-left: 1em; padding-right: 1em; text-align: center; vertical-align: top\">3</td>\n",
       "    </tr>\n",
       "    <tr>\n",
       "        <td style=\"padding-left: 1em; padding-right: 1em; text-align: center; vertical-align: top\">24039</td>\n",
       "        <td style=\"padding-left: 1em; padding-right: 1em; text-align: center; vertical-align: top\">164</td>\n",
       "        <td style=\"padding-left: 1em; padding-right: 1em; text-align: center; vertical-align: top\">2</td>\n",
       "    </tr>\n",
       "    <tr>\n",
       "        <td style=\"padding-left: 1em; padding-right: 1em; text-align: center; vertical-align: top\">2711</td>\n",
       "        <td style=\"padding-left: 1em; padding-right: 1em; text-align: center; vertical-align: top\">2</td>\n",
       "        <td style=\"padding-left: 1em; padding-right: 1em; text-align: center; vertical-align: top\">3</td>\n",
       "    </tr>\n",
       "</table>\n",
       "[93509 rows x 3 columns]<br/>Note: Only the head of the SFrame is printed.<br/>You can use print_rows(num_rows=m, num_columns=n) to print more rows and columns.\n",
       "</div>"
      ],
      "text/plain": [
       "Columns:\n",
       "\tcustomerId\tint\n",
       "\tproductId\tint\n",
       "\tpurchase_count\tint\n",
       "\n",
       "Rows: 93509\n",
       "\n",
       "Data:\n",
       "+------------+-----------+----------------+\n",
       "| customerId | productId | purchase_count |\n",
       "+------------+-----------+----------------+\n",
       "|    4024    |    246    |       1        |\n",
       "|   17875    |     16    |       3        |\n",
       "|    7170    |     13    |       1        |\n",
       "|    8170    |     50    |       2        |\n",
       "|   22024    |     55    |       2        |\n",
       "|   16142    |     25    |       1        |\n",
       "|    1261    |     75    |       2        |\n",
       "|    2163    |     87    |       3        |\n",
       "|   24039    |    164    |       2        |\n",
       "|    2711    |     2     |       3        |\n",
       "+------------+-----------+----------------+\n",
       "[93509 rows x 3 columns]\n",
       "Note: Only the head of the SFrame is printed.\n",
       "You can use print_rows(num_rows=m, num_columns=n) to print more rows and columns."
      ]
     },
     "execution_count": 29,
     "metadata": {},
     "output_type": "execute_result"
    }
   ],
   "source": [
    "train_data"
   ]
  },
  {
   "cell_type": "code",
   "execution_count": 30,
   "metadata": {},
   "outputs": [
    {
     "data": {
      "text/html": [
       "<div style=\"max-height:1000px;max-width:1500px;overflow:auto;\"><table frame=\"box\" rules=\"cols\">\n",
       "    <tr>\n",
       "        <th style=\"padding-left: 1em; padding-right: 1em; text-align: center\">customerId</th>\n",
       "        <th style=\"padding-left: 1em; padding-right: 1em; text-align: center\">productId</th>\n",
       "        <th style=\"padding-left: 1em; padding-right: 1em; text-align: center\">purchase_count</th>\n",
       "    </tr>\n",
       "    <tr>\n",
       "        <td style=\"padding-left: 1em; padding-right: 1em; text-align: center; vertical-align: top\">13891</td>\n",
       "        <td style=\"padding-left: 1em; padding-right: 1em; text-align: center; vertical-align: top\">88</td>\n",
       "        <td style=\"padding-left: 1em; padding-right: 1em; text-align: center; vertical-align: top\">1</td>\n",
       "    </tr>\n",
       "    <tr>\n",
       "        <td style=\"padding-left: 1em; padding-right: 1em; text-align: center; vertical-align: top\">14423</td>\n",
       "        <td style=\"padding-left: 1em; padding-right: 1em; text-align: center; vertical-align: top\">246</td>\n",
       "        <td style=\"padding-left: 1em; padding-right: 1em; text-align: center; vertical-align: top\">1</td>\n",
       "    </tr>\n",
       "    <tr>\n",
       "        <td style=\"padding-left: 1em; padding-right: 1em; text-align: center; vertical-align: top\">1905</td>\n",
       "        <td style=\"padding-left: 1em; padding-right: 1em; text-align: center; vertical-align: top\">89</td>\n",
       "        <td style=\"padding-left: 1em; padding-right: 1em; text-align: center; vertical-align: top\">1</td>\n",
       "    </tr>\n",
       "    <tr>\n",
       "        <td style=\"padding-left: 1em; padding-right: 1em; text-align: center; vertical-align: top\">5339</td>\n",
       "        <td style=\"padding-left: 1em; padding-right: 1em; text-align: center; vertical-align: top\">178</td>\n",
       "        <td style=\"padding-left: 1em; padding-right: 1em; text-align: center; vertical-align: top\">1</td>\n",
       "    </tr>\n",
       "    <tr>\n",
       "        <td style=\"padding-left: 1em; padding-right: 1em; text-align: center; vertical-align: top\">13062</td>\n",
       "        <td style=\"padding-left: 1em; padding-right: 1em; text-align: center; vertical-align: top\">50</td>\n",
       "        <td style=\"padding-left: 1em; padding-right: 1em; text-align: center; vertical-align: top\">1</td>\n",
       "    </tr>\n",
       "    <tr>\n",
       "        <td style=\"padding-left: 1em; padding-right: 1em; text-align: center; vertical-align: top\">904</td>\n",
       "        <td style=\"padding-left: 1em; padding-right: 1em; text-align: center; vertical-align: top\">254</td>\n",
       "        <td style=\"padding-left: 1em; padding-right: 1em; text-align: center; vertical-align: top\">1</td>\n",
       "    </tr>\n",
       "    <tr>\n",
       "        <td style=\"padding-left: 1em; padding-right: 1em; text-align: center; vertical-align: top\">24319</td>\n",
       "        <td style=\"padding-left: 1em; padding-right: 1em; text-align: center; vertical-align: top\">38</td>\n",
       "        <td style=\"padding-left: 1em; padding-right: 1em; text-align: center; vertical-align: top\">5</td>\n",
       "    </tr>\n",
       "    <tr>\n",
       "        <td style=\"padding-left: 1em; padding-right: 1em; text-align: center; vertical-align: top\">22885</td>\n",
       "        <td style=\"padding-left: 1em; padding-right: 1em; text-align: center; vertical-align: top\">2</td>\n",
       "        <td style=\"padding-left: 1em; padding-right: 1em; text-align: center; vertical-align: top\">1</td>\n",
       "    </tr>\n",
       "    <tr>\n",
       "        <td style=\"padding-left: 1em; padding-right: 1em; text-align: center; vertical-align: top\">7104</td>\n",
       "        <td style=\"padding-left: 1em; padding-right: 1em; text-align: center; vertical-align: top\">151</td>\n",
       "        <td style=\"padding-left: 1em; padding-right: 1em; text-align: center; vertical-align: top\">1</td>\n",
       "    </tr>\n",
       "    <tr>\n",
       "        <td style=\"padding-left: 1em; padding-right: 1em; text-align: center; vertical-align: top\">22748</td>\n",
       "        <td style=\"padding-left: 1em; padding-right: 1em; text-align: center; vertical-align: top\">105</td>\n",
       "        <td style=\"padding-left: 1em; padding-right: 1em; text-align: center; vertical-align: top\">1</td>\n",
       "    </tr>\n",
       "</table>\n",
       "[40076 rows x 3 columns]<br/>Note: Only the head of the SFrame is printed.<br/>You can use print_rows(num_rows=m, num_columns=n) to print more rows and columns.\n",
       "</div>"
      ],
      "text/plain": [
       "Columns:\n",
       "\tcustomerId\tint\n",
       "\tproductId\tint\n",
       "\tpurchase_count\tint\n",
       "\n",
       "Rows: 40076\n",
       "\n",
       "Data:\n",
       "+------------+-----------+----------------+\n",
       "| customerId | productId | purchase_count |\n",
       "+------------+-----------+----------------+\n",
       "|   13891    |     88    |       1        |\n",
       "|   14423    |    246    |       1        |\n",
       "|    1905    |     89    |       1        |\n",
       "|    5339    |    178    |       1        |\n",
       "|   13062    |     50    |       1        |\n",
       "|    904     |    254    |       1        |\n",
       "|   24319    |     38    |       5        |\n",
       "|   22885    |     2     |       1        |\n",
       "|    7104    |    151    |       1        |\n",
       "|   22748    |    105    |       1        |\n",
       "+------------+-----------+----------------+\n",
       "[40076 rows x 3 columns]\n",
       "Note: Only the head of the SFrame is printed.\n",
       "You can use print_rows(num_rows=m, num_columns=n) to print more rows and columns."
      ]
     },
     "execution_count": 30,
     "metadata": {},
     "output_type": "execute_result"
    }
   ],
   "source": [
    "test_data"
   ]
  },
  {
   "cell_type": "code",
   "execution_count": 31,
   "metadata": {},
   "outputs": [],
   "source": [
    "def split_data(data):\n",
    "    '''\n",
    "    Splits dataset into training and test set.\n",
    "    \n",
    "    Args:\n",
    "        data (pandas.DataFrame)\n",
    "        \n",
    "    Returns\n",
    "        train_data (tc.SFrame)\n",
    "        test_data (tc.SFrame)\n",
    "    '''\n",
    "    train, test = train_test_split(data, test_size = .2)\n",
    "    train_data = tc.SFrame(train)\n",
    "    test_data = tc.SFrame(test)\n",
    "    return train_data, test_data"
   ]
  },
  {
   "cell_type": "code",
   "execution_count": 32,
   "metadata": {},
   "outputs": [],
   "source": [
    "train_data_dummy, test_data_dummy = split_data(data_dummy)\n",
    "train_data_norm, test_data_norm = split_data(data_norm)"
   ]
  },
  {
   "cell_type": "code",
   "execution_count": 132,
   "metadata": {},
   "outputs": [],
   "source": [
    "user_id = 'customerId'\n",
    "item_id = 'productId'\n",
    "target = 'purchase_count'\n",
    "users_to_recommend = list(transactions[user_id])\n",
    "n_rec = 10 # number of items to recommend\n",
    "n_display = 30"
   ]
  },
  {
   "cell_type": "code",
   "execution_count": 133,
   "metadata": {},
   "outputs": [
    {
     "data": {
      "text/html": [
       "<pre>Preparing data set.</pre>"
      ],
      "text/plain": [
       "Preparing data set."
      ]
     },
     "metadata": {},
     "output_type": "display_data"
    },
    {
     "data": {
      "text/html": [
       "<pre>    Data has 93509 observations with 22576 users and 300 items.</pre>"
      ],
      "text/plain": [
       "    Data has 93509 observations with 22576 users and 300 items."
      ]
     },
     "metadata": {},
     "output_type": "display_data"
    },
    {
     "data": {
      "text/html": [
       "<pre>    Data prepared in: 0.145693s</pre>"
      ],
      "text/plain": [
       "    Data prepared in: 0.145693s"
      ]
     },
     "metadata": {},
     "output_type": "display_data"
    },
    {
     "data": {
      "text/html": [
       "<pre>93509 observations to process; with 300 unique items.</pre>"
      ],
      "text/plain": [
       "93509 observations to process; with 300 unique items."
      ]
     },
     "metadata": {},
     "output_type": "display_data"
    }
   ],
   "source": [
    "popularity_model = tc.popularity_recommender.create(train_data, \n",
    "                                                    user_id=user_id, \n",
    "                                                    item_id=item_id, \n",
    "                                                    target=target)"
   ]
  },
  {
   "cell_type": "code",
   "execution_count": 134,
   "metadata": {},
   "outputs": [
    {
     "data": {
      "text/html": [
       "<pre>recommendations finished on 1000/62483 queries. users per second: 128982</pre>"
      ],
      "text/plain": [
       "recommendations finished on 1000/62483 queries. users per second: 128982"
      ]
     },
     "metadata": {},
     "output_type": "display_data"
    },
    {
     "data": {
      "text/html": [
       "<pre>recommendations finished on 2000/62483 queries. users per second: 154571</pre>"
      ],
      "text/plain": [
       "recommendations finished on 2000/62483 queries. users per second: 154571"
      ]
     },
     "metadata": {},
     "output_type": "display_data"
    },
    {
     "data": {
      "text/html": [
       "<pre>recommendations finished on 3000/62483 queries. users per second: 162999</pre>"
      ],
      "text/plain": [
       "recommendations finished on 3000/62483 queries. users per second: 162999"
      ]
     },
     "metadata": {},
     "output_type": "display_data"
    },
    {
     "data": {
      "text/html": [
       "<pre>recommendations finished on 4000/62483 queries. users per second: 170249</pre>"
      ],
      "text/plain": [
       "recommendations finished on 4000/62483 queries. users per second: 170249"
      ]
     },
     "metadata": {},
     "output_type": "display_data"
    },
    {
     "data": {
      "text/html": [
       "<pre>recommendations finished on 5000/62483 queries. users per second: 175482</pre>"
      ],
      "text/plain": [
       "recommendations finished on 5000/62483 queries. users per second: 175482"
      ]
     },
     "metadata": {},
     "output_type": "display_data"
    },
    {
     "data": {
      "text/html": [
       "<pre>recommendations finished on 6000/62483 queries. users per second: 176367</pre>"
      ],
      "text/plain": [
       "recommendations finished on 6000/62483 queries. users per second: 176367"
      ]
     },
     "metadata": {},
     "output_type": "display_data"
    },
    {
     "data": {
      "text/html": [
       "<pre>recommendations finished on 7000/62483 queries. users per second: 180949</pre>"
      ],
      "text/plain": [
       "recommendations finished on 7000/62483 queries. users per second: 180949"
      ]
     },
     "metadata": {},
     "output_type": "display_data"
    },
    {
     "data": {
      "text/html": [
       "<pre>recommendations finished on 8000/62483 queries. users per second: 182087</pre>"
      ],
      "text/plain": [
       "recommendations finished on 8000/62483 queries. users per second: 182087"
      ]
     },
     "metadata": {},
     "output_type": "display_data"
    },
    {
     "data": {
      "text/html": [
       "<pre>recommendations finished on 9000/62483 queries. users per second: 183718</pre>"
      ],
      "text/plain": [
       "recommendations finished on 9000/62483 queries. users per second: 183718"
      ]
     },
     "metadata": {},
     "output_type": "display_data"
    },
    {
     "data": {
      "text/html": [
       "<pre>recommendations finished on 10000/62483 queries. users per second: 185199</pre>"
      ],
      "text/plain": [
       "recommendations finished on 10000/62483 queries. users per second: 185199"
      ]
     },
     "metadata": {},
     "output_type": "display_data"
    },
    {
     "data": {
      "text/html": [
       "<pre>recommendations finished on 11000/62483 queries. users per second: 185110</pre>"
      ],
      "text/plain": [
       "recommendations finished on 11000/62483 queries. users per second: 185110"
      ]
     },
     "metadata": {},
     "output_type": "display_data"
    },
    {
     "data": {
      "text/html": [
       "<pre>recommendations finished on 12000/62483 queries. users per second: 184473</pre>"
      ],
      "text/plain": [
       "recommendations finished on 12000/62483 queries. users per second: 184473"
      ]
     },
     "metadata": {},
     "output_type": "display_data"
    },
    {
     "data": {
      "text/html": [
       "<pre>recommendations finished on 13000/62483 queries. users per second: 186190</pre>"
      ],
      "text/plain": [
       "recommendations finished on 13000/62483 queries. users per second: 186190"
      ]
     },
     "metadata": {},
     "output_type": "display_data"
    },
    {
     "data": {
      "text/html": [
       "<pre>recommendations finished on 14000/62483 queries. users per second: 184543</pre>"
      ],
      "text/plain": [
       "recommendations finished on 14000/62483 queries. users per second: 184543"
      ]
     },
     "metadata": {},
     "output_type": "display_data"
    },
    {
     "data": {
      "text/html": [
       "<pre>recommendations finished on 15000/62483 queries. users per second: 184593</pre>"
      ],
      "text/plain": [
       "recommendations finished on 15000/62483 queries. users per second: 184593"
      ]
     },
     "metadata": {},
     "output_type": "display_data"
    },
    {
     "data": {
      "text/html": [
       "<pre>recommendations finished on 16000/62483 queries. users per second: 183636</pre>"
      ],
      "text/plain": [
       "recommendations finished on 16000/62483 queries. users per second: 183636"
      ]
     },
     "metadata": {},
     "output_type": "display_data"
    },
    {
     "data": {
      "text/html": [
       "<pre>recommendations finished on 17000/62483 queries. users per second: 184750</pre>"
      ],
      "text/plain": [
       "recommendations finished on 17000/62483 queries. users per second: 184750"
      ]
     },
     "metadata": {},
     "output_type": "display_data"
    },
    {
     "data": {
      "text/html": [
       "<pre>recommendations finished on 18000/62483 queries. users per second: 184888</pre>"
      ],
      "text/plain": [
       "recommendations finished on 18000/62483 queries. users per second: 184888"
      ]
     },
     "metadata": {},
     "output_type": "display_data"
    },
    {
     "data": {
      "text/html": [
       "<pre>recommendations finished on 19000/62483 queries. users per second: 186077</pre>"
      ],
      "text/plain": [
       "recommendations finished on 19000/62483 queries. users per second: 186077"
      ]
     },
     "metadata": {},
     "output_type": "display_data"
    },
    {
     "data": {
      "text/html": [
       "<pre>recommendations finished on 20000/62483 queries. users per second: 186788</pre>"
      ],
      "text/plain": [
       "recommendations finished on 20000/62483 queries. users per second: 186788"
      ]
     },
     "metadata": {},
     "output_type": "display_data"
    },
    {
     "data": {
      "text/html": [
       "<pre>recommendations finished on 21000/62483 queries. users per second: 187597</pre>"
      ],
      "text/plain": [
       "recommendations finished on 21000/62483 queries. users per second: 187597"
      ]
     },
     "metadata": {},
     "output_type": "display_data"
    },
    {
     "data": {
      "text/html": [
       "<pre>recommendations finished on 22000/62483 queries. users per second: 187314</pre>"
      ],
      "text/plain": [
       "recommendations finished on 22000/62483 queries. users per second: 187314"
      ]
     },
     "metadata": {},
     "output_type": "display_data"
    },
    {
     "data": {
      "text/html": [
       "<pre>recommendations finished on 23000/62483 queries. users per second: 186608</pre>"
      ],
      "text/plain": [
       "recommendations finished on 23000/62483 queries. users per second: 186608"
      ]
     },
     "metadata": {},
     "output_type": "display_data"
    },
    {
     "data": {
      "text/html": [
       "<pre>recommendations finished on 24000/62483 queries. users per second: 187459</pre>"
      ],
      "text/plain": [
       "recommendations finished on 24000/62483 queries. users per second: 187459"
      ]
     },
     "metadata": {},
     "output_type": "display_data"
    },
    {
     "data": {
      "text/html": [
       "<pre>recommendations finished on 25000/62483 queries. users per second: 187775</pre>"
      ],
      "text/plain": [
       "recommendations finished on 25000/62483 queries. users per second: 187775"
      ]
     },
     "metadata": {},
     "output_type": "display_data"
    },
    {
     "data": {
      "text/html": [
       "<pre>recommendations finished on 26000/62483 queries. users per second: 188144</pre>"
      ],
      "text/plain": [
       "recommendations finished on 26000/62483 queries. users per second: 188144"
      ]
     },
     "metadata": {},
     "output_type": "display_data"
    },
    {
     "data": {
      "text/html": [
       "<pre>recommendations finished on 27000/62483 queries. users per second: 188499</pre>"
      ],
      "text/plain": [
       "recommendations finished on 27000/62483 queries. users per second: 188499"
      ]
     },
     "metadata": {},
     "output_type": "display_data"
    },
    {
     "data": {
      "text/html": [
       "<pre>recommendations finished on 28000/62483 queries. users per second: 188139</pre>"
      ],
      "text/plain": [
       "recommendations finished on 28000/62483 queries. users per second: 188139"
      ]
     },
     "metadata": {},
     "output_type": "display_data"
    },
    {
     "data": {
      "text/html": [
       "<pre>recommendations finished on 29000/62483 queries. users per second: 188835</pre>"
      ],
      "text/plain": [
       "recommendations finished on 29000/62483 queries. users per second: 188835"
      ]
     },
     "metadata": {},
     "output_type": "display_data"
    },
    {
     "data": {
      "text/html": [
       "<pre>recommendations finished on 30000/62483 queries. users per second: 174092</pre>"
      ],
      "text/plain": [
       "recommendations finished on 30000/62483 queries. users per second: 174092"
      ]
     },
     "metadata": {},
     "output_type": "display_data"
    },
    {
     "data": {
      "text/html": [
       "<pre>recommendations finished on 31000/62483 queries. users per second: 173980</pre>"
      ],
      "text/plain": [
       "recommendations finished on 31000/62483 queries. users per second: 173980"
      ]
     },
     "metadata": {},
     "output_type": "display_data"
    },
    {
     "data": {
      "text/html": [
       "<pre>recommendations finished on 32000/62483 queries. users per second: 174449</pre>"
      ],
      "text/plain": [
       "recommendations finished on 32000/62483 queries. users per second: 174449"
      ]
     },
     "metadata": {},
     "output_type": "display_data"
    },
    {
     "data": {
      "text/html": [
       "<pre>recommendations finished on 33000/62483 queries. users per second: 175063</pre>"
      ],
      "text/plain": [
       "recommendations finished on 33000/62483 queries. users per second: 175063"
      ]
     },
     "metadata": {},
     "output_type": "display_data"
    },
    {
     "data": {
      "text/html": [
       "<pre>recommendations finished on 34000/62483 queries. users per second: 175272</pre>"
      ],
      "text/plain": [
       "recommendations finished on 34000/62483 queries. users per second: 175272"
      ]
     },
     "metadata": {},
     "output_type": "display_data"
    },
    {
     "data": {
      "text/html": [
       "<pre>recommendations finished on 35000/62483 queries. users per second: 175840</pre>"
      ],
      "text/plain": [
       "recommendations finished on 35000/62483 queries. users per second: 175840"
      ]
     },
     "metadata": {},
     "output_type": "display_data"
    },
    {
     "data": {
      "text/html": [
       "<pre>recommendations finished on 36000/62483 queries. users per second: 175876</pre>"
      ],
      "text/plain": [
       "recommendations finished on 36000/62483 queries. users per second: 175876"
      ]
     },
     "metadata": {},
     "output_type": "display_data"
    },
    {
     "data": {
      "text/html": [
       "<pre>recommendations finished on 37000/62483 queries. users per second: 176424</pre>"
      ],
      "text/plain": [
       "recommendations finished on 37000/62483 queries. users per second: 176424"
      ]
     },
     "metadata": {},
     "output_type": "display_data"
    },
    {
     "data": {
      "text/html": [
       "<pre>recommendations finished on 38000/62483 queries. users per second: 175148</pre>"
      ],
      "text/plain": [
       "recommendations finished on 38000/62483 queries. users per second: 175148"
      ]
     },
     "metadata": {},
     "output_type": "display_data"
    },
    {
     "data": {
      "text/html": [
       "<pre>recommendations finished on 39000/62483 queries. users per second: 175933</pre>"
      ],
      "text/plain": [
       "recommendations finished on 39000/62483 queries. users per second: 175933"
      ]
     },
     "metadata": {},
     "output_type": "display_data"
    },
    {
     "data": {
      "text/html": [
       "<pre>recommendations finished on 40000/62483 queries. users per second: 174880</pre>"
      ],
      "text/plain": [
       "recommendations finished on 40000/62483 queries. users per second: 174880"
      ]
     },
     "metadata": {},
     "output_type": "display_data"
    },
    {
     "data": {
      "text/html": [
       "<pre>recommendations finished on 41000/62483 queries. users per second: 175208</pre>"
      ],
      "text/plain": [
       "recommendations finished on 41000/62483 queries. users per second: 175208"
      ]
     },
     "metadata": {},
     "output_type": "display_data"
    },
    {
     "data": {
      "text/html": [
       "<pre>recommendations finished on 42000/62483 queries. users per second: 175306</pre>"
      ],
      "text/plain": [
       "recommendations finished on 42000/62483 queries. users per second: 175306"
      ]
     },
     "metadata": {},
     "output_type": "display_data"
    },
    {
     "data": {
      "text/html": [
       "<pre>recommendations finished on 43000/62483 queries. users per second: 175883</pre>"
      ],
      "text/plain": [
       "recommendations finished on 43000/62483 queries. users per second: 175883"
      ]
     },
     "metadata": {},
     "output_type": "display_data"
    },
    {
     "data": {
      "text/html": [
       "<pre>recommendations finished on 44000/62483 queries. users per second: 176440</pre>"
      ],
      "text/plain": [
       "recommendations finished on 44000/62483 queries. users per second: 176440"
      ]
     },
     "metadata": {},
     "output_type": "display_data"
    },
    {
     "data": {
      "text/html": [
       "<pre>recommendations finished on 45000/62483 queries. users per second: 165913</pre>"
      ],
      "text/plain": [
       "recommendations finished on 45000/62483 queries. users per second: 165913"
      ]
     },
     "metadata": {},
     "output_type": "display_data"
    },
    {
     "data": {
      "text/html": [
       "<pre>recommendations finished on 46000/62483 queries. users per second: 165702</pre>"
      ],
      "text/plain": [
       "recommendations finished on 46000/62483 queries. users per second: 165702"
      ]
     },
     "metadata": {},
     "output_type": "display_data"
    },
    {
     "data": {
      "text/html": [
       "<pre>recommendations finished on 47000/62483 queries. users per second: 165456</pre>"
      ],
      "text/plain": [
       "recommendations finished on 47000/62483 queries. users per second: 165456"
      ]
     },
     "metadata": {},
     "output_type": "display_data"
    },
    {
     "data": {
      "text/html": [
       "<pre>recommendations finished on 48000/62483 queries. users per second: 165618</pre>"
      ],
      "text/plain": [
       "recommendations finished on 48000/62483 queries. users per second: 165618"
      ]
     },
     "metadata": {},
     "output_type": "display_data"
    },
    {
     "data": {
      "text/html": [
       "<pre>recommendations finished on 49000/62483 queries. users per second: 166298</pre>"
      ],
      "text/plain": [
       "recommendations finished on 49000/62483 queries. users per second: 166298"
      ]
     },
     "metadata": {},
     "output_type": "display_data"
    },
    {
     "data": {
      "text/html": [
       "<pre>recommendations finished on 50000/62483 queries. users per second: 166466</pre>"
      ],
      "text/plain": [
       "recommendations finished on 50000/62483 queries. users per second: 166466"
      ]
     },
     "metadata": {},
     "output_type": "display_data"
    },
    {
     "data": {
      "text/html": [
       "<pre>recommendations finished on 51000/62483 queries. users per second: 167075</pre>"
      ],
      "text/plain": [
       "recommendations finished on 51000/62483 queries. users per second: 167075"
      ]
     },
     "metadata": {},
     "output_type": "display_data"
    },
    {
     "data": {
      "text/html": [
       "<pre>recommendations finished on 52000/62483 queries. users per second: 167503</pre>"
      ],
      "text/plain": [
       "recommendations finished on 52000/62483 queries. users per second: 167503"
      ]
     },
     "metadata": {},
     "output_type": "display_data"
    },
    {
     "data": {
      "text/html": [
       "<pre>recommendations finished on 53000/62483 queries. users per second: 167606</pre>"
      ],
      "text/plain": [
       "recommendations finished on 53000/62483 queries. users per second: 167606"
      ]
     },
     "metadata": {},
     "output_type": "display_data"
    },
    {
     "data": {
      "text/html": [
       "<pre>recommendations finished on 54000/62483 queries. users per second: 167618</pre>"
      ],
      "text/plain": [
       "recommendations finished on 54000/62483 queries. users per second: 167618"
      ]
     },
     "metadata": {},
     "output_type": "display_data"
    },
    {
     "data": {
      "text/html": [
       "<pre>recommendations finished on 55000/62483 queries. users per second: 167220</pre>"
      ],
      "text/plain": [
       "recommendations finished on 55000/62483 queries. users per second: 167220"
      ]
     },
     "metadata": {},
     "output_type": "display_data"
    },
    {
     "data": {
      "text/html": [
       "<pre>recommendations finished on 56000/62483 queries. users per second: 166660</pre>"
      ],
      "text/plain": [
       "recommendations finished on 56000/62483 queries. users per second: 166660"
      ]
     },
     "metadata": {},
     "output_type": "display_data"
    },
    {
     "data": {
      "text/html": [
       "<pre>recommendations finished on 57000/62483 queries. users per second: 165697</pre>"
      ],
      "text/plain": [
       "recommendations finished on 57000/62483 queries. users per second: 165697"
      ]
     },
     "metadata": {},
     "output_type": "display_data"
    },
    {
     "data": {
      "text/html": [
       "<pre>recommendations finished on 58000/62483 queries. users per second: 164852</pre>"
      ],
      "text/plain": [
       "recommendations finished on 58000/62483 queries. users per second: 164852"
      ]
     },
     "metadata": {},
     "output_type": "display_data"
    },
    {
     "data": {
      "text/html": [
       "<pre>recommendations finished on 59000/62483 queries. users per second: 164524</pre>"
      ],
      "text/plain": [
       "recommendations finished on 59000/62483 queries. users per second: 164524"
      ]
     },
     "metadata": {},
     "output_type": "display_data"
    },
    {
     "data": {
      "text/html": [
       "<pre>recommendations finished on 60000/62483 queries. users per second: 163952</pre>"
      ],
      "text/plain": [
       "recommendations finished on 60000/62483 queries. users per second: 163952"
      ]
     },
     "metadata": {},
     "output_type": "display_data"
    },
    {
     "data": {
      "text/html": [
       "<pre>recommendations finished on 61000/62483 queries. users per second: 163071</pre>"
      ],
      "text/plain": [
       "recommendations finished on 61000/62483 queries. users per second: 163071"
      ]
     },
     "metadata": {},
     "output_type": "display_data"
    },
    {
     "data": {
      "text/html": [
       "<pre>recommendations finished on 62000/62483 queries. users per second: 161088</pre>"
      ],
      "text/plain": [
       "recommendations finished on 62000/62483 queries. users per second: 161088"
      ]
     },
     "metadata": {},
     "output_type": "display_data"
    },
    {
     "name": "stdout",
     "output_type": "stream",
     "text": [
      "+------------+-----------+---------------+------+\n",
      "| customerId | productId |     score     | rank |\n",
      "+------------+-----------+---------------+------+\n",
      "|     0      |    132    | 3.32075471698 |  1   |\n",
      "|     0      |     37    | 3.09865470852 |  2   |\n",
      "|     0      |     27    | 3.02803738318 |  3   |\n",
      "|     0      |     0     | 2.99461786868 |  4   |\n",
      "|     0      |     34    | 2.98701298701 |  5   |\n",
      "|     0      |    248    | 2.85365853659 |  6   |\n",
      "|     0      |     3     | 2.76849642005 |  7   |\n",
      "|     0      |     82    | 2.71153846154 |  8   |\n",
      "|     0      |    110    | 2.59868421053 |  9   |\n",
      "|     0      |     10    | 2.57239057239 |  10  |\n",
      "|     1      |    132    | 3.32075471698 |  1   |\n",
      "|     1      |     37    | 3.09865470852 |  2   |\n",
      "|     1      |     27    | 3.02803738318 |  3   |\n",
      "|     1      |     0     | 2.99461786868 |  4   |\n",
      "|     1      |     34    | 2.98701298701 |  5   |\n",
      "|     1      |    248    | 2.85365853659 |  6   |\n",
      "|     1      |     3     | 2.76849642005 |  7   |\n",
      "|     1      |     82    | 2.71153846154 |  8   |\n",
      "|     1      |    110    | 2.59868421053 |  9   |\n",
      "|     1      |     10    | 2.57239057239 |  10  |\n",
      "|     2      |    132    | 3.32075471698 |  1   |\n",
      "|     2      |     37    | 3.09865470852 |  2   |\n",
      "|     2      |     27    | 3.02803738318 |  3   |\n",
      "|     2      |     0     | 2.99461786868 |  4   |\n",
      "|     2      |     34    | 2.98701298701 |  5   |\n",
      "|     2      |    248    | 2.85365853659 |  6   |\n",
      "|     2      |     3     | 2.76849642005 |  7   |\n",
      "|     2      |     82    | 2.71153846154 |  8   |\n",
      "|     2      |    110    | 2.59868421053 |  9   |\n",
      "|     2      |     10    | 2.57239057239 |  10  |\n",
      "+------------+-----------+---------------+------+\n",
      "[624830 rows x 4 columns]\n",
      "\n"
     ]
    }
   ],
   "source": [
    "popularity_recomm = popularity_model.recommend(users=users_to_recommend, k=n_rec)\n",
    "popularity_recomm.print_rows(n_display)"
   ]
  },
  {
   "cell_type": "code",
   "execution_count": 137,
   "metadata": {},
   "outputs": [],
   "source": [
    "def model(train_data, name, user_id, item_id, target, users_to_recommend, n_rec, n_display):\n",
    "    if name == 'popularity':\n",
    "        model = tc.popularity_recommender.create(train_data, \n",
    "                                                    user_id=user_id, \n",
    "                                                    item_id=item_id, \n",
    "                                                    target=target)\n",
    "    elif name == 'cosine':\n",
    "        model = tc.item_similarity_recommender.create(train_data, \n",
    "                                                    user_id=user_id, \n",
    "                                                    item_id=item_id, \n",
    "                                                    target=target, \n",
    "                                                    similarity_type='cosine')\n",
    "    elif name == 'pearson':\n",
    "        model = tc.item_similarity_recommender.create(train_data, \n",
    "                                                    user_id=user_id, \n",
    "                                                    item_id=item_id, \n",
    "                                                    target=target, \n",
    "                                                    similarity_type='pearson')\n",
    "        \n",
    "    recom = model.recommend(users=users_to_recommend, k=n_rec)\n",
    "    recom.print_rows(n_display)\n",
    "    return model"
   ]
  },
  {
   "cell_type": "code",
   "execution_count": 138,
   "metadata": {},
   "outputs": [],
   "source": [
    "user_id = 'customerId'\n",
    "item_id = 'productId'\n",
    "users_to_recommend = list(customers[user_id])\n",
    "n_rec = 10 # number of items to recommend\n",
    "n_display = 30 # to print the head / first few rows in a defined dataset"
   ]
  },
  {
   "cell_type": "code",
   "execution_count": 139,
   "metadata": {},
   "outputs": [
    {
     "data": {
      "text/html": [
       "<pre>Warning: Ignoring columns purchase_count;</pre>"
      ],
      "text/plain": [
       "Warning: Ignoring columns purchase_count;"
      ]
     },
     "metadata": {},
     "output_type": "display_data"
    },
    {
     "data": {
      "text/html": [
       "<pre>    To use these columns in scoring predictions, use a model that allows the use of additional features.</pre>"
      ],
      "text/plain": [
       "    To use these columns in scoring predictions, use a model that allows the use of additional features."
      ]
     },
     "metadata": {},
     "output_type": "display_data"
    },
    {
     "data": {
      "text/html": [
       "<pre>Preparing data set.</pre>"
      ],
      "text/plain": [
       "Preparing data set."
      ]
     },
     "metadata": {},
     "output_type": "display_data"
    },
    {
     "data": {
      "text/html": [
       "<pre>    Data has 106868 observations with 23324 users and 300 items.</pre>"
      ],
      "text/plain": [
       "    Data has 106868 observations with 23324 users and 300 items."
      ]
     },
     "metadata": {},
     "output_type": "display_data"
    },
    {
     "data": {
      "text/html": [
       "<pre>    Data prepared in: 0.087207s</pre>"
      ],
      "text/plain": [
       "    Data prepared in: 0.087207s"
      ]
     },
     "metadata": {},
     "output_type": "display_data"
    },
    {
     "data": {
      "text/html": [
       "<pre>106868 observations to process; with 300 unique items.</pre>"
      ],
      "text/plain": [
       "106868 observations to process; with 300 unique items."
      ]
     },
     "metadata": {},
     "output_type": "display_data"
    },
    {
     "data": {
      "text/html": [
       "<pre>recommendations finished on 1000/1000 queries. users per second: 157679</pre>"
      ],
      "text/plain": [
       "recommendations finished on 1000/1000 queries. users per second: 157679"
      ]
     },
     "metadata": {},
     "output_type": "display_data"
    },
    {
     "name": "stdout",
     "output_type": "stream",
     "text": [
      "+------------+-----------+-------+------+\n",
      "| customerId | productId | score | rank |\n",
      "+------------+-----------+-------+------+\n",
      "|    1553    |    167    |  1.0  |  1   |\n",
      "|    1553    |    259    |  1.0  |  2   |\n",
      "|    1553    |    152    |  1.0  |  3   |\n",
      "|    1553    |     44    |  1.0  |  4   |\n",
      "|    1553    |    115    |  1.0  |  5   |\n",
      "|    1553    |     2     |  1.0  |  6   |\n",
      "|    1553    |     1     |  1.0  |  7   |\n",
      "|    1553    |    190    |  1.0  |  8   |\n",
      "|    1553    |    109    |  1.0  |  9   |\n",
      "|    1553    |    183    |  1.0  |  10  |\n",
      "|   20400    |    167    |  1.0  |  1   |\n",
      "|   20400    |    259    |  1.0  |  2   |\n",
      "|   20400    |    152    |  1.0  |  3   |\n",
      "|   20400    |     44    |  1.0  |  4   |\n",
      "|   20400    |    115    |  1.0  |  5   |\n",
      "|   20400    |     2     |  1.0  |  6   |\n",
      "|   20400    |     1     |  1.0  |  7   |\n",
      "|   20400    |    190    |  1.0  |  8   |\n",
      "|   20400    |    109    |  1.0  |  9   |\n",
      "|   20400    |    183    |  1.0  |  10  |\n",
      "|   19750    |    167    |  1.0  |  1   |\n",
      "|   19750    |    259    |  1.0  |  2   |\n",
      "|   19750    |    152    |  1.0  |  3   |\n",
      "|   19750    |     44    |  1.0  |  4   |\n",
      "|   19750    |    115    |  1.0  |  5   |\n",
      "|   19750    |     2     |  1.0  |  6   |\n",
      "|   19750    |     1     |  1.0  |  7   |\n",
      "|   19750    |    190    |  1.0  |  8   |\n",
      "|   19750    |    109    |  1.0  |  9   |\n",
      "|   19750    |    183    |  1.0  |  10  |\n",
      "+------------+-----------+-------+------+\n",
      "[10000 rows x 4 columns]\n",
      "\n"
     ]
    }
   ],
   "source": [
    "name = 'popularity'\n",
    "target = 'purchase_dummy'\n",
    "pop_dummy = model(train_data_dummy, name, user_id, item_id, target, users_to_recommend, n_rec, n_display)"
   ]
  },
  {
   "cell_type": "code",
   "execution_count": 113,
   "metadata": {},
   "outputs": [
    {
     "data": {
      "text/html": [
       "<pre>Preparing data set.</pre>"
      ],
      "text/plain": [
       "Preparing data set."
      ]
     },
     "metadata": {},
     "output_type": "display_data"
    },
    {
     "data": {
      "text/html": [
       "<pre>    Data has 106868 observations with 23295 users and 300 items.</pre>"
      ],
      "text/plain": [
       "    Data has 106868 observations with 23295 users and 300 items."
      ]
     },
     "metadata": {},
     "output_type": "display_data"
    },
    {
     "data": {
      "text/html": [
       "<pre>    Data prepared in: 0.096533s</pre>"
      ],
      "text/plain": [
       "    Data prepared in: 0.096533s"
      ]
     },
     "metadata": {},
     "output_type": "display_data"
    },
    {
     "data": {
      "text/html": [
       "<pre>106868 observations to process; with 300 unique items.</pre>"
      ],
      "text/plain": [
       "106868 observations to process; with 300 unique items."
      ]
     },
     "metadata": {},
     "output_type": "display_data"
    },
    {
     "data": {
      "text/html": [
       "<pre>recommendations finished on 1000/1000 queries. users per second: 82905</pre>"
      ],
      "text/plain": [
       "recommendations finished on 1000/1000 queries. users per second: 82905"
      ]
     },
     "metadata": {},
     "output_type": "display_data"
    },
    {
     "name": "stdout",
     "output_type": "stream",
     "text": [
      "+------------+-----------+----------------+------+\n",
      "| customerId | productId |     score      | rank |\n",
      "+------------+-----------+----------------+------+\n",
      "|    1553    |    226    | 0.776595744681 |  1   |\n",
      "|    1553    |    247    | 0.325136612022 |  2   |\n",
      "|    1553    |    230    | 0.324444444444 |  3   |\n",
      "|    1553    |    125    | 0.258156028369 |  4   |\n",
      "|    1553    |    294    | 0.254135338346 |  5   |\n",
      "|    1553    |     83    | 0.236842105263 |  6   |\n",
      "|    1553    |    276    | 0.236111111111 |  7   |\n",
      "|    1553    |    213    | 0.233494363929 |  8   |\n",
      "|    1553    |    248    | 0.232558139535 |  9   |\n",
      "|    1553    |    165    | 0.230446927374 |  10  |\n",
      "|    1553    |     72    | 0.225840336134 |  11  |\n",
      "|    1553    |    204    | 0.224691358025 |  12  |\n",
      "|    1553    |    155    | 0.220689655172 |  13  |\n",
      "|    1553    |    129    | 0.215927750411 |  14  |\n",
      "|    1553    |    128    | 0.213365539452 |  15  |\n",
      "|    1553    |     32    | 0.210820895522 |  16  |\n",
      "|    1553    |    171    | 0.20782122905  |  17  |\n",
      "|    1553    |    284    | 0.207317073171 |  18  |\n",
      "|    1553    |     74    | 0.206018518519 |  19  |\n",
      "|    1553    |    197    |      0.2       |  20  |\n",
      "|   20400    |    226    | 0.776595744681 |  1   |\n",
      "|   20400    |    247    | 0.325136612022 |  2   |\n",
      "|   20400    |    230    | 0.324444444444 |  3   |\n",
      "|   20400    |    125    | 0.258156028369 |  4   |\n",
      "|   20400    |    294    | 0.254135338346 |  5   |\n",
      "|   20400    |     83    | 0.236842105263 |  6   |\n",
      "|   20400    |    276    | 0.236111111111 |  7   |\n",
      "|   20400    |    213    | 0.233494363929 |  8   |\n",
      "|   20400    |    248    | 0.232558139535 |  9   |\n",
      "|   20400    |    165    | 0.230446927374 |  10  |\n",
      "+------------+-----------+----------------+------+\n",
      "[20000 rows x 4 columns]\n",
      "\n"
     ]
    }
   ],
   "source": [
    "name = 'popularity'\n",
    "target = 'scaled_purchase_freq'\n",
    "pop_norm = model(train_data_norm, name, user_id, item_id, target, users_to_recommend, n_rec, n_display)"
   ]
  },
  {
   "cell_type": "code",
   "execution_count": 140,
   "metadata": {},
   "outputs": [
    {
     "data": {
      "text/plain": [
       "productId\n",
       "132    3.320755\n",
       "37     3.098655\n",
       "27     3.028037\n",
       "0      2.994618\n",
       "34     2.987013\n",
       "248    2.853659\n",
       "3      2.768496\n",
       "82     2.711538\n",
       "110    2.598684\n",
       "10     2.572391\n",
       "230    2.533898\n",
       "58     2.519481\n",
       "32     2.515337\n",
       "226    2.504202\n",
       "129    2.493590\n",
       "252    2.458333\n",
       "87     2.447236\n",
       "91     2.423645\n",
       "54     2.392000\n",
       "68     2.361386\n",
       "Name: purchase_count, dtype: float64"
      ]
     },
     "execution_count": 140,
     "metadata": {},
     "output_type": "execute_result"
    }
   ],
   "source": [
    "train.groupby(by=item_id)['purchase_count'].mean().sort_values(ascending=False).head(20)"
   ]
  },
  {
   "cell_type": "code",
   "execution_count": 115,
   "metadata": {},
   "outputs": [
    {
     "data": {
      "text/html": [
       "<pre>Preparing data set.</pre>"
      ],
      "text/plain": [
       "Preparing data set."
      ]
     },
     "metadata": {},
     "output_type": "display_data"
    },
    {
     "data": {
      "text/html": [
       "<pre>    Data has 93509 observations with 22576 users and 300 items.</pre>"
      ],
      "text/plain": [
       "    Data has 93509 observations with 22576 users and 300 items."
      ]
     },
     "metadata": {},
     "output_type": "display_data"
    },
    {
     "data": {
      "text/html": [
       "<pre>    Data prepared in: 0.087732s</pre>"
      ],
      "text/plain": [
       "    Data prepared in: 0.087732s"
      ]
     },
     "metadata": {},
     "output_type": "display_data"
    },
    {
     "data": {
      "text/html": [
       "<pre>Training model from provided data.</pre>"
      ],
      "text/plain": [
       "Training model from provided data."
      ]
     },
     "metadata": {},
     "output_type": "display_data"
    },
    {
     "data": {
      "text/html": [
       "<pre>Gathering per-item and per-user statistics.</pre>"
      ],
      "text/plain": [
       "Gathering per-item and per-user statistics."
      ]
     },
     "metadata": {},
     "output_type": "display_data"
    },
    {
     "data": {
      "text/html": [
       "<pre>+--------------------------------+------------+</pre>"
      ],
      "text/plain": [
       "+--------------------------------+------------+"
      ]
     },
     "metadata": {},
     "output_type": "display_data"
    },
    {
     "data": {
      "text/html": [
       "<pre>| Elapsed Time (Item Statistics) | % Complete |</pre>"
      ],
      "text/plain": [
       "| Elapsed Time (Item Statistics) | % Complete |"
      ]
     },
     "metadata": {},
     "output_type": "display_data"
    },
    {
     "data": {
      "text/html": [
       "<pre>+--------------------------------+------------+</pre>"
      ],
      "text/plain": [
       "+--------------------------------+------------+"
      ]
     },
     "metadata": {},
     "output_type": "display_data"
    },
    {
     "data": {
      "text/html": [
       "<pre>| 781us                          | 4.25       |</pre>"
      ],
      "text/plain": [
       "| 781us                          | 4.25       |"
      ]
     },
     "metadata": {},
     "output_type": "display_data"
    },
    {
     "data": {
      "text/html": [
       "<pre>| 4.903ms                        | 100        |</pre>"
      ],
      "text/plain": [
       "| 4.903ms                        | 100        |"
      ]
     },
     "metadata": {},
     "output_type": "display_data"
    },
    {
     "data": {
      "text/html": [
       "<pre>+--------------------------------+------------+</pre>"
      ],
      "text/plain": [
       "+--------------------------------+------------+"
      ]
     },
     "metadata": {},
     "output_type": "display_data"
    },
    {
     "data": {
      "text/html": [
       "<pre>Setting up lookup tables.</pre>"
      ],
      "text/plain": [
       "Setting up lookup tables."
      ]
     },
     "metadata": {},
     "output_type": "display_data"
    },
    {
     "data": {
      "text/html": [
       "<pre>Processing data in one pass using dense lookup tables.</pre>"
      ],
      "text/plain": [
       "Processing data in one pass using dense lookup tables."
      ]
     },
     "metadata": {},
     "output_type": "display_data"
    },
    {
     "data": {
      "text/html": [
       "<pre>+-------------------------------------+------------------+-----------------+</pre>"
      ],
      "text/plain": [
       "+-------------------------------------+------------------+-----------------+"
      ]
     },
     "metadata": {},
     "output_type": "display_data"
    },
    {
     "data": {
      "text/html": [
       "<pre>| Elapsed Time (Constructing Lookups) | Total % Complete | Items Processed |</pre>"
      ],
      "text/plain": [
       "| Elapsed Time (Constructing Lookups) | Total % Complete | Items Processed |"
      ]
     },
     "metadata": {},
     "output_type": "display_data"
    },
    {
     "data": {
      "text/html": [
       "<pre>+-------------------------------------+------------------+-----------------+</pre>"
      ],
      "text/plain": [
       "+-------------------------------------+------------------+-----------------+"
      ]
     },
     "metadata": {},
     "output_type": "display_data"
    },
    {
     "data": {
      "text/html": [
       "<pre>| 5.46ms                              | 0                | 0               |</pre>"
      ],
      "text/plain": [
       "| 5.46ms                              | 0                | 0               |"
      ]
     },
     "metadata": {},
     "output_type": "display_data"
    },
    {
     "data": {
      "text/html": [
       "<pre>| 30.708ms                            | 100              | 300             |</pre>"
      ],
      "text/plain": [
       "| 30.708ms                            | 100              | 300             |"
      ]
     },
     "metadata": {},
     "output_type": "display_data"
    },
    {
     "data": {
      "text/html": [
       "<pre>+-------------------------------------+------------------+-----------------+</pre>"
      ],
      "text/plain": [
       "+-------------------------------------+------------------+-----------------+"
      ]
     },
     "metadata": {},
     "output_type": "display_data"
    },
    {
     "data": {
      "text/html": [
       "<pre>Finalizing lookup tables.</pre>"
      ],
      "text/plain": [
       "Finalizing lookup tables."
      ]
     },
     "metadata": {},
     "output_type": "display_data"
    },
    {
     "data": {
      "text/html": [
       "<pre>Generating candidate set for working with new users.</pre>"
      ],
      "text/plain": [
       "Generating candidate set for working with new users."
      ]
     },
     "metadata": {},
     "output_type": "display_data"
    },
    {
     "data": {
      "text/html": [
       "<pre>Finished training in 0.046189s</pre>"
      ],
      "text/plain": [
       "Finished training in 0.046189s"
      ]
     },
     "metadata": {},
     "output_type": "display_data"
    },
    {
     "data": {
      "text/html": [
       "<pre>recommendations finished on 1000/1000 queries. users per second: 36905.8</pre>"
      ],
      "text/plain": [
       "recommendations finished on 1000/1000 queries. users per second: 36905.8"
      ]
     },
     "metadata": {},
     "output_type": "display_data"
    },
    {
     "name": "stdout",
     "output_type": "stream",
     "text": [
      "+------------+-----------+-----------------+------+\n",
      "| customerId | productId |      score      | rank |\n",
      "+------------+-----------+-----------------+------+\n",
      "|    1553    |     5     | 0.0662034004927 |  1   |\n",
      "|    1553    |     1     | 0.0642025619745 |  2   |\n",
      "|    1553    |     2     | 0.0604064762592 |  3   |\n",
      "|    1553    |     41    | 0.0507854223251 |  4   |\n",
      "|    1553    |     33    | 0.0480920523405 |  5   |\n",
      "|    1553    |     35    | 0.0480533838272 |  6   |\n",
      "|    1553    |    269    | 0.0455253869295 |  7   |\n",
      "|    1553    |     8     | 0.0421492606401 |  8   |\n",
      "|    1553    |     14    | 0.0410356968641 |  9   |\n",
      "|    1553    |     31    | 0.0384743213654 |  10  |\n",
      "|    1553    |    170    | 0.0344718694687 |  11  |\n",
      "|    1553    |     20    | 0.0341895222664 |  12  |\n",
      "|    1553    |     68    | 0.0340424478054 |  13  |\n",
      "|    1553    |     82    | 0.0325220674276 |  14  |\n",
      "|    1553    |     59    | 0.0303804725409 |  15  |\n",
      "|    1553    |    195    | 0.0302475839853 |  16  |\n",
      "|    1553    |     30    | 0.0292303711176 |  17  |\n",
      "|    1553    |     15    | 0.0279010683298 |  18  |\n",
      "|    1553    |     76    | 0.0278290212154 |  19  |\n",
      "|    1553    |    238    | 0.0276721268892 |  20  |\n",
      "|   20400    |    280    | 0.0924260616302 |  1   |\n",
      "|   20400    |     75    | 0.0383624434471 |  2   |\n",
      "|   20400    |    122    | 0.0355035662651 |  3   |\n",
      "|   20400    |    299    | 0.0339722037315 |  4   |\n",
      "|   20400    |     56    | 0.0338193774223 |  5   |\n",
      "|   20400    |    142    | 0.0329287648201 |  6   |\n",
      "|   20400    |    132    | 0.0325613021851 |  7   |\n",
      "|   20400    |     58    | 0.0323106050491 |  8   |\n",
      "|   20400    |    129    | 0.0316472053528 |  9   |\n",
      "|   20400    |     7     | 0.0295712351799 |  10  |\n",
      "+------------+-----------+-----------------+------+\n",
      "[20000 rows x 4 columns]\n",
      "\n"
     ]
    }
   ],
   "source": [
    "name = 'cosine'\n",
    "target = 'purchase_count'\n",
    "cos = model(train_data, name, user_id, item_id, target, users_to_recommend, n_rec, n_display)"
   ]
  },
  {
   "cell_type": "code",
   "execution_count": 141,
   "metadata": {},
   "outputs": [
    {
     "data": {
      "text/html": [
       "<pre>Warning: Ignoring columns purchase_count;</pre>"
      ],
      "text/plain": [
       "Warning: Ignoring columns purchase_count;"
      ]
     },
     "metadata": {},
     "output_type": "display_data"
    },
    {
     "data": {
      "text/html": [
       "<pre>    To use these columns in scoring predictions, use a model that allows the use of additional features.</pre>"
      ],
      "text/plain": [
       "    To use these columns in scoring predictions, use a model that allows the use of additional features."
      ]
     },
     "metadata": {},
     "output_type": "display_data"
    },
    {
     "data": {
      "text/html": [
       "<pre>Preparing data set.</pre>"
      ],
      "text/plain": [
       "Preparing data set."
      ]
     },
     "metadata": {},
     "output_type": "display_data"
    },
    {
     "data": {
      "text/html": [
       "<pre>    Data has 106868 observations with 23324 users and 300 items.</pre>"
      ],
      "text/plain": [
       "    Data has 106868 observations with 23324 users and 300 items."
      ]
     },
     "metadata": {},
     "output_type": "display_data"
    },
    {
     "data": {
      "text/html": [
       "<pre>    Data prepared in: 0.090493s</pre>"
      ],
      "text/plain": [
       "    Data prepared in: 0.090493s"
      ]
     },
     "metadata": {},
     "output_type": "display_data"
    },
    {
     "data": {
      "text/html": [
       "<pre>Training model from provided data.</pre>"
      ],
      "text/plain": [
       "Training model from provided data."
      ]
     },
     "metadata": {},
     "output_type": "display_data"
    },
    {
     "data": {
      "text/html": [
       "<pre>Gathering per-item and per-user statistics.</pre>"
      ],
      "text/plain": [
       "Gathering per-item and per-user statistics."
      ]
     },
     "metadata": {},
     "output_type": "display_data"
    },
    {
     "data": {
      "text/html": [
       "<pre>+--------------------------------+------------+</pre>"
      ],
      "text/plain": [
       "+--------------------------------+------------+"
      ]
     },
     "metadata": {},
     "output_type": "display_data"
    },
    {
     "data": {
      "text/html": [
       "<pre>| Elapsed Time (Item Statistics) | % Complete |</pre>"
      ],
      "text/plain": [
       "| Elapsed Time (Item Statistics) | % Complete |"
      ]
     },
     "metadata": {},
     "output_type": "display_data"
    },
    {
     "data": {
      "text/html": [
       "<pre>+--------------------------------+------------+</pre>"
      ],
      "text/plain": [
       "+--------------------------------+------------+"
      ]
     },
     "metadata": {},
     "output_type": "display_data"
    },
    {
     "data": {
      "text/html": [
       "<pre>| 1.043ms                        | 4.25       |</pre>"
      ],
      "text/plain": [
       "| 1.043ms                        | 4.25       |"
      ]
     },
     "metadata": {},
     "output_type": "display_data"
    },
    {
     "data": {
      "text/html": [
       "<pre>| 5.15ms                         | 100        |</pre>"
      ],
      "text/plain": [
       "| 5.15ms                         | 100        |"
      ]
     },
     "metadata": {},
     "output_type": "display_data"
    },
    {
     "data": {
      "text/html": [
       "<pre>+--------------------------------+------------+</pre>"
      ],
      "text/plain": [
       "+--------------------------------+------------+"
      ]
     },
     "metadata": {},
     "output_type": "display_data"
    },
    {
     "data": {
      "text/html": [
       "<pre>Setting up lookup tables.</pre>"
      ],
      "text/plain": [
       "Setting up lookup tables."
      ]
     },
     "metadata": {},
     "output_type": "display_data"
    },
    {
     "data": {
      "text/html": [
       "<pre>Processing data in one pass using dense lookup tables.</pre>"
      ],
      "text/plain": [
       "Processing data in one pass using dense lookup tables."
      ]
     },
     "metadata": {},
     "output_type": "display_data"
    },
    {
     "data": {
      "text/html": [
       "<pre>+-------------------------------------+------------------+-----------------+</pre>"
      ],
      "text/plain": [
       "+-------------------------------------+------------------+-----------------+"
      ]
     },
     "metadata": {},
     "output_type": "display_data"
    },
    {
     "data": {
      "text/html": [
       "<pre>| Elapsed Time (Constructing Lookups) | Total % Complete | Items Processed |</pre>"
      ],
      "text/plain": [
       "| Elapsed Time (Constructing Lookups) | Total % Complete | Items Processed |"
      ]
     },
     "metadata": {},
     "output_type": "display_data"
    },
    {
     "data": {
      "text/html": [
       "<pre>+-------------------------------------+------------------+-----------------+</pre>"
      ],
      "text/plain": [
       "+-------------------------------------+------------------+-----------------+"
      ]
     },
     "metadata": {},
     "output_type": "display_data"
    },
    {
     "data": {
      "text/html": [
       "<pre>| 6.39ms                              | 0                | 0               |</pre>"
      ],
      "text/plain": [
       "| 6.39ms                              | 0                | 0               |"
      ]
     },
     "metadata": {},
     "output_type": "display_data"
    },
    {
     "data": {
      "text/html": [
       "<pre>| 21.69ms                             | 100              | 300             |</pre>"
      ],
      "text/plain": [
       "| 21.69ms                             | 100              | 300             |"
      ]
     },
     "metadata": {},
     "output_type": "display_data"
    },
    {
     "data": {
      "text/html": [
       "<pre>+-------------------------------------+------------------+-----------------+</pre>"
      ],
      "text/plain": [
       "+-------------------------------------+------------------+-----------------+"
      ]
     },
     "metadata": {},
     "output_type": "display_data"
    },
    {
     "data": {
      "text/html": [
       "<pre>Finalizing lookup tables.</pre>"
      ],
      "text/plain": [
       "Finalizing lookup tables."
      ]
     },
     "metadata": {},
     "output_type": "display_data"
    },
    {
     "data": {
      "text/html": [
       "<pre>Generating candidate set for working with new users.</pre>"
      ],
      "text/plain": [
       "Generating candidate set for working with new users."
      ]
     },
     "metadata": {},
     "output_type": "display_data"
    },
    {
     "data": {
      "text/html": [
       "<pre>Finished training in 0.037295s</pre>"
      ],
      "text/plain": [
       "Finished training in 0.037295s"
      ]
     },
     "metadata": {},
     "output_type": "display_data"
    },
    {
     "data": {
      "text/html": [
       "<pre>recommendations finished on 1000/1000 queries. users per second: 80716.8</pre>"
      ],
      "text/plain": [
       "recommendations finished on 1000/1000 queries. users per second: 80716.8"
      ]
     },
     "metadata": {},
     "output_type": "display_data"
    },
    {
     "name": "stdout",
     "output_type": "stream",
     "text": [
      "+------------+-----------+-----------------+------+\n",
      "| customerId | productId |      score      | rank |\n",
      "+------------+-----------+-----------------+------+\n",
      "|    1553    |     35    | 0.0922882755597 |  1   |\n",
      "|    1553    |     1     | 0.0803789893786 |  2   |\n",
      "|    1553    |     5     | 0.0718193650246 |  3   |\n",
      "|    1553    |     2     |  0.067600051562 |  4   |\n",
      "|    1553    |     60    | 0.0455016096433 |  5   |\n",
      "|    1553    |     31    | 0.0415543317795 |  6   |\n",
      "|    1553    |     11    | 0.0397038459778 |  7   |\n",
      "|    1553    |     21    | 0.0389223694801 |  8   |\n",
      "|    1553    |     33    | 0.0389115810394 |  9   |\n",
      "|    1553    |    167    | 0.0370626052221 |  10  |\n",
      "|   20400    |    246    | 0.0547626614571 |  1   |\n",
      "|   20400    |     26    | 0.0501618981361 |  2   |\n",
      "|   20400    |    113    | 0.0489296317101 |  3   |\n",
      "|   20400    |    215    |  0.044035255909 |  4   |\n",
      "|   20400    |     1     | 0.0411549806595 |  5   |\n",
      "|   20400    |     74    | 0.0408044457436 |  6   |\n",
      "|   20400    |    128    |  0.040308535099 |  7   |\n",
      "|   20400    |     9     | 0.0392503738403 |  8   |\n",
      "|   20400    |    224    | 0.0388650298119 |  9   |\n",
      "|   20400    |     27    | 0.0387419462204 |  10  |\n",
      "|   19750    |     38    |  0.111253833771 |  1   |\n",
      "|   19750    |     48    |  0.106334161758 |  2   |\n",
      "|   19750    |     36    |   0.1052085042  |  3   |\n",
      "|   19750    |     79    | 0.0888121843338 |  4   |\n",
      "|   19750    |     2     | 0.0761135220528 |  5   |\n",
      "|   19750    |     14    | 0.0618012666702 |  6   |\n",
      "|   19750    |     5     | 0.0610339522362 |  7   |\n",
      "|   19750    |     1     | 0.0592217922211 |  8   |\n",
      "|   19750    |     17    | 0.0553828835487 |  9   |\n",
      "|   19750    |     21    |  0.054590010643 |  10  |\n",
      "+------------+-----------+-----------------+------+\n",
      "[10000 rows x 4 columns]\n",
      "\n"
     ]
    }
   ],
   "source": [
    "name = 'cosine'\n",
    "target = 'purchase_dummy'\n",
    "cos_dummy = model(train_data_dummy, name, user_id, item_id, target, users_to_recommend, n_rec, n_display)"
   ]
  },
  {
   "cell_type": "code",
   "execution_count": 142,
   "metadata": {},
   "outputs": [
    {
     "data": {
      "text/html": [
       "<pre>Preparing data set.</pre>"
      ],
      "text/plain": [
       "Preparing data set."
      ]
     },
     "metadata": {},
     "output_type": "display_data"
    },
    {
     "data": {
      "text/html": [
       "<pre>    Data has 106868 observations with 23295 users and 300 items.</pre>"
      ],
      "text/plain": [
       "    Data has 106868 observations with 23295 users and 300 items."
      ]
     },
     "metadata": {},
     "output_type": "display_data"
    },
    {
     "data": {
      "text/html": [
       "<pre>    Data prepared in: 0.193102s</pre>"
      ],
      "text/plain": [
       "    Data prepared in: 0.193102s"
      ]
     },
     "metadata": {},
     "output_type": "display_data"
    },
    {
     "data": {
      "text/html": [
       "<pre>Training model from provided data.</pre>"
      ],
      "text/plain": [
       "Training model from provided data."
      ]
     },
     "metadata": {},
     "output_type": "display_data"
    },
    {
     "data": {
      "text/html": [
       "<pre>Gathering per-item and per-user statistics.</pre>"
      ],
      "text/plain": [
       "Gathering per-item and per-user statistics."
      ]
     },
     "metadata": {},
     "output_type": "display_data"
    },
    {
     "data": {
      "text/html": [
       "<pre>+--------------------------------+------------+</pre>"
      ],
      "text/plain": [
       "+--------------------------------+------------+"
      ]
     },
     "metadata": {},
     "output_type": "display_data"
    },
    {
     "data": {
      "text/html": [
       "<pre>| Elapsed Time (Item Statistics) | % Complete |</pre>"
      ],
      "text/plain": [
       "| Elapsed Time (Item Statistics) | % Complete |"
      ]
     },
     "metadata": {},
     "output_type": "display_data"
    },
    {
     "data": {
      "text/html": [
       "<pre>+--------------------------------+------------+</pre>"
      ],
      "text/plain": [
       "+--------------------------------+------------+"
      ]
     },
     "metadata": {},
     "output_type": "display_data"
    },
    {
     "data": {
      "text/html": [
       "<pre>| 917us                          | 4.25       |</pre>"
      ],
      "text/plain": [
       "| 917us                          | 4.25       |"
      ]
     },
     "metadata": {},
     "output_type": "display_data"
    },
    {
     "data": {
      "text/html": [
       "<pre>| 5.205ms                        | 100        |</pre>"
      ],
      "text/plain": [
       "| 5.205ms                        | 100        |"
      ]
     },
     "metadata": {},
     "output_type": "display_data"
    },
    {
     "data": {
      "text/html": [
       "<pre>+--------------------------------+------------+</pre>"
      ],
      "text/plain": [
       "+--------------------------------+------------+"
      ]
     },
     "metadata": {},
     "output_type": "display_data"
    },
    {
     "data": {
      "text/html": [
       "<pre>Setting up lookup tables.</pre>"
      ],
      "text/plain": [
       "Setting up lookup tables."
      ]
     },
     "metadata": {},
     "output_type": "display_data"
    },
    {
     "data": {
      "text/html": [
       "<pre>Processing data in one pass using dense lookup tables.</pre>"
      ],
      "text/plain": [
       "Processing data in one pass using dense lookup tables."
      ]
     },
     "metadata": {},
     "output_type": "display_data"
    },
    {
     "data": {
      "text/html": [
       "<pre>+-------------------------------------+------------------+-----------------+</pre>"
      ],
      "text/plain": [
       "+-------------------------------------+------------------+-----------------+"
      ]
     },
     "metadata": {},
     "output_type": "display_data"
    },
    {
     "data": {
      "text/html": [
       "<pre>| Elapsed Time (Constructing Lookups) | Total % Complete | Items Processed |</pre>"
      ],
      "text/plain": [
       "| Elapsed Time (Constructing Lookups) | Total % Complete | Items Processed |"
      ]
     },
     "metadata": {},
     "output_type": "display_data"
    },
    {
     "data": {
      "text/html": [
       "<pre>+-------------------------------------+------------------+-----------------+</pre>"
      ],
      "text/plain": [
       "+-------------------------------------+------------------+-----------------+"
      ]
     },
     "metadata": {},
     "output_type": "display_data"
    },
    {
     "data": {
      "text/html": [
       "<pre>| 5.948ms                             | 0                | 0               |</pre>"
      ],
      "text/plain": [
       "| 5.948ms                             | 0                | 0               |"
      ]
     },
     "metadata": {},
     "output_type": "display_data"
    },
    {
     "data": {
      "text/html": [
       "<pre>| 22.641ms                            | 100              | 300             |</pre>"
      ],
      "text/plain": [
       "| 22.641ms                            | 100              | 300             |"
      ]
     },
     "metadata": {},
     "output_type": "display_data"
    },
    {
     "data": {
      "text/html": [
       "<pre>+-------------------------------------+------------------+-----------------+</pre>"
      ],
      "text/plain": [
       "+-------------------------------------+------------------+-----------------+"
      ]
     },
     "metadata": {},
     "output_type": "display_data"
    },
    {
     "data": {
      "text/html": [
       "<pre>Finalizing lookup tables.</pre>"
      ],
      "text/plain": [
       "Finalizing lookup tables."
      ]
     },
     "metadata": {},
     "output_type": "display_data"
    },
    {
     "data": {
      "text/html": [
       "<pre>Generating candidate set for working with new users.</pre>"
      ],
      "text/plain": [
       "Generating candidate set for working with new users."
      ]
     },
     "metadata": {},
     "output_type": "display_data"
    },
    {
     "data": {
      "text/html": [
       "<pre>Finished training in 0.036761s</pre>"
      ],
      "text/plain": [
       "Finished training in 0.036761s"
      ]
     },
     "metadata": {},
     "output_type": "display_data"
    },
    {
     "data": {
      "text/html": [
       "<pre>recommendations finished on 1000/1000 queries. users per second: 73507.8</pre>"
      ],
      "text/plain": [
       "recommendations finished on 1000/1000 queries. users per second: 73507.8"
      ]
     },
     "metadata": {},
     "output_type": "display_data"
    },
    {
     "name": "stdout",
     "output_type": "stream",
     "text": [
      "+------------+-----------+------------------+------+\n",
      "| customerId | productId |      score       | rank |\n",
      "+------------+-----------+------------------+------+\n",
      "|    1553    |     92    |       0.0        |  1   |\n",
      "|    1553    |    235    |       0.0        |  2   |\n",
      "|    1553    |     48    |       0.0        |  3   |\n",
      "|    1553    |     7     |       0.0        |  4   |\n",
      "|    1553    |    127    |       0.0        |  5   |\n",
      "|    1553    |     37    |       0.0        |  6   |\n",
      "|    1553    |     34    |       0.0        |  7   |\n",
      "|    1553    |    290    |       0.0        |  8   |\n",
      "|    1553    |    185    |       0.0        |  9   |\n",
      "|    1553    |     97    |       0.0        |  10  |\n",
      "|   20400    |    235    |       0.0        |  1   |\n",
      "|   20400    |     48    |       0.0        |  2   |\n",
      "|   20400    |     7     |       0.0        |  3   |\n",
      "|   20400    |    127    |       0.0        |  4   |\n",
      "|   20400    |     37    |       0.0        |  5   |\n",
      "|   20400    |     34    |       0.0        |  6   |\n",
      "|   20400    |     14    |       0.0        |  7   |\n",
      "|   20400    |    290    |       0.0        |  8   |\n",
      "|   20400    |    185    |       0.0        |  9   |\n",
      "|   20400    |     97    |       0.0        |  10  |\n",
      "|   19750    |    225    | 0.00383911132812 |  1   |\n",
      "|   19750    |    178    | 0.00351845026016 |  2   |\n",
      "|   19750    |    187    |  0.003437936306  |  3   |\n",
      "|   19750    |    228    | 0.00329298973083 |  4   |\n",
      "|   19750    |    181    | 0.00307259559631 |  5   |\n",
      "|   19750    |    251    | 0.00287818908691 |  6   |\n",
      "|   19750    |    134    | 0.00278173685074 |  7   |\n",
      "|   19750    |    105    | 0.00268458127975 |  8   |\n",
      "|   19750    |    222    | 0.00267078876495 |  9   |\n",
      "|   19750    |    254    | 0.00244781970978 |  10  |\n",
      "+------------+-----------+------------------+------+\n",
      "[10000 rows x 4 columns]\n",
      "\n"
     ]
    }
   ],
   "source": [
    "name = 'cosine'\n",
    "target = 'scaled_purchase_freq'\n",
    "cos_norm = model(train_data_norm, name, user_id, item_id, target, users_to_recommend, n_rec, n_display)"
   ]
  },
  {
   "cell_type": "code",
   "execution_count": 143,
   "metadata": {},
   "outputs": [
    {
     "data": {
      "text/html": [
       "<pre>Preparing data set.</pre>"
      ],
      "text/plain": [
       "Preparing data set."
      ]
     },
     "metadata": {},
     "output_type": "display_data"
    },
    {
     "data": {
      "text/html": [
       "<pre>    Data has 93509 observations with 22576 users and 300 items.</pre>"
      ],
      "text/plain": [
       "    Data has 93509 observations with 22576 users and 300 items."
      ]
     },
     "metadata": {},
     "output_type": "display_data"
    },
    {
     "data": {
      "text/html": [
       "<pre>    Data prepared in: 0.085903s</pre>"
      ],
      "text/plain": [
       "    Data prepared in: 0.085903s"
      ]
     },
     "metadata": {},
     "output_type": "display_data"
    },
    {
     "data": {
      "text/html": [
       "<pre>Training model from provided data.</pre>"
      ],
      "text/plain": [
       "Training model from provided data."
      ]
     },
     "metadata": {},
     "output_type": "display_data"
    },
    {
     "data": {
      "text/html": [
       "<pre>Gathering per-item and per-user statistics.</pre>"
      ],
      "text/plain": [
       "Gathering per-item and per-user statistics."
      ]
     },
     "metadata": {},
     "output_type": "display_data"
    },
    {
     "data": {
      "text/html": [
       "<pre>+--------------------------------+------------+</pre>"
      ],
      "text/plain": [
       "+--------------------------------+------------+"
      ]
     },
     "metadata": {},
     "output_type": "display_data"
    },
    {
     "data": {
      "text/html": [
       "<pre>| Elapsed Time (Item Statistics) | % Complete |</pre>"
      ],
      "text/plain": [
       "| Elapsed Time (Item Statistics) | % Complete |"
      ]
     },
     "metadata": {},
     "output_type": "display_data"
    },
    {
     "data": {
      "text/html": [
       "<pre>+--------------------------------+------------+</pre>"
      ],
      "text/plain": [
       "+--------------------------------+------------+"
      ]
     },
     "metadata": {},
     "output_type": "display_data"
    },
    {
     "data": {
      "text/html": [
       "<pre>| 822us                          | 4.25       |</pre>"
      ],
      "text/plain": [
       "| 822us                          | 4.25       |"
      ]
     },
     "metadata": {},
     "output_type": "display_data"
    },
    {
     "data": {
      "text/html": [
       "<pre>| 10.772ms                       | 100        |</pre>"
      ],
      "text/plain": [
       "| 10.772ms                       | 100        |"
      ]
     },
     "metadata": {},
     "output_type": "display_data"
    },
    {
     "data": {
      "text/html": [
       "<pre>+--------------------------------+------------+</pre>"
      ],
      "text/plain": [
       "+--------------------------------+------------+"
      ]
     },
     "metadata": {},
     "output_type": "display_data"
    },
    {
     "data": {
      "text/html": [
       "<pre>Setting up lookup tables.</pre>"
      ],
      "text/plain": [
       "Setting up lookup tables."
      ]
     },
     "metadata": {},
     "output_type": "display_data"
    },
    {
     "data": {
      "text/html": [
       "<pre>Processing data in one pass using dense lookup tables.</pre>"
      ],
      "text/plain": [
       "Processing data in one pass using dense lookup tables."
      ]
     },
     "metadata": {},
     "output_type": "display_data"
    },
    {
     "data": {
      "text/html": [
       "<pre>+-------------------------------------+------------------+-----------------+</pre>"
      ],
      "text/plain": [
       "+-------------------------------------+------------------+-----------------+"
      ]
     },
     "metadata": {},
     "output_type": "display_data"
    },
    {
     "data": {
      "text/html": [
       "<pre>| Elapsed Time (Constructing Lookups) | Total % Complete | Items Processed |</pre>"
      ],
      "text/plain": [
       "| Elapsed Time (Constructing Lookups) | Total % Complete | Items Processed |"
      ]
     },
     "metadata": {},
     "output_type": "display_data"
    },
    {
     "data": {
      "text/html": [
       "<pre>+-------------------------------------+------------------+-----------------+</pre>"
      ],
      "text/plain": [
       "+-------------------------------------+------------------+-----------------+"
      ]
     },
     "metadata": {},
     "output_type": "display_data"
    },
    {
     "data": {
      "text/html": [
       "<pre>| 11.559ms                            | 0                | 0               |</pre>"
      ],
      "text/plain": [
       "| 11.559ms                            | 0                | 0               |"
      ]
     },
     "metadata": {},
     "output_type": "display_data"
    },
    {
     "data": {
      "text/html": [
       "<pre>| 43.201ms                            | 100              | 300             |</pre>"
      ],
      "text/plain": [
       "| 43.201ms                            | 100              | 300             |"
      ]
     },
     "metadata": {},
     "output_type": "display_data"
    },
    {
     "data": {
      "text/html": [
       "<pre>+-------------------------------------+------------------+-----------------+</pre>"
      ],
      "text/plain": [
       "+-------------------------------------+------------------+-----------------+"
      ]
     },
     "metadata": {},
     "output_type": "display_data"
    },
    {
     "data": {
      "text/html": [
       "<pre>Finalizing lookup tables.</pre>"
      ],
      "text/plain": [
       "Finalizing lookup tables."
      ]
     },
     "metadata": {},
     "output_type": "display_data"
    },
    {
     "data": {
      "text/html": [
       "<pre>Generating candidate set for working with new users.</pre>"
      ],
      "text/plain": [
       "Generating candidate set for working with new users."
      ]
     },
     "metadata": {},
     "output_type": "display_data"
    },
    {
     "data": {
      "text/html": [
       "<pre>Finished training in 0.052524s</pre>"
      ],
      "text/plain": [
       "Finished training in 0.052524s"
      ]
     },
     "metadata": {},
     "output_type": "display_data"
    },
    {
     "data": {
      "text/html": [
       "<pre>recommendations finished on 1000/1000 queries. users per second: 42933.2</pre>"
      ],
      "text/plain": [
       "recommendations finished on 1000/1000 queries. users per second: 42933.2"
      ]
     },
     "metadata": {},
     "output_type": "display_data"
    },
    {
     "name": "stdout",
     "output_type": "stream",
     "text": [
      "+------------+-----------+---------------+------+\n",
      "| customerId | productId |     score     | rank |\n",
      "+------------+-----------+---------------+------+\n",
      "|    1553    |    132    | 3.32004174112 |  1   |\n",
      "|    1553    |     37    | 3.09705235685 |  2   |\n",
      "|    1553    |     27    | 3.02803738318 |  3   |\n",
      "|    1553    |     0     | 2.99005303205 |  4   |\n",
      "|    1553    |     34    | 2.98701298701 |  5   |\n",
      "|    1553    |    248    | 2.85266912928 |  6   |\n",
      "|    1553    |     3     | 2.76849642005 |  7   |\n",
      "|    1553    |     82    | 2.70897881457 |  8   |\n",
      "|    1553    |    110    | 2.58310617899 |  9   |\n",
      "|    1553    |     10    | 2.56994961318 |  10  |\n",
      "|   20400    |    132    | 3.31090671836 |  1   |\n",
      "|   20400    |     37    | 3.09865470852 |  2   |\n",
      "|   20400    |     27    | 3.02803738318 |  3   |\n",
      "|   20400    |     0     | 2.99461786868 |  4   |\n",
      "|   20400    |     34    | 2.98701298701 |  5   |\n",
      "|   20400    |    248    | 2.85114637962 |  6   |\n",
      "|   20400    |     3     | 2.76849642005 |  7   |\n",
      "|   20400    |     82    | 2.71153846154 |  8   |\n",
      "|   20400    |    110    | 2.59868421053 |  9   |\n",
      "|   20400    |     10    | 2.57239057239 |  10  |\n",
      "|   19750    |    132    | 3.31832050302 |  1   |\n",
      "|   19750    |     37    | 3.09231203919 |  2   |\n",
      "|   19750    |     27    | 3.02183379135 |  3   |\n",
      "|   19750    |     0     | 2.99461786868 |  4   |\n",
      "|   19750    |     34    | 2.98701298701 |  5   |\n",
      "|   19750    |    248    | 2.85365853659 |  6   |\n",
      "|   19750    |     3     |  2.7532690625 |  7   |\n",
      "|   19750    |     82    | 2.71153846154 |  8   |\n",
      "|   19750    |    110    | 2.57804546649 |  9   |\n",
      "|   19750    |     10    | 2.57239057239 |  10  |\n",
      "+------------+-----------+---------------+------+\n",
      "[10000 rows x 4 columns]\n",
      "\n"
     ]
    }
   ],
   "source": [
    "name = 'pearson'\n",
    "target = 'purchase_count'\n",
    "pear = model(train_data, name, user_id, item_id, target, users_to_recommend, n_rec, n_display)"
   ]
  },
  {
   "cell_type": "code",
   "execution_count": 145,
   "metadata": {},
   "outputs": [
    {
     "data": {
      "text/html": [
       "<pre>Warning: Ignoring columns purchase_count;</pre>"
      ],
      "text/plain": [
       "Warning: Ignoring columns purchase_count;"
      ]
     },
     "metadata": {},
     "output_type": "display_data"
    },
    {
     "data": {
      "text/html": [
       "<pre>    To use these columns in scoring predictions, use a model that allows the use of additional features.</pre>"
      ],
      "text/plain": [
       "    To use these columns in scoring predictions, use a model that allows the use of additional features."
      ]
     },
     "metadata": {},
     "output_type": "display_data"
    },
    {
     "data": {
      "text/html": [
       "<pre>Preparing data set.</pre>"
      ],
      "text/plain": [
       "Preparing data set."
      ]
     },
     "metadata": {},
     "output_type": "display_data"
    },
    {
     "data": {
      "text/html": [
       "<pre>    Data has 106868 observations with 23324 users and 300 items.</pre>"
      ],
      "text/plain": [
       "    Data has 106868 observations with 23324 users and 300 items."
      ]
     },
     "metadata": {},
     "output_type": "display_data"
    },
    {
     "data": {
      "text/html": [
       "<pre>    Data prepared in: 0.093433s</pre>"
      ],
      "text/plain": [
       "    Data prepared in: 0.093433s"
      ]
     },
     "metadata": {},
     "output_type": "display_data"
    },
    {
     "data": {
      "text/html": [
       "<pre>Training model from provided data.</pre>"
      ],
      "text/plain": [
       "Training model from provided data."
      ]
     },
     "metadata": {},
     "output_type": "display_data"
    },
    {
     "data": {
      "text/html": [
       "<pre>Gathering per-item and per-user statistics.</pre>"
      ],
      "text/plain": [
       "Gathering per-item and per-user statistics."
      ]
     },
     "metadata": {},
     "output_type": "display_data"
    },
    {
     "data": {
      "text/html": [
       "<pre>+--------------------------------+------------+</pre>"
      ],
      "text/plain": [
       "+--------------------------------+------------+"
      ]
     },
     "metadata": {},
     "output_type": "display_data"
    },
    {
     "data": {
      "text/html": [
       "<pre>| Elapsed Time (Item Statistics) | % Complete |</pre>"
      ],
      "text/plain": [
       "| Elapsed Time (Item Statistics) | % Complete |"
      ]
     },
     "metadata": {},
     "output_type": "display_data"
    },
    {
     "data": {
      "text/html": [
       "<pre>+--------------------------------+------------+</pre>"
      ],
      "text/plain": [
       "+--------------------------------+------------+"
      ]
     },
     "metadata": {},
     "output_type": "display_data"
    },
    {
     "data": {
      "text/html": [
       "<pre>| 916us                          | 4.25       |</pre>"
      ],
      "text/plain": [
       "| 916us                          | 4.25       |"
      ]
     },
     "metadata": {},
     "output_type": "display_data"
    },
    {
     "data": {
      "text/html": [
       "<pre>| 7.868ms                        | 100        |</pre>"
      ],
      "text/plain": [
       "| 7.868ms                        | 100        |"
      ]
     },
     "metadata": {},
     "output_type": "display_data"
    },
    {
     "data": {
      "text/html": [
       "<pre>+--------------------------------+------------+</pre>"
      ],
      "text/plain": [
       "+--------------------------------+------------+"
      ]
     },
     "metadata": {},
     "output_type": "display_data"
    },
    {
     "data": {
      "text/html": [
       "<pre>Setting up lookup tables.</pre>"
      ],
      "text/plain": [
       "Setting up lookup tables."
      ]
     },
     "metadata": {},
     "output_type": "display_data"
    },
    {
     "data": {
      "text/html": [
       "<pre>Processing data in one pass using dense lookup tables.</pre>"
      ],
      "text/plain": [
       "Processing data in one pass using dense lookup tables."
      ]
     },
     "metadata": {},
     "output_type": "display_data"
    },
    {
     "data": {
      "text/html": [
       "<pre>+-------------------------------------+------------------+-----------------+</pre>"
      ],
      "text/plain": [
       "+-------------------------------------+------------------+-----------------+"
      ]
     },
     "metadata": {},
     "output_type": "display_data"
    },
    {
     "data": {
      "text/html": [
       "<pre>| Elapsed Time (Constructing Lookups) | Total % Complete | Items Processed |</pre>"
      ],
      "text/plain": [
       "| Elapsed Time (Constructing Lookups) | Total % Complete | Items Processed |"
      ]
     },
     "metadata": {},
     "output_type": "display_data"
    },
    {
     "data": {
      "text/html": [
       "<pre>+-------------------------------------+------------------+-----------------+</pre>"
      ],
      "text/plain": [
       "+-------------------------------------+------------------+-----------------+"
      ]
     },
     "metadata": {},
     "output_type": "display_data"
    },
    {
     "data": {
      "text/html": [
       "<pre>| 8.495ms                             | 0                | 0               |</pre>"
      ],
      "text/plain": [
       "| 8.495ms                             | 0                | 0               |"
      ]
     },
     "metadata": {},
     "output_type": "display_data"
    },
    {
     "data": {
      "text/html": [
       "<pre>| 63.298ms                            | 100              | 300             |</pre>"
      ],
      "text/plain": [
       "| 63.298ms                            | 100              | 300             |"
      ]
     },
     "metadata": {},
     "output_type": "display_data"
    },
    {
     "data": {
      "text/html": [
       "<pre>+-------------------------------------+------------------+-----------------+</pre>"
      ],
      "text/plain": [
       "+-------------------------------------+------------------+-----------------+"
      ]
     },
     "metadata": {},
     "output_type": "display_data"
    },
    {
     "data": {
      "text/html": [
       "<pre>Finalizing lookup tables.</pre>"
      ],
      "text/plain": [
       "Finalizing lookup tables."
      ]
     },
     "metadata": {},
     "output_type": "display_data"
    },
    {
     "data": {
      "text/html": [
       "<pre>Generating candidate set for working with new users.</pre>"
      ],
      "text/plain": [
       "Generating candidate set for working with new users."
      ]
     },
     "metadata": {},
     "output_type": "display_data"
    },
    {
     "data": {
      "text/html": [
       "<pre>Finished training in 0.075711s</pre>"
      ],
      "text/plain": [
       "Finished training in 0.075711s"
      ]
     },
     "metadata": {},
     "output_type": "display_data"
    },
    {
     "data": {
      "text/html": [
       "<pre>recommendations finished on 1000/1000 queries. users per second: 111557</pre>"
      ],
      "text/plain": [
       "recommendations finished on 1000/1000 queries. users per second: 111557"
      ]
     },
     "metadata": {},
     "output_type": "display_data"
    },
    {
     "name": "stdout",
     "output_type": "stream",
     "text": [
      "+------------+-----------+-------+------+\n",
      "| customerId | productId | score | rank |\n",
      "+------------+-----------+-------+------+\n",
      "|    1553    |    167    |  0.0  |  1   |\n",
      "|    1553    |    259    |  0.0  |  2   |\n",
      "|    1553    |    152    |  0.0  |  3   |\n",
      "|    1553    |     44    |  0.0  |  4   |\n",
      "|    1553    |    115    |  0.0  |  5   |\n",
      "|    1553    |     2     |  0.0  |  6   |\n",
      "|    1553    |     1     |  0.0  |  7   |\n",
      "|    1553    |    190    |  0.0  |  8   |\n",
      "|    1553    |    109    |  0.0  |  9   |\n",
      "|    1553    |    183    |  0.0  |  10  |\n",
      "|   20400    |    167    |  0.0  |  1   |\n",
      "|   20400    |    259    |  0.0  |  2   |\n",
      "|   20400    |    152    |  0.0  |  3   |\n",
      "|   20400    |     44    |  0.0  |  4   |\n",
      "|   20400    |    115    |  0.0  |  5   |\n",
      "|   20400    |     2     |  0.0  |  6   |\n",
      "|   20400    |     1     |  0.0  |  7   |\n",
      "|   20400    |    190    |  0.0  |  8   |\n",
      "|   20400    |    109    |  0.0  |  9   |\n",
      "|   20400    |    183    |  0.0  |  10  |\n",
      "|   19750    |    167    |  0.0  |  1   |\n",
      "|   19750    |    259    |  0.0  |  2   |\n",
      "|   19750    |    152    |  0.0  |  3   |\n",
      "|   19750    |     44    |  0.0  |  4   |\n",
      "|   19750    |    115    |  0.0  |  5   |\n",
      "|   19750    |     2     |  0.0  |  6   |\n",
      "|   19750    |     1     |  0.0  |  7   |\n",
      "|   19750    |    190    |  0.0  |  8   |\n",
      "|   19750    |    109    |  0.0  |  9   |\n",
      "|   19750    |    183    |  0.0  |  10  |\n",
      "+------------+-----------+-------+------+\n",
      "[10000 rows x 4 columns]\n",
      "\n"
     ]
    }
   ],
   "source": [
    "name = 'pearson'\n",
    "target = 'purchase_dummy'\n",
    "pear_dummy = model(train_data_dummy, name, user_id, item_id, target, users_to_recommend, n_rec, n_display)"
   ]
  },
  {
   "cell_type": "code",
   "execution_count": 146,
   "metadata": {},
   "outputs": [
    {
     "data": {
      "text/html": [
       "<pre>Preparing data set.</pre>"
      ],
      "text/plain": [
       "Preparing data set."
      ]
     },
     "metadata": {},
     "output_type": "display_data"
    },
    {
     "data": {
      "text/html": [
       "<pre>    Data has 106868 observations with 23295 users and 300 items.</pre>"
      ],
      "text/plain": [
       "    Data has 106868 observations with 23295 users and 300 items."
      ]
     },
     "metadata": {},
     "output_type": "display_data"
    },
    {
     "data": {
      "text/html": [
       "<pre>    Data prepared in: 0.185869s</pre>"
      ],
      "text/plain": [
       "    Data prepared in: 0.185869s"
      ]
     },
     "metadata": {},
     "output_type": "display_data"
    },
    {
     "data": {
      "text/html": [
       "<pre>Training model from provided data.</pre>"
      ],
      "text/plain": [
       "Training model from provided data."
      ]
     },
     "metadata": {},
     "output_type": "display_data"
    },
    {
     "data": {
      "text/html": [
       "<pre>Gathering per-item and per-user statistics.</pre>"
      ],
      "text/plain": [
       "Gathering per-item and per-user statistics."
      ]
     },
     "metadata": {},
     "output_type": "display_data"
    },
    {
     "data": {
      "text/html": [
       "<pre>+--------------------------------+------------+</pre>"
      ],
      "text/plain": [
       "+--------------------------------+------------+"
      ]
     },
     "metadata": {},
     "output_type": "display_data"
    },
    {
     "data": {
      "text/html": [
       "<pre>| Elapsed Time (Item Statistics) | % Complete |</pre>"
      ],
      "text/plain": [
       "| Elapsed Time (Item Statistics) | % Complete |"
      ]
     },
     "metadata": {},
     "output_type": "display_data"
    },
    {
     "data": {
      "text/html": [
       "<pre>+--------------------------------+------------+</pre>"
      ],
      "text/plain": [
       "+--------------------------------+------------+"
      ]
     },
     "metadata": {},
     "output_type": "display_data"
    },
    {
     "data": {
      "text/html": [
       "<pre>| 1.116ms                        | 4.25       |</pre>"
      ],
      "text/plain": [
       "| 1.116ms                        | 4.25       |"
      ]
     },
     "metadata": {},
     "output_type": "display_data"
    },
    {
     "data": {
      "text/html": [
       "<pre>| 9.141ms                        | 100        |</pre>"
      ],
      "text/plain": [
       "| 9.141ms                        | 100        |"
      ]
     },
     "metadata": {},
     "output_type": "display_data"
    },
    {
     "data": {
      "text/html": [
       "<pre>+--------------------------------+------------+</pre>"
      ],
      "text/plain": [
       "+--------------------------------+------------+"
      ]
     },
     "metadata": {},
     "output_type": "display_data"
    },
    {
     "data": {
      "text/html": [
       "<pre>Setting up lookup tables.</pre>"
      ],
      "text/plain": [
       "Setting up lookup tables."
      ]
     },
     "metadata": {},
     "output_type": "display_data"
    },
    {
     "data": {
      "text/html": [
       "<pre>Processing data in one pass using dense lookup tables.</pre>"
      ],
      "text/plain": [
       "Processing data in one pass using dense lookup tables."
      ]
     },
     "metadata": {},
     "output_type": "display_data"
    },
    {
     "data": {
      "text/html": [
       "<pre>+-------------------------------------+------------------+-----------------+</pre>"
      ],
      "text/plain": [
       "+-------------------------------------+------------------+-----------------+"
      ]
     },
     "metadata": {},
     "output_type": "display_data"
    },
    {
     "data": {
      "text/html": [
       "<pre>| Elapsed Time (Constructing Lookups) | Total % Complete | Items Processed |</pre>"
      ],
      "text/plain": [
       "| Elapsed Time (Constructing Lookups) | Total % Complete | Items Processed |"
      ]
     },
     "metadata": {},
     "output_type": "display_data"
    },
    {
     "data": {
      "text/html": [
       "<pre>+-------------------------------------+------------------+-----------------+</pre>"
      ],
      "text/plain": [
       "+-------------------------------------+------------------+-----------------+"
      ]
     },
     "metadata": {},
     "output_type": "display_data"
    },
    {
     "data": {
      "text/html": [
       "<pre>| 9.97ms                              | 0                | 0               |</pre>"
      ],
      "text/plain": [
       "| 9.97ms                              | 0                | 0               |"
      ]
     },
     "metadata": {},
     "output_type": "display_data"
    },
    {
     "data": {
      "text/html": [
       "<pre>| 48.965ms                            | 100              | 300             |</pre>"
      ],
      "text/plain": [
       "| 48.965ms                            | 100              | 300             |"
      ]
     },
     "metadata": {},
     "output_type": "display_data"
    },
    {
     "data": {
      "text/html": [
       "<pre>+-------------------------------------+------------------+-----------------+</pre>"
      ],
      "text/plain": [
       "+-------------------------------------+------------------+-----------------+"
      ]
     },
     "metadata": {},
     "output_type": "display_data"
    },
    {
     "data": {
      "text/html": [
       "<pre>Finalizing lookup tables.</pre>"
      ],
      "text/plain": [
       "Finalizing lookup tables."
      ]
     },
     "metadata": {},
     "output_type": "display_data"
    },
    {
     "data": {
      "text/html": [
       "<pre>Generating candidate set for working with new users.</pre>"
      ],
      "text/plain": [
       "Generating candidate set for working with new users."
      ]
     },
     "metadata": {},
     "output_type": "display_data"
    },
    {
     "data": {
      "text/html": [
       "<pre>Finished training in 0.063959s</pre>"
      ],
      "text/plain": [
       "Finished training in 0.063959s"
      ]
     },
     "metadata": {},
     "output_type": "display_data"
    },
    {
     "data": {
      "text/html": [
       "<pre>recommendations finished on 1000/1000 queries. users per second: 92225.4</pre>"
      ],
      "text/plain": [
       "recommendations finished on 1000/1000 queries. users per second: 92225.4"
      ]
     },
     "metadata": {},
     "output_type": "display_data"
    },
    {
     "name": "stdout",
     "output_type": "stream",
     "text": [
      "+------------+-----------+----------------+------+\n",
      "| customerId | productId |     score      | rank |\n",
      "+------------+-----------+----------------+------+\n",
      "|    1553    |    226    | 0.776285681319 |  1   |\n",
      "|    1553    |    247    | 0.325136612022 |  2   |\n",
      "|    1553    |    230    | 0.324025697973 |  3   |\n",
      "|    1553    |    125    | 0.258049002269 |  4   |\n",
      "|    1553    |    294    | 0.254135338346 |  5   |\n",
      "|    1553    |     83    | 0.23618721711  |  6   |\n",
      "|    1553    |    276    | 0.235875887341 |  7   |\n",
      "|    1553    |    213    | 0.233096753265 |  8   |\n",
      "|    1553    |    248    | 0.23241461155  |  9   |\n",
      "|    1553    |    165    | 0.230345825976 |  10  |\n",
      "|   20400    |    226    | 0.776595744681 |  1   |\n",
      "|   20400    |    247    | 0.325136612022 |  2   |\n",
      "|   20400    |    230    | 0.324444444444 |  3   |\n",
      "|   20400    |    125    | 0.257798996547 |  4   |\n",
      "|   20400    |    294    | 0.253805426637 |  5   |\n",
      "|   20400    |     83    | 0.236842105263 |  6   |\n",
      "|   20400    |    276    | 0.235797650284 |  7   |\n",
      "|   20400    |    213    | 0.233134053851 |  8   |\n",
      "|   20400    |    248    | 0.232132145139 |  9   |\n",
      "|   20400    |    165    | 0.230446927374 |  10  |\n",
      "|   19750    |    226    | 0.776421413016 |  1   |\n",
      "|   19750    |    230    | 0.324444444444 |  2   |\n",
      "|   19750    |    125    | 0.258156028369 |  3   |\n",
      "|   19750    |    294    | 0.254135338346 |  4   |\n",
      "|   19750    |     83    | 0.236842105263 |  5   |\n",
      "|   19750    |    276    | 0.235859806008 |  6   |\n",
      "|   19750    |    213    | 0.233324109222 |  7   |\n",
      "|   19750    |    248    | 0.232444175454 |  8   |\n",
      "|   19750    |    165    | 0.230240421122 |  9   |\n",
      "|   19750    |     72    | 0.225326985171 |  10  |\n",
      "+------------+-----------+----------------+------+\n",
      "[10000 rows x 4 columns]\n",
      "\n"
     ]
    }
   ],
   "source": [
    "name = 'pearson'\n",
    "target = 'scaled_purchase_freq'\n",
    "pear_norm = model(train_data_norm, name, user_id, item_id, target, users_to_recommend, n_rec, n_display)"
   ]
  },
  {
   "cell_type": "code",
   "execution_count": 148,
   "metadata": {},
   "outputs": [],
   "source": [
    "models_w_counts = [popularity_model, cos, pear]\n",
    "models_w_dummy = [pop_dummy, cos_dummy, pear_dummy]\n",
    "models_w_norm = [pop_norm, cos_norm, pear_norm]\n",
    "\n",
    "names_w_counts = ['Popularity Model on Purchase Counts', 'Cosine Similarity on Purchase Counts', 'Pearson Similarity on Purchase Counts']\n",
    "names_w_dummy = ['Popularity Model on Purchase Dummy', 'Cosine Similarity on Purchase Dummy', 'Pearson Similarity on Purchase Dummy']\n",
    "names_w_norm = ['Popularity Model on Scaled Purchase Counts', 'Cosine Similarity on Scaled Purchase Counts', 'Pearson Similarity on Scaled Purchase Counts']"
   ]
  },
  {
   "cell_type": "code",
   "execution_count": 122,
   "metadata": {},
   "outputs": [
    {
     "name": "stdout",
     "output_type": "stream",
     "text": [
      "PROGRESS: Evaluate model Popularity Model on Purchase Counts\n"
     ]
    },
    {
     "data": {
      "text/html": [
       "<pre>recommendations finished on 1000/16910 queries. users per second: 78449.8</pre>"
      ],
      "text/plain": [
       "recommendations finished on 1000/16910 queries. users per second: 78449.8"
      ]
     },
     "metadata": {},
     "output_type": "display_data"
    },
    {
     "data": {
      "text/html": [
       "<pre>recommendations finished on 2000/16910 queries. users per second: 83309</pre>"
      ],
      "text/plain": [
       "recommendations finished on 2000/16910 queries. users per second: 83309"
      ]
     },
     "metadata": {},
     "output_type": "display_data"
    },
    {
     "data": {
      "text/html": [
       "<pre>recommendations finished on 3000/16910 queries. users per second: 85905.7</pre>"
      ],
      "text/plain": [
       "recommendations finished on 3000/16910 queries. users per second: 85905.7"
      ]
     },
     "metadata": {},
     "output_type": "display_data"
    },
    {
     "data": {
      "text/html": [
       "<pre>recommendations finished on 4000/16910 queries. users per second: 88335.3</pre>"
      ],
      "text/plain": [
       "recommendations finished on 4000/16910 queries. users per second: 88335.3"
      ]
     },
     "metadata": {},
     "output_type": "display_data"
    },
    {
     "data": {
      "text/html": [
       "<pre>recommendations finished on 5000/16910 queries. users per second: 89198.1</pre>"
      ],
      "text/plain": [
       "recommendations finished on 5000/16910 queries. users per second: 89198.1"
      ]
     },
     "metadata": {},
     "output_type": "display_data"
    },
    {
     "data": {
      "text/html": [
       "<pre>recommendations finished on 6000/16910 queries. users per second: 89307</pre>"
      ],
      "text/plain": [
       "recommendations finished on 6000/16910 queries. users per second: 89307"
      ]
     },
     "metadata": {},
     "output_type": "display_data"
    },
    {
     "data": {
      "text/html": [
       "<pre>recommendations finished on 7000/16910 queries. users per second: 89400.9</pre>"
      ],
      "text/plain": [
       "recommendations finished on 7000/16910 queries. users per second: 89400.9"
      ]
     },
     "metadata": {},
     "output_type": "display_data"
    },
    {
     "data": {
      "text/html": [
       "<pre>recommendations finished on 8000/16910 queries. users per second: 90305.7</pre>"
      ],
      "text/plain": [
       "recommendations finished on 8000/16910 queries. users per second: 90305.7"
      ]
     },
     "metadata": {},
     "output_type": "display_data"
    },
    {
     "data": {
      "text/html": [
       "<pre>recommendations finished on 9000/16910 queries. users per second: 91609.6</pre>"
      ],
      "text/plain": [
       "recommendations finished on 9000/16910 queries. users per second: 91609.6"
      ]
     },
     "metadata": {},
     "output_type": "display_data"
    },
    {
     "data": {
      "text/html": [
       "<pre>recommendations finished on 10000/16910 queries. users per second: 92744.6</pre>"
      ],
      "text/plain": [
       "recommendations finished on 10000/16910 queries. users per second: 92744.6"
      ]
     },
     "metadata": {},
     "output_type": "display_data"
    },
    {
     "data": {
      "text/html": [
       "<pre>recommendations finished on 11000/16910 queries. users per second: 91679.7</pre>"
      ],
      "text/plain": [
       "recommendations finished on 11000/16910 queries. users per second: 91679.7"
      ]
     },
     "metadata": {},
     "output_type": "display_data"
    },
    {
     "data": {
      "text/html": [
       "<pre>recommendations finished on 12000/16910 queries. users per second: 91105.8</pre>"
      ],
      "text/plain": [
       "recommendations finished on 12000/16910 queries. users per second: 91105.8"
      ]
     },
     "metadata": {},
     "output_type": "display_data"
    },
    {
     "data": {
      "text/html": [
       "<pre>recommendations finished on 13000/16910 queries. users per second: 90796.1</pre>"
      ],
      "text/plain": [
       "recommendations finished on 13000/16910 queries. users per second: 90796.1"
      ]
     },
     "metadata": {},
     "output_type": "display_data"
    },
    {
     "data": {
      "text/html": [
       "<pre>recommendations finished on 14000/16910 queries. users per second: 81447.9</pre>"
      ],
      "text/plain": [
       "recommendations finished on 14000/16910 queries. users per second: 81447.9"
      ]
     },
     "metadata": {},
     "output_type": "display_data"
    },
    {
     "data": {
      "text/html": [
       "<pre>recommendations finished on 15000/16910 queries. users per second: 82560</pre>"
      ],
      "text/plain": [
       "recommendations finished on 15000/16910 queries. users per second: 82560"
      ]
     },
     "metadata": {},
     "output_type": "display_data"
    },
    {
     "data": {
      "text/html": [
       "<pre>recommendations finished on 16000/16910 queries. users per second: 83055.6</pre>"
      ],
      "text/plain": [
       "recommendations finished on 16000/16910 queries. users per second: 83055.6"
      ]
     },
     "metadata": {},
     "output_type": "display_data"
    },
    {
     "name": "stdout",
     "output_type": "stream",
     "text": [
      "\n",
      "Precision and recall summary statistics by cutoff\n",
      "+--------+------------------+-------------------+\n",
      "| cutoff |  mean_precision  |    mean_recall    |\n",
      "+--------+------------------+-------------------+\n",
      "|   1    | 0.00112359550562 | 0.000736074737405 |\n",
      "|   2    | 0.00345949142519 |  0.00337110138753 |\n",
      "|   3    | 0.00360733293909 |  0.00500663299027 |\n",
      "|   4    | 0.00845653459491 |  0.0152383546963  |\n",
      "|   5    | 0.00767593140154 |  0.0169923914184  |\n",
      "|   6    | 0.00668243642815 |   0.017585505236  |\n",
      "|   7    | 0.00710484075357 |  0.0215936435921  |\n",
      "|   8    | 0.00685984624483 |  0.0239024337572  |\n",
      "|   9    | 0.00659701688679 |  0.0256934618204  |\n",
      "|   10   | 0.00655233589592 |   0.028636096753  |\n",
      "+--------+------------------+-------------------+\n",
      "[10 rows x 3 columns]\n",
      "\n",
      "\n",
      "Overall RMSE: 1.03771362332\n",
      "\n",
      "Per User RMSE (best)\n",
      "+------------+-------+----------------+\n",
      "| customerId | count |      rmse      |\n",
      "+------------+-------+----------------+\n",
      "|   16597    |   1   | 0.005382131324 |\n",
      "+------------+-------+----------------+\n",
      "[1 rows x 3 columns]\n",
      "\n",
      "\n",
      "Per User RMSE (worst)\n",
      "+------------+-------+---------------+\n",
      "| customerId | count |      rmse     |\n",
      "+------------+-------+---------------+\n",
      "|    1734    |   8   | 15.7842769092 |\n",
      "+------------+-------+---------------+\n",
      "[1 rows x 3 columns]\n",
      "\n",
      "\n",
      "Per Item RMSE (best)\n",
      "+-----------+-------+----------------+\n",
      "| productId | count |      rmse      |\n",
      "+-----------+-------+----------------+\n",
      "|    202    |  115  | 0.308362147642 |\n",
      "+-----------+-------+----------------+\n",
      "[1 rows x 3 columns]\n",
      "\n",
      "\n",
      "Per Item RMSE (worst)\n",
      "+-----------+-------+---------------+\n",
      "| productId | count |      rmse     |\n",
      "+-----------+-------+---------------+\n",
      "|     47    |  196  | 4.09244562467 |\n",
      "+-----------+-------+---------------+\n",
      "[1 rows x 3 columns]\n",
      "\n",
      "PROGRESS: Evaluate model Cosine Similarity on Purchase Counts\n"
     ]
    },
    {
     "data": {
      "text/html": [
       "<pre>recommendations finished on 1000/16910 queries. users per second: 62849.6</pre>"
      ],
      "text/plain": [
       "recommendations finished on 1000/16910 queries. users per second: 62849.6"
      ]
     },
     "metadata": {},
     "output_type": "display_data"
    },
    {
     "data": {
      "text/html": [
       "<pre>recommendations finished on 2000/16910 queries. users per second: 65839.3</pre>"
      ],
      "text/plain": [
       "recommendations finished on 2000/16910 queries. users per second: 65839.3"
      ]
     },
     "metadata": {},
     "output_type": "display_data"
    },
    {
     "data": {
      "text/html": [
       "<pre>recommendations finished on 3000/16910 queries. users per second: 67462.7</pre>"
      ],
      "text/plain": [
       "recommendations finished on 3000/16910 queries. users per second: 67462.7"
      ]
     },
     "metadata": {},
     "output_type": "display_data"
    },
    {
     "data": {
      "text/html": [
       "<pre>recommendations finished on 4000/16910 queries. users per second: 68656.6</pre>"
      ],
      "text/plain": [
       "recommendations finished on 4000/16910 queries. users per second: 68656.6"
      ]
     },
     "metadata": {},
     "output_type": "display_data"
    },
    {
     "data": {
      "text/html": [
       "<pre>recommendations finished on 5000/16910 queries. users per second: 68673.8</pre>"
      ],
      "text/plain": [
       "recommendations finished on 5000/16910 queries. users per second: 68673.8"
      ]
     },
     "metadata": {},
     "output_type": "display_data"
    },
    {
     "data": {
      "text/html": [
       "<pre>recommendations finished on 6000/16910 queries. users per second: 68950.5</pre>"
      ],
      "text/plain": [
       "recommendations finished on 6000/16910 queries. users per second: 68950.5"
      ]
     },
     "metadata": {},
     "output_type": "display_data"
    },
    {
     "data": {
      "text/html": [
       "<pre>recommendations finished on 7000/16910 queries. users per second: 69755.2</pre>"
      ],
      "text/plain": [
       "recommendations finished on 7000/16910 queries. users per second: 69755.2"
      ]
     },
     "metadata": {},
     "output_type": "display_data"
    },
    {
     "data": {
      "text/html": [
       "<pre>recommendations finished on 8000/16910 queries. users per second: 69875.1</pre>"
      ],
      "text/plain": [
       "recommendations finished on 8000/16910 queries. users per second: 69875.1"
      ]
     },
     "metadata": {},
     "output_type": "display_data"
    },
    {
     "data": {
      "text/html": [
       "<pre>recommendations finished on 9000/16910 queries. users per second: 70735.3</pre>"
      ],
      "text/plain": [
       "recommendations finished on 9000/16910 queries. users per second: 70735.3"
      ]
     },
     "metadata": {},
     "output_type": "display_data"
    },
    {
     "data": {
      "text/html": [
       "<pre>recommendations finished on 10000/16910 queries. users per second: 69322.2</pre>"
      ],
      "text/plain": [
       "recommendations finished on 10000/16910 queries. users per second: 69322.2"
      ]
     },
     "metadata": {},
     "output_type": "display_data"
    },
    {
     "data": {
      "text/html": [
       "<pre>recommendations finished on 11000/16910 queries. users per second: 64344.8</pre>"
      ],
      "text/plain": [
       "recommendations finished on 11000/16910 queries. users per second: 64344.8"
      ]
     },
     "metadata": {},
     "output_type": "display_data"
    },
    {
     "data": {
      "text/html": [
       "<pre>recommendations finished on 12000/16910 queries. users per second: 64402.6</pre>"
      ],
      "text/plain": [
       "recommendations finished on 12000/16910 queries. users per second: 64402.6"
      ]
     },
     "metadata": {},
     "output_type": "display_data"
    },
    {
     "data": {
      "text/html": [
       "<pre>recommendations finished on 13000/16910 queries. users per second: 64861.5</pre>"
      ],
      "text/plain": [
       "recommendations finished on 13000/16910 queries. users per second: 64861.5"
      ]
     },
     "metadata": {},
     "output_type": "display_data"
    },
    {
     "data": {
      "text/html": [
       "<pre>recommendations finished on 14000/16910 queries. users per second: 65346.1</pre>"
      ],
      "text/plain": [
       "recommendations finished on 14000/16910 queries. users per second: 65346.1"
      ]
     },
     "metadata": {},
     "output_type": "display_data"
    },
    {
     "data": {
      "text/html": [
       "<pre>recommendations finished on 15000/16910 queries. users per second: 65865.2</pre>"
      ],
      "text/plain": [
       "recommendations finished on 15000/16910 queries. users per second: 65865.2"
      ]
     },
     "metadata": {},
     "output_type": "display_data"
    },
    {
     "data": {
      "text/html": [
       "<pre>recommendations finished on 16000/16910 queries. users per second: 61629.2</pre>"
      ],
      "text/plain": [
       "recommendations finished on 16000/16910 queries. users per second: 61629.2"
      ]
     },
     "metadata": {},
     "output_type": "display_data"
    },
    {
     "name": "stdout",
     "output_type": "stream",
     "text": [
      "\n",
      "Precision and recall summary statistics by cutoff\n",
      "+--------+-----------------+-----------------+\n",
      "| cutoff |  mean_precision |   mean_recall   |\n",
      "+--------+-----------------+-----------------+\n",
      "|   1    |  0.127675931402 | 0.0617458863815 |\n",
      "|   2    |  0.108308693081 |  0.103243160335 |\n",
      "|   3    | 0.0926867731126 |  0.13070189093  |\n",
      "|   4    | 0.0806623299823 |  0.148987483023 |\n",
      "|   5    | 0.0724778237729 |  0.165137795803 |\n",
      "|   6    | 0.0657894736842 |  0.178341033522 |\n",
      "|   7    | 0.0603869223621 |  0.190526971869 |\n",
      "|   8    | 0.0560688941455 |  0.201015142226 |\n",
      "|   9    | 0.0526447204153 |  0.211870515399 |\n",
      "|   10   | 0.0496570076878 |  0.221440747874 |\n",
      "+--------+-----------------+-----------------+\n",
      "[10 rows x 3 columns]\n",
      "\n",
      "\n",
      "Overall RMSE: 1.89092503894\n",
      "\n",
      "Per User RMSE (best)\n",
      "+------------+-------+----------------+\n",
      "| customerId | count |      rmse      |\n",
      "+------------+-------+----------------+\n",
      "|   24454    |   1   | 0.275713682175 |\n",
      "+------------+-------+----------------+\n",
      "[1 rows x 3 columns]\n",
      "\n",
      "\n",
      "Per User RMSE (worst)\n",
      "+------------+-------+---------------+\n",
      "| customerId | count |      rmse     |\n",
      "+------------+-------+---------------+\n",
      "|    1734    |   8   | 16.3831781176 |\n",
      "+------------+-------+---------------+\n",
      "[1 rows x 3 columns]\n",
      "\n",
      "\n",
      "Per Item RMSE (best)\n",
      "+-----------+-------+---------------+\n",
      "| productId | count |      rmse     |\n",
      "+-----------+-------+---------------+\n",
      "|    216    |  129  | 1.12713097154 |\n",
      "+-----------+-------+---------------+\n",
      "[1 rows x 3 columns]\n",
      "\n",
      "\n",
      "Per Item RMSE (worst)\n",
      "+-----------+-------+--------------+\n",
      "| productId | count |     rmse     |\n",
      "+-----------+-------+--------------+\n",
      "|    245    |   37  | 4.5631146486 |\n",
      "+-----------+-------+--------------+\n",
      "[1 rows x 3 columns]\n",
      "\n",
      "PROGRESS: Evaluate model Pearson Similarity on Purchase Counts\n"
     ]
    },
    {
     "data": {
      "text/html": [
       "<pre>recommendations finished on 1000/16910 queries. users per second: 61732.2</pre>"
      ],
      "text/plain": [
       "recommendations finished on 1000/16910 queries. users per second: 61732.2"
      ]
     },
     "metadata": {},
     "output_type": "display_data"
    },
    {
     "data": {
      "text/html": [
       "<pre>recommendations finished on 2000/16910 queries. users per second: 64065.6</pre>"
      ],
      "text/plain": [
       "recommendations finished on 2000/16910 queries. users per second: 64065.6"
      ]
     },
     "metadata": {},
     "output_type": "display_data"
    },
    {
     "data": {
      "text/html": [
       "<pre>recommendations finished on 3000/16910 queries. users per second: 65140.9</pre>"
      ],
      "text/plain": [
       "recommendations finished on 3000/16910 queries. users per second: 65140.9"
      ]
     },
     "metadata": {},
     "output_type": "display_data"
    },
    {
     "data": {
      "text/html": [
       "<pre>recommendations finished on 4000/16910 queries. users per second: 67008.4</pre>"
      ],
      "text/plain": [
       "recommendations finished on 4000/16910 queries. users per second: 67008.4"
      ]
     },
     "metadata": {},
     "output_type": "display_data"
    },
    {
     "data": {
      "text/html": [
       "<pre>recommendations finished on 5000/16910 queries. users per second: 68696.4</pre>"
      ],
      "text/plain": [
       "recommendations finished on 5000/16910 queries. users per second: 68696.4"
      ]
     },
     "metadata": {},
     "output_type": "display_data"
    },
    {
     "data": {
      "text/html": [
       "<pre>recommendations finished on 6000/16910 queries. users per second: 68583.2</pre>"
      ],
      "text/plain": [
       "recommendations finished on 6000/16910 queries. users per second: 68583.2"
      ]
     },
     "metadata": {},
     "output_type": "display_data"
    },
    {
     "data": {
      "text/html": [
       "<pre>recommendations finished on 7000/16910 queries. users per second: 61041</pre>"
      ],
      "text/plain": [
       "recommendations finished on 7000/16910 queries. users per second: 61041"
      ]
     },
     "metadata": {},
     "output_type": "display_data"
    },
    {
     "data": {
      "text/html": [
       "<pre>recommendations finished on 8000/16910 queries. users per second: 62509.3</pre>"
      ],
      "text/plain": [
       "recommendations finished on 8000/16910 queries. users per second: 62509.3"
      ]
     },
     "metadata": {},
     "output_type": "display_data"
    },
    {
     "data": {
      "text/html": [
       "<pre>recommendations finished on 9000/16910 queries. users per second: 63850.6</pre>"
      ],
      "text/plain": [
       "recommendations finished on 9000/16910 queries. users per second: 63850.6"
      ]
     },
     "metadata": {},
     "output_type": "display_data"
    },
    {
     "data": {
      "text/html": [
       "<pre>recommendations finished on 10000/16910 queries. users per second: 64801.7</pre>"
      ],
      "text/plain": [
       "recommendations finished on 10000/16910 queries. users per second: 64801.7"
      ]
     },
     "metadata": {},
     "output_type": "display_data"
    },
    {
     "data": {
      "text/html": [
       "<pre>recommendations finished on 11000/16910 queries. users per second: 65281.9</pre>"
      ],
      "text/plain": [
       "recommendations finished on 11000/16910 queries. users per second: 65281.9"
      ]
     },
     "metadata": {},
     "output_type": "display_data"
    },
    {
     "data": {
      "text/html": [
       "<pre>recommendations finished on 12000/16910 queries. users per second: 65139.2</pre>"
      ],
      "text/plain": [
       "recommendations finished on 12000/16910 queries. users per second: 65139.2"
      ]
     },
     "metadata": {},
     "output_type": "display_data"
    },
    {
     "data": {
      "text/html": [
       "<pre>recommendations finished on 13000/16910 queries. users per second: 59955.1</pre>"
      ],
      "text/plain": [
       "recommendations finished on 13000/16910 queries. users per second: 59955.1"
      ]
     },
     "metadata": {},
     "output_type": "display_data"
    },
    {
     "data": {
      "text/html": [
       "<pre>recommendations finished on 14000/16910 queries. users per second: 60724.1</pre>"
      ],
      "text/plain": [
       "recommendations finished on 14000/16910 queries. users per second: 60724.1"
      ]
     },
     "metadata": {},
     "output_type": "display_data"
    },
    {
     "data": {
      "text/html": [
       "<pre>recommendations finished on 15000/16910 queries. users per second: 61567</pre>"
      ],
      "text/plain": [
       "recommendations finished on 15000/16910 queries. users per second: 61567"
      ]
     },
     "metadata": {},
     "output_type": "display_data"
    },
    {
     "data": {
      "text/html": [
       "<pre>recommendations finished on 16000/16910 queries. users per second: 62106.3</pre>"
      ],
      "text/plain": [
       "recommendations finished on 16000/16910 queries. users per second: 62106.3"
      ]
     },
     "metadata": {},
     "output_type": "display_data"
    },
    {
     "name": "stdout",
     "output_type": "stream",
     "text": [
      "\n",
      "Precision and recall summary statistics by cutoff\n",
      "+--------+------------------+-------------------+\n",
      "| cutoff |  mean_precision  |    mean_recall    |\n",
      "+--------+------------------+-------------------+\n",
      "|   1    | 0.00112359550562 | 0.000736074737405 |\n",
      "|   2    | 0.00348905972797 |  0.00334350430494 |\n",
      "|   3    | 0.0036861817465  |  0.00511702132065 |\n",
      "|   4    | 0.00824955647546 |  0.0148612480136  |\n",
      "|   5    | 0.00768775872265 |  0.0170273357762  |\n",
      "|   6    |  0.00670214863   |  0.0177060420492  |\n",
      "|   7    | 0.00715552927262 |  0.0218656719777  |\n",
      "|   8    | 0.00690419869899 |  0.0241803758034  |\n",
      "|   9    | 0.00664958275839 |  0.0260398333673  |\n",
      "|   10   | 0.0065819041987  |  0.0288824992762  |\n",
      "+--------+------------------+-------------------+\n",
      "[10 rows x 3 columns]\n",
      "\n",
      "\n",
      "Overall RMSE: 1.03505787021\n",
      "\n",
      "Per User RMSE (best)\n",
      "+------------+-------+-------------------+\n",
      "| customerId | count |        rmse       |\n",
      "+------------+-------+-------------------+\n",
      "|   11000    |   1   | 0.000953827895127 |\n",
      "+------------+-------+-------------------+\n",
      "[1 rows x 3 columns]\n",
      "\n",
      "\n",
      "Per User RMSE (worst)\n",
      "+------------+-------+---------------+\n",
      "| customerId | count |      rmse     |\n",
      "+------------+-------+---------------+\n",
      "|    1734    |   8   | 15.7605370011 |\n",
      "+------------+-------+---------------+\n",
      "[1 rows x 3 columns]\n",
      "\n",
      "\n",
      "Per Item RMSE (best)\n",
      "+-----------+-------+----------------+\n",
      "| productId | count |      rmse      |\n",
      "+-----------+-------+----------------+\n",
      "|    202    |  115  | 0.308249244545 |\n",
      "+-----------+-------+----------------+\n",
      "[1 rows x 3 columns]\n",
      "\n",
      "\n",
      "Per Item RMSE (worst)\n",
      "+-----------+-------+---------------+\n",
      "| productId | count |      rmse     |\n",
      "+-----------+-------+---------------+\n",
      "|     47    |  196  | 4.09034666523 |\n",
      "+-----------+-------+---------------+\n",
      "[1 rows x 3 columns]\n",
      "\n"
     ]
    }
   ],
   "source": [
    "eval_counts = tc.recommender.util.compare_models(test_data, models_w_counts, model_names=names_w_counts)"
   ]
  },
  {
   "cell_type": "code",
   "execution_count": 149,
   "metadata": {},
   "outputs": [
    {
     "name": "stdout",
     "output_type": "stream",
     "text": [
      "PROGRESS: Evaluate model Popularity Model on Purchase Dummy\n"
     ]
    },
    {
     "data": {
      "text/html": [
       "<pre>recommendations finished on 1000/13840 queries. users per second: 78296.3</pre>"
      ],
      "text/plain": [
       "recommendations finished on 1000/13840 queries. users per second: 78296.3"
      ]
     },
     "metadata": {},
     "output_type": "display_data"
    },
    {
     "data": {
      "text/html": [
       "<pre>recommendations finished on 2000/13840 queries. users per second: 84164.5</pre>"
      ],
      "text/plain": [
       "recommendations finished on 2000/13840 queries. users per second: 84164.5"
      ]
     },
     "metadata": {},
     "output_type": "display_data"
    },
    {
     "data": {
      "text/html": [
       "<pre>recommendations finished on 3000/13840 queries. users per second: 86019</pre>"
      ],
      "text/plain": [
       "recommendations finished on 3000/13840 queries. users per second: 86019"
      ]
     },
     "metadata": {},
     "output_type": "display_data"
    },
    {
     "data": {
      "text/html": [
       "<pre>recommendations finished on 4000/13840 queries. users per second: 89843.2</pre>"
      ],
      "text/plain": [
       "recommendations finished on 4000/13840 queries. users per second: 89843.2"
      ]
     },
     "metadata": {},
     "output_type": "display_data"
    },
    {
     "data": {
      "text/html": [
       "<pre>recommendations finished on 5000/13840 queries. users per second: 92650.9</pre>"
      ],
      "text/plain": [
       "recommendations finished on 5000/13840 queries. users per second: 92650.9"
      ]
     },
     "metadata": {},
     "output_type": "display_data"
    },
    {
     "data": {
      "text/html": [
       "<pre>recommendations finished on 6000/13840 queries. users per second: 90473.2</pre>"
      ],
      "text/plain": [
       "recommendations finished on 6000/13840 queries. users per second: 90473.2"
      ]
     },
     "metadata": {},
     "output_type": "display_data"
    },
    {
     "data": {
      "text/html": [
       "<pre>recommendations finished on 7000/13840 queries. users per second: 86303.6</pre>"
      ],
      "text/plain": [
       "recommendations finished on 7000/13840 queries. users per second: 86303.6"
      ]
     },
     "metadata": {},
     "output_type": "display_data"
    },
    {
     "data": {
      "text/html": [
       "<pre>recommendations finished on 8000/13840 queries. users per second: 87678</pre>"
      ],
      "text/plain": [
       "recommendations finished on 8000/13840 queries. users per second: 87678"
      ]
     },
     "metadata": {},
     "output_type": "display_data"
    },
    {
     "data": {
      "text/html": [
       "<pre>recommendations finished on 9000/13840 queries. users per second: 89236.1</pre>"
      ],
      "text/plain": [
       "recommendations finished on 9000/13840 queries. users per second: 89236.1"
      ]
     },
     "metadata": {},
     "output_type": "display_data"
    },
    {
     "data": {
      "text/html": [
       "<pre>recommendations finished on 10000/13840 queries. users per second: 90496.1</pre>"
      ],
      "text/plain": [
       "recommendations finished on 10000/13840 queries. users per second: 90496.1"
      ]
     },
     "metadata": {},
     "output_type": "display_data"
    },
    {
     "data": {
      "text/html": [
       "<pre>recommendations finished on 11000/13840 queries. users per second: 89795.2</pre>"
      ],
      "text/plain": [
       "recommendations finished on 11000/13840 queries. users per second: 89795.2"
      ]
     },
     "metadata": {},
     "output_type": "display_data"
    },
    {
     "data": {
      "text/html": [
       "<pre>recommendations finished on 12000/13840 queries. users per second: 89915.3</pre>"
      ],
      "text/plain": [
       "recommendations finished on 12000/13840 queries. users per second: 89915.3"
      ]
     },
     "metadata": {},
     "output_type": "display_data"
    },
    {
     "data": {
      "text/html": [
       "<pre>recommendations finished on 13000/13840 queries. users per second: 90568.4</pre>"
      ],
      "text/plain": [
       "recommendations finished on 13000/13840 queries. users per second: 90568.4"
      ]
     },
     "metadata": {},
     "output_type": "display_data"
    },
    {
     "name": "stdout",
     "output_type": "stream",
     "text": [
      "\n",
      "Precision and recall summary statistics by cutoff\n",
      "+--------+------------------+------------------+\n",
      "| cutoff |  mean_precision  |   mean_recall    |\n",
      "+--------+------------------+------------------+\n",
      "|   1    | 0.00513005780347 | 0.00260069991826 |\n",
      "|   2    | 0.00892341040462 | 0.00898059504061 |\n",
      "|   3    |  0.010549132948  | 0.0155102399585  |\n",
      "|   4    | 0.0103865606936  | 0.0200845701723  |\n",
      "|   5    | 0.0106791907514  | 0.0267294392323  |\n",
      "|   6    | 0.0106815992293  | 0.0325194777102  |\n",
      "|   7    | 0.00984723369116 | 0.0347045692323  |\n",
      "|   8    | 0.00922145953757 | 0.0370391804705  |\n",
      "|   9    | 0.00887925497752 | 0.0401342182603  |\n",
      "|   10   | 0.00852601156069 | 0.0428764114396  |\n",
      "+--------+------------------+------------------+\n",
      "[10 rows x 3 columns]\n",
      "\n",
      "\n",
      "Overall RMSE: 0.0\n",
      "\n",
      "Per User RMSE (best)\n",
      "+------------+-------+------+\n",
      "| customerId | count | rmse |\n",
      "+------------+-------+------+\n",
      "|   16436    |   2   | 0.0  |\n",
      "+------------+-------+------+\n",
      "[1 rows x 3 columns]\n",
      "\n",
      "\n",
      "Per User RMSE (worst)\n",
      "+------------+-------+------+\n",
      "| customerId | count | rmse |\n",
      "+------------+-------+------+\n",
      "|   21855    |   1   | 0.0  |\n",
      "+------------+-------+------+\n",
      "[1 rows x 3 columns]\n",
      "\n",
      "\n",
      "Per Item RMSE (best)\n",
      "+-----------+-------+------+\n",
      "| productId | count | rmse |\n",
      "+-----------+-------+------+\n",
      "|    207    |   28  | 0.0  |\n",
      "+-----------+-------+------+\n",
      "[1 rows x 3 columns]\n",
      "\n",
      "\n",
      "Per Item RMSE (worst)\n",
      "+-----------+-------+------+\n",
      "| productId | count | rmse |\n",
      "+-----------+-------+------+\n",
      "|    118    |   44  | 0.0  |\n",
      "+-----------+-------+------+\n",
      "[1 rows x 3 columns]\n",
      "\n",
      "PROGRESS: Evaluate model Cosine Similarity on Purchase Dummy\n"
     ]
    },
    {
     "data": {
      "text/html": [
       "<pre>recommendations finished on 1000/13840 queries. users per second: 59883.8</pre>"
      ],
      "text/plain": [
       "recommendations finished on 1000/13840 queries. users per second: 59883.8"
      ]
     },
     "metadata": {},
     "output_type": "display_data"
    },
    {
     "data": {
      "text/html": [
       "<pre>recommendations finished on 2000/13840 queries. users per second: 58813.2</pre>"
      ],
      "text/plain": [
       "recommendations finished on 2000/13840 queries. users per second: 58813.2"
      ]
     },
     "metadata": {},
     "output_type": "display_data"
    },
    {
     "data": {
      "text/html": [
       "<pre>recommendations finished on 3000/13840 queries. users per second: 62563.9</pre>"
      ],
      "text/plain": [
       "recommendations finished on 3000/13840 queries. users per second: 62563.9"
      ]
     },
     "metadata": {},
     "output_type": "display_data"
    },
    {
     "data": {
      "text/html": [
       "<pre>recommendations finished on 4000/13840 queries. users per second: 64876.1</pre>"
      ],
      "text/plain": [
       "recommendations finished on 4000/13840 queries. users per second: 64876.1"
      ]
     },
     "metadata": {},
     "output_type": "display_data"
    },
    {
     "data": {
      "text/html": [
       "<pre>recommendations finished on 5000/13840 queries. users per second: 65959.6</pre>"
      ],
      "text/plain": [
       "recommendations finished on 5000/13840 queries. users per second: 65959.6"
      ]
     },
     "metadata": {},
     "output_type": "display_data"
    },
    {
     "data": {
      "text/html": [
       "<pre>recommendations finished on 6000/13840 queries. users per second: 66164.6</pre>"
      ],
      "text/plain": [
       "recommendations finished on 6000/13840 queries. users per second: 66164.6"
      ]
     },
     "metadata": {},
     "output_type": "display_data"
    },
    {
     "data": {
      "text/html": [
       "<pre>recommendations finished on 7000/13840 queries. users per second: 65967.4</pre>"
      ],
      "text/plain": [
       "recommendations finished on 7000/13840 queries. users per second: 65967.4"
      ]
     },
     "metadata": {},
     "output_type": "display_data"
    },
    {
     "data": {
      "text/html": [
       "<pre>recommendations finished on 8000/13840 queries. users per second: 66869.5</pre>"
      ],
      "text/plain": [
       "recommendations finished on 8000/13840 queries. users per second: 66869.5"
      ]
     },
     "metadata": {},
     "output_type": "display_data"
    },
    {
     "data": {
      "text/html": [
       "<pre>recommendations finished on 9000/13840 queries. users per second: 67756.8</pre>"
      ],
      "text/plain": [
       "recommendations finished on 9000/13840 queries. users per second: 67756.8"
      ]
     },
     "metadata": {},
     "output_type": "display_data"
    },
    {
     "data": {
      "text/html": [
       "<pre>recommendations finished on 10000/13840 queries. users per second: 68478.6</pre>"
      ],
      "text/plain": [
       "recommendations finished on 10000/13840 queries. users per second: 68478.6"
      ]
     },
     "metadata": {},
     "output_type": "display_data"
    },
    {
     "data": {
      "text/html": [
       "<pre>recommendations finished on 11000/13840 queries. users per second: 68825.7</pre>"
      ],
      "text/plain": [
       "recommendations finished on 11000/13840 queries. users per second: 68825.7"
      ]
     },
     "metadata": {},
     "output_type": "display_data"
    },
    {
     "data": {
      "text/html": [
       "<pre>recommendations finished on 12000/13840 queries. users per second: 63191.2</pre>"
      ],
      "text/plain": [
       "recommendations finished on 12000/13840 queries. users per second: 63191.2"
      ]
     },
     "metadata": {},
     "output_type": "display_data"
    },
    {
     "data": {
      "text/html": [
       "<pre>recommendations finished on 13000/13840 queries. users per second: 63024.5</pre>"
      ],
      "text/plain": [
       "recommendations finished on 13000/13840 queries. users per second: 63024.5"
      ]
     },
     "metadata": {},
     "output_type": "display_data"
    },
    {
     "name": "stdout",
     "output_type": "stream",
     "text": [
      "\n",
      "Precision and recall summary statistics by cutoff\n",
      "+--------+-----------------+-----------------+\n",
      "| cutoff |  mean_precision |   mean_recall   |\n",
      "+--------+-----------------+-----------------+\n",
      "|   1    |  0.118352601156 | 0.0681659678463 |\n",
      "|   2    | 0.0958092485549 |  0.108418155711 |\n",
      "|   3    | 0.0816714836224 |  0.135711514342 |\n",
      "|   4    | 0.0716582369942 |  0.158098932404 |\n",
      "|   5    | 0.0640462427746 |  0.175609835845 |\n",
      "|   6    | 0.0580924855491 |  0.190472101399 |\n",
      "|   7    | 0.0531482246078 |  0.202473463205 |\n",
      "|   8    | 0.0491871387283 |  0.213271652051 |\n",
      "|   9    | 0.0460661528581 |  0.223611762318 |\n",
      "|   10   | 0.0434393063584 |  0.233416809115 |\n",
      "+--------+-----------------+-----------------+\n",
      "[10 rows x 3 columns]\n",
      "\n",
      "\n",
      "Overall RMSE: 0.97091609455\n",
      "\n",
      "Per User RMSE (best)\n",
      "+------------+-------+----------------+\n",
      "| customerId | count |      rmse      |\n",
      "+------------+-------+----------------+\n",
      "|   21934    |   1   | 0.398290038109 |\n",
      "+------------+-------+----------------+\n",
      "[1 rows x 3 columns]\n",
      "\n",
      "\n",
      "Per User RMSE (worst)\n",
      "+------------+-------+------+\n",
      "| customerId | count | rmse |\n",
      "+------------+-------+------+\n",
      "|   22239    |   1   | 1.0  |\n",
      "+------------+-------+------+\n",
      "[1 rows x 3 columns]\n",
      "\n",
      "\n",
      "Per Item RMSE (best)\n",
      "+-----------+-------+---------------+\n",
      "| productId | count |      rmse     |\n",
      "+-----------+-------+---------------+\n",
      "|     8     |  203  | 0.88099699525 |\n",
      "+-----------+-------+---------------+\n",
      "[1 rows x 3 columns]\n",
      "\n",
      "\n",
      "Per Item RMSE (worst)\n",
      "+-----------+-------+----------------+\n",
      "| productId | count |      rmse      |\n",
      "+-----------+-------+----------------+\n",
      "|    299    |   46  | 0.999825515138 |\n",
      "+-----------+-------+----------------+\n",
      "[1 rows x 3 columns]\n",
      "\n",
      "PROGRESS: Evaluate model Pearson Similarity on Purchase Dummy\n"
     ]
    },
    {
     "data": {
      "text/html": [
       "<pre>recommendations finished on 1000/13840 queries. users per second: 72495.3</pre>"
      ],
      "text/plain": [
       "recommendations finished on 1000/13840 queries. users per second: 72495.3"
      ]
     },
     "metadata": {},
     "output_type": "display_data"
    },
    {
     "data": {
      "text/html": [
       "<pre>recommendations finished on 2000/13840 queries. users per second: 77486.3</pre>"
      ],
      "text/plain": [
       "recommendations finished on 2000/13840 queries. users per second: 77486.3"
      ]
     },
     "metadata": {},
     "output_type": "display_data"
    },
    {
     "data": {
      "text/html": [
       "<pre>recommendations finished on 3000/13840 queries. users per second: 80673.4</pre>"
      ],
      "text/plain": [
       "recommendations finished on 3000/13840 queries. users per second: 80673.4"
      ]
     },
     "metadata": {},
     "output_type": "display_data"
    },
    {
     "data": {
      "text/html": [
       "<pre>recommendations finished on 4000/13840 queries. users per second: 82607.1</pre>"
      ],
      "text/plain": [
       "recommendations finished on 4000/13840 queries. users per second: 82607.1"
      ]
     },
     "metadata": {},
     "output_type": "display_data"
    },
    {
     "data": {
      "text/html": [
       "<pre>recommendations finished on 5000/13840 queries. users per second: 84211.9</pre>"
      ],
      "text/plain": [
       "recommendations finished on 5000/13840 queries. users per second: 84211.9"
      ]
     },
     "metadata": {},
     "output_type": "display_data"
    },
    {
     "data": {
      "text/html": [
       "<pre>recommendations finished on 6000/13840 queries. users per second: 83341.4</pre>"
      ],
      "text/plain": [
       "recommendations finished on 6000/13840 queries. users per second: 83341.4"
      ]
     },
     "metadata": {},
     "output_type": "display_data"
    },
    {
     "data": {
      "text/html": [
       "<pre>recommendations finished on 7000/13840 queries. users per second: 84500.2</pre>"
      ],
      "text/plain": [
       "recommendations finished on 7000/13840 queries. users per second: 84500.2"
      ]
     },
     "metadata": {},
     "output_type": "display_data"
    },
    {
     "data": {
      "text/html": [
       "<pre>recommendations finished on 8000/13840 queries. users per second: 85828.6</pre>"
      ],
      "text/plain": [
       "recommendations finished on 8000/13840 queries. users per second: 85828.6"
      ]
     },
     "metadata": {},
     "output_type": "display_data"
    },
    {
     "data": {
      "text/html": [
       "<pre>recommendations finished on 9000/13840 queries. users per second: 86268</pre>"
      ],
      "text/plain": [
       "recommendations finished on 9000/13840 queries. users per second: 86268"
      ]
     },
     "metadata": {},
     "output_type": "display_data"
    },
    {
     "data": {
      "text/html": [
       "<pre>recommendations finished on 10000/13840 queries. users per second: 78373</pre>"
      ],
      "text/plain": [
       "recommendations finished on 10000/13840 queries. users per second: 78373"
      ]
     },
     "metadata": {},
     "output_type": "display_data"
    },
    {
     "data": {
      "text/html": [
       "<pre>recommendations finished on 11000/13840 queries. users per second: 78332</pre>"
      ],
      "text/plain": [
       "recommendations finished on 11000/13840 queries. users per second: 78332"
      ]
     },
     "metadata": {},
     "output_type": "display_data"
    },
    {
     "data": {
      "text/html": [
       "<pre>recommendations finished on 12000/13840 queries. users per second: 77857.4</pre>"
      ],
      "text/plain": [
       "recommendations finished on 12000/13840 queries. users per second: 77857.4"
      ]
     },
     "metadata": {},
     "output_type": "display_data"
    },
    {
     "data": {
      "text/html": [
       "<pre>recommendations finished on 13000/13840 queries. users per second: 78377.5</pre>"
      ],
      "text/plain": [
       "recommendations finished on 13000/13840 queries. users per second: 78377.5"
      ]
     },
     "metadata": {},
     "output_type": "display_data"
    },
    {
     "name": "stdout",
     "output_type": "stream",
     "text": [
      "\n",
      "Precision and recall summary statistics by cutoff\n",
      "+--------+------------------+------------------+\n",
      "| cutoff |  mean_precision  |   mean_recall    |\n",
      "+--------+------------------+------------------+\n",
      "|   1    | 0.00513005780347 | 0.00260069991826 |\n",
      "|   2    | 0.00892341040462 | 0.00898059504061 |\n",
      "|   3    |  0.010549132948  | 0.0155102399585  |\n",
      "|   4    | 0.0103865606936  | 0.0200845701723  |\n",
      "|   5    | 0.0106791907514  | 0.0267294392323  |\n",
      "|   6    | 0.0106815992293  | 0.0325194777102  |\n",
      "|   7    | 0.00984723369116 | 0.0347045692323  |\n",
      "|   8    | 0.00922145953757 | 0.0370391804705  |\n",
      "|   9    | 0.00887925497752 | 0.0401342182603  |\n",
      "|   10   | 0.00852601156069 | 0.0428764114396  |\n",
      "+--------+------------------+------------------+\n",
      "[10 rows x 3 columns]\n",
      "\n",
      "\n",
      "Overall RMSE: 1.0\n",
      "\n",
      "Per User RMSE (best)\n",
      "+------------+-------+------+\n",
      "| customerId | count | rmse |\n",
      "+------------+-------+------+\n",
      "|   16436    |   2   | 1.0  |\n",
      "+------------+-------+------+\n",
      "[1 rows x 3 columns]\n",
      "\n",
      "\n",
      "Per User RMSE (worst)\n",
      "+------------+-------+------+\n",
      "| customerId | count | rmse |\n",
      "+------------+-------+------+\n",
      "|   21855    |   1   | 1.0  |\n",
      "+------------+-------+------+\n",
      "[1 rows x 3 columns]\n",
      "\n",
      "\n",
      "Per Item RMSE (best)\n",
      "+-----------+-------+------+\n",
      "| productId | count | rmse |\n",
      "+-----------+-------+------+\n",
      "|    207    |   28  | 1.0  |\n",
      "+-----------+-------+------+\n",
      "[1 rows x 3 columns]\n",
      "\n",
      "\n",
      "Per Item RMSE (worst)\n",
      "+-----------+-------+------+\n",
      "| productId | count | rmse |\n",
      "+-----------+-------+------+\n",
      "|    118    |   44  | 1.0  |\n",
      "+-----------+-------+------+\n",
      "[1 rows x 3 columns]\n",
      "\n"
     ]
    }
   ],
   "source": [
    "eval_dummy = tc.recommender.util.compare_models(test_data_dummy, models_w_dummy, model_names=names_w_dummy)"
   ]
  },
  {
   "cell_type": "code",
   "execution_count": 124,
   "metadata": {},
   "outputs": [
    {
     "name": "stdout",
     "output_type": "stream",
     "text": [
      "PROGRESS: Evaluate model Popularity Model on Scaled Purchase Counts\n"
     ]
    },
    {
     "data": {
      "text/html": [
       "<pre>recommendations finished on 1000/13898 queries. users per second: 70254.3</pre>"
      ],
      "text/plain": [
       "recommendations finished on 1000/13898 queries. users per second: 70254.3"
      ]
     },
     "metadata": {},
     "output_type": "display_data"
    },
    {
     "data": {
      "text/html": [
       "<pre>recommendations finished on 2000/13898 queries. users per second: 78373</pre>"
      ],
      "text/plain": [
       "recommendations finished on 2000/13898 queries. users per second: 78373"
      ]
     },
     "metadata": {},
     "output_type": "display_data"
    },
    {
     "data": {
      "text/html": [
       "<pre>recommendations finished on 3000/13898 queries. users per second: 83521.3</pre>"
      ],
      "text/plain": [
       "recommendations finished on 3000/13898 queries. users per second: 83521.3"
      ]
     },
     "metadata": {},
     "output_type": "display_data"
    },
    {
     "data": {
      "text/html": [
       "<pre>recommendations finished on 4000/13898 queries. users per second: 86538.9</pre>"
      ],
      "text/plain": [
       "recommendations finished on 4000/13898 queries. users per second: 86538.9"
      ]
     },
     "metadata": {},
     "output_type": "display_data"
    },
    {
     "data": {
      "text/html": [
       "<pre>recommendations finished on 5000/13898 queries. users per second: 88666.6</pre>"
      ],
      "text/plain": [
       "recommendations finished on 5000/13898 queries. users per second: 88666.6"
      ]
     },
     "metadata": {},
     "output_type": "display_data"
    },
    {
     "data": {
      "text/html": [
       "<pre>recommendations finished on 6000/13898 queries. users per second: 88530.8</pre>"
      ],
      "text/plain": [
       "recommendations finished on 6000/13898 queries. users per second: 88530.8"
      ]
     },
     "metadata": {},
     "output_type": "display_data"
    },
    {
     "data": {
      "text/html": [
       "<pre>recommendations finished on 7000/13898 queries. users per second: 88611</pre>"
      ],
      "text/plain": [
       "recommendations finished on 7000/13898 queries. users per second: 88611"
      ]
     },
     "metadata": {},
     "output_type": "display_data"
    },
    {
     "data": {
      "text/html": [
       "<pre>recommendations finished on 8000/13898 queries. users per second: 89893.7</pre>"
      ],
      "text/plain": [
       "recommendations finished on 8000/13898 queries. users per second: 89893.7"
      ]
     },
     "metadata": {},
     "output_type": "display_data"
    },
    {
     "data": {
      "text/html": [
       "<pre>recommendations finished on 9000/13898 queries. users per second: 91383.5</pre>"
      ],
      "text/plain": [
       "recommendations finished on 9000/13898 queries. users per second: 91383.5"
      ]
     },
     "metadata": {},
     "output_type": "display_data"
    },
    {
     "data": {
      "text/html": [
       "<pre>recommendations finished on 10000/13898 queries. users per second: 90714.5</pre>"
      ],
      "text/plain": [
       "recommendations finished on 10000/13898 queries. users per second: 90714.5"
      ]
     },
     "metadata": {},
     "output_type": "display_data"
    },
    {
     "data": {
      "text/html": [
       "<pre>recommendations finished on 11000/13898 queries. users per second: 90826.5</pre>"
      ],
      "text/plain": [
       "recommendations finished on 11000/13898 queries. users per second: 90826.5"
      ]
     },
     "metadata": {},
     "output_type": "display_data"
    },
    {
     "data": {
      "text/html": [
       "<pre>recommendations finished on 12000/13898 queries. users per second: 87204.9</pre>"
      ],
      "text/plain": [
       "recommendations finished on 12000/13898 queries. users per second: 87204.9"
      ]
     },
     "metadata": {},
     "output_type": "display_data"
    },
    {
     "data": {
      "text/html": [
       "<pre>recommendations finished on 13000/13898 queries. users per second: 87434.9</pre>"
      ],
      "text/plain": [
       "recommendations finished on 13000/13898 queries. users per second: 87434.9"
      ]
     },
     "metadata": {},
     "output_type": "display_data"
    },
    {
     "name": "stdout",
     "output_type": "stream",
     "text": [
      "\n",
      "Precision and recall summary statistics by cutoff\n",
      "+--------+------------------+------------------+\n",
      "| cutoff |  mean_precision  |   mean_recall    |\n",
      "+--------+------------------+------------------+\n",
      "|   1    | 0.00280615915959 | 0.0012729960834  |\n",
      "|   2    | 0.00273420636063 | 0.00291065221576 |\n",
      "|   3    | 0.0025903007627  | 0.00455237524545 |\n",
      "|   4    | 0.00244639516477 | 0.0056017725551  |\n",
      "|   5    | 0.00240322348539 | 0.0070281774928  |\n",
      "|   6    | 0.00221854463472 | 0.00777228935542 |\n",
      "|   7    | 0.00230248956684 | 0.00936623320194 |\n",
      "|   8    | 0.00258130666283 | 0.0116180728782  |\n",
      "|   9    | 0.00244639516477 | 0.0120837058845  |\n",
      "|   10   | 0.00269822996115 | 0.0146297112925  |\n",
      "+--------+------------------+------------------+\n",
      "[10 rows x 3 columns]\n",
      "\n",
      "\n",
      "Overall RMSE: 0.131504314938\n",
      "\n",
      "Per User RMSE (best)\n",
      "+------------+-------+------+\n",
      "| customerId | count | rmse |\n",
      "+------------+-------+------+\n",
      "|   13482    |   1   | 0.0  |\n",
      "+------------+-------+------+\n",
      "[1 rows x 3 columns]\n",
      "\n",
      "\n",
      "Per User RMSE (worst)\n",
      "+------------+-------+----------------+\n",
      "| customerId | count |      rmse      |\n",
      "+------------+-------+----------------+\n",
      "|   11909    |   1   | 0.980709876543 |\n",
      "+------------+-------+----------------+\n",
      "[1 rows x 3 columns]\n",
      "\n",
      "\n",
      "Per Item RMSE (best)\n",
      "+-----------+-------+-----------------+\n",
      "| productId | count |       rmse      |\n",
      "+-----------+-------+-----------------+\n",
      "|     47    |  142  | 0.0153607647281 |\n",
      "+-----------+-------+-----------------+\n",
      "[1 rows x 3 columns]\n",
      "\n",
      "\n",
      "Per Item RMSE (worst)\n",
      "+-----------+-------+----------------+\n",
      "| productId | count |      rmse      |\n",
      "+-----------+-------+----------------+\n",
      "|    226    |   39  | 0.390653237914 |\n",
      "+-----------+-------+----------------+\n",
      "[1 rows x 3 columns]\n",
      "\n",
      "PROGRESS: Evaluate model Cosine Similarity on Scaled Purchase Counts\n"
     ]
    },
    {
     "data": {
      "text/html": [
       "<pre>recommendations finished on 1000/13898 queries. users per second: 65548</pre>"
      ],
      "text/plain": [
       "recommendations finished on 1000/13898 queries. users per second: 65548"
      ]
     },
     "metadata": {},
     "output_type": "display_data"
    },
    {
     "data": {
      "text/html": [
       "<pre>recommendations finished on 2000/13898 queries. users per second: 68584.8</pre>"
      ],
      "text/plain": [
       "recommendations finished on 2000/13898 queries. users per second: 68584.8"
      ]
     },
     "metadata": {},
     "output_type": "display_data"
    },
    {
     "data": {
      "text/html": [
       "<pre>recommendations finished on 3000/13898 queries. users per second: 68951.3</pre>"
      ],
      "text/plain": [
       "recommendations finished on 3000/13898 queries. users per second: 68951.3"
      ]
     },
     "metadata": {},
     "output_type": "display_data"
    },
    {
     "data": {
      "text/html": [
       "<pre>recommendations finished on 4000/13898 queries. users per second: 70586.6</pre>"
      ],
      "text/plain": [
       "recommendations finished on 4000/13898 queries. users per second: 70586.6"
      ]
     },
     "metadata": {},
     "output_type": "display_data"
    },
    {
     "data": {
      "text/html": [
       "<pre>recommendations finished on 5000/13898 queries. users per second: 71814.3</pre>"
      ],
      "text/plain": [
       "recommendations finished on 5000/13898 queries. users per second: 71814.3"
      ]
     },
     "metadata": {},
     "output_type": "display_data"
    },
    {
     "data": {
      "text/html": [
       "<pre>recommendations finished on 6000/13898 queries. users per second: 71844.2</pre>"
      ],
      "text/plain": [
       "recommendations finished on 6000/13898 queries. users per second: 71844.2"
      ]
     },
     "metadata": {},
     "output_type": "display_data"
    },
    {
     "data": {
      "text/html": [
       "<pre>recommendations finished on 7000/13898 queries. users per second: 71888.5</pre>"
      ],
      "text/plain": [
       "recommendations finished on 7000/13898 queries. users per second: 71888.5"
      ]
     },
     "metadata": {},
     "output_type": "display_data"
    },
    {
     "data": {
      "text/html": [
       "<pre>recommendations finished on 8000/13898 queries. users per second: 72480.8</pre>"
      ],
      "text/plain": [
       "recommendations finished on 8000/13898 queries. users per second: 72480.8"
      ]
     },
     "metadata": {},
     "output_type": "display_data"
    },
    {
     "data": {
      "text/html": [
       "<pre>recommendations finished on 9000/13898 queries. users per second: 72937.7</pre>"
      ],
      "text/plain": [
       "recommendations finished on 9000/13898 queries. users per second: 72937.7"
      ]
     },
     "metadata": {},
     "output_type": "display_data"
    },
    {
     "data": {
      "text/html": [
       "<pre>recommendations finished on 10000/13898 queries. users per second: 73319.7</pre>"
      ],
      "text/plain": [
       "recommendations finished on 10000/13898 queries. users per second: 73319.7"
      ]
     },
     "metadata": {},
     "output_type": "display_data"
    },
    {
     "data": {
      "text/html": [
       "<pre>recommendations finished on 11000/13898 queries. users per second: 67222.8</pre>"
      ],
      "text/plain": [
       "recommendations finished on 11000/13898 queries. users per second: 67222.8"
      ]
     },
     "metadata": {},
     "output_type": "display_data"
    },
    {
     "data": {
      "text/html": [
       "<pre>recommendations finished on 12000/13898 queries. users per second: 67228.4</pre>"
      ],
      "text/plain": [
       "recommendations finished on 12000/13898 queries. users per second: 67228.4"
      ]
     },
     "metadata": {},
     "output_type": "display_data"
    },
    {
     "data": {
      "text/html": [
       "<pre>recommendations finished on 13000/13898 queries. users per second: 67155</pre>"
      ],
      "text/plain": [
       "recommendations finished on 13000/13898 queries. users per second: 67155"
      ]
     },
     "metadata": {},
     "output_type": "display_data"
    },
    {
     "name": "stdout",
     "output_type": "stream",
     "text": [
      "\n",
      "Precision and recall summary statistics by cutoff\n",
      "+--------+-----------------+-----------------+\n",
      "| cutoff |  mean_precision |   mean_recall   |\n",
      "+--------+-----------------+-----------------+\n",
      "|   1    | 0.0655489998561 | 0.0372466221535 |\n",
      "|   2    | 0.0534609296302 | 0.0581867467988 |\n",
      "|   3    | 0.0464095553317 | 0.0759316948241 |\n",
      "|   4    |  0.040761260613 |  0.087430624818 |\n",
      "|   5    | 0.0364368973953 | 0.0970805794931 |\n",
      "|   6    | 0.0330383268576 |  0.104384000203 |\n",
      "|   7    | 0.0306827292725 |  0.112487131866 |\n",
      "|   8    | 0.0286372139876 |  0.118893714626 |\n",
      "|   9    | 0.0270222733887 |  0.126616788948 |\n",
      "|   10   | 0.0257231256296 |  0.133099999861 |\n",
      "+--------+-----------------+-----------------+\n",
      "[10 rows x 3 columns]\n",
      "\n",
      "\n",
      "Overall RMSE: 0.159373730299\n",
      "\n",
      "Per User RMSE (best)\n",
      "+------------+-------+------+\n",
      "| customerId | count | rmse |\n",
      "+------------+-------+------+\n",
      "|   27100    |   1   | 0.0  |\n",
      "+------------+-------+------+\n",
      "[1 rows x 3 columns]\n",
      "\n",
      "\n",
      "Per User RMSE (worst)\n",
      "+------------+-------+------+\n",
      "| customerId | count | rmse |\n",
      "+------------+-------+------+\n",
      "|   14217    |   1   | 1.0  |\n",
      "+------------+-------+------+\n",
      "[1 rows x 3 columns]\n",
      "\n",
      "\n",
      "Per Item RMSE (best)\n",
      "+-----------+-------+-----------------+\n",
      "| productId | count |       rmse      |\n",
      "+-----------+-------+-----------------+\n",
      "|     47    |  142  | 0.0162029478962 |\n",
      "+-----------+-------+-----------------+\n",
      "[1 rows x 3 columns]\n",
      "\n",
      "\n",
      "Per Item RMSE (worst)\n",
      "+-----------+-------+----------------+\n",
      "| productId | count |      rmse      |\n",
      "+-----------+-------+----------------+\n",
      "|    226    |   39  | 0.849400110536 |\n",
      "+-----------+-------+----------------+\n",
      "[1 rows x 3 columns]\n",
      "\n",
      "PROGRESS: Evaluate model Pearson Similarity on Scaled Purchase Counts\n"
     ]
    },
    {
     "data": {
      "text/html": [
       "<pre>recommendations finished on 1000/13898 queries. users per second: 63019.9</pre>"
      ],
      "text/plain": [
       "recommendations finished on 1000/13898 queries. users per second: 63019.9"
      ]
     },
     "metadata": {},
     "output_type": "display_data"
    },
    {
     "data": {
      "text/html": [
       "<pre>recommendations finished on 2000/13898 queries. users per second: 65869.6</pre>"
      ],
      "text/plain": [
       "recommendations finished on 2000/13898 queries. users per second: 65869.6"
      ]
     },
     "metadata": {},
     "output_type": "display_data"
    },
    {
     "data": {
      "text/html": [
       "<pre>recommendations finished on 3000/13898 queries. users per second: 63851.5</pre>"
      ],
      "text/plain": [
       "recommendations finished on 3000/13898 queries. users per second: 63851.5"
      ]
     },
     "metadata": {},
     "output_type": "display_data"
    },
    {
     "data": {
      "text/html": [
       "<pre>recommendations finished on 4000/13898 queries. users per second: 65727.9</pre>"
      ],
      "text/plain": [
       "recommendations finished on 4000/13898 queries. users per second: 65727.9"
      ]
     },
     "metadata": {},
     "output_type": "display_data"
    },
    {
     "data": {
      "text/html": [
       "<pre>recommendations finished on 5000/13898 queries. users per second: 67600.5</pre>"
      ],
      "text/plain": [
       "recommendations finished on 5000/13898 queries. users per second: 67600.5"
      ]
     },
     "metadata": {},
     "output_type": "display_data"
    },
    {
     "data": {
      "text/html": [
       "<pre>recommendations finished on 6000/13898 queries. users per second: 66552.8</pre>"
      ],
      "text/plain": [
       "recommendations finished on 6000/13898 queries. users per second: 66552.8"
      ]
     },
     "metadata": {},
     "output_type": "display_data"
    },
    {
     "data": {
      "text/html": [
       "<pre>recommendations finished on 7000/13898 queries. users per second: 59524.3</pre>"
      ],
      "text/plain": [
       "recommendations finished on 7000/13898 queries. users per second: 59524.3"
      ]
     },
     "metadata": {},
     "output_type": "display_data"
    },
    {
     "data": {
      "text/html": [
       "<pre>recommendations finished on 8000/13898 queries. users per second: 59332.7</pre>"
      ],
      "text/plain": [
       "recommendations finished on 8000/13898 queries. users per second: 59332.7"
      ]
     },
     "metadata": {},
     "output_type": "display_data"
    },
    {
     "data": {
      "text/html": [
       "<pre>recommendations finished on 9000/13898 queries. users per second: 60798.9</pre>"
      ],
      "text/plain": [
       "recommendations finished on 9000/13898 queries. users per second: 60798.9"
      ]
     },
     "metadata": {},
     "output_type": "display_data"
    },
    {
     "data": {
      "text/html": [
       "<pre>recommendations finished on 10000/13898 queries. users per second: 61918.4</pre>"
      ],
      "text/plain": [
       "recommendations finished on 10000/13898 queries. users per second: 61918.4"
      ]
     },
     "metadata": {},
     "output_type": "display_data"
    },
    {
     "data": {
      "text/html": [
       "<pre>recommendations finished on 11000/13898 queries. users per second: 62060.3</pre>"
      ],
      "text/plain": [
       "recommendations finished on 11000/13898 queries. users per second: 62060.3"
      ]
     },
     "metadata": {},
     "output_type": "display_data"
    },
    {
     "data": {
      "text/html": [
       "<pre>recommendations finished on 12000/13898 queries. users per second: 57843.3</pre>"
      ],
      "text/plain": [
       "recommendations finished on 12000/13898 queries. users per second: 57843.3"
      ]
     },
     "metadata": {},
     "output_type": "display_data"
    },
    {
     "data": {
      "text/html": [
       "<pre>recommendations finished on 13000/13898 queries. users per second: 58294.4</pre>"
      ],
      "text/plain": [
       "recommendations finished on 13000/13898 queries. users per second: 58294.4"
      ]
     },
     "metadata": {},
     "output_type": "display_data"
    },
    {
     "name": "stdout",
     "output_type": "stream",
     "text": [
      "\n",
      "Precision and recall summary statistics by cutoff\n",
      "+--------+------------------+------------------+\n",
      "| cutoff |  mean_precision  |   mean_recall    |\n",
      "+--------+------------------+------------------+\n",
      "|   1    | 0.00280615915959 | 0.0012729960834  |\n",
      "|   2    | 0.00266225356166 | 0.0028315041369  |\n",
      "|   3    | 0.0025903007627  | 0.00455237524545 |\n",
      "|   4    | 0.00244639516477 | 0.0056017725551  |\n",
      "|   5    | 0.00241761404519 | 0.00710013029177 |\n",
      "|   6    | 0.0022545210342  | 0.00789221068703 |\n",
      "|   7    | 0.00235388442325 | 0.00960607586516 |\n",
      "|   8    | 0.00260828896244 | 0.0117619784762  |\n",
      "|   9    | 0.00249436369741 | 0.0123955013467  |\n",
      "|   10   | 0.00273420636063 | 0.0149415067547  |\n",
      "+--------+------------------+------------------+\n",
      "[10 rows x 3 columns]\n",
      "\n",
      "\n",
      "Overall RMSE: 0.131160648064\n",
      "\n",
      "Per User RMSE (best)\n",
      "+------------+-------+------+\n",
      "| customerId | count | rmse |\n",
      "+------------+-------+------+\n",
      "|   26590    |   1   | 0.0  |\n",
      "+------------+-------+------+\n",
      "[1 rows x 3 columns]\n",
      "\n",
      "\n",
      "Per User RMSE (worst)\n",
      "+------------+-------+----------------+\n",
      "| customerId | count |      rmse      |\n",
      "+------------+-------+----------------+\n",
      "|   14217    |   1   | 0.962287981227 |\n",
      "+------------+-------+----------------+\n",
      "[1 rows x 3 columns]\n",
      "\n",
      "\n",
      "Per Item RMSE (best)\n",
      "+-----------+-------+-----------------+\n",
      "| productId | count |       rmse      |\n",
      "+-----------+-------+-----------------+\n",
      "|     47    |  142  | 0.0153299784668 |\n",
      "+-----------+-------+-----------------+\n",
      "[1 rows x 3 columns]\n",
      "\n",
      "\n",
      "Per Item RMSE (worst)\n",
      "+-----------+-------+----------------+\n",
      "| productId | count |      rmse      |\n",
      "+-----------+-------+----------------+\n",
      "|    226    |   39  | 0.390440791478 |\n",
      "+-----------+-------+----------------+\n",
      "[1 rows x 3 columns]\n",
      "\n"
     ]
    }
   ],
   "source": [
    "eval_norm = tc.recommender.util.compare_models(test_data_norm, models_w_norm, model_names=names_w_norm)"
   ]
  },
  {
   "cell_type": "code",
   "execution_count": 150,
   "metadata": {},
   "outputs": [
    {
     "data": {
      "text/html": [
       "<pre>Warning: Ignoring columns purchase_count;</pre>"
      ],
      "text/plain": [
       "Warning: Ignoring columns purchase_count;"
      ]
     },
     "metadata": {},
     "output_type": "display_data"
    },
    {
     "data": {
      "text/html": [
       "<pre>    To use these columns in scoring predictions, use a model that allows the use of additional features.</pre>"
      ],
      "text/plain": [
       "    To use these columns in scoring predictions, use a model that allows the use of additional features."
      ]
     },
     "metadata": {},
     "output_type": "display_data"
    },
    {
     "data": {
      "text/html": [
       "<pre>Preparing data set.</pre>"
      ],
      "text/plain": [
       "Preparing data set."
      ]
     },
     "metadata": {},
     "output_type": "display_data"
    },
    {
     "data": {
      "text/html": [
       "<pre>    Data has 133585 observations with 24429 users and 300 items.</pre>"
      ],
      "text/plain": [
       "    Data has 133585 observations with 24429 users and 300 items."
      ]
     },
     "metadata": {},
     "output_type": "display_data"
    },
    {
     "data": {
      "text/html": [
       "<pre>    Data prepared in: 0.097427s</pre>"
      ],
      "text/plain": [
       "    Data prepared in: 0.097427s"
      ]
     },
     "metadata": {},
     "output_type": "display_data"
    },
    {
     "data": {
      "text/html": [
       "<pre>Training model from provided data.</pre>"
      ],
      "text/plain": [
       "Training model from provided data."
      ]
     },
     "metadata": {},
     "output_type": "display_data"
    },
    {
     "data": {
      "text/html": [
       "<pre>Gathering per-item and per-user statistics.</pre>"
      ],
      "text/plain": [
       "Gathering per-item and per-user statistics."
      ]
     },
     "metadata": {},
     "output_type": "display_data"
    },
    {
     "data": {
      "text/html": [
       "<pre>+--------------------------------+------------+</pre>"
      ],
      "text/plain": [
       "+--------------------------------+------------+"
      ]
     },
     "metadata": {},
     "output_type": "display_data"
    },
    {
     "data": {
      "text/html": [
       "<pre>| Elapsed Time (Item Statistics) | % Complete |</pre>"
      ],
      "text/plain": [
       "| Elapsed Time (Item Statistics) | % Complete |"
      ]
     },
     "metadata": {},
     "output_type": "display_data"
    },
    {
     "data": {
      "text/html": [
       "<pre>+--------------------------------+------------+</pre>"
      ],
      "text/plain": [
       "+--------------------------------+------------+"
      ]
     },
     "metadata": {},
     "output_type": "display_data"
    },
    {
     "data": {
      "text/html": [
       "<pre>| 740us                          | 4          |</pre>"
      ],
      "text/plain": [
       "| 740us                          | 4          |"
      ]
     },
     "metadata": {},
     "output_type": "display_data"
    },
    {
     "data": {
      "text/html": [
       "<pre>| 5.268ms                        | 100        |</pre>"
      ],
      "text/plain": [
       "| 5.268ms                        | 100        |"
      ]
     },
     "metadata": {},
     "output_type": "display_data"
    },
    {
     "data": {
      "text/html": [
       "<pre>+--------------------------------+------------+</pre>"
      ],
      "text/plain": [
       "+--------------------------------+------------+"
      ]
     },
     "metadata": {},
     "output_type": "display_data"
    },
    {
     "data": {
      "text/html": [
       "<pre>Setting up lookup tables.</pre>"
      ],
      "text/plain": [
       "Setting up lookup tables."
      ]
     },
     "metadata": {},
     "output_type": "display_data"
    },
    {
     "data": {
      "text/html": [
       "<pre>Processing data in one pass using dense lookup tables.</pre>"
      ],
      "text/plain": [
       "Processing data in one pass using dense lookup tables."
      ]
     },
     "metadata": {},
     "output_type": "display_data"
    },
    {
     "data": {
      "text/html": [
       "<pre>+-------------------------------------+------------------+-----------------+</pre>"
      ],
      "text/plain": [
       "+-------------------------------------+------------------+-----------------+"
      ]
     },
     "metadata": {},
     "output_type": "display_data"
    },
    {
     "data": {
      "text/html": [
       "<pre>| Elapsed Time (Constructing Lookups) | Total % Complete | Items Processed |</pre>"
      ],
      "text/plain": [
       "| Elapsed Time (Constructing Lookups) | Total % Complete | Items Processed |"
      ]
     },
     "metadata": {},
     "output_type": "display_data"
    },
    {
     "data": {
      "text/html": [
       "<pre>+-------------------------------------+------------------+-----------------+</pre>"
      ],
      "text/plain": [
       "+-------------------------------------+------------------+-----------------+"
      ]
     },
     "metadata": {},
     "output_type": "display_data"
    },
    {
     "data": {
      "text/html": [
       "<pre>| 5.925ms                             | 0                | 0               |</pre>"
      ],
      "text/plain": [
       "| 5.925ms                             | 0                | 0               |"
      ]
     },
     "metadata": {},
     "output_type": "display_data"
    },
    {
     "data": {
      "text/html": [
       "<pre>| 25.048ms                            | 100              | 300             |</pre>"
      ],
      "text/plain": [
       "| 25.048ms                            | 100              | 300             |"
      ]
     },
     "metadata": {},
     "output_type": "display_data"
    },
    {
     "data": {
      "text/html": [
       "<pre>+-------------------------------------+------------------+-----------------+</pre>"
      ],
      "text/plain": [
       "+-------------------------------------+------------------+-----------------+"
      ]
     },
     "metadata": {},
     "output_type": "display_data"
    },
    {
     "data": {
      "text/html": [
       "<pre>Finalizing lookup tables.</pre>"
      ],
      "text/plain": [
       "Finalizing lookup tables."
      ]
     },
     "metadata": {},
     "output_type": "display_data"
    },
    {
     "data": {
      "text/html": [
       "<pre>Generating candidate set for working with new users.</pre>"
      ],
      "text/plain": [
       "Generating candidate set for working with new users."
      ]
     },
     "metadata": {},
     "output_type": "display_data"
    },
    {
     "data": {
      "text/html": [
       "<pre>Finished training in 0.036573s</pre>"
      ],
      "text/plain": [
       "Finished training in 0.036573s"
      ]
     },
     "metadata": {},
     "output_type": "display_data"
    },
    {
     "data": {
      "text/html": [
       "<pre>recommendations finished on 1000/1000 queries. users per second: 47078.8</pre>"
      ],
      "text/plain": [
       "recommendations finished on 1000/1000 queries. users per second: 47078.8"
      ]
     },
     "metadata": {},
     "output_type": "display_data"
    },
    {
     "name": "stdout",
     "output_type": "stream",
     "text": [
      "+------------+-----------+-----------------+------+\n",
      "| customerId | productId |      score      | rank |\n",
      "+------------+-----------+-----------------+------+\n",
      "|    1553    |     2     |  0.123247849941 |  1   |\n",
      "|    1553    |     35    |  0.104471671581 |  2   |\n",
      "|    1553    |     5     | 0.0906752586365 |  3   |\n",
      "|    1553    |     1     | 0.0867011427879 |  4   |\n",
      "|    1553    |     17    | 0.0765981435776 |  5   |\n",
      "|    1553    |     21    | 0.0749170780182 |  6   |\n",
      "|    1553    |     33    | 0.0668614387512 |  7   |\n",
      "|    1553    |     47    | 0.0605887889862 |  8   |\n",
      "|    1553    |     61    | 0.0603173971176 |  9   |\n",
      "|    1553    |     15    | 0.0594960331917 |  10  |\n",
      "|   20400    |     26    | 0.0581226944923 |  1   |\n",
      "|   20400    |     6     | 0.0536174178123 |  2   |\n",
      "|   20400    |    113    | 0.0531278848648 |  3   |\n",
      "|   20400    |     1     | 0.0521045923233 |  4   |\n",
      "|   20400    |     15    | 0.0476838946342 |  5   |\n",
      "|   20400    |     27    | 0.0446733832359 |  6   |\n",
      "|   20400    |     13    | 0.0438398122787 |  7   |\n",
      "|   20400    |    246    | 0.0437311530113 |  8   |\n",
      "|   20400    |    160    | 0.0425115227699 |  9   |\n",
      "|   20400    |     4     | 0.0424287319183 |  10  |\n",
      "|   19750    |     36    |  0.124051958323 |  1   |\n",
      "|   19750    |     48    |  0.123947103818 |  2   |\n",
      "|   19750    |     38    |  0.113217035929 |  3   |\n",
      "|   19750    |     1     |  0.103862037261 |  4   |\n",
      "|   19750    |     79    | 0.0945786039035 |  5   |\n",
      "|   19750    |     2     | 0.0902213354905 |  6   |\n",
      "|   19750    |     21    | 0.0654435257117 |  7   |\n",
      "|   19750    |    112    | 0.0629177093506 |  8   |\n",
      "|   19750    |    194    | 0.0619244774183 |  9   |\n",
      "|   19750    |     33    | 0.0602285861969 |  10  |\n",
      "+------------+-----------+-----------------+------+\n",
      "[10000 rows x 4 columns]\n",
      "\n"
     ]
    }
   ],
   "source": [
    "users_to_recommend = list(customers[user_id])\n",
    "\n",
    "final_model = tc.item_similarity_recommender.create(tc.SFrame(data_dummy), \n",
    "                                           user_id=user_id, \n",
    "                                           item_id=item_id, \n",
    "                                           target='purchase_dummy', similarity_type='cosine'\n",
    "                                       )\n",
    "#cos_dummy = final_model(train_data_dummy, 'cosine', user_id, item_id, 'purchase_dummy', users_to_recommend, n_rec, n_display)\n",
    "recom = final_model.recommend(users=users_to_recommend, k=n_rec)\n",
    "recom.print_rows(n_display)"
   ]
  },
  {
   "cell_type": "code",
   "execution_count": 152,
   "metadata": {},
   "outputs": [
    {
     "name": "stdout",
     "output_type": "stream",
     "text": [
      "(10000, 4)\n"
     ]
    },
    {
     "data": {
      "text/html": [
       "<div>\n",
       "<style scoped>\n",
       "    .dataframe tbody tr th:only-of-type {\n",
       "        vertical-align: middle;\n",
       "    }\n",
       "\n",
       "    .dataframe tbody tr th {\n",
       "        vertical-align: top;\n",
       "    }\n",
       "\n",
       "    .dataframe thead th {\n",
       "        text-align: right;\n",
       "    }\n",
       "</style>\n",
       "<table border=\"1\" class=\"dataframe\">\n",
       "  <thead>\n",
       "    <tr style=\"text-align: right;\">\n",
       "      <th></th>\n",
       "      <th>customerId</th>\n",
       "      <th>productId</th>\n",
       "      <th>score</th>\n",
       "      <th>rank</th>\n",
       "    </tr>\n",
       "  </thead>\n",
       "  <tbody>\n",
       "    <tr>\n",
       "      <th>0</th>\n",
       "      <td>1553</td>\n",
       "      <td>2</td>\n",
       "      <td>0.123248</td>\n",
       "      <td>1</td>\n",
       "    </tr>\n",
       "    <tr>\n",
       "      <th>1</th>\n",
       "      <td>1553</td>\n",
       "      <td>35</td>\n",
       "      <td>0.104472</td>\n",
       "      <td>2</td>\n",
       "    </tr>\n",
       "    <tr>\n",
       "      <th>2</th>\n",
       "      <td>1553</td>\n",
       "      <td>5</td>\n",
       "      <td>0.090675</td>\n",
       "      <td>3</td>\n",
       "    </tr>\n",
       "    <tr>\n",
       "      <th>3</th>\n",
       "      <td>1553</td>\n",
       "      <td>1</td>\n",
       "      <td>0.086701</td>\n",
       "      <td>4</td>\n",
       "    </tr>\n",
       "    <tr>\n",
       "      <th>4</th>\n",
       "      <td>1553</td>\n",
       "      <td>17</td>\n",
       "      <td>0.076598</td>\n",
       "      <td>5</td>\n",
       "    </tr>\n",
       "  </tbody>\n",
       "</table>\n",
       "</div>"
      ],
      "text/plain": [
       "   customerId  productId     score  rank\n",
       "0        1553          2  0.123248     1\n",
       "1        1553         35  0.104472     2\n",
       "2        1553          5  0.090675     3\n",
       "3        1553          1  0.086701     4\n",
       "4        1553         17  0.076598     5"
      ]
     },
     "execution_count": 152,
     "metadata": {},
     "output_type": "execute_result"
    }
   ],
   "source": [
    "df_rec = recom.to_dataframe()\n",
    "print(df_rec.shape)\n",
    "df_rec.head()"
   ]
  },
  {
   "cell_type": "code",
   "execution_count": 153,
   "metadata": {},
   "outputs": [
    {
     "data": {
      "text/html": [
       "<div>\n",
       "<style scoped>\n",
       "    .dataframe tbody tr th:only-of-type {\n",
       "        vertical-align: middle;\n",
       "    }\n",
       "\n",
       "    .dataframe tbody tr th {\n",
       "        vertical-align: top;\n",
       "    }\n",
       "\n",
       "    .dataframe thead th {\n",
       "        text-align: right;\n",
       "    }\n",
       "</style>\n",
       "<table border=\"1\" class=\"dataframe\">\n",
       "  <thead>\n",
       "    <tr style=\"text-align: right;\">\n",
       "      <th></th>\n",
       "      <th>recommendedProducts</th>\n",
       "    </tr>\n",
       "    <tr>\n",
       "      <th>customerId</th>\n",
       "      <th></th>\n",
       "    </tr>\n",
       "  </thead>\n",
       "  <tbody>\n",
       "    <tr>\n",
       "      <th>4</th>\n",
       "      <td>2|1|13|36|20|25|216|61|33|157</td>\n",
       "    </tr>\n",
       "    <tr>\n",
       "      <th>11</th>\n",
       "      <td>2|5|15|11|7|33|13|17|21|0</td>\n",
       "    </tr>\n",
       "    <tr>\n",
       "      <th>12</th>\n",
       "      <td>20|2|1|15|12|25|82|5|36|14</td>\n",
       "    </tr>\n",
       "    <tr>\n",
       "      <th>16</th>\n",
       "      <td>1|5|21|15|17|38|13|35|36|44</td>\n",
       "    </tr>\n",
       "    <tr>\n",
       "      <th>21</th>\n",
       "      <td>38|36|48|79|2|1|15|13|44|63</td>\n",
       "    </tr>\n",
       "  </tbody>\n",
       "</table>\n",
       "</div>"
      ],
      "text/plain": [
       "                      recommendedProducts\n",
       "customerId                               \n",
       "4           2|1|13|36|20|25|216|61|33|157\n",
       "11              2|5|15|11|7|33|13|17|21|0\n",
       "12             20|2|1|15|12|25|82|5|36|14\n",
       "16            1|5|21|15|17|38|13|35|36|44\n",
       "21            38|36|48|79|2|1|15|13|44|63"
      ]
     },
     "execution_count": 153,
     "metadata": {},
     "output_type": "execute_result"
    }
   ],
   "source": [
    "df_rec['recommendedProducts'] = df_rec.groupby([user_id])[item_id].transform(lambda x: '|'.join(x.astype(str)))\n",
    "df_output = df_rec[['customerId', 'recommendedProducts']].drop_duplicates().sort_values('customerId').set_index('customerId')\n",
    "df_output.head()"
   ]
  },
  {
   "cell_type": "code",
   "execution_count": 154,
   "metadata": {},
   "outputs": [
    {
     "name": "stdout",
     "output_type": "stream",
     "text": [
      "An output file can be found in 'output' folder with name 'option1_recommendation.csv'\n"
     ]
    }
   ],
   "source": [
    "#def create_output( users_to_recommend,  print_csv=True):\n",
    "    #recomendation = model.recommend(users=users_to_recommend, k=n_rec)\n",
    "    #df_rec = recomendation.to_dataframe()\n",
    "    #df_rec['recommendedProducts'] = df_rec.groupby([user_id])[item_id].transform(lambda x: '|'.join(x.astype(str)))\n",
    "#df_output = df_output[['customerId', 'recommendedProducts']].drop_duplicates().sort_values('customerId').set_index('customerId')\n",
    "    #if print_csv:\n",
    "df_output.to_csv('output/option1_recommendation.csv')\n",
    "print(\"An output file can be found in 'output' folder with name 'option1_recommendation.csv'\")\n",
    "    #return df_output\n"
   ]
  },
  {
   "cell_type": "code",
   "execution_count": 155,
   "metadata": {},
   "outputs": [
    {
     "data": {
      "text/html": [
       "<div>\n",
       "<style scoped>\n",
       "    .dataframe tbody tr th:only-of-type {\n",
       "        vertical-align: middle;\n",
       "    }\n",
       "\n",
       "    .dataframe tbody tr th {\n",
       "        vertical-align: top;\n",
       "    }\n",
       "\n",
       "    .dataframe thead th {\n",
       "        text-align: right;\n",
       "    }\n",
       "</style>\n",
       "<table border=\"1\" class=\"dataframe\">\n",
       "  <thead>\n",
       "    <tr style=\"text-align: right;\">\n",
       "      <th></th>\n",
       "      <th>recommendedProducts</th>\n",
       "    </tr>\n",
       "    <tr>\n",
       "      <th>customerId</th>\n",
       "      <th></th>\n",
       "    </tr>\n",
       "  </thead>\n",
       "  <tbody>\n",
       "    <tr>\n",
       "      <th>4</th>\n",
       "      <td>2|1|13|36|20|25|216|61|33|157</td>\n",
       "    </tr>\n",
       "    <tr>\n",
       "      <th>11</th>\n",
       "      <td>2|5|15|11|7|33|13|17|21|0</td>\n",
       "    </tr>\n",
       "    <tr>\n",
       "      <th>12</th>\n",
       "      <td>20|2|1|15|12|25|82|5|36|14</td>\n",
       "    </tr>\n",
       "    <tr>\n",
       "      <th>16</th>\n",
       "      <td>1|5|21|15|17|38|13|35|36|44</td>\n",
       "    </tr>\n",
       "    <tr>\n",
       "      <th>21</th>\n",
       "      <td>38|36|48|79|2|1|15|13|44|63</td>\n",
       "    </tr>\n",
       "  </tbody>\n",
       "</table>\n",
       "</div>"
      ],
      "text/plain": [
       "                      recommendedProducts\n",
       "customerId                               \n",
       "4           2|1|13|36|20|25|216|61|33|157\n",
       "11              2|5|15|11|7|33|13|17|21|0\n",
       "12             20|2|1|15|12|25|82|5|36|14\n",
       "16            1|5|21|15|17|38|13|35|36|44\n",
       "21            38|36|48|79|2|1|15|13|44|63"
      ]
     },
     "execution_count": 155,
     "metadata": {},
     "output_type": "execute_result"
    }
   ],
   "source": [
    "#users_to_recommend = list(customers[user_id])\n",
    "#df_output = create_output( users_to_recommend, print_csv=True)\n",
    "#print(df_output.shape)\n",
    "df_output.head()"
   ]
  },
  {
   "cell_type": "code",
   "execution_count": null,
   "metadata": {},
   "outputs": [],
   "source": []
  }
 ],
 "metadata": {
  "kernelspec": {
   "display_name": "Python 2",
   "language": "python",
   "name": "python2"
  },
  "language_info": {
   "codemirror_mode": {
    "name": "ipython",
    "version": 2
   },
   "file_extension": ".py",
   "mimetype": "text/x-python",
   "name": "python",
   "nbconvert_exporter": "python",
   "pygments_lexer": "ipython2",
   "version": "2.7.12"
  }
 },
 "nbformat": 4,
 "nbformat_minor": 2
}
