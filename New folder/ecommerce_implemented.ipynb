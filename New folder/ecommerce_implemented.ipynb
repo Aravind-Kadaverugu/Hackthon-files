{
  "cells": [
    {
      "cell_type": "code",
      "execution_count": 1,
      "metadata": {
        "pycharm": {}
      },
      "outputs": [
        {
          "name": "stderr",
          "output_type": "stream",
          "text": [
            "/usr/local/lib/python2.7/dist-packages/sklearn/cross_validation.py:41: DeprecationWarning: This module was deprecated in version 0.18 in favor of the model_selection module into which all the refactored classes and functions are moved. Also note that the interface of the new CV iterators are different from that of this module. This module will be removed in 0.20.\n",
            "  \"This module will be removed in 0.20.\", DeprecationWarning)\n"
          ]
        }
      ],
      "source": [
        "import pandas as pd\n",
        "import numpy as np\n",
        "import time\n",
        "import turicreate as tc\n",
        "from sklearn.cross_validation import train_test_split"
      ]
    },
    {
      "cell_type": "code",
      "execution_count": 10,
      "metadata": {
        "scrolled": true,
        "pycharm": {}
      },
      "outputs": [
        {
          "name": "stdout",
          "output_type": "stream",
          "text": [
            "  customerId                                           products\n",
            "1      14176  21733|22645|22804|22810|21355|85123A|22968|211...\n",
            "2      13305                     85061W|22855|22465|22740|21385\n",
            "3      14679                                              84678\n",
            "4      14911  22968|85071A|85071C|22355|21579|21576|22147|22...\n",
            "5      14673  21485|22835|21143|22158|22633|22419|21212|2217...\n"
          ]
        }
      ],
      "source": [
        "userItemData \u003d pd.read_csv(\u0027data2.csv\u0027,encoding \u003d \u0027unicode_escape\u0027,dtype\u003d\u0027str\u0027)\n",
        "#print(userItemData.head())\n",
        "userList\u003dlist(set(userItemData[\"CustomerID\"].tolist()))\n",
        "#print(len(userList))\n",
        "#print(userItemData.head(10))\n",
        "filteredData\u003dpd.DataFrame(columns\u003d(\u0027customerId\u0027,\u0027products\u0027))\n",
        "rowCount\u003d0\n",
        "#print(userList) \n",
        "for user in userList: \n",
        "    products\u003d[] \n",
        "    x\u003duserItemData[userItemData.CustomerID\u003d\u003duser][\u0027StockCode\u0027].tolist() \n",
        "    #print(x)\n",
        "    s\u003d\u0027|\u0027 \n",
        "    s\u003ds.join(x) \n",
        "    filteredData.loc[rowCount]\u003d[user,s] \n",
        "    rowCount+\u003d1 \n",
        "transactions\u003dfilteredData.dropna()\n",
        "print(transactions.head())"
      ]
    },
    {
      "cell_type": "code",
      "execution_count": 19,
      "metadata": {
        "pycharm": {}
      },
      "outputs": [
        {
          "name": "stdout",
          "output_type": "stream",
          "text": [
            "\u003cclass \u0027pandas.core.frame.DataFrame\u0027\u003e\n"
          ]
        }
      ],
      "source": [
        "customers \u003d pd.DataFrame(transactions[\u0027customerId\u0027])\n",
        "print(type(transactions))"
      ]
    },
    {
      "cell_type": "code",
      "execution_count": 13,
      "metadata": {
        "pycharm": {}
      },
      "outputs": [
        {
          "name": "stderr",
          "output_type": "stream",
          "text": [
            "/usr/local/lib/python2.7/dist-packages/ipykernel_launcher.py:1: SettingWithCopyWarning: \n",
            "A value is trying to be set on a copy of a slice from a DataFrame.\n",
            "Try using .loc[row_indexer,col_indexer] \u003d value instead\n",
            "\n",
            "See the caveats in the documentation: http://pandas.pydata.org/pandas-docs/stable/indexing.html#indexing-view-versus-copy\n",
            "  \"\"\"Entry point for launching an IPython kernel.\n"
          ]
        },
        {
          "data": {
            "text/html": [
              "\u003cdiv\u003e\n",
              "\u003cstyle scoped\u003e\n",
              "    .dataframe tbody tr th:only-of-type {\n",
              "        vertical-align: middle;\n",
              "    }\n",
              "\n",
              "    .dataframe tbody tr th {\n",
              "        vertical-align: top;\n",
              "    }\n",
              "\n",
              "    .dataframe thead th {\n",
              "        text-align: right;\n",
              "    }\n",
              "\u003c/style\u003e\n",
              "\u003ctable border\u003d\"1\" class\u003d\"dataframe\"\u003e\n",
              "  \u003cthead\u003e\n",
              "    \u003ctr style\u003d\"text-align: right;\"\u003e\n",
              "      \u003cth\u003e\u003c/th\u003e\n",
              "      \u003cth\u003ecustomerId\u003c/th\u003e\n",
              "      \u003cth\u003e0\u003c/th\u003e\n",
              "      \u003cth\u003e1\u003c/th\u003e\n",
              "      \u003cth\u003e2\u003c/th\u003e\n",
              "      \u003cth\u003e3\u003c/th\u003e\n",
              "      \u003cth\u003e4\u003c/th\u003e\n",
              "      \u003cth\u003e5\u003c/th\u003e\n",
              "      \u003cth\u003e6\u003c/th\u003e\n",
              "      \u003cth\u003e7\u003c/th\u003e\n",
              "      \u003cth\u003e8\u003c/th\u003e\n",
              "    \u003c/tr\u003e\n",
              "  \u003c/thead\u003e\n",
              "  \u003ctbody\u003e\n",
              "    \u003ctr\u003e\n",
              "      \u003cth\u003e0\u003c/th\u003e\n",
              "      \u003ctd\u003e14176\u003c/td\u003e\n",
              "      \u003ctd\u003e21733\u003c/td\u003e\n",
              "      \u003ctd\u003e22645\u003c/td\u003e\n",
              "      \u003ctd\u003e22804\u003c/td\u003e\n",
              "      \u003ctd\u003e22810\u003c/td\u003e\n",
              "      \u003ctd\u003e21355\u003c/td\u003e\n",
              "      \u003ctd\u003e85123A\u003c/td\u003e\n",
              "      \u003ctd\u003e22968\u003c/td\u003e\n",
              "      \u003ctd\u003e21109\u003c/td\u003e\n",
              "      \u003ctd\u003e21108\u003c/td\u003e\n",
              "    \u003c/tr\u003e\n",
              "    \u003ctr\u003e\n",
              "      \u003cth\u003e1\u003c/th\u003e\n",
              "      \u003ctd\u003e13305\u003c/td\u003e\n",
              "      \u003ctd\u003e85061W\u003c/td\u003e\n",
              "      \u003ctd\u003e22855\u003c/td\u003e\n",
              "      \u003ctd\u003e22465\u003c/td\u003e\n",
              "      \u003ctd\u003e22740\u003c/td\u003e\n",
              "      \u003ctd\u003e21385\u003c/td\u003e\n",
              "      \u003ctd\u003eNaN\u003c/td\u003e\n",
              "      \u003ctd\u003eNaN\u003c/td\u003e\n",
              "      \u003ctd\u003eNaN\u003c/td\u003e\n",
              "      \u003ctd\u003eNaN\u003c/td\u003e\n",
              "    \u003c/tr\u003e\n",
              "  \u003c/tbody\u003e\n",
              "\u003c/table\u003e\n",
              "\u003c/div\u003e"
            ],
            "text/plain": [
              "  customerId       0      1      2      3      4       5      6      7      8\n",
              "0      14176   21733  22645  22804  22810  21355  85123A  22968  21109  21108\n",
              "1      13305  85061W  22855  22465  22740  21385     NaN    NaN    NaN    NaN"
            ]
          },
          "execution_count": 13,
          "metadata": {},
          "output_type": "execute_result"
        }
      ],
      "source": [
        "transactions[\u0027products\u0027] \u003d transactions[\u0027products\u0027].apply(lambda x: [str(i) for i in x.split(\u0027|\u0027)])\n",
        "transactions.head(2).set_index(\u0027customerId\u0027)[\u0027products\u0027].apply(pd.Series).reset_index()"
      ]
    },
    {
      "cell_type": "code",
      "execution_count": 20,
      "metadata": {
        "pycharm": {}
      },
      "outputs": [
        {
          "data": {
            "text/html": [
              "\u003cdiv\u003e\n",
              "\u003cstyle scoped\u003e\n",
              "    .dataframe tbody tr th:only-of-type {\n",
              "        vertical-align: middle;\n",
              "    }\n",
              "\n",
              "    .dataframe tbody tr th {\n",
              "        vertical-align: top;\n",
              "    }\n",
              "\n",
              "    .dataframe thead th {\n",
              "        text-align: right;\n",
              "    }\n",
              "\u003c/style\u003e\n",
              "\u003ctable border\u003d\"1\" class\u003d\"dataframe\"\u003e\n",
              "  \u003cthead\u003e\n",
              "    \u003ctr style\u003d\"text-align: right;\"\u003e\n",
              "      \u003cth\u003e\u003c/th\u003e\n",
              "      \u003cth\u003ecustomerId\u003c/th\u003e\n",
              "      \u003cth\u003eproductId\u003c/th\u003e\n",
              "      \u003cth\u003epurchase_count\u003c/th\u003e\n",
              "    \u003c/tr\u003e\n",
              "  \u003c/thead\u003e\n",
              "  \u003ctbody\u003e\n",
              "    \u003ctr\u003e\n",
              "      \u003cth\u003e0\u003c/th\u003e\n",
              "      \u003ctd\u003e13305\u003c/td\u003e\n",
              "      \u003ctd\u003e21385\u003c/td\u003e\n",
              "      \u003ctd\u003e1\u003c/td\u003e\n",
              "    \u003c/tr\u003e\n",
              "    \u003ctr\u003e\n",
              "      \u003cth\u003e1\u003c/th\u003e\n",
              "      \u003ctd\u003e13305\u003c/td\u003e\n",
              "      \u003ctd\u003e22465\u003c/td\u003e\n",
              "      \u003ctd\u003e1\u003c/td\u003e\n",
              "    \u003c/tr\u003e\n",
              "    \u003ctr\u003e\n",
              "      \u003cth\u003e2\u003c/th\u003e\n",
              "      \u003ctd\u003e13305\u003c/td\u003e\n",
              "      \u003ctd\u003e22740\u003c/td\u003e\n",
              "      \u003ctd\u003e1\u003c/td\u003e\n",
              "    \u003c/tr\u003e\n",
              "    \u003ctr\u003e\n",
              "      \u003cth\u003e3\u003c/th\u003e\n",
              "      \u003ctd\u003e13305\u003c/td\u003e\n",
              "      \u003ctd\u003e22855\u003c/td\u003e\n",
              "      \u003ctd\u003e1\u003c/td\u003e\n",
              "    \u003c/tr\u003e\n",
              "    \u003ctr\u003e\n",
              "      \u003cth\u003e4\u003c/th\u003e\n",
              "      \u003ctd\u003e13305\u003c/td\u003e\n",
              "      \u003ctd\u003e85061W\u003c/td\u003e\n",
              "      \u003ctd\u003e1\u003c/td\u003e\n",
              "    \u003c/tr\u003e\n",
              "    \u003ctr\u003e\n",
              "      \u003cth\u003e5\u003c/th\u003e\n",
              "      \u003ctd\u003e14176\u003c/td\u003e\n",
              "      \u003ctd\u003e21108\u003c/td\u003e\n",
              "      \u003ctd\u003e1\u003c/td\u003e\n",
              "    \u003c/tr\u003e\n",
              "    \u003ctr\u003e\n",
              "      \u003cth\u003e6\u003c/th\u003e\n",
              "      \u003ctd\u003e14176\u003c/td\u003e\n",
              "      \u003ctd\u003e21109\u003c/td\u003e\n",
              "      \u003ctd\u003e1\u003c/td\u003e\n",
              "    \u003c/tr\u003e\n",
              "    \u003ctr\u003e\n",
              "      \u003cth\u003e7\u003c/th\u003e\n",
              "      \u003ctd\u003e14176\u003c/td\u003e\n",
              "      \u003ctd\u003e21355\u003c/td\u003e\n",
              "      \u003ctd\u003e1\u003c/td\u003e\n",
              "    \u003c/tr\u003e\n",
              "    \u003ctr\u003e\n",
              "      \u003cth\u003e8\u003c/th\u003e\n",
              "      \u003ctd\u003e14176\u003c/td\u003e\n",
              "      \u003ctd\u003e21733\u003c/td\u003e\n",
              "      \u003ctd\u003e1\u003c/td\u003e\n",
              "    \u003c/tr\u003e\n",
              "    \u003ctr\u003e\n",
              "      \u003cth\u003e9\u003c/th\u003e\n",
              "      \u003ctd\u003e14176\u003c/td\u003e\n",
              "      \u003ctd\u003e22645\u003c/td\u003e\n",
              "      \u003ctd\u003e1\u003c/td\u003e\n",
              "    \u003c/tr\u003e\n",
              "    \u003ctr\u003e\n",
              "      \u003cth\u003e10\u003c/th\u003e\n",
              "      \u003ctd\u003e14176\u003c/td\u003e\n",
              "      \u003ctd\u003e22804\u003c/td\u003e\n",
              "      \u003ctd\u003e1\u003c/td\u003e\n",
              "    \u003c/tr\u003e\n",
              "    \u003ctr\u003e\n",
              "      \u003cth\u003e11\u003c/th\u003e\n",
              "      \u003ctd\u003e14176\u003c/td\u003e\n",
              "      \u003ctd\u003e22810\u003c/td\u003e\n",
              "      \u003ctd\u003e1\u003c/td\u003e\n",
              "    \u003c/tr\u003e\n",
              "    \u003ctr\u003e\n",
              "      \u003cth\u003e12\u003c/th\u003e\n",
              "      \u003ctd\u003e14176\u003c/td\u003e\n",
              "      \u003ctd\u003e22968\u003c/td\u003e\n",
              "      \u003ctd\u003e1\u003c/td\u003e\n",
              "    \u003c/tr\u003e\n",
              "    \u003ctr\u003e\n",
              "      \u003cth\u003e13\u003c/th\u003e\n",
              "      \u003ctd\u003e14176\u003c/td\u003e\n",
              "      \u003ctd\u003e85123A\u003c/td\u003e\n",
              "      \u003ctd\u003e1\u003c/td\u003e\n",
              "    \u003c/tr\u003e\n",
              "  \u003c/tbody\u003e\n",
              "\u003c/table\u003e\n",
              "\u003c/div\u003e"
            ],
            "text/plain": [
              "   customerId productId  purchase_count\n",
              "0       13305     21385               1\n",
              "1       13305     22465               1\n",
              "2       13305     22740               1\n",
              "3       13305     22855               1\n",
              "4       13305    85061W               1\n",
              "5       14176     21108               1\n",
              "6       14176     21109               1\n",
              "7       14176     21355               1\n",
              "8       14176     21733               1\n",
              "9       14176     22645               1\n",
              "10      14176     22804               1\n",
              "11      14176     22810               1\n",
              "12      14176     22968               1\n",
              "13      14176    85123A               1"
            ]
          },
          "execution_count": 20,
          "metadata": {},
          "output_type": "execute_result"
        }
      ],
      "source": [
        "# example 2: organize a given table into a dataframe with customerId, single productId, and purchase count\n",
        "pd.melt(transactions.head(2).set_index(\u0027customerId\u0027)[\u0027products\u0027].apply(pd.Series).reset_index(), \n",
        "             id_vars\u003d[\u0027customerId\u0027],\n",
        "             value_name\u003d\u0027products\u0027) \\\n",
        "    .dropna().drop([\u0027variable\u0027], axis\u003d1) \\\n",
        "    .groupby([\u0027customerId\u0027, \u0027products\u0027]) \\\n",
        "    .agg({\u0027products\u0027: \u0027count\u0027}) \\\n",
        "    .rename(columns\u003d{\u0027products\u0027: \u0027purchase_count\u0027}) \\\n",
        "    .reset_index() \\\n",
        "    .rename(columns\u003d{\u0027products\u0027: \u0027productId\u0027})"
      ]
    },
    {
      "cell_type": "code",
      "execution_count": 23,
      "metadata": {
        "pycharm": {}
      },
      "outputs": [
        {
          "name": "stdout",
          "output_type": "stream",
          "text": [
            "(\u0027Execution time:\u0027, 0.0, \u0027minutes\u0027)\n"
          ]
        }
      ],
      "source": [
        "s\u003dtime.time()\n",
        "\n",
        "data \u003d pd.melt(transactions.set_index(\u0027customerId\u0027)[\u0027products\u0027].apply(pd.Series).reset_index(), \n",
        "             id_vars\u003d[\u0027customerId\u0027],\n",
        "             value_name\u003d\u0027products\u0027) \\\n",
        "    .dropna().drop([\u0027variable\u0027], axis\u003d1) \\\n",
        "    .groupby([\u0027customerId\u0027, \u0027products\u0027]) \\\n",
        "    .agg({\u0027products\u0027: \u0027count\u0027}) \\\n",
        "    .rename(columns\u003d{\u0027products\u0027: \u0027purchase_count\u0027}) \\\n",
        "    .reset_index() \\\n",
        "    .rename(columns\u003d{\u0027products\u0027: \u0027productId\u0027})\n",
        "data[\u0027productId\u0027] \u003d data[\u0027productId\u0027].astype(np.str)\n",
        "\n",
        "print(\"Execution time:\", round((time.time()-s)/60,2), \"minutes\")"
      ]
    },
    {
      "cell_type": "code",
      "execution_count": 24,
      "metadata": {
        "pycharm": {}
      },
      "outputs": [
        {
          "name": "stdout",
          "output_type": "stream",
          "text": [
            "(12094, 3)\n"
          ]
        },
        {
          "data": {
            "text/html": [
              "\u003cdiv\u003e\n",
              "\u003cstyle scoped\u003e\n",
              "    .dataframe tbody tr th:only-of-type {\n",
              "        vertical-align: middle;\n",
              "    }\n",
              "\n",
              "    .dataframe tbody tr th {\n",
              "        vertical-align: top;\n",
              "    }\n",
              "\n",
              "    .dataframe thead th {\n",
              "        text-align: right;\n",
              "    }\n",
              "\u003c/style\u003e\n",
              "\u003ctable border\u003d\"1\" class\u003d\"dataframe\"\u003e\n",
              "  \u003cthead\u003e\n",
              "    \u003ctr style\u003d\"text-align: right;\"\u003e\n",
              "      \u003cth\u003e\u003c/th\u003e\n",
              "      \u003cth\u003ecustomerId\u003c/th\u003e\n",
              "      \u003cth\u003eproductId\u003c/th\u003e\n",
              "      \u003cth\u003epurchase_count\u003c/th\u003e\n",
              "    \u003c/tr\u003e\n",
              "  \u003c/thead\u003e\n",
              "  \u003ctbody\u003e\n",
              "    \u003ctr\u003e\n",
              "      \u003cth\u003e0\u003c/th\u003e\n",
              "      \u003ctd\u003e12347\u003c/td\u003e\n",
              "      \u003ctd\u003e20780\u003c/td\u003e\n",
              "      \u003ctd\u003e1\u003c/td\u003e\n",
              "    \u003c/tr\u003e\n",
              "    \u003ctr\u003e\n",
              "      \u003cth\u003e1\u003c/th\u003e\n",
              "      \u003ctd\u003e12347\u003c/td\u003e\n",
              "      \u003ctd\u003e20782\u003c/td\u003e\n",
              "      \u003ctd\u003e1\u003c/td\u003e\n",
              "    \u003c/tr\u003e\n",
              "    \u003ctr\u003e\n",
              "      \u003cth\u003e2\u003c/th\u003e\n",
              "      \u003ctd\u003e12347\u003c/td\u003e\n",
              "      \u003ctd\u003e21064\u003c/td\u003e\n",
              "      \u003ctd\u003e1\u003c/td\u003e\n",
              "    \u003c/tr\u003e\n",
              "    \u003ctr\u003e\n",
              "      \u003cth\u003e3\u003c/th\u003e\n",
              "      \u003ctd\u003e12347\u003c/td\u003e\n",
              "      \u003ctd\u003e21171\u003c/td\u003e\n",
              "      \u003ctd\u003e1\u003c/td\u003e\n",
              "    \u003c/tr\u003e\n",
              "    \u003ctr\u003e\n",
              "      \u003cth\u003e4\u003c/th\u003e\n",
              "      \u003ctd\u003e12347\u003c/td\u003e\n",
              "      \u003ctd\u003e21731\u003c/td\u003e\n",
              "      \u003ctd\u003e1\u003c/td\u003e\n",
              "    \u003c/tr\u003e\n",
              "  \u003c/tbody\u003e\n",
              "\u003c/table\u003e\n",
              "\u003c/div\u003e"
            ],
            "text/plain": [
              "  customerId productId  purchase_count\n",
              "0      12347     20780               1\n",
              "1      12347     20782               1\n",
              "2      12347     21064               1\n",
              "3      12347     21171               1\n",
              "4      12347     21731               1"
            ]
          },
          "execution_count": 24,
          "metadata": {},
          "output_type": "execute_result"
        }
      ],
      "source": [
        "print(data.shape)\n",
        "data.head()"
      ]
    },
    {
      "cell_type": "code",
      "execution_count": 26,
      "metadata": {
        "pycharm": {}
      },
      "outputs": [],
      "source": [
        "def create_data_dummy(data):\n",
        "    data_dummy \u003d data.copy()\n",
        "    data_dummy[\u0027purchase_dummy\u0027] \u003d 1\n",
        "    return data_dummy"
      ]
    },
    {
      "cell_type": "code",
      "execution_count": 28,
      "metadata": {
        "pycharm": {}
      },
      "outputs": [],
      "source": [
        "data_dummy \u003d create_data_dummy(data)"
      ]
    },
    {
      "cell_type": "code",
      "execution_count": 29,
      "metadata": {
        "pycharm": {}
      },
      "outputs": [
        {
          "data": {
            "text/html": [
              "\u003cdiv\u003e\n",
              "\u003cstyle scoped\u003e\n",
              "    .dataframe tbody tr th:only-of-type {\n",
              "        vertical-align: middle;\n",
              "    }\n",
              "\n",
              "    .dataframe tbody tr th {\n",
              "        vertical-align: top;\n",
              "    }\n",
              "\n",
              "    .dataframe thead th {\n",
              "        text-align: right;\n",
              "    }\n",
              "\u003c/style\u003e\n",
              "\u003ctable border\u003d\"1\" class\u003d\"dataframe\"\u003e\n",
              "  \u003cthead\u003e\n",
              "    \u003ctr style\u003d\"text-align: right;\"\u003e\n",
              "      \u003cth\u003eproductId\u003c/th\u003e\n",
              "      \u003cth\u003e10002\u003c/th\u003e\n",
              "      \u003cth\u003e10120\u003c/th\u003e\n",
              "      \u003cth\u003e10123C\u003c/th\u003e\n",
              "      \u003cth\u003e10124A\u003c/th\u003e\n",
              "      \u003cth\u003e10124G\u003c/th\u003e\n",
              "      \u003cth\u003e10125\u003c/th\u003e\n",
              "      \u003cth\u003e10133\u003c/th\u003e\n",
              "      \u003cth\u003e10135\u003c/th\u003e\n",
              "      \u003cth\u003e11001\u003c/th\u003e\n",
              "      \u003cth\u003e15034\u003c/th\u003e\n",
              "      \u003cth\u003e...\u003c/th\u003e\n",
              "      \u003cth\u003e90214J\u003c/th\u003e\n",
              "      \u003cth\u003e90214K\u003c/th\u003e\n",
              "      \u003cth\u003e90214M\u003c/th\u003e\n",
              "      \u003cth\u003e90214S\u003c/th\u003e\n",
              "      \u003cth\u003e90214V\u003c/th\u003e\n",
              "      \u003cth\u003eBANK CHARGES\u003c/th\u003e\n",
              "      \u003cth\u003eC2\u003c/th\u003e\n",
              "      \u003cth\u003eD\u003c/th\u003e\n",
              "      \u003cth\u003eM\u003c/th\u003e\n",
              "      \u003cth\u003ePOST\u003c/th\u003e\n",
              "    \u003c/tr\u003e\n",
              "    \u003ctr\u003e\n",
              "      \u003cth\u003ecustomerId\u003c/th\u003e\n",
              "      \u003cth\u003e\u003c/th\u003e\n",
              "      \u003cth\u003e\u003c/th\u003e\n",
              "      \u003cth\u003e\u003c/th\u003e\n",
              "      \u003cth\u003e\u003c/th\u003e\n",
              "      \u003cth\u003e\u003c/th\u003e\n",
              "      \u003cth\u003e\u003c/th\u003e\n",
              "      \u003cth\u003e\u003c/th\u003e\n",
              "      \u003cth\u003e\u003c/th\u003e\n",
              "      \u003cth\u003e\u003c/th\u003e\n",
              "      \u003cth\u003e\u003c/th\u003e\n",
              "      \u003cth\u003e\u003c/th\u003e\n",
              "      \u003cth\u003e\u003c/th\u003e\n",
              "      \u003cth\u003e\u003c/th\u003e\n",
              "      \u003cth\u003e\u003c/th\u003e\n",
              "      \u003cth\u003e\u003c/th\u003e\n",
              "      \u003cth\u003e\u003c/th\u003e\n",
              "      \u003cth\u003e\u003c/th\u003e\n",
              "      \u003cth\u003e\u003c/th\u003e\n",
              "      \u003cth\u003e\u003c/th\u003e\n",
              "      \u003cth\u003e\u003c/th\u003e\n",
              "      \u003cth\u003e\u003c/th\u003e\n",
              "    \u003c/tr\u003e\n",
              "  \u003c/thead\u003e\n",
              "  \u003ctbody\u003e\n",
              "    \u003ctr\u003e\n",
              "      \u003cth\u003e12347\u003c/th\u003e\n",
              "      \u003ctd\u003eNaN\u003c/td\u003e\n",
              "      \u003ctd\u003eNaN\u003c/td\u003e\n",
              "      \u003ctd\u003eNaN\u003c/td\u003e\n",
              "      \u003ctd\u003eNaN\u003c/td\u003e\n",
              "      \u003ctd\u003eNaN\u003c/td\u003e\n",
              "      \u003ctd\u003eNaN\u003c/td\u003e\n",
              "      \u003ctd\u003eNaN\u003c/td\u003e\n",
              "      \u003ctd\u003eNaN\u003c/td\u003e\n",
              "      \u003ctd\u003eNaN\u003c/td\u003e\n",
              "      \u003ctd\u003eNaN\u003c/td\u003e\n",
              "      \u003ctd\u003e...\u003c/td\u003e\n",
              "      \u003ctd\u003eNaN\u003c/td\u003e\n",
              "      \u003ctd\u003eNaN\u003c/td\u003e\n",
              "      \u003ctd\u003eNaN\u003c/td\u003e\n",
              "      \u003ctd\u003eNaN\u003c/td\u003e\n",
              "      \u003ctd\u003eNaN\u003c/td\u003e\n",
              "      \u003ctd\u003eNaN\u003c/td\u003e\n",
              "      \u003ctd\u003eNaN\u003c/td\u003e\n",
              "      \u003ctd\u003eNaN\u003c/td\u003e\n",
              "      \u003ctd\u003eNaN\u003c/td\u003e\n",
              "      \u003ctd\u003eNaN\u003c/td\u003e\n",
              "    \u003c/tr\u003e\n",
              "    \u003ctr\u003e\n",
              "      \u003cth\u003e12386\u003c/th\u003e\n",
              "      \u003ctd\u003eNaN\u003c/td\u003e\n",
              "      \u003ctd\u003eNaN\u003c/td\u003e\n",
              "      \u003ctd\u003eNaN\u003c/td\u003e\n",
              "      \u003ctd\u003eNaN\u003c/td\u003e\n",
              "      \u003ctd\u003eNaN\u003c/td\u003e\n",
              "      \u003ctd\u003eNaN\u003c/td\u003e\n",
              "      \u003ctd\u003eNaN\u003c/td\u003e\n",
              "      \u003ctd\u003eNaN\u003c/td\u003e\n",
              "      \u003ctd\u003eNaN\u003c/td\u003e\n",
              "      \u003ctd\u003eNaN\u003c/td\u003e\n",
              "      \u003ctd\u003e...\u003c/td\u003e\n",
              "      \u003ctd\u003eNaN\u003c/td\u003e\n",
              "      \u003ctd\u003eNaN\u003c/td\u003e\n",
              "      \u003ctd\u003eNaN\u003c/td\u003e\n",
              "      \u003ctd\u003eNaN\u003c/td\u003e\n",
              "      \u003ctd\u003eNaN\u003c/td\u003e\n",
              "      \u003ctd\u003eNaN\u003c/td\u003e\n",
              "      \u003ctd\u003eNaN\u003c/td\u003e\n",
              "      \u003ctd\u003eNaN\u003c/td\u003e\n",
              "      \u003ctd\u003eNaN\u003c/td\u003e\n",
              "      \u003ctd\u003eNaN\u003c/td\u003e\n",
              "    \u003c/tr\u003e\n",
              "    \u003ctr\u003e\n",
              "      \u003cth\u003e12395\u003c/th\u003e\n",
              "      \u003ctd\u003eNaN\u003c/td\u003e\n",
              "      \u003ctd\u003eNaN\u003c/td\u003e\n",
              "      \u003ctd\u003eNaN\u003c/td\u003e\n",
              "      \u003ctd\u003eNaN\u003c/td\u003e\n",
              "      \u003ctd\u003eNaN\u003c/td\u003e\n",
              "      \u003ctd\u003eNaN\u003c/td\u003e\n",
              "      \u003ctd\u003eNaN\u003c/td\u003e\n",
              "      \u003ctd\u003eNaN\u003c/td\u003e\n",
              "      \u003ctd\u003eNaN\u003c/td\u003e\n",
              "      \u003ctd\u003eNaN\u003c/td\u003e\n",
              "      \u003ctd\u003e...\u003c/td\u003e\n",
              "      \u003ctd\u003eNaN\u003c/td\u003e\n",
              "      \u003ctd\u003eNaN\u003c/td\u003e\n",
              "      \u003ctd\u003eNaN\u003c/td\u003e\n",
              "      \u003ctd\u003eNaN\u003c/td\u003e\n",
              "      \u003ctd\u003eNaN\u003c/td\u003e\n",
              "      \u003ctd\u003eNaN\u003c/td\u003e\n",
              "      \u003ctd\u003eNaN\u003c/td\u003e\n",
              "      \u003ctd\u003eNaN\u003c/td\u003e\n",
              "      \u003ctd\u003eNaN\u003c/td\u003e\n",
              "      \u003ctd\u003e1.0\u003c/td\u003e\n",
              "    \u003c/tr\u003e\n",
              "    \u003ctr\u003e\n",
              "      \u003cth\u003e12427\u003c/th\u003e\n",
              "      \u003ctd\u003eNaN\u003c/td\u003e\n",
              "      \u003ctd\u003eNaN\u003c/td\u003e\n",
              "      \u003ctd\u003eNaN\u003c/td\u003e\n",
              "      \u003ctd\u003eNaN\u003c/td\u003e\n",
              "      \u003ctd\u003eNaN\u003c/td\u003e\n",
              "      \u003ctd\u003eNaN\u003c/td\u003e\n",
              "      \u003ctd\u003eNaN\u003c/td\u003e\n",
              "      \u003ctd\u003eNaN\u003c/td\u003e\n",
              "      \u003ctd\u003eNaN\u003c/td\u003e\n",
              "      \u003ctd\u003eNaN\u003c/td\u003e\n",
              "      \u003ctd\u003e...\u003c/td\u003e\n",
              "      \u003ctd\u003eNaN\u003c/td\u003e\n",
              "      \u003ctd\u003eNaN\u003c/td\u003e\n",
              "      \u003ctd\u003eNaN\u003c/td\u003e\n",
              "      \u003ctd\u003eNaN\u003c/td\u003e\n",
              "      \u003ctd\u003eNaN\u003c/td\u003e\n",
              "      \u003ctd\u003eNaN\u003c/td\u003e\n",
              "      \u003ctd\u003eNaN\u003c/td\u003e\n",
              "      \u003ctd\u003eNaN\u003c/td\u003e\n",
              "      \u003ctd\u003eNaN\u003c/td\u003e\n",
              "      \u003ctd\u003e1.0\u003c/td\u003e\n",
              "    \u003c/tr\u003e\n",
              "    \u003ctr\u003e\n",
              "      \u003cth\u003e12431\u003c/th\u003e\n",
              "      \u003ctd\u003eNaN\u003c/td\u003e\n",
              "      \u003ctd\u003eNaN\u003c/td\u003e\n",
              "      \u003ctd\u003eNaN\u003c/td\u003e\n",
              "      \u003ctd\u003eNaN\u003c/td\u003e\n",
              "      \u003ctd\u003eNaN\u003c/td\u003e\n",
              "      \u003ctd\u003eNaN\u003c/td\u003e\n",
              "      \u003ctd\u003eNaN\u003c/td\u003e\n",
              "      \u003ctd\u003eNaN\u003c/td\u003e\n",
              "      \u003ctd\u003eNaN\u003c/td\u003e\n",
              "      \u003ctd\u003eNaN\u003c/td\u003e\n",
              "      \u003ctd\u003e...\u003c/td\u003e\n",
              "      \u003ctd\u003eNaN\u003c/td\u003e\n",
              "      \u003ctd\u003eNaN\u003c/td\u003e\n",
              "      \u003ctd\u003eNaN\u003c/td\u003e\n",
              "      \u003ctd\u003eNaN\u003c/td\u003e\n",
              "      \u003ctd\u003eNaN\u003c/td\u003e\n",
              "      \u003ctd\u003eNaN\u003c/td\u003e\n",
              "      \u003ctd\u003eNaN\u003c/td\u003e\n",
              "      \u003ctd\u003eNaN\u003c/td\u003e\n",
              "      \u003ctd\u003eNaN\u003c/td\u003e\n",
              "      \u003ctd\u003eNaN\u003c/td\u003e\n",
              "    \u003c/tr\u003e\n",
              "  \u003c/tbody\u003e\n",
              "\u003c/table\u003e\n",
              "\u003cp\u003e5 rows × 1969 columns\u003c/p\u003e\n",
              "\u003c/div\u003e"
            ],
            "text/plain": [
              "productId   10002  10120  10123C  10124A  10124G  10125  10133  10135  11001  \\\n",
              "customerId                                                                     \n",
              "12347         NaN    NaN     NaN     NaN     NaN    NaN    NaN    NaN    NaN   \n",
              "12386         NaN    NaN     NaN     NaN     NaN    NaN    NaN    NaN    NaN   \n",
              "12395         NaN    NaN     NaN     NaN     NaN    NaN    NaN    NaN    NaN   \n",
              "12427         NaN    NaN     NaN     NaN     NaN    NaN    NaN    NaN    NaN   \n",
              "12431         NaN    NaN     NaN     NaN     NaN    NaN    NaN    NaN    NaN   \n",
              "\n",
              "productId   15034  ...   90214J  90214K  90214M  90214S  90214V  BANK CHARGES  \\\n",
              "customerId         ...                                                          \n",
              "12347         NaN  ...      NaN     NaN     NaN     NaN     NaN           NaN   \n",
              "12386         NaN  ...      NaN     NaN     NaN     NaN     NaN           NaN   \n",
              "12395         NaN  ...      NaN     NaN     NaN     NaN     NaN           NaN   \n",
              "12427         NaN  ...      NaN     NaN     NaN     NaN     NaN           NaN   \n",
              "12431         NaN  ...      NaN     NaN     NaN     NaN     NaN           NaN   \n",
              "\n",
              "productId   C2   D   M  POST  \n",
              "customerId                    \n",
              "12347      NaN NaN NaN   NaN  \n",
              "12386      NaN NaN NaN   NaN  \n",
              "12395      NaN NaN NaN   1.0  \n",
              "12427      NaN NaN NaN   1.0  \n",
              "12431      NaN NaN NaN   NaN  \n",
              "\n",
              "[5 rows x 1969 columns]"
            ]
          },
          "execution_count": 29,
          "metadata": {},
          "output_type": "execute_result"
        }
      ],
      "source": [
        "df_matrix \u003d pd.pivot_table(data, values\u003d\u0027purchase_count\u0027, index\u003d\u0027customerId\u0027, columns\u003d\u0027productId\u0027)\n",
        "df_matrix.head()"
      ]
    },
    {
      "cell_type": "code",
      "execution_count": 30,
      "metadata": {
        "pycharm": {}
      },
      "outputs": [
        {
          "data": {
            "text/plain": [
              "(559, 1969)"
            ]
          },
          "execution_count": 30,
          "metadata": {},
          "output_type": "execute_result"
        }
      ],
      "source": [
        "(df_matrix.shape)"
      ]
    },
    {
      "cell_type": "code",
      "execution_count": 31,
      "metadata": {
        "pycharm": {}
      },
      "outputs": [
        {
          "name": "stdout",
          "output_type": "stream",
          "text": [
            "(559, 1969)\n"
          ]
        },
        {
          "data": {
            "text/html": [
              "\u003cdiv\u003e\n",
              "\u003cstyle scoped\u003e\n",
              "    .dataframe tbody tr th:only-of-type {\n",
              "        vertical-align: middle;\n",
              "    }\n",
              "\n",
              "    .dataframe tbody tr th {\n",
              "        vertical-align: top;\n",
              "    }\n",
              "\n",
              "    .dataframe thead th {\n",
              "        text-align: right;\n",
              "    }\n",
              "\u003c/style\u003e\n",
              "\u003ctable border\u003d\"1\" class\u003d\"dataframe\"\u003e\n",
              "  \u003cthead\u003e\n",
              "    \u003ctr style\u003d\"text-align: right;\"\u003e\n",
              "      \u003cth\u003eproductId\u003c/th\u003e\n",
              "      \u003cth\u003e10002\u003c/th\u003e\n",
              "      \u003cth\u003e10120\u003c/th\u003e\n",
              "      \u003cth\u003e10123C\u003c/th\u003e\n",
              "      \u003cth\u003e10124A\u003c/th\u003e\n",
              "      \u003cth\u003e10124G\u003c/th\u003e\n",
              "      \u003cth\u003e10125\u003c/th\u003e\n",
              "      \u003cth\u003e10133\u003c/th\u003e\n",
              "      \u003cth\u003e10135\u003c/th\u003e\n",
              "      \u003cth\u003e11001\u003c/th\u003e\n",
              "      \u003cth\u003e15034\u003c/th\u003e\n",
              "      \u003cth\u003e...\u003c/th\u003e\n",
              "      \u003cth\u003e90214J\u003c/th\u003e\n",
              "      \u003cth\u003e90214K\u003c/th\u003e\n",
              "      \u003cth\u003e90214M\u003c/th\u003e\n",
              "      \u003cth\u003e90214S\u003c/th\u003e\n",
              "      \u003cth\u003e90214V\u003c/th\u003e\n",
              "      \u003cth\u003eBANK CHARGES\u003c/th\u003e\n",
              "      \u003cth\u003eC2\u003c/th\u003e\n",
              "      \u003cth\u003eD\u003c/th\u003e\n",
              "      \u003cth\u003eM\u003c/th\u003e\n",
              "      \u003cth\u003ePOST\u003c/th\u003e\n",
              "    \u003c/tr\u003e\n",
              "    \u003ctr\u003e\n",
              "      \u003cth\u003ecustomerId\u003c/th\u003e\n",
              "      \u003cth\u003e\u003c/th\u003e\n",
              "      \u003cth\u003e\u003c/th\u003e\n",
              "      \u003cth\u003e\u003c/th\u003e\n",
              "      \u003cth\u003e\u003c/th\u003e\n",
              "      \u003cth\u003e\u003c/th\u003e\n",
              "      \u003cth\u003e\u003c/th\u003e\n",
              "      \u003cth\u003e\u003c/th\u003e\n",
              "      \u003cth\u003e\u003c/th\u003e\n",
              "      \u003cth\u003e\u003c/th\u003e\n",
              "      \u003cth\u003e\u003c/th\u003e\n",
              "      \u003cth\u003e\u003c/th\u003e\n",
              "      \u003cth\u003e\u003c/th\u003e\n",
              "      \u003cth\u003e\u003c/th\u003e\n",
              "      \u003cth\u003e\u003c/th\u003e\n",
              "      \u003cth\u003e\u003c/th\u003e\n",
              "      \u003cth\u003e\u003c/th\u003e\n",
              "      \u003cth\u003e\u003c/th\u003e\n",
              "      \u003cth\u003e\u003c/th\u003e\n",
              "      \u003cth\u003e\u003c/th\u003e\n",
              "      \u003cth\u003e\u003c/th\u003e\n",
              "      \u003cth\u003e\u003c/th\u003e\n",
              "    \u003c/tr\u003e\n",
              "  \u003c/thead\u003e\n",
              "  \u003ctbody\u003e\n",
              "    \u003ctr\u003e\n",
              "      \u003cth\u003e12347\u003c/th\u003e\n",
              "      \u003ctd\u003eNaN\u003c/td\u003e\n",
              "      \u003ctd\u003eNaN\u003c/td\u003e\n",
              "      \u003ctd\u003eNaN\u003c/td\u003e\n",
              "      \u003ctd\u003eNaN\u003c/td\u003e\n",
              "      \u003ctd\u003eNaN\u003c/td\u003e\n",
              "      \u003ctd\u003eNaN\u003c/td\u003e\n",
              "      \u003ctd\u003eNaN\u003c/td\u003e\n",
              "      \u003ctd\u003eNaN\u003c/td\u003e\n",
              "      \u003ctd\u003eNaN\u003c/td\u003e\n",
              "      \u003ctd\u003eNaN\u003c/td\u003e\n",
              "      \u003ctd\u003e...\u003c/td\u003e\n",
              "      \u003ctd\u003eNaN\u003c/td\u003e\n",
              "      \u003ctd\u003eNaN\u003c/td\u003e\n",
              "      \u003ctd\u003eNaN\u003c/td\u003e\n",
              "      \u003ctd\u003eNaN\u003c/td\u003e\n",
              "      \u003ctd\u003eNaN\u003c/td\u003e\n",
              "      \u003ctd\u003eNaN\u003c/td\u003e\n",
              "      \u003ctd\u003eNaN\u003c/td\u003e\n",
              "      \u003ctd\u003eNaN\u003c/td\u003e\n",
              "      \u003ctd\u003eNaN\u003c/td\u003e\n",
              "      \u003ctd\u003eNaN\u003c/td\u003e\n",
              "    \u003c/tr\u003e\n",
              "    \u003ctr\u003e\n",
              "      \u003cth\u003e12386\u003c/th\u003e\n",
              "      \u003ctd\u003eNaN\u003c/td\u003e\n",
              "      \u003ctd\u003eNaN\u003c/td\u003e\n",
              "      \u003ctd\u003eNaN\u003c/td\u003e\n",
              "      \u003ctd\u003eNaN\u003c/td\u003e\n",
              "      \u003ctd\u003eNaN\u003c/td\u003e\n",
              "      \u003ctd\u003eNaN\u003c/td\u003e\n",
              "      \u003ctd\u003eNaN\u003c/td\u003e\n",
              "      \u003ctd\u003eNaN\u003c/td\u003e\n",
              "      \u003ctd\u003eNaN\u003c/td\u003e\n",
              "      \u003ctd\u003eNaN\u003c/td\u003e\n",
              "      \u003ctd\u003e...\u003c/td\u003e\n",
              "      \u003ctd\u003eNaN\u003c/td\u003e\n",
              "      \u003ctd\u003eNaN\u003c/td\u003e\n",
              "      \u003ctd\u003eNaN\u003c/td\u003e\n",
              "      \u003ctd\u003eNaN\u003c/td\u003e\n",
              "      \u003ctd\u003eNaN\u003c/td\u003e\n",
              "      \u003ctd\u003eNaN\u003c/td\u003e\n",
              "      \u003ctd\u003eNaN\u003c/td\u003e\n",
              "      \u003ctd\u003eNaN\u003c/td\u003e\n",
              "      \u003ctd\u003eNaN\u003c/td\u003e\n",
              "      \u003ctd\u003eNaN\u003c/td\u003e\n",
              "    \u003c/tr\u003e\n",
              "    \u003ctr\u003e\n",
              "      \u003cth\u003e12395\u003c/th\u003e\n",
              "      \u003ctd\u003eNaN\u003c/td\u003e\n",
              "      \u003ctd\u003eNaN\u003c/td\u003e\n",
              "      \u003ctd\u003eNaN\u003c/td\u003e\n",
              "      \u003ctd\u003eNaN\u003c/td\u003e\n",
              "      \u003ctd\u003eNaN\u003c/td\u003e\n",
              "      \u003ctd\u003eNaN\u003c/td\u003e\n",
              "      \u003ctd\u003eNaN\u003c/td\u003e\n",
              "      \u003ctd\u003eNaN\u003c/td\u003e\n",
              "      \u003ctd\u003eNaN\u003c/td\u003e\n",
              "      \u003ctd\u003eNaN\u003c/td\u003e\n",
              "      \u003ctd\u003e...\u003c/td\u003e\n",
              "      \u003ctd\u003eNaN\u003c/td\u003e\n",
              "      \u003ctd\u003eNaN\u003c/td\u003e\n",
              "      \u003ctd\u003eNaN\u003c/td\u003e\n",
              "      \u003ctd\u003eNaN\u003c/td\u003e\n",
              "      \u003ctd\u003eNaN\u003c/td\u003e\n",
              "      \u003ctd\u003eNaN\u003c/td\u003e\n",
              "      \u003ctd\u003eNaN\u003c/td\u003e\n",
              "      \u003ctd\u003eNaN\u003c/td\u003e\n",
              "      \u003ctd\u003eNaN\u003c/td\u003e\n",
              "      \u003ctd\u003e0.0\u003c/td\u003e\n",
              "    \u003c/tr\u003e\n",
              "    \u003ctr\u003e\n",
              "      \u003cth\u003e12427\u003c/th\u003e\n",
              "      \u003ctd\u003eNaN\u003c/td\u003e\n",
              "      \u003ctd\u003eNaN\u003c/td\u003e\n",
              "      \u003ctd\u003eNaN\u003c/td\u003e\n",
              "      \u003ctd\u003eNaN\u003c/td\u003e\n",
              "      \u003ctd\u003eNaN\u003c/td\u003e\n",
              "      \u003ctd\u003eNaN\u003c/td\u003e\n",
              "      \u003ctd\u003eNaN\u003c/td\u003e\n",
              "      \u003ctd\u003eNaN\u003c/td\u003e\n",
              "      \u003ctd\u003eNaN\u003c/td\u003e\n",
              "      \u003ctd\u003eNaN\u003c/td\u003e\n",
              "      \u003ctd\u003e...\u003c/td\u003e\n",
              "      \u003ctd\u003eNaN\u003c/td\u003e\n",
              "      \u003ctd\u003eNaN\u003c/td\u003e\n",
              "      \u003ctd\u003eNaN\u003c/td\u003e\n",
              "      \u003ctd\u003eNaN\u003c/td\u003e\n",
              "      \u003ctd\u003eNaN\u003c/td\u003e\n",
              "      \u003ctd\u003eNaN\u003c/td\u003e\n",
              "      \u003ctd\u003eNaN\u003c/td\u003e\n",
              "      \u003ctd\u003eNaN\u003c/td\u003e\n",
              "      \u003ctd\u003eNaN\u003c/td\u003e\n",
              "      \u003ctd\u003e0.0\u003c/td\u003e\n",
              "    \u003c/tr\u003e\n",
              "    \u003ctr\u003e\n",
              "      \u003cth\u003e12431\u003c/th\u003e\n",
              "      \u003ctd\u003eNaN\u003c/td\u003e\n",
              "      \u003ctd\u003eNaN\u003c/td\u003e\n",
              "      \u003ctd\u003eNaN\u003c/td\u003e\n",
              "      \u003ctd\u003eNaN\u003c/td\u003e\n",
              "      \u003ctd\u003eNaN\u003c/td\u003e\n",
              "      \u003ctd\u003eNaN\u003c/td\u003e\n",
              "      \u003ctd\u003eNaN\u003c/td\u003e\n",
              "      \u003ctd\u003eNaN\u003c/td\u003e\n",
              "      \u003ctd\u003eNaN\u003c/td\u003e\n",
              "      \u003ctd\u003eNaN\u003c/td\u003e\n",
              "      \u003ctd\u003e...\u003c/td\u003e\n",
              "      \u003ctd\u003eNaN\u003c/td\u003e\n",
              "      \u003ctd\u003eNaN\u003c/td\u003e\n",
              "      \u003ctd\u003eNaN\u003c/td\u003e\n",
              "      \u003ctd\u003eNaN\u003c/td\u003e\n",
              "      \u003ctd\u003eNaN\u003c/td\u003e\n",
              "      \u003ctd\u003eNaN\u003c/td\u003e\n",
              "      \u003ctd\u003eNaN\u003c/td\u003e\n",
              "      \u003ctd\u003eNaN\u003c/td\u003e\n",
              "      \u003ctd\u003eNaN\u003c/td\u003e\n",
              "      \u003ctd\u003eNaN\u003c/td\u003e\n",
              "    \u003c/tr\u003e\n",
              "  \u003c/tbody\u003e\n",
              "\u003c/table\u003e\n",
              "\u003cp\u003e5 rows × 1969 columns\u003c/p\u003e\n",
              "\u003c/div\u003e"
            ],
            "text/plain": [
              "productId   10002  10120  10123C  10124A  10124G  10125  10133  10135  11001  \\\n",
              "customerId                                                                     \n",
              "12347         NaN    NaN     NaN     NaN     NaN    NaN    NaN    NaN    NaN   \n",
              "12386         NaN    NaN     NaN     NaN     NaN    NaN    NaN    NaN    NaN   \n",
              "12395         NaN    NaN     NaN     NaN     NaN    NaN    NaN    NaN    NaN   \n",
              "12427         NaN    NaN     NaN     NaN     NaN    NaN    NaN    NaN    NaN   \n",
              "12431         NaN    NaN     NaN     NaN     NaN    NaN    NaN    NaN    NaN   \n",
              "\n",
              "productId   15034  ...   90214J  90214K  90214M  90214S  90214V  BANK CHARGES  \\\n",
              "customerId         ...                                                          \n",
              "12347         NaN  ...      NaN     NaN     NaN     NaN     NaN           NaN   \n",
              "12386         NaN  ...      NaN     NaN     NaN     NaN     NaN           NaN   \n",
              "12395         NaN  ...      NaN     NaN     NaN     NaN     NaN           NaN   \n",
              "12427         NaN  ...      NaN     NaN     NaN     NaN     NaN           NaN   \n",
              "12431         NaN  ...      NaN     NaN     NaN     NaN     NaN           NaN   \n",
              "\n",
              "productId   C2   D   M  POST  \n",
              "customerId                    \n",
              "12347      NaN NaN NaN   NaN  \n",
              "12386      NaN NaN NaN   NaN  \n",
              "12395      NaN NaN NaN   0.0  \n",
              "12427      NaN NaN NaN   0.0  \n",
              "12431      NaN NaN NaN   NaN  \n",
              "\n",
              "[5 rows x 1969 columns]"
            ]
          },
          "execution_count": 31,
          "metadata": {},
          "output_type": "execute_result"
        }
      ],
      "source": [
        "df_matrix_norm \u003d (df_matrix-df_matrix.min())/(df_matrix.max()-df_matrix.min())\n",
        "print(df_matrix_norm.shape)\n",
        "df_matrix_norm.head()"
      ]
    },
    {
      "cell_type": "code",
      "execution_count": 32,
      "metadata": {
        "pycharm": {}
      },
      "outputs": [
        {
          "name": "stdout",
          "output_type": "stream",
          "text": [
            "(6476, 3)\n"
          ]
        },
        {
          "data": {
            "text/html": [
              "\u003cdiv\u003e\n",
              "\u003cstyle scoped\u003e\n",
              "    .dataframe tbody tr th:only-of-type {\n",
              "        vertical-align: middle;\n",
              "    }\n",
              "\n",
              "    .dataframe tbody tr th {\n",
              "        vertical-align: top;\n",
              "    }\n",
              "\n",
              "    .dataframe thead th {\n",
              "        text-align: right;\n",
              "    }\n",
              "\u003c/style\u003e\n",
              "\u003ctable border\u003d\"1\" class\u003d\"dataframe\"\u003e\n",
              "  \u003cthead\u003e\n",
              "    \u003ctr style\u003d\"text-align: right;\"\u003e\n",
              "      \u003cth\u003e\u003c/th\u003e\n",
              "      \u003cth\u003ecustomerId\u003c/th\u003e\n",
              "      \u003cth\u003eproductId\u003c/th\u003e\n",
              "      \u003cth\u003escaled_purchase_freq\u003c/th\u003e\n",
              "    \u003c/tr\u003e\n",
              "  \u003c/thead\u003e\n",
              "  \u003ctbody\u003e\n",
              "    \u003ctr\u003e\n",
              "      \u003cth\u003e3386\u003c/th\u003e\n",
              "      \u003ctd\u003e12748\u003c/td\u003e\n",
              "      \u003ctd\u003e10133\u003c/td\u003e\n",
              "      \u003ctd\u003e1.0\u003c/td\u003e\n",
              "    \u003c/tr\u003e\n",
              "    \u003ctr\u003e\n",
              "      \u003cth\u003e3680\u003c/th\u003e\n",
              "      \u003ctd\u003e15983\u003c/td\u003e\n",
              "      \u003ctd\u003e10133\u003c/td\u003e\n",
              "      \u003ctd\u003e0.0\u003c/td\u003e\n",
              "    \u003c/tr\u003e\n",
              "    \u003ctr\u003e\n",
              "      \u003cth\u003e3801\u003c/th\u003e\n",
              "      \u003ctd\u003e17259\u003c/td\u003e\n",
              "      \u003ctd\u003e10133\u003c/td\u003e\n",
              "      \u003ctd\u003e0.0\u003c/td\u003e\n",
              "    \u003c/tr\u003e\n",
              "    \u003ctr\u003e\n",
              "      \u003cth\u003e3901\u003c/th\u003e\n",
              "      \u003ctd\u003e18118\u003c/td\u003e\n",
              "      \u003ctd\u003e10133\u003c/td\u003e\n",
              "      \u003ctd\u003e0.0\u003c/td\u003e\n",
              "    \u003c/tr\u003e\n",
              "    \u003ctr\u003e\n",
              "      \u003cth\u003e7847\u003c/th\u003e\n",
              "      \u003ctd\u003e12682\u003c/td\u003e\n",
              "      \u003ctd\u003e15056BL\u003c/td\u003e\n",
              "      \u003ctd\u003e0.0\u003c/td\u003e\n",
              "    \u003c/tr\u003e\n",
              "  \u003c/tbody\u003e\n",
              "\u003c/table\u003e\n",
              "\u003c/div\u003e"
            ],
            "text/plain": [
              "     customerId productId  scaled_purchase_freq\n",
              "3386      12748     10133                   1.0\n",
              "3680      15983     10133                   0.0\n",
              "3801      17259     10133                   0.0\n",
              "3901      18118     10133                   0.0\n",
              "7847      12682   15056BL                   0.0"
            ]
          },
          "execution_count": 32,
          "metadata": {},
          "output_type": "execute_result"
        }
      ],
      "source": [
        "# create a table for input to the modeling\n",
        "\n",
        "d \u003d df_matrix_norm.reset_index()\n",
        "d.index.names \u003d [\u0027scaled_purchase_freq\u0027]\n",
        "data_norm \u003d pd.melt(d, id_vars\u003d[\u0027customerId\u0027], value_name\u003d\u0027scaled_purchase_freq\u0027).dropna()\n",
        "print(data_norm.shape)\n",
        "data_norm.head()"
      ]
    },
    {
      "cell_type": "code",
      "execution_count": 34,
      "metadata": {
        "pycharm": {}
      },
      "outputs": [],
      "source": [
        "def normalize_data(data):\n",
        "    df_matrix \u003d pd.pivot_table(data, values\u003d\u0027purchase_count\u0027, index\u003d\u0027customerId\u0027, columns\u003d\u0027productId\u0027)\n",
        "    df_matrix_norm \u003d (df_matrix-df_matrix.min())/(df_matrix.max()-df_matrix.min())\n",
        "    d \u003d df_matrix_norm.reset_index()\n",
        "    d.index.names \u003d [\u0027scaled_purchase_freq\u0027]\n",
        "    return pd.melt(d, id_vars\u003d[\u0027customerId\u0027], value_name\u003d\u0027scaled_purchase_freq\u0027).dropna()"
      ]
    },
    {
      "cell_type": "code",
      "execution_count": 35,
      "metadata": {
        "pycharm": {}
      },
      "outputs": [
        {
          "name": "stdout",
          "output_type": "stream",
          "text": [
            "((9675, 3), (2419, 3))\n"
          ]
        }
      ],
      "source": [
        "train, test \u003d train_test_split(data, test_size \u003d .2)\n",
        "print(train.shape, test.shape)"
      ]
    },
    {
      "cell_type": "code",
      "execution_count": 37,
      "metadata": {
        "pycharm": {}
      },
      "outputs": [],
      "source": [
        "# Using turicreate library, we convert dataframe to SFrame - this will be useful in the modeling part\n",
        "\n",
        "train_data \u003d tc.SFrame(train)\n",
        "test_data \u003d tc.SFrame(test)"
      ]
    },
    {
      "cell_type": "code",
      "execution_count": 38,
      "metadata": {
        "pycharm": {}
      },
      "outputs": [
        {
          "data": {
            "text/html": [
              "\u003cdiv style\u003d\"max-height:1000px;max-width:1500px;overflow:auto;\"\u003e\u003ctable frame\u003d\"box\" rules\u003d\"cols\"\u003e\n",
              "    \u003ctr\u003e\n",
              "        \u003cth style\u003d\"padding-left: 1em; padding-right: 1em; text-align: center\"\u003ecustomerId\u003c/th\u003e\n",
              "        \u003cth style\u003d\"padding-left: 1em; padding-right: 1em; text-align: center\"\u003eproductId\u003c/th\u003e\n",
              "        \u003cth style\u003d\"padding-left: 1em; padding-right: 1em; text-align: center\"\u003epurchase_count\u003c/th\u003e\n",
              "    \u003c/tr\u003e\n",
              "    \u003ctr\u003e\n",
              "        \u003ctd style\u003d\"padding-left: 1em; padding-right: 1em; text-align: center; vertical-align: top\"\u003e12921\u003c/td\u003e\n",
              "        \u003ctd style\u003d\"padding-left: 1em; padding-right: 1em; text-align: center; vertical-align: top\"\u003e21218\u003c/td\u003e\n",
              "        \u003ctd style\u003d\"padding-left: 1em; padding-right: 1em; text-align: center; vertical-align: top\"\u003e1\u003c/td\u003e\n",
              "    \u003c/tr\u003e\n",
              "    \u003ctr\u003e\n",
              "        \u003ctd style\u003d\"padding-left: 1em; padding-right: 1em; text-align: center; vertical-align: top\"\u003e17402\u003c/td\u003e\n",
              "        \u003ctd style\u003d\"padding-left: 1em; padding-right: 1em; text-align: center; vertical-align: top\"\u003e22069\u003c/td\u003e\n",
              "        \u003ctd style\u003d\"padding-left: 1em; padding-right: 1em; text-align: center; vertical-align: top\"\u003e1\u003c/td\u003e\n",
              "    \u003c/tr\u003e\n",
              "    \u003ctr\u003e\n",
              "        \u003ctd style\u003d\"padding-left: 1em; padding-right: 1em; text-align: center; vertical-align: top\"\u003e15880\u003c/td\u003e\n",
              "        \u003ctd style\u003d\"padding-left: 1em; padding-right: 1em; text-align: center; vertical-align: top\"\u003e84744\u003c/td\u003e\n",
              "        \u003ctd style\u003d\"padding-left: 1em; padding-right: 1em; text-align: center; vertical-align: top\"\u003e1\u003c/td\u003e\n",
              "    \u003c/tr\u003e\n",
              "    \u003ctr\u003e\n",
              "        \u003ctd style\u003d\"padding-left: 1em; padding-right: 1em; text-align: center; vertical-align: top\"\u003e13174\u003c/td\u003e\n",
              "        \u003ctd style\u003d\"padding-left: 1em; padding-right: 1em; text-align: center; vertical-align: top\"\u003e84531A\u003c/td\u003e\n",
              "        \u003ctd style\u003d\"padding-left: 1em; padding-right: 1em; text-align: center; vertical-align: top\"\u003e2\u003c/td\u003e\n",
              "    \u003c/tr\u003e\n",
              "    \u003ctr\u003e\n",
              "        \u003ctd style\u003d\"padding-left: 1em; padding-right: 1em; text-align: center; vertical-align: top\"\u003e16221\u003c/td\u003e\n",
              "        \u003ctd style\u003d\"padding-left: 1em; padding-right: 1em; text-align: center; vertical-align: top\"\u003e21034\u003c/td\u003e\n",
              "        \u003ctd style\u003d\"padding-left: 1em; padding-right: 1em; text-align: center; vertical-align: top\"\u003e1\u003c/td\u003e\n",
              "    \u003c/tr\u003e\n",
              "    \u003ctr\u003e\n",
              "        \u003ctd style\u003d\"padding-left: 1em; padding-right: 1em; text-align: center; vertical-align: top\"\u003e18118\u003c/td\u003e\n",
              "        \u003ctd style\u003d\"padding-left: 1em; padding-right: 1em; text-align: center; vertical-align: top\"\u003e21207\u003c/td\u003e\n",
              "        \u003ctd style\u003d\"padding-left: 1em; padding-right: 1em; text-align: center; vertical-align: top\"\u003e1\u003c/td\u003e\n",
              "    \u003c/tr\u003e\n",
              "    \u003ctr\u003e\n",
              "        \u003ctd style\u003d\"padding-left: 1em; padding-right: 1em; text-align: center; vertical-align: top\"\u003e13838\u003c/td\u003e\n",
              "        \u003ctd style\u003d\"padding-left: 1em; padding-right: 1em; text-align: center; vertical-align: top\"\u003e22470\u003c/td\u003e\n",
              "        \u003ctd style\u003d\"padding-left: 1em; padding-right: 1em; text-align: center; vertical-align: top\"\u003e1\u003c/td\u003e\n",
              "    \u003c/tr\u003e\n",
              "    \u003ctr\u003e\n",
              "        \u003ctd style\u003d\"padding-left: 1em; padding-right: 1em; text-align: center; vertical-align: top\"\u003e16931\u003c/td\u003e\n",
              "        \u003ctd style\u003d\"padding-left: 1em; padding-right: 1em; text-align: center; vertical-align: top\"\u003e20967\u003c/td\u003e\n",
              "        \u003ctd style\u003d\"padding-left: 1em; padding-right: 1em; text-align: center; vertical-align: top\"\u003e1\u003c/td\u003e\n",
              "    \u003c/tr\u003e\n",
              "    \u003ctr\u003e\n",
              "        \u003ctd style\u003d\"padding-left: 1em; padding-right: 1em; text-align: center; vertical-align: top\"\u003e13402\u003c/td\u003e\n",
              "        \u003ctd style\u003d\"padding-left: 1em; padding-right: 1em; text-align: center; vertical-align: top\"\u003e22624\u003c/td\u003e\n",
              "        \u003ctd style\u003d\"padding-left: 1em; padding-right: 1em; text-align: center; vertical-align: top\"\u003e1\u003c/td\u003e\n",
              "    \u003c/tr\u003e\n",
              "    \u003ctr\u003e\n",
              "        \u003ctd style\u003d\"padding-left: 1em; padding-right: 1em; text-align: center; vertical-align: top\"\u003e17677\u003c/td\u003e\n",
              "        \u003ctd style\u003d\"padding-left: 1em; padding-right: 1em; text-align: center; vertical-align: top\"\u003e22961\u003c/td\u003e\n",
              "        \u003ctd style\u003d\"padding-left: 1em; padding-right: 1em; text-align: center; vertical-align: top\"\u003e1\u003c/td\u003e\n",
              "    \u003c/tr\u003e\n",
              "\u003c/table\u003e\n",
              "[9675 rows x 3 columns]\u003cbr/\u003eNote: Only the head of the SFrame is printed.\u003cbr/\u003eYou can use print_rows(num_rows\u003dm, num_columns\u003dn) to print more rows and columns.\n",
              "\u003c/div\u003e"
            ],
            "text/plain": [
              "Columns:\n",
              "\tcustomerId\tstr\n",
              "\tproductId\tstr\n",
              "\tpurchase_count\tint\n",
              "\n",
              "Rows: 9675\n",
              "\n",
              "Data:\n",
              "+------------+-----------+----------------+\n",
              "| customerId | productId | purchase_count |\n",
              "+------------+-----------+----------------+\n",
              "|   12921    |   21218   |       1        |\n",
              "|   17402    |   22069   |       1        |\n",
              "|   15880    |   84744   |       1        |\n",
              "|   13174    |   84531A  |       2        |\n",
              "|   16221    |   21034   |       1        |\n",
              "|   18118    |   21207   |       1        |\n",
              "|   13838    |   22470   |       1        |\n",
              "|   16931    |   20967   |       1        |\n",
              "|   13402    |   22624   |       1        |\n",
              "|   17677    |   22961   |       1        |\n",
              "+------------+-----------+----------------+\n",
              "[9675 rows x 3 columns]\n",
              "Note: Only the head of the SFrame is printed.\n",
              "You can use print_rows(num_rows\u003dm, num_columns\u003dn) to print more rows and columns."
            ]
          },
          "execution_count": 38,
          "metadata": {},
          "output_type": "execute_result"
        }
      ],
      "source": [
        "train_data"
      ]
    },
    {
      "cell_type": "code",
      "execution_count": 39,
      "metadata": {
        "pycharm": {}
      },
      "outputs": [
        {
          "data": {
            "text/html": [
              "\u003cdiv style\u003d\"max-height:1000px;max-width:1500px;overflow:auto;\"\u003e\u003ctable frame\u003d\"box\" rules\u003d\"cols\"\u003e\n",
              "    \u003ctr\u003e\n",
              "        \u003cth style\u003d\"padding-left: 1em; padding-right: 1em; text-align: center\"\u003ecustomerId\u003c/th\u003e\n",
              "        \u003cth style\u003d\"padding-left: 1em; padding-right: 1em; text-align: center\"\u003eproductId\u003c/th\u003e\n",
              "        \u003cth style\u003d\"padding-left: 1em; padding-right: 1em; text-align: center\"\u003epurchase_count\u003c/th\u003e\n",
              "    \u003c/tr\u003e\n",
              "    \u003ctr\u003e\n",
              "        \u003ctd style\u003d\"padding-left: 1em; padding-right: 1em; text-align: center; vertical-align: top\"\u003e16081\u003c/td\u003e\n",
              "        \u003ctd style\u003d\"padding-left: 1em; padding-right: 1em; text-align: center; vertical-align: top\"\u003e21531\u003c/td\u003e\n",
              "        \u003ctd style\u003d\"padding-left: 1em; padding-right: 1em; text-align: center; vertical-align: top\"\u003e1\u003c/td\u003e\n",
              "    \u003c/tr\u003e\n",
              "    \u003ctr\u003e\n",
              "        \u003ctd style\u003d\"padding-left: 1em; padding-right: 1em; text-align: center; vertical-align: top\"\u003e17228\u003c/td\u003e\n",
              "        \u003ctd style\u003d\"padding-left: 1em; padding-right: 1em; text-align: center; vertical-align: top\"\u003e20975\u003c/td\u003e\n",
              "        \u003ctd style\u003d\"padding-left: 1em; padding-right: 1em; text-align: center; vertical-align: top\"\u003e1\u003c/td\u003e\n",
              "    \u003c/tr\u003e\n",
              "    \u003ctr\u003e\n",
              "        \u003ctd style\u003d\"padding-left: 1em; padding-right: 1em; text-align: center; vertical-align: top\"\u003e17287\u003c/td\u003e\n",
              "        \u003ctd style\u003d\"padding-left: 1em; padding-right: 1em; text-align: center; vertical-align: top\"\u003e22988\u003c/td\u003e\n",
              "        \u003ctd style\u003d\"padding-left: 1em; padding-right: 1em; text-align: center; vertical-align: top\"\u003e2\u003c/td\u003e\n",
              "    \u003c/tr\u003e\n",
              "    \u003ctr\u003e\n",
              "        \u003ctd style\u003d\"padding-left: 1em; padding-right: 1em; text-align: center; vertical-align: top\"\u003e18043\u003c/td\u003e\n",
              "        \u003ctd style\u003d\"padding-left: 1em; padding-right: 1em; text-align: center; vertical-align: top\"\u003e84910A\u003c/td\u003e\n",
              "        \u003ctd style\u003d\"padding-left: 1em; padding-right: 1em; text-align: center; vertical-align: top\"\u003e1\u003c/td\u003e\n",
              "    \u003c/tr\u003e\n",
              "    \u003ctr\u003e\n",
              "        \u003ctd style\u003d\"padding-left: 1em; padding-right: 1em; text-align: center; vertical-align: top\"\u003e17377\u003c/td\u003e\n",
              "        \u003ctd style\u003d\"padding-left: 1em; padding-right: 1em; text-align: center; vertical-align: top\"\u003e82494L\u003c/td\u003e\n",
              "        \u003ctd style\u003d\"padding-left: 1em; padding-right: 1em; text-align: center; vertical-align: top\"\u003e1\u003c/td\u003e\n",
              "    \u003c/tr\u003e\n",
              "    \u003ctr\u003e\n",
              "        \u003ctd style\u003d\"padding-left: 1em; padding-right: 1em; text-align: center; vertical-align: top\"\u003e15860\u003c/td\u003e\n",
              "        \u003ctd style\u003d\"padding-left: 1em; padding-right: 1em; text-align: center; vertical-align: top\"\u003e22449\u003c/td\u003e\n",
              "        \u003ctd style\u003d\"padding-left: 1em; padding-right: 1em; text-align: center; vertical-align: top\"\u003e1\u003c/td\u003e\n",
              "    \u003c/tr\u003e\n",
              "    \u003ctr\u003e\n",
              "        \u003ctd style\u003d\"padding-left: 1em; padding-right: 1em; text-align: center; vertical-align: top\"\u003e14766\u003c/td\u003e\n",
              "        \u003ctd style\u003d\"padding-left: 1em; padding-right: 1em; text-align: center; vertical-align: top\"\u003e21485\u003c/td\u003e\n",
              "        \u003ctd style\u003d\"padding-left: 1em; padding-right: 1em; text-align: center; vertical-align: top\"\u003e1\u003c/td\u003e\n",
              "    \u003c/tr\u003e\n",
              "    \u003ctr\u003e\n",
              "        \u003ctd style\u003d\"padding-left: 1em; padding-right: 1em; text-align: center; vertical-align: top\"\u003e17581\u003c/td\u003e\n",
              "        \u003ctd style\u003d\"padding-left: 1em; padding-right: 1em; text-align: center; vertical-align: top\"\u003e72801D\u003c/td\u003e\n",
              "        \u003ctd style\u003d\"padding-left: 1em; padding-right: 1em; text-align: center; vertical-align: top\"\u003e1\u003c/td\u003e\n",
              "    \u003c/tr\u003e\n",
              "    \u003ctr\u003e\n",
              "        \u003ctd style\u003d\"padding-left: 1em; padding-right: 1em; text-align: center; vertical-align: top\"\u003e15356\u003c/td\u003e\n",
              "        \u003ctd style\u003d\"padding-left: 1em; padding-right: 1em; text-align: center; vertical-align: top\"\u003e20978\u003c/td\u003e\n",
              "        \u003ctd style\u003d\"padding-left: 1em; padding-right: 1em; text-align: center; vertical-align: top\"\u003e1\u003c/td\u003e\n",
              "    \u003c/tr\u003e\n",
              "    \u003ctr\u003e\n",
              "        \u003ctd style\u003d\"padding-left: 1em; padding-right: 1em; text-align: center; vertical-align: top\"\u003e13089\u003c/td\u003e\n",
              "        \u003ctd style\u003d\"padding-left: 1em; padding-right: 1em; text-align: center; vertical-align: top\"\u003e21481\u003c/td\u003e\n",
              "        \u003ctd style\u003d\"padding-left: 1em; padding-right: 1em; text-align: center; vertical-align: top\"\u003e1\u003c/td\u003e\n",
              "    \u003c/tr\u003e\n",
              "\u003c/table\u003e\n",
              "[2419 rows x 3 columns]\u003cbr/\u003eNote: Only the head of the SFrame is printed.\u003cbr/\u003eYou can use print_rows(num_rows\u003dm, num_columns\u003dn) to print more rows and columns.\n",
              "\u003c/div\u003e"
            ],
            "text/plain": [
              "Columns:\n",
              "\tcustomerId\tstr\n",
              "\tproductId\tstr\n",
              "\tpurchase_count\tint\n",
              "\n",
              "Rows: 2419\n",
              "\n",
              "Data:\n",
              "+------------+-----------+----------------+\n",
              "| customerId | productId | purchase_count |\n",
              "+------------+-----------+----------------+\n",
              "|   16081    |   21531   |       1        |\n",
              "|   17228    |   20975   |       1        |\n",
              "|   17287    |   22988   |       2        |\n",
              "|   18043    |   84910A  |       1        |\n",
              "|   17377    |   82494L  |       1        |\n",
              "|   15860    |   22449   |       1        |\n",
              "|   14766    |   21485   |       1        |\n",
              "|   17581    |   72801D  |       1        |\n",
              "|   15356    |   20978   |       1        |\n",
              "|   13089    |   21481   |       1        |\n",
              "+------------+-----------+----------------+\n",
              "[2419 rows x 3 columns]\n",
              "Note: Only the head of the SFrame is printed.\n",
              "You can use print_rows(num_rows\u003dm, num_columns\u003dn) to print more rows and columns."
            ]
          },
          "execution_count": 39,
          "metadata": {},
          "output_type": "execute_result"
        }
      ],
      "source": [
        "test_data"
      ]
    },
    {
      "cell_type": "code",
      "execution_count": 41,
      "metadata": {
        "pycharm": {}
      },
      "outputs": [],
      "source": [
        "# We can define a function for this step as follows\n",
        "\n",
        "def split_data(data):\n",
        "    \u0027\u0027\u0027\n",
        "    Splits dataset into training and test set.\n",
        "    \n",
        "    Args:\n",
        "        data (pandas.DataFrame)\n",
        "        \n",
        "    Returns\n",
        "        train_data (tc.SFrame)\n",
        "        test_data (tc.SFrame)\n",
        "    \u0027\u0027\u0027\n",
        "    train, test \u003d train_test_split(data, test_size \u003d .2)\n",
        "    train_data \u003d tc.SFrame(train)\n",
        "    test_data \u003d tc.SFrame(test)\n",
        "    return train_data, test_data"
      ]
    },
    {
      "cell_type": "code",
      "execution_count": 42,
      "metadata": {
        "pycharm": {}
      },
      "outputs": [],
      "source": [
        "# lets try with both dummy table and scaled/normalized purchase table\n",
        "\n",
        "train_data_dummy, test_data_dummy \u003d split_data(data_dummy)\n",
        "train_data_norm, test_data_norm \u003d split_data(data_norm)"
      ]
    },
    {
      "cell_type": "code",
      "execution_count": 43,
      "metadata": {
        "pycharm": {}
      },
      "outputs": [],
      "source": [
        "# variables to define field names\n",
        "user_id \u003d \u0027customerId\u0027\n",
        "item_id \u003d \u0027productId\u0027\n",
        "target \u003d \u0027purchase_count\u0027\n",
        "users_to_recommend \u003d list(transactions[user_id])\n",
        "n_rec \u003d 10 # number of items to recommend\n",
        "n_display \u003d 30"
      ]
    },
    {
      "cell_type": "code",
      "execution_count": 44,
      "metadata": {
        "pycharm": {}
      },
      "outputs": [
        {
          "data": {
            "text/html": [
              "\u003cpre\u003ePreparing data set.\u003c/pre\u003e"
            ],
            "text/plain": [
              "Preparing data set."
            ]
          },
          "metadata": {},
          "output_type": "display_data"
        },
        {
          "data": {
            "text/html": [
              "\u003cpre\u003e    Data has 9675 observations with 551 users and 1820 items.\u003c/pre\u003e"
            ],
            "text/plain": [
              "    Data has 9675 observations with 551 users and 1820 items."
            ]
          },
          "metadata": {},
          "output_type": "display_data"
        },
        {
          "data": {
            "text/html": [
              "\u003cpre\u003e    Data prepared in: 0.031525s\u003c/pre\u003e"
            ],
            "text/plain": [
              "    Data prepared in: 0.031525s"
            ]
          },
          "metadata": {},
          "output_type": "display_data"
        },
        {
          "data": {
            "text/html": [
              "\u003cpre\u003e9675 observations to process; with 1820 unique items.\u003c/pre\u003e"
            ],
            "text/plain": [
              "9675 observations to process; with 1820 unique items."
            ]
          },
          "metadata": {},
          "output_type": "display_data"
        }
      ],
      "source": [
        "popularity_model \u003d tc.popularity_recommender.create(train_data, \n",
        "                                                    user_id\u003duser_id, \n",
        "                                                    item_id\u003ditem_id, \n",
        "                                                    target\u003dtarget)"
      ]
    },
    {
      "cell_type": "code",
      "execution_count": 45,
      "metadata": {
        "pycharm": {}
      },
      "outputs": [
        {
          "name": "stdout",
          "output_type": "stream",
          "text": [
            "+------------+-----------+---------------+------+\n",
            "| customerId | productId |     score     | rank |\n",
            "+------------+-----------+---------------+------+\n",
            "|   14176    |   22803   |      8.0      |  1   |\n",
            "|   14176    |   21448   |      5.0      |  2   |\n",
            "|   14176    |   21071   |      3.8      |  3   |\n",
            "|   14176    |   71053   | 3.66666666667 |  4   |\n",
            "|   14176    |   90199C  |      3.0      |  5   |\n",
            "|   14176    |   90082B  |      3.0      |  6   |\n",
            "|   14176    |   21415   |      3.0      |  7   |\n",
            "|   14176    |   21785   |      3.0      |  8   |\n",
            "|   14176    |   37370   |      2.75     |  9   |\n",
            "|   14176    |   84827   |      2.5      |  10  |\n",
            "|   13305    |   22803   |      8.0      |  1   |\n",
            "|   13305    |   21448   |      5.0      |  2   |\n",
            "|   13305    |   21071   |      3.8      |  3   |\n",
            "|   13305    |   71053   | 3.66666666667 |  4   |\n",
            "|   13305    |   90199C  |      3.0      |  5   |\n",
            "|   13305    |   90082B  |      3.0      |  6   |\n",
            "|   13305    |   21415   |      3.0      |  7   |\n",
            "|   13305    |   21785   |      3.0      |  8   |\n",
            "|   13305    |   37370   |      2.75     |  9   |\n",
            "|   13305    |   84827   |      2.5      |  10  |\n",
            "|   14679    |   22803   |      8.0      |  1   |\n",
            "|   14679    |   21448   |      5.0      |  2   |\n",
            "|   14679    |   21071   |      3.8      |  3   |\n",
            "|   14679    |   71053   | 3.66666666667 |  4   |\n",
            "|   14679    |   90199C  |      3.0      |  5   |\n",
            "|   14679    |   90082B  |      3.0      |  6   |\n",
            "|   14679    |   21415   |      3.0      |  7   |\n",
            "|   14679    |   21785   |      3.0      |  8   |\n",
            "|   14679    |   37370   |      2.75     |  9   |\n",
            "|   14679    |   84827   |      2.5      |  10  |\n",
            "+------------+-----------+---------------+------+\n",
            "[5590 rows x 4 columns]\n",
            "\n"
          ]
        }
      ],
      "source": [
        "# Get recommendations for a list of users to recommend (from customers file)\n",
        "# Printed below is head / top 30 rows for first 3 customers with 10 recommendations each\n",
        "\n",
        "popularity_recomm \u003d popularity_model.recommend(users\u003dusers_to_recommend, k\u003dn_rec)\n",
        "popularity_recomm.print_rows(n_display)"
      ]
    },
    {
      "cell_type": "code",
      "execution_count": 47,
      "metadata": {
        "pycharm": {}
      },
      "outputs": [],
      "source": [
        "# Since turicreate is very accessible library, we can define a model selection function as below\n",
        "\n",
        "def model(train_data, name, user_id, item_id, target, users_to_recommend, n_rec, n_display):\n",
        "    if name \u003d\u003d \u0027popularity\u0027:\n",
        "        model \u003d tc.popularity_recommender.create(train_data, \n",
        "                                                    user_id\u003duser_id, \n",
        "                                                    item_id\u003ditem_id, \n",
        "                                                    target\u003dtarget)\n",
        "    elif name \u003d\u003d \u0027cosine\u0027:\n",
        "        model \u003d tc.item_similarity_recommender.create(train_data, \n",
        "                                                    user_id\u003duser_id, \n",
        "                                                    item_id\u003ditem_id, \n",
        "                                                    target\u003dtarget, \n",
        "                                                    similarity_type\u003d\u0027cosine\u0027)\n",
        "    elif name \u003d\u003d \u0027pearson\u0027:\n",
        "        model \u003d tc.item_similarity_recommender.create(train_data, \n",
        "                                                    user_id\u003duser_id, \n",
        "                                                    item_id\u003ditem_id, \n",
        "                                                    target\u003dtarget, \n",
        "                                                    similarity_type\u003d\u0027pearson\u0027)\n",
        "        \n",
        "    recom \u003d model.recommend(users\u003dusers_to_recommend, k\u003dn_rec)\n",
        "    recom.print_rows(n_display)\n",
        "    return model"
      ]
    },
    {
      "cell_type": "code",
      "execution_count": 49,
      "metadata": {
        "pycharm": {}
      },
      "outputs": [],
      "source": [
        "# variables to define field names\n",
        "# constant variables include:\n",
        "user_id \u003d \u0027customerId\u0027\n",
        "item_id \u003d \u0027productId\u0027\n",
        "users_to_recommend \u003d list(customers[user_id])\n",
        "n_rec \u003d 10 # number of items to recommend\n",
        "n_display \u003d 30 # to print the head / first few rows in a defined dataset"
      ]
    },
    {
      "cell_type": "code",
      "execution_count": 50,
      "metadata": {
        "pycharm": {}
      },
      "outputs": [
        {
          "data": {
            "text/html": [
              "\u003cpre\u003eWarning: Ignoring columns purchase_count;\u003c/pre\u003e"
            ],
            "text/plain": [
              "Warning: Ignoring columns purchase_count;"
            ]
          },
          "metadata": {},
          "output_type": "display_data"
        },
        {
          "data": {
            "text/html": [
              "\u003cpre\u003e    To use these columns in scoring predictions, use a model that allows the use of additional features.\u003c/pre\u003e"
            ],
            "text/plain": [
              "    To use these columns in scoring predictions, use a model that allows the use of additional features."
            ]
          },
          "metadata": {},
          "output_type": "display_data"
        },
        {
          "data": {
            "text/html": [
              "\u003cpre\u003ePreparing data set.\u003c/pre\u003e"
            ],
            "text/plain": [
              "Preparing data set."
            ]
          },
          "metadata": {},
          "output_type": "display_data"
        },
        {
          "data": {
            "text/html": [
              "\u003cpre\u003e    Data has 9675 observations with 548 users and 1863 items.\u003c/pre\u003e"
            ],
            "text/plain": [
              "    Data has 9675 observations with 548 users and 1863 items."
            ]
          },
          "metadata": {},
          "output_type": "display_data"
        },
        {
          "data": {
            "text/html": [
              "\u003cpre\u003e    Data prepared in: 0.068624s\u003c/pre\u003e"
            ],
            "text/plain": [
              "    Data prepared in: 0.068624s"
            ]
          },
          "metadata": {},
          "output_type": "display_data"
        },
        {
          "data": {
            "text/html": [
              "\u003cpre\u003e9675 observations to process; with 1863 unique items.\u003c/pre\u003e"
            ],
            "text/plain": [
              "9675 observations to process; with 1863 unique items."
            ]
          },
          "metadata": {},
          "output_type": "display_data"
        },
        {
          "name": "stdout",
          "output_type": "stream",
          "text": [
            "+------------+-----------+-------+------+\n",
            "| customerId | productId | score | rank |\n",
            "+------------+-----------+-------+------+\n",
            "|   14176    |   85099F  |  1.0  |  1   |\n",
            "|   14176    |   21743   |  1.0  |  2   |\n",
            "|   14176    |   22114   |  1.0  |  3   |\n",
            "|   14176    |   21488   |  1.0  |  4   |\n",
            "|   14176    |   82494L  |  1.0  |  5   |\n",
            "|   14176    |   22592   |  1.0  |  6   |\n",
            "|   14176    |   84031A  |  1.0  |  7   |\n",
            "|   14176    |   82583   |  1.0  |  8   |\n",
            "|   14176    |   21125   |  1.0  |  9   |\n",
            "|   14176    |   22569   |  1.0  |  10  |\n",
            "|   13305    |   85099F  |  1.0  |  1   |\n",
            "|   13305    |   21743   |  1.0  |  2   |\n",
            "|   13305    |   22114   |  1.0  |  3   |\n",
            "|   13305    |   21488   |  1.0  |  4   |\n",
            "|   13305    |   82494L  |  1.0  |  5   |\n",
            "|   13305    |   22592   |  1.0  |  6   |\n",
            "|   13305    |   84031A  |  1.0  |  7   |\n",
            "|   13305    |   82583   |  1.0  |  8   |\n",
            "|   13305    |   21125   |  1.0  |  9   |\n",
            "|   13305    |   22569   |  1.0  |  10  |\n",
            "|   14679    |   85099F  |  1.0  |  1   |\n",
            "|   14679    |   21743   |  1.0  |  2   |\n",
            "|   14679    |   22114   |  1.0  |  3   |\n",
            "|   14679    |   21488   |  1.0  |  4   |\n",
            "|   14679    |   82494L  |  1.0  |  5   |\n",
            "|   14679    |   22592   |  1.0  |  6   |\n",
            "|   14679    |   84031A  |  1.0  |  7   |\n",
            "|   14679    |   82583   |  1.0  |  8   |\n",
            "|   14679    |   21125   |  1.0  |  9   |\n",
            "|   14679    |   22569   |  1.0  |  10  |\n",
            "+------------+-----------+-------+------+\n",
            "[5590 rows x 4 columns]\n",
            "\n"
          ]
        }
      ],
      "source": [
        "# these variables will change accordingly\n",
        "name \u003d \u0027popularity\u0027\n",
        "target \u003d \u0027purchase_dummy\u0027\n",
        "pop_dummy \u003d model(train_data_dummy, name, user_id, item_id, target, users_to_recommend, n_rec, n_display)"
      ]
    },
    {
      "cell_type": "code",
      "execution_count": 51,
      "metadata": {
        "pycharm": {}
      },
      "outputs": [
        {
          "data": {
            "text/html": [
              "\u003cpre\u003ePreparing data set.\u003c/pre\u003e"
            ],
            "text/plain": [
              "Preparing data set."
            ]
          },
          "metadata": {},
          "output_type": "display_data"
        },
        {
          "data": {
            "text/html": [
              "\u003cpre\u003e    Data has 5180 observations with 519 users and 500 items.\u003c/pre\u003e"
            ],
            "text/plain": [
              "    Data has 5180 observations with 519 users and 500 items."
            ]
          },
          "metadata": {},
          "output_type": "display_data"
        },
        {
          "data": {
            "text/html": [
              "\u003cpre\u003e    Data prepared in: 0.057747s\u003c/pre\u003e"
            ],
            "text/plain": [
              "    Data prepared in: 0.057747s"
            ]
          },
          "metadata": {},
          "output_type": "display_data"
        },
        {
          "data": {
            "text/html": [
              "\u003cpre\u003e5180 observations to process; with 500 unique items.\u003c/pre\u003e"
            ],
            "text/plain": [
              "5180 observations to process; with 500 unique items."
            ]
          },
          "metadata": {},
          "output_type": "display_data"
        },
        {
          "name": "stdout",
          "output_type": "stream",
          "text": [
            "+------------+-----------+-------+------+\n",
            "| customerId | productId | score | rank |\n",
            "+------------+-----------+-------+------+\n",
            "|   14176    |   21822   |  1.0  |  1   |\n",
            "|   14176    |   90082B  |  1.0  |  2   |\n",
            "|   14176    |   35971   |  1.0  |  3   |\n",
            "|   14176    |   22547   |  1.0  |  4   |\n",
            "|   14176    |   21520   |  1.0  |  5   |\n",
            "|   14176    |   20780   |  1.0  |  6   |\n",
            "|   14176    |   72131   |  1.0  |  7   |\n",
            "|   14176    |   85232B  |  1.0  |  8   |\n",
            "|   14176    |   21383   |  1.0  |  9   |\n",
            "|   14176    |   22803   |  1.0  |  10  |\n",
            "|   13305    |   21822   |  1.0  |  1   |\n",
            "|   13305    |   90082B  |  1.0  |  2   |\n",
            "|   13305    |   35971   |  1.0  |  3   |\n",
            "|   13305    |   22547   |  1.0  |  4   |\n",
            "|   13305    |   21520   |  1.0  |  5   |\n",
            "|   13305    |   20780   |  1.0  |  6   |\n",
            "|   13305    |   72131   |  1.0  |  7   |\n",
            "|   13305    |   85232B  |  1.0  |  8   |\n",
            "|   13305    |   21383   |  1.0  |  9   |\n",
            "|   13305    |   22803   |  1.0  |  10  |\n",
            "|   14679    |   21822   |  1.0  |  1   |\n",
            "|   14679    |   90082B  |  1.0  |  2   |\n",
            "|   14679    |   35971   |  1.0  |  3   |\n",
            "|   14679    |   22547   |  1.0  |  4   |\n",
            "|   14679    |   21520   |  1.0  |  5   |\n",
            "|   14679    |   20780   |  1.0  |  6   |\n",
            "|   14679    |   72131   |  1.0  |  7   |\n",
            "|   14679    |   85232B  |  1.0  |  8   |\n",
            "|   14679    |   21383   |  1.0  |  9   |\n",
            "|   14679    |   22803   |  1.0  |  10  |\n",
            "+------------+-----------+-------+------+\n",
            "[5590 rows x 4 columns]\n",
            "\n"
          ]
        }
      ],
      "source": [
        "name \u003d \u0027popularity\u0027\n",
        "target \u003d \u0027scaled_purchase_freq\u0027\n",
        "pop_norm \u003d model(train_data_norm, name, user_id, item_id, target, users_to_recommend, n_rec, n_display)"
      ]
    },
    {
      "cell_type": "code",
      "execution_count": 52,
      "metadata": {
        "pycharm": {}
      },
      "outputs": [
        {
          "data": {
            "text/plain": [
              "productId\n",
              "22803     8.000000\n",
              "21448     5.000000\n",
              "21071     3.800000\n",
              "71053     3.666667\n",
              "21785     3.000000\n",
              "90082B    3.000000\n",
              "90199C    3.000000\n",
              "21415     3.000000\n",
              "37370     2.750000\n",
              "84827     2.500000\n",
              "47420     2.000000\n",
              "35833P    2.000000\n",
              "21696     2.000000\n",
              "21392     2.000000\n",
              "72817     2.000000\n",
              "84685     2.000000\n",
              "51014L    2.000000\n",
              "21202     2.000000\n",
              "84658     2.000000\n",
              "21647     2.000000\n",
              "Name: purchase_count, dtype: float64"
            ]
          },
          "execution_count": 52,
          "metadata": {},
          "output_type": "execute_result"
        }
      ],
      "source": [
        "train.groupby(by\u003ditem_id)[\u0027purchase_count\u0027].mean().sort_values(ascending\u003dFalse).head(20)"
      ]
    },
    {
      "cell_type": "code",
      "execution_count": 53,
      "metadata": {
        "pycharm": {}
      },
      "outputs": [
        {
          "data": {
            "text/html": [
              "\u003cpre\u003ePreparing data set.\u003c/pre\u003e"
            ],
            "text/plain": [
              "Preparing data set."
            ]
          },
          "metadata": {},
          "output_type": "display_data"
        },
        {
          "data": {
            "text/html": [
              "\u003cpre\u003e    Data has 9675 observations with 551 users and 1820 items.\u003c/pre\u003e"
            ],
            "text/plain": [
              "    Data has 9675 observations with 551 users and 1820 items."
            ]
          },
          "metadata": {},
          "output_type": "display_data"
        },
        {
          "data": {
            "text/html": [
              "\u003cpre\u003e    Data prepared in: 0.021888s\u003c/pre\u003e"
            ],
            "text/plain": [
              "    Data prepared in: 0.021888s"
            ]
          },
          "metadata": {},
          "output_type": "display_data"
        },
        {
          "data": {
            "text/html": [
              "\u003cpre\u003eTraining model from provided data.\u003c/pre\u003e"
            ],
            "text/plain": [
              "Training model from provided data."
            ]
          },
          "metadata": {},
          "output_type": "display_data"
        },
        {
          "data": {
            "text/html": [
              "\u003cpre\u003eGathering per-item and per-user statistics.\u003c/pre\u003e"
            ],
            "text/plain": [
              "Gathering per-item and per-user statistics."
            ]
          },
          "metadata": {},
          "output_type": "display_data"
        },
        {
          "data": {
            "text/html": [
              "\u003cpre\u003e+--------------------------------+------------+\u003c/pre\u003e"
            ],
            "text/plain": [
              "+--------------------------------+------------+"
            ]
          },
          "metadata": {},
          "output_type": "display_data"
        },
        {
          "data": {
            "text/html": [
              "\u003cpre\u003e| Elapsed Time (Item Statistics) | % Complete |\u003c/pre\u003e"
            ],
            "text/plain": [
              "| Elapsed Time (Item Statistics) | % Complete |"
            ]
          },
          "metadata": {},
          "output_type": "display_data"
        },
        {
          "data": {
            "text/html": [
              "\u003cpre\u003e+--------------------------------+------------+\u003c/pre\u003e"
            ],
            "text/plain": [
              "+--------------------------------+------------+"
            ]
          },
          "metadata": {},
          "output_type": "display_data"
        },
        {
          "data": {
            "text/html": [
              "\u003cpre\u003e| 786us                          | 100        |\u003c/pre\u003e"
            ],
            "text/plain": [
              "| 786us                          | 100        |"
            ]
          },
          "metadata": {},
          "output_type": "display_data"
        },
        {
          "data": {
            "text/html": [
              "\u003cpre\u003e+--------------------------------+------------+\u003c/pre\u003e"
            ],
            "text/plain": [
              "+--------------------------------+------------+"
            ]
          },
          "metadata": {},
          "output_type": "display_data"
        },
        {
          "data": {
            "text/html": [
              "\u003cpre\u003eSetting up lookup tables.\u003c/pre\u003e"
            ],
            "text/plain": [
              "Setting up lookup tables."
            ]
          },
          "metadata": {},
          "output_type": "display_data"
        },
        {
          "data": {
            "text/html": [
              "\u003cpre\u003eProcessing data in one pass using dense lookup tables.\u003c/pre\u003e"
            ],
            "text/plain": [
              "Processing data in one pass using dense lookup tables."
            ]
          },
          "metadata": {},
          "output_type": "display_data"
        },
        {
          "data": {
            "text/html": [
              "\u003cpre\u003e+-------------------------------------+------------------+-----------------+\u003c/pre\u003e"
            ],
            "text/plain": [
              "+-------------------------------------+------------------+-----------------+"
            ]
          },
          "metadata": {},
          "output_type": "display_data"
        },
        {
          "data": {
            "text/html": [
              "\u003cpre\u003e| Elapsed Time (Constructing Lookups) | Total % Complete | Items Processed |\u003c/pre\u003e"
            ],
            "text/plain": [
              "| Elapsed Time (Constructing Lookups) | Total % Complete | Items Processed |"
            ]
          },
          "metadata": {},
          "output_type": "display_data"
        },
        {
          "data": {
            "text/html": [
              "\u003cpre\u003e+-------------------------------------+------------------+-----------------+\u003c/pre\u003e"
            ],
            "text/plain": [
              "+-------------------------------------+------------------+-----------------+"
            ]
          },
          "metadata": {},
          "output_type": "display_data"
        },
        {
          "data": {
            "text/html": [
              "\u003cpre\u003e| 8.936ms                             | 0                | 4               |\u003c/pre\u003e"
            ],
            "text/plain": [
              "| 8.936ms                             | 0                | 4               |"
            ]
          },
          "metadata": {},
          "output_type": "display_data"
        },
        {
          "data": {
            "text/html": [
              "\u003cpre\u003e| 110.624ms                           | 100              | 1820            |\u003c/pre\u003e"
            ],
            "text/plain": [
              "| 110.624ms                           | 100              | 1820            |"
            ]
          },
          "metadata": {},
          "output_type": "display_data"
        },
        {
          "data": {
            "text/html": [
              "\u003cpre\u003e+-------------------------------------+------------------+-----------------+\u003c/pre\u003e"
            ],
            "text/plain": [
              "+-------------------------------------+------------------+-----------------+"
            ]
          },
          "metadata": {},
          "output_type": "display_data"
        },
        {
          "data": {
            "text/html": [
              "\u003cpre\u003eFinalizing lookup tables.\u003c/pre\u003e"
            ],
            "text/plain": [
              "Finalizing lookup tables."
            ]
          },
          "metadata": {},
          "output_type": "display_data"
        },
        {
          "data": {
            "text/html": [
              "\u003cpre\u003eGenerating candidate set for working with new users.\u003c/pre\u003e"
            ],
            "text/plain": [
              "Generating candidate set for working with new users."
            ]
          },
          "metadata": {},
          "output_type": "display_data"
        },
        {
          "data": {
            "text/html": [
              "\u003cpre\u003eFinished training in 1.11537s\u003c/pre\u003e"
            ],
            "text/plain": [
              "Finished training in 1.11537s"
            ]
          },
          "metadata": {},
          "output_type": "display_data"
        },
        {
          "name": "stdout",
          "output_type": "stream",
          "text": [
            "+------------+-----------+-----------------+------+\n",
            "| customerId | productId |      score      | rank |\n",
            "+------------+-----------+-----------------+------+\n",
            "|   14176    |   20679   |  0.228090337345 |  1   |\n",
            "|   14176    |  15056BL  |  0.197930599962 |  2   |\n",
            "|   14176    |   71053   | 0.0807081716401 |  3   |\n",
            "|   14176    |   22589   | 0.0792487433978 |  4   |\n",
            "|   14176    |   21812   | 0.0738944666726 |  5   |\n",
            "|   14176    |   21733   | 0.0728338445936 |  6   |\n",
            "|   14176    |   84925D  | 0.0728281310626 |  7   |\n",
            "|   14176    |   22137   | 0.0692958916937 |  8   |\n",
            "|   14176    |   22644   | 0.0690705435617 |  9   |\n",
            "|   14176    |   84029E  | 0.0687695486205 |  10  |\n",
            "|   13305    |   21640   |  0.192450086276 |  1   |\n",
            "|   13305    |   22797   |  0.192450086276 |  2   |\n",
            "|   13305    |   21906   |  0.145478586356 |  3   |\n",
            "|   13305    |   22116   |  0.13608276844  |  4   |\n",
            "|   13305    |   21894   |  0.13608276844  |  5   |\n",
            "|   13305    |   72351B  |  0.13608276844  |  6   |\n",
            "|   13305    |   85129C  |  0.13608276844  |  7   |\n",
            "|   13305    |   22375   |  0.13608276844  |  8   |\n",
            "|   13305    |   85130A  |  0.111111104488 |  9   |\n",
            "|   13305    |   10125   |  0.111111104488 |  10  |\n",
            "|   14679    |   22059   |  0.288675129414 |  1   |\n",
            "|   14679    |   21154   |  0.188982248306 |  2   |\n",
            "|   14679    |   22188   |  0.162221431732 |  3   |\n",
            "|   14679    |   22189   |  0.133630633354 |  4   |\n",
            "|   14679    |   22961   |       0.0       |  5   |\n",
            "|   14679    |   22624   |       0.0       |  6   |\n",
            "|   14679    |   20967   |       0.0       |  7   |\n",
            "|   14679    |   22470   |       0.0       |  8   |\n",
            "|   14679    |   21207   |       0.0       |  9   |\n",
            "|   14679    |   21034   |       0.0       |  10  |\n",
            "+------------+-----------+-----------------+------+\n",
            "[5590 rows x 4 columns]\n",
            "\n"
          ]
        }
      ],
      "source": [
        "# these variables will change accordingly\n",
        "name \u003d \u0027cosine\u0027\n",
        "target \u003d \u0027purchase_count\u0027\n",
        "cos \u003d model(train_data, name, user_id, item_id, target, users_to_recommend, n_rec, n_display)"
      ]
    },
    {
      "cell_type": "code",
      "execution_count": 54,
      "metadata": {
        "pycharm": {}
      },
      "outputs": [
        {
          "data": {
            "text/html": [
              "\u003cpre\u003eWarning: Ignoring columns purchase_count;\u003c/pre\u003e"
            ],
            "text/plain": [
              "Warning: Ignoring columns purchase_count;"
            ]
          },
          "metadata": {},
          "output_type": "display_data"
        },
        {
          "data": {
            "text/html": [
              "\u003cpre\u003e    To use these columns in scoring predictions, use a model that allows the use of additional features.\u003c/pre\u003e"
            ],
            "text/plain": [
              "    To use these columns in scoring predictions, use a model that allows the use of additional features."
            ]
          },
          "metadata": {},
          "output_type": "display_data"
        },
        {
          "data": {
            "text/html": [
              "\u003cpre\u003ePreparing data set.\u003c/pre\u003e"
            ],
            "text/plain": [
              "Preparing data set."
            ]
          },
          "metadata": {},
          "output_type": "display_data"
        },
        {
          "data": {
            "text/html": [
              "\u003cpre\u003e    Data has 9675 observations with 548 users and 1863 items.\u003c/pre\u003e"
            ],
            "text/plain": [
              "    Data has 9675 observations with 548 users and 1863 items."
            ]
          },
          "metadata": {},
          "output_type": "display_data"
        },
        {
          "data": {
            "text/html": [
              "\u003cpre\u003e    Data prepared in: 0.041176s\u003c/pre\u003e"
            ],
            "text/plain": [
              "    Data prepared in: 0.041176s"
            ]
          },
          "metadata": {},
          "output_type": "display_data"
        },
        {
          "data": {
            "text/html": [
              "\u003cpre\u003eTraining model from provided data.\u003c/pre\u003e"
            ],
            "text/plain": [
              "Training model from provided data."
            ]
          },
          "metadata": {},
          "output_type": "display_data"
        },
        {
          "data": {
            "text/html": [
              "\u003cpre\u003eGathering per-item and per-user statistics.\u003c/pre\u003e"
            ],
            "text/plain": [
              "Gathering per-item and per-user statistics."
            ]
          },
          "metadata": {},
          "output_type": "display_data"
        },
        {
          "data": {
            "text/html": [
              "\u003cpre\u003e+--------------------------------+------------+\u003c/pre\u003e"
            ],
            "text/plain": [
              "+--------------------------------+------------+"
            ]
          },
          "metadata": {},
          "output_type": "display_data"
        },
        {
          "data": {
            "text/html": [
              "\u003cpre\u003e| Elapsed Time (Item Statistics) | % Complete |\u003c/pre\u003e"
            ],
            "text/plain": [
              "| Elapsed Time (Item Statistics) | % Complete |"
            ]
          },
          "metadata": {},
          "output_type": "display_data"
        },
        {
          "data": {
            "text/html": [
              "\u003cpre\u003e+--------------------------------+------------+\u003c/pre\u003e"
            ],
            "text/plain": [
              "+--------------------------------+------------+"
            ]
          },
          "metadata": {},
          "output_type": "display_data"
        },
        {
          "data": {
            "text/html": [
              "\u003cpre\u003e| 685us                          | 100        |\u003c/pre\u003e"
            ],
            "text/plain": [
              "| 685us                          | 100        |"
            ]
          },
          "metadata": {},
          "output_type": "display_data"
        },
        {
          "data": {
            "text/html": [
              "\u003cpre\u003e+--------------------------------+------------+\u003c/pre\u003e"
            ],
            "text/plain": [
              "+--------------------------------+------------+"
            ]
          },
          "metadata": {},
          "output_type": "display_data"
        },
        {
          "data": {
            "text/html": [
              "\u003cpre\u003eSetting up lookup tables.\u003c/pre\u003e"
            ],
            "text/plain": [
              "Setting up lookup tables."
            ]
          },
          "metadata": {},
          "output_type": "display_data"
        },
        {
          "data": {
            "text/html": [
              "\u003cpre\u003eProcessing data in one pass using dense lookup tables.\u003c/pre\u003e"
            ],
            "text/plain": [
              "Processing data in one pass using dense lookup tables."
            ]
          },
          "metadata": {},
          "output_type": "display_data"
        },
        {
          "data": {
            "text/html": [
              "\u003cpre\u003e+-------------------------------------+------------------+-----------------+\u003c/pre\u003e"
            ],
            "text/plain": [
              "+-------------------------------------+------------------+-----------------+"
            ]
          },
          "metadata": {},
          "output_type": "display_data"
        },
        {
          "data": {
            "text/html": [
              "\u003cpre\u003e| Elapsed Time (Constructing Lookups) | Total % Complete | Items Processed |\u003c/pre\u003e"
            ],
            "text/plain": [
              "| Elapsed Time (Constructing Lookups) | Total % Complete | Items Processed |"
            ]
          },
          "metadata": {},
          "output_type": "display_data"
        },
        {
          "data": {
            "text/html": [
              "\u003cpre\u003e+-------------------------------------+------------------+-----------------+\u003c/pre\u003e"
            ],
            "text/plain": [
              "+-------------------------------------+------------------+-----------------+"
            ]
          },
          "metadata": {},
          "output_type": "display_data"
        },
        {
          "data": {
            "text/html": [
              "\u003cpre\u003e| 4.99ms                              | 0                | 0               |\u003c/pre\u003e"
            ],
            "text/plain": [
              "| 4.99ms                              | 0                | 0               |"
            ]
          },
          "metadata": {},
          "output_type": "display_data"
        },
        {
          "data": {
            "text/html": [
              "\u003cpre\u003e| 64.028ms                            | 100              | 1863            |\u003c/pre\u003e"
            ],
            "text/plain": [
              "| 64.028ms                            | 100              | 1863            |"
            ]
          },
          "metadata": {},
          "output_type": "display_data"
        },
        {
          "data": {
            "text/html": [
              "\u003cpre\u003e+-------------------------------------+------------------+-----------------+\u003c/pre\u003e"
            ],
            "text/plain": [
              "+-------------------------------------+------------------+-----------------+"
            ]
          },
          "metadata": {},
          "output_type": "display_data"
        },
        {
          "data": {
            "text/html": [
              "\u003cpre\u003eFinalizing lookup tables.\u003c/pre\u003e"
            ],
            "text/plain": [
              "Finalizing lookup tables."
            ]
          },
          "metadata": {},
          "output_type": "display_data"
        },
        {
          "data": {
            "text/html": [
              "\u003cpre\u003eGenerating candidate set for working with new users.\u003c/pre\u003e"
            ],
            "text/plain": [
              "Generating candidate set for working with new users."
            ]
          },
          "metadata": {},
          "output_type": "display_data"
        },
        {
          "data": {
            "text/html": [
              "\u003cpre\u003eFinished training in 0.069773s\u003c/pre\u003e"
            ],
            "text/plain": [
              "Finished training in 0.069773s"
            ]
          },
          "metadata": {},
          "output_type": "display_data"
        },
        {
          "name": "stdout",
          "output_type": "stream",
          "text": [
            "+------------+-----------+-----------------+------+\n",
            "| customerId | productId |      score      | rank |\n",
            "+------------+-----------+-----------------+------+\n",
            "|   14176    |   22513   | 0.0916864540842 |  1   |\n",
            "|   14176    |   71496A  | 0.0916864540842 |  2   |\n",
            "|   14176    |   78124   | 0.0916864540842 |  3   |\n",
            "|   14176    |   71495B  | 0.0916864540842 |  4   |\n",
            "|   14176    |   22483   | 0.0916864540842 |  5   |\n",
            "|   14176    |   22359   | 0.0875125792291 |  6   |\n",
            "|   14176    |   21201   | 0.0875125792291 |  7   |\n",
            "|   14176    |   21205   | 0.0817654132843 |  8   |\n",
            "|   14176    |   21376   | 0.0817654132843 |  9   |\n",
            "|   14176    |   21896   | 0.0817654132843 |  10  |\n",
            "|   13305    |   22251   |      0.125      |  1   |\n",
            "|   13305    |   85129C  |      0.125      |  2   |\n",
            "|   13305    |   21640   |      0.125      |  3   |\n",
            "|   13305    |   22116   |      0.125      |  4   |\n",
            "|   13305    |   84519B  |  0.111803397536 |  5   |\n",
            "|   13305    |   22610   |  0.111803397536 |  6   |\n",
            "|   13305    |   46000P  |  0.111803397536 |  7   |\n",
            "|   13305    |   10124G  |  0.111803397536 |  8   |\n",
            "|   13305    |   21638   |  0.111803397536 |  9   |\n",
            "|   13305    |   72351B  |  0.10206207633  |  10  |\n",
            "|   14679    |   17021   |  0.707106769085 |  1   |\n",
            "|   14679    |   22059   |  0.353553414345 |  2   |\n",
            "|   14679    |   21154   |  0.223606824875 |  3   |\n",
            "|   14679    |   22188   |  0.213200688362 |  4   |\n",
            "|   14679    |   22189   |  0.20412415266  |  5   |\n",
            "|   14679    |   85099F  |       0.0       |  6   |\n",
            "|   14679    |   21743   |       0.0       |  7   |\n",
            "|   14679    |   22114   |       0.0       |  8   |\n",
            "|   14679    |   21488   |       0.0       |  9   |\n",
            "|   14679    |   82494L  |       0.0       |  10  |\n",
            "+------------+-----------+-----------------+------+\n",
            "[5590 rows x 4 columns]\n",
            "\n"
          ]
        }
      ],
      "source": "# these variables will change accordingly\nname \u003d \u0027cosine\u0027\ntarget \u003d \u0027scaled_purchase_freq\u0027\ncos_norname \u003d \u0027cosine\u0027\ntarget \u003d \u0027purchase_dummy\u0027\ncos_dummy \u003d model(train_data_dummy, name, user_id, item_id, target, users_to_recommend, n_rec, n_display)"
    },
    {
      "cell_type": "code",
      "execution_count": null,
      "outputs": [],
      "source": "m \u003d model(train_data_norm, name, user_id, item_id, target, users_to_recommend, n_rec, n_display)",
      "metadata": {
        "pycharm": {
          "metadata": false,
          "name": "#%%\n"
        }
      }
    },
    {
      "cell_type": "code",
      "execution_count": 56,
      "metadata": {
        "pycharm": {}
      },
      "outputs": [
        {
          "data": {
            "text/html": [
              "\u003cpre\u003ePreparing data set.\u003c/pre\u003e"
            ],
            "text/plain": [
              "Preparing data set."
            ]
          },
          "metadata": {},
          "output_type": "display_data"
        },
        {
          "data": {
            "text/html": [
              "\u003cpre\u003e    Data has 9675 observations with 551 users and 1820 items.\u003c/pre\u003e"
            ],
            "text/plain": [
              "    Data has 9675 observations with 551 users and 1820 items."
            ]
          },
          "metadata": {},
          "output_type": "display_data"
        },
        {
          "data": {
            "text/html": [
              "\u003cpre\u003e    Data prepared in: 0.023101s\u003c/pre\u003e"
            ],
            "text/plain": [
              "    Data prepared in: 0.023101s"
            ]
          },
          "metadata": {},
          "output_type": "display_data"
        },
        {
          "data": {
            "text/html": [
              "\u003cpre\u003eTraining model from provided data.\u003c/pre\u003e"
            ],
            "text/plain": [
              "Training model from provided data."
            ]
          },
          "metadata": {},
          "output_type": "display_data"
        },
        {
          "data": {
            "text/html": [
              "\u003cpre\u003eGathering per-item and per-user statistics.\u003c/pre\u003e"
            ],
            "text/plain": [
              "Gathering per-item and per-user statistics."
            ]
          },
          "metadata": {},
          "output_type": "display_data"
        },
        {
          "data": {
            "text/html": [
              "\u003cpre\u003e+--------------------------------+------------+\u003c/pre\u003e"
            ],
            "text/plain": [
              "+--------------------------------+------------+"
            ]
          },
          "metadata": {},
          "output_type": "display_data"
        },
        {
          "data": {
            "text/html": [
              "\u003cpre\u003e| Elapsed Time (Item Statistics) | % Complete |\u003c/pre\u003e"
            ],
            "text/plain": [
              "| Elapsed Time (Item Statistics) | % Complete |"
            ]
          },
          "metadata": {},
          "output_type": "display_data"
        },
        {
          "data": {
            "text/html": [
              "\u003cpre\u003e+--------------------------------+------------+\u003c/pre\u003e"
            ],
            "text/plain": [
              "+--------------------------------+------------+"
            ]
          },
          "metadata": {},
          "output_type": "display_data"
        },
        {
          "data": {
            "text/html": [
              "\u003cpre\u003e| 924us                          | 100        |\u003c/pre\u003e"
            ],
            "text/plain": [
              "| 924us                          | 100        |"
            ]
          },
          "metadata": {},
          "output_type": "display_data"
        },
        {
          "data": {
            "text/html": [
              "\u003cpre\u003e+--------------------------------+------------+\u003c/pre\u003e"
            ],
            "text/plain": [
              "+--------------------------------+------------+"
            ]
          },
          "metadata": {},
          "output_type": "display_data"
        },
        {
          "data": {
            "text/html": [
              "\u003cpre\u003eSetting up lookup tables.\u003c/pre\u003e"
            ],
            "text/plain": [
              "Setting up lookup tables."
            ]
          },
          "metadata": {},
          "output_type": "display_data"
        },
        {
          "data": {
            "text/html": [
              "\u003cpre\u003eProcessing data in one pass using dense lookup tables.\u003c/pre\u003e"
            ],
            "text/plain": [
              "Processing data in one pass using dense lookup tables."
            ]
          },
          "metadata": {},
          "output_type": "display_data"
        },
        {
          "data": {
            "text/html": [
              "\u003cpre\u003e+-------------------------------------+------------------+-----------------+\u003c/pre\u003e"
            ],
            "text/plain": [
              "+-------------------------------------+------------------+-----------------+"
            ]
          },
          "metadata": {},
          "output_type": "display_data"
        },
        {
          "data": {
            "text/html": [
              "\u003cpre\u003e| Elapsed Time (Constructing Lookups) | Total % Complete | Items Processed |\u003c/pre\u003e"
            ],
            "text/plain": [
              "| Elapsed Time (Constructing Lookups) | Total % Complete | Items Processed |"
            ]
          },
          "metadata": {},
          "output_type": "display_data"
        },
        {
          "data": {
            "text/html": [
              "\u003cpre\u003e+-------------------------------------+------------------+-----------------+\u003c/pre\u003e"
            ],
            "text/plain": [
              "+-------------------------------------+------------------+-----------------+"
            ]
          },
          "metadata": {},
          "output_type": "display_data"
        },
        {
          "data": {
            "text/html": [
              "\u003cpre\u003e| 6.835ms                             | 0                | 2               |\u003c/pre\u003e"
            ],
            "text/plain": [
              "| 6.835ms                             | 0                | 2               |"
            ]
          },
          "metadata": {},
          "output_type": "display_data"
        },
        {
          "data": {
            "text/html": [
              "\u003cpre\u003e| 37.113ms                            | 100              | 1820            |\u003c/pre\u003e"
            ],
            "text/plain": [
              "| 37.113ms                            | 100              | 1820            |"
            ]
          },
          "metadata": {},
          "output_type": "display_data"
        },
        {
          "data": {
            "text/html": [
              "\u003cpre\u003e+-------------------------------------+------------------+-----------------+\u003c/pre\u003e"
            ],
            "text/plain": [
              "+-------------------------------------+------------------+-----------------+"
            ]
          },
          "metadata": {},
          "output_type": "display_data"
        },
        {
          "data": {
            "text/html": [
              "\u003cpre\u003eFinalizing lookup tables.\u003c/pre\u003e"
            ],
            "text/plain": [
              "Finalizing lookup tables."
            ]
          },
          "metadata": {},
          "output_type": "display_data"
        },
        {
          "data": {
            "text/html": [
              "\u003cpre\u003eGenerating candidate set for working with new users.\u003c/pre\u003e"
            ],
            "text/plain": [
              "Generating candidate set for working with new users."
            ]
          },
          "metadata": {},
          "output_type": "display_data"
        },
        {
          "data": {
            "text/html": [
              "\u003cpre\u003eFinished training in 0.0405s\u003c/pre\u003e"
            ],
            "text/plain": [
              "Finished training in 0.0405s"
            ]
          },
          "metadata": {},
          "output_type": "display_data"
        },
        {
          "name": "stdout",
          "output_type": "stream",
          "text": [
            "+------------+-----------+---------------+------+\n",
            "| customerId | productId |     score     | rank |\n",
            "+------------+-----------+---------------+------+\n",
            "|   14176    |   22803   |      8.0      |  1   |\n",
            "|   14176    |   21448   |      5.0      |  2   |\n",
            "|   14176    |   21071   | 3.76402133363 |  3   |\n",
            "|   14176    |   71053   | 3.62950806675 |  4   |\n",
            "|   14176    |   90199C  |      3.0      |  5   |\n",
            "|   14176    |   90082B  |      3.0      |  6   |\n",
            "|   14176    |   21415   |      3.0      |  7   |\n",
            "|   14176    |   21785   |      3.0      |  8   |\n",
            "|   14176    |   37370   | 2.71129606451 |  9   |\n",
            "|   14176    |   84827   |      2.5      |  10  |\n",
            "|   13305    |   22803   |      8.0      |  1   |\n",
            "|   13305    |   21448   |      5.0      |  2   |\n",
            "|   13305    |   21071   | 3.69013918519 |  3   |\n",
            "|   13305    |   71053   | 3.55229116003 |  4   |\n",
            "|   13305    |   90199C  |      3.0      |  5   |\n",
            "|   13305    |   90082B  |      3.0      |  6   |\n",
            "|   13305    |   21415   |      3.0      |  7   |\n",
            "|   13305    |   21785   |      3.0      |  8   |\n",
            "|   13305    |   37370   | 2.63025117517 |  9   |\n",
            "|   13305    |   84827   |  2.4734593308 |  10  |\n",
            "|   14679    |   22803   |      8.0      |  1   |\n",
            "|   14679    |   21448   |      5.0      |  2   |\n",
            "|   14679    |   21071   | 3.69013918519 |  3   |\n",
            "|   14679    |   71053   | 3.55229116003 |  4   |\n",
            "|   14679    |   90199C  |      3.0      |  5   |\n",
            "|   14679    |   90082B  |      3.0      |  6   |\n",
            "|   14679    |   21415   |      3.0      |  7   |\n",
            "|   14679    |   21785   |      3.0      |  8   |\n",
            "|   14679    |   37370   | 2.63025117517 |  9   |\n",
            "|   14679    |   84827   |  2.4734593308 |  10  |\n",
            "+------------+-----------+---------------+------+\n",
            "[5590 rows x 4 columns]\n",
            "\n"
          ]
        }
      ],
      "source": "# these variables will change accordingly\nname \u003d \u0027pearson\u0027\ntarget \u003d \u0027purchase_count\u0027\npear \u003d model(train_data, name, user_id, item_id, target, users_to_recommend, n_rec, n_display)"
    },
    {
      "cell_type": "code",
      "execution_count": 57,
      "metadata": {
        "pycharm": {}
      },
      "outputs": [
        {
          "data": {
            "text/html": [
              "\u003cpre\u003eWarning: Ignoring columns purchase_count;\u003c/pre\u003e"
            ],
            "text/plain": [
              "Warning: Ignoring columns purchase_count;"
            ]
          },
          "metadata": {},
          "output_type": "display_data"
        },
        {
          "data": {
            "text/html": [
              "\u003cpre\u003e    To use these columns in scoring predictions, use a model that allows the use of additional features.\u003c/pre\u003e"
            ],
            "text/plain": [
              "    To use these columns in scoring predictions, use a model that allows the use of additional features."
            ]
          },
          "metadata": {},
          "output_type": "display_data"
        },
        {
          "data": {
            "text/html": [
              "\u003cpre\u003ePreparing data set.\u003c/pre\u003e"
            ],
            "text/plain": [
              "Preparing data set."
            ]
          },
          "metadata": {},
          "output_type": "display_data"
        },
        {
          "data": {
            "text/html": [
              "\u003cpre\u003e    Data has 9675 observations with 548 users and 1863 items.\u003c/pre\u003e"
            ],
            "text/plain": [
              "    Data has 9675 observations with 548 users and 1863 items."
            ]
          },
          "metadata": {},
          "output_type": "display_data"
        },
        {
          "data": {
            "text/html": [
              "\u003cpre\u003e    Data prepared in: 0.022253s\u003c/pre\u003e"
            ],
            "text/plain": [
              "    Data prepared in: 0.022253s"
            ]
          },
          "metadata": {},
          "output_type": "display_data"
        },
        {
          "data": {
            "text/html": [
              "\u003cpre\u003eTraining model from provided data.\u003c/pre\u003e"
            ],
            "text/plain": [
              "Training model from provided data."
            ]
          },
          "metadata": {},
          "output_type": "display_data"
        },
        {
          "data": {
            "text/html": [
              "\u003cpre\u003eGathering per-item and per-user statistics.\u003c/pre\u003e"
            ],
            "text/plain": [
              "Gathering per-item and per-user statistics."
            ]
          },
          "metadata": {},
          "output_type": "display_data"
        },
        {
          "data": {
            "text/html": [
              "\u003cpre\u003e+--------------------------------+------------+\u003c/pre\u003e"
            ],
            "text/plain": [
              "+--------------------------------+------------+"
            ]
          },
          "metadata": {},
          "output_type": "display_data"
        },
        {
          "data": {
            "text/html": [
              "\u003cpre\u003e| Elapsed Time (Item Statistics) | % Complete |\u003c/pre\u003e"
            ],
            "text/plain": [
              "| Elapsed Time (Item Statistics) | % Complete |"
            ]
          },
          "metadata": {},
          "output_type": "display_data"
        },
        {
          "data": {
            "text/html": [
              "\u003cpre\u003e+--------------------------------+------------+\u003c/pre\u003e"
            ],
            "text/plain": [
              "+--------------------------------+------------+"
            ]
          },
          "metadata": {},
          "output_type": "display_data"
        },
        {
          "data": {
            "text/html": [
              "\u003cpre\u003e| 5.082ms                        | 100        |\u003c/pre\u003e"
            ],
            "text/plain": [
              "| 5.082ms                        | 100        |"
            ]
          },
          "metadata": {},
          "output_type": "display_data"
        },
        {
          "data": {
            "text/html": [
              "\u003cpre\u003e+--------------------------------+------------+\u003c/pre\u003e"
            ],
            "text/plain": [
              "+--------------------------------+------------+"
            ]
          },
          "metadata": {},
          "output_type": "display_data"
        },
        {
          "data": {
            "text/html": [
              "\u003cpre\u003eSetting up lookup tables.\u003c/pre\u003e"
            ],
            "text/plain": [
              "Setting up lookup tables."
            ]
          },
          "metadata": {},
          "output_type": "display_data"
        },
        {
          "data": {
            "text/html": [
              "\u003cpre\u003eProcessing data in one pass using dense lookup tables.\u003c/pre\u003e"
            ],
            "text/plain": [
              "Processing data in one pass using dense lookup tables."
            ]
          },
          "metadata": {},
          "output_type": "display_data"
        },
        {
          "data": {
            "text/html": [
              "\u003cpre\u003e+-------------------------------------+------------------+-----------------+\u003c/pre\u003e"
            ],
            "text/plain": [
              "+-------------------------------------+------------------+-----------------+"
            ]
          },
          "metadata": {},
          "output_type": "display_data"
        },
        {
          "data": {
            "text/html": [
              "\u003cpre\u003e| Elapsed Time (Constructing Lookups) | Total % Complete | Items Processed |\u003c/pre\u003e"
            ],
            "text/plain": [
              "| Elapsed Time (Constructing Lookups) | Total % Complete | Items Processed |"
            ]
          },
          "metadata": {},
          "output_type": "display_data"
        },
        {
          "data": {
            "text/html": [
              "\u003cpre\u003e+-------------------------------------+------------------+-----------------+\u003c/pre\u003e"
            ],
            "text/plain": [
              "+-------------------------------------+------------------+-----------------+"
            ]
          },
          "metadata": {},
          "output_type": "display_data"
        },
        {
          "data": {
            "text/html": [
              "\u003cpre\u003e| 10.406ms                            | 0                | 0               |\u003c/pre\u003e"
            ],
            "text/plain": [
              "| 10.406ms                            | 0                | 0               |"
            ]
          },
          "metadata": {},
          "output_type": "display_data"
        },
        {
          "data": {
            "text/html": [
              "\u003cpre\u003e| 37.841ms                            | 100              | 1863            |\u003c/pre\u003e"
            ],
            "text/plain": [
              "| 37.841ms                            | 100              | 1863            |"
            ]
          },
          "metadata": {},
          "output_type": "display_data"
        },
        {
          "data": {
            "text/html": [
              "\u003cpre\u003e+-------------------------------------+------------------+-----------------+\u003c/pre\u003e"
            ],
            "text/plain": [
              "+-------------------------------------+------------------+-----------------+"
            ]
          },
          "metadata": {},
          "output_type": "display_data"
        },
        {
          "data": {
            "text/html": [
              "\u003cpre\u003eFinalizing lookup tables.\u003c/pre\u003e"
            ],
            "text/plain": [
              "Finalizing lookup tables."
            ]
          },
          "metadata": {},
          "output_type": "display_data"
        },
        {
          "data": {
            "text/html": [
              "\u003cpre\u003eGenerating candidate set for working with new users.\u003c/pre\u003e"
            ],
            "text/plain": [
              "Generating candidate set for working with new users."
            ]
          },
          "metadata": {},
          "output_type": "display_data"
        },
        {
          "data": {
            "text/html": [
              "\u003cpre\u003eFinished training in 0.040489s\u003c/pre\u003e"
            ],
            "text/plain": [
              "Finished training in 0.040489s"
            ]
          },
          "metadata": {},
          "output_type": "display_data"
        },
        {
          "name": "stdout",
          "output_type": "stream",
          "text": [
            "+------------+-----------+-------+------+\n",
            "| customerId | productId | score | rank |\n",
            "+------------+-----------+-------+------+\n",
            "|   14176    |   85099F  |  0.0  |  1   |\n",
            "|   14176    |   21743   |  0.0  |  2   |\n",
            "|   14176    |   22114   |  0.0  |  3   |\n",
            "|   14176    |   21488   |  0.0  |  4   |\n",
            "|   14176    |   82494L  |  0.0  |  5   |\n",
            "|   14176    |   22592   |  0.0  |  6   |\n",
            "|   14176    |   84031A  |  0.0  |  7   |\n",
            "|   14176    |   82583   |  0.0  |  8   |\n",
            "|   14176    |   21125   |  0.0  |  9   |\n",
            "|   14176    |   22569   |  0.0  |  10  |\n",
            "|   13305    |   85099F  |  0.0  |  1   |\n",
            "|   13305    |   21743   |  0.0  |  2   |\n",
            "|   13305    |   22114   |  0.0  |  3   |\n",
            "|   13305    |   21488   |  0.0  |  4   |\n",
            "|   13305    |   82494L  |  0.0  |  5   |\n",
            "|   13305    |   22592   |  0.0  |  6   |\n",
            "|   13305    |   84031A  |  0.0  |  7   |\n",
            "|   13305    |   82583   |  0.0  |  8   |\n",
            "|   13305    |   21125   |  0.0  |  9   |\n",
            "|   13305    |   22569   |  0.0  |  10  |\n",
            "|   14679    |   85099F  |  0.0  |  1   |\n",
            "|   14679    |   21743   |  0.0  |  2   |\n",
            "|   14679    |   22114   |  0.0  |  3   |\n",
            "|   14679    |   21488   |  0.0  |  4   |\n",
            "|   14679    |   82494L  |  0.0  |  5   |\n",
            "|   14679    |   22592   |  0.0  |  6   |\n",
            "|   14679    |   84031A  |  0.0  |  7   |\n",
            "|   14679    |   82583   |  0.0  |  8   |\n",
            "|   14679    |   21125   |  0.0  |  9   |\n",
            "|   14679    |   22569   |  0.0  |  10  |\n",
            "+------------+-----------+-------+------+\n",
            "[5590 rows x 4 columns]\n",
            "\n"
          ]
        }
      ],
      "source": "# these variables will change accordingly\nname \u003d \u0027pearson\u0027\ntarget \u003d \u0027purchase_dummy\u0027\npear_dummy \u003d model(train_data_dummy, name, user_id, item_id, target, users_to_recommend, n_rec, n_display)"
    },
    {
      "cell_type": "code",
      "execution_count": null,
      "outputs": [],
      "source": "name \u003d \u0027pearson\u0027\ntarget \u003d \u0027scaled_purchase_freq\u0027\npear_norm \u003d model(train_data_norm, name, user_id, item_id, target, users_to_recommend, n_rec, n_display)",
      "metadata": {
        "pycharm": {
          "metadata": false,
          "name": "#%%\n"
        }
      }
    },
    {
      "cell_type": "code",
      "execution_count": 59,
      "metadata": {
        "pycharm": {}
      },
      "outputs": [],
      "source": "# create initial callable variables\n\nmodels_w_counts \u003d [popularity_model, cos, pear]\nmodels_w_dummy \u003d [pop_dummy, cos_dummy, pear_dummy]\nmodels_w_norm \u003d [pop_norm, cos_norm, pear_norm]\n\nnames_w_counts \u003d [\u0027Popularity Model on Purchase Counts\u0027, \u0027Cosine Similarity on Purchase Counts\u0027, \u0027Pearson Similarity on Purchase Counts\u0027]\nnames_w_dummy \u003d [\u0027Popularity Model on Purchase Dummy\u0027, \u0027Cosine Similarity on Purchase Dummy\u0027, \u0027Pearson Similarity on Purchase Dummy\u0027]\nnames_w_norm \u003d [\u0027Popularity Model on Scaled Purchase Counts\u0027, \u0027Cosine Similarity on Scaled Purchase Counts\u0027, \u0027Pearson Similarity on Scaled Purchase Counts\u0027]"
    },
    {
      "cell_type": "code",
      "execution_count": null,
      "outputs": [],
      "source": "eval_counts \u003d tc.recommender.util.compare_models(test_data, models_w_counts, model_names\u003dnames_w_counts)",
      "metadata": {
        "pycharm": {
          "metadata": false,
          "name": "#%%\n"
        }
      }
    },
    {
      "cell_type": "code",
      "execution_count": 61,
      "metadata": {
        "pycharm": {}
      },
      "outputs": [
        {
          "name": "stdout",
          "output_type": "stream",
          "text": [
            "PROGRESS: Evaluate model Popularity Model on Purchase Dummy\n",
            "\n",
            "Precision and recall summary statistics by cutoff\n",
            "+--------+------------------+------------------+\n",
            "| cutoff |  mean_precision  |   mean_recall    |\n",
            "+--------+------------------+------------------+\n",
            "|   1    |       0.0        |       0.0        |\n",
            "|   2    |       0.0        |       0.0        |\n",
            "|   3    | 0.00070771408351 | 0.00212314225053 |\n",
            "|   4    | 0.0015923566879  | 0.00273256271133 |\n",
            "|   5    | 0.00169851380042 | 0.00290949123221 |\n",
            "|   6    | 0.00176928520878 | 0.00361720531572 |\n",
            "|   7    | 0.00151653017895 | 0.00361720531572 |\n",
            "|   8    | 0.00132696390658 | 0.00361720531572 |\n",
            "|   9    | 0.00117952347252 | 0.00361720531572 |\n",
            "|   10   | 0.00106157112527 | 0.00361720531572 |\n",
            "+--------+------------------+------------------+\n",
            "[10 rows x 3 columns]\n",
            "\n",
            "\n",
            "Overall RMSE: 0.0\n",
            "\n",
            "Per User RMSE (best)\n",
            "+------------+-------+------+\n",
            "| customerId | count | rmse |\n",
            "+------------+-------+------+\n",
            "|   15983    |   11  | 0.0  |\n",
            "+------------+-------+------+\n",
            "[1 rows x 3 columns]\n",
            "\n",
            "\n",
            "Per User RMSE (worst)\n",
            "+------------+-------+------+\n",
            "| customerId | count | rmse |\n",
            "+------------+-------+------+\n",
            "|   16241    |   3   | 0.0  |\n",
            "+------------+-------+------+\n",
            "[1 rows x 3 columns]\n",
            "\n",
            "\n",
            "Per Item RMSE (best)\n",
            "+-----------+-------+------+\n",
            "| productId | count | rmse |\n",
            "+-----------+-------+------+\n",
            "|   21929   |   3   | 0.0  |\n",
            "+-----------+-------+------+\n",
            "[1 rows x 3 columns]\n",
            "\n",
            "\n",
            "Per Item RMSE (worst)\n",
            "+-----------+-------+------+\n",
            "| productId | count | rmse |\n",
            "+-----------+-------+------+\n",
            "|   22176   |   1   | 0.0  |\n",
            "+-----------+-------+------+\n",
            "[1 rows x 3 columns]\n",
            "\n",
            "PROGRESS: Evaluate model Cosine Similarity on Purchase Dummy\n",
            "\n",
            "Precision and recall summary statistics by cutoff\n",
            "+--------+-----------------+-----------------+\n",
            "| cutoff |  mean_precision |   mean_recall   |\n",
            "+--------+-----------------+-----------------+\n",
            "|   1    | 0.0785562632696 | 0.0264626856984 |\n",
            "|   2    | 0.0647558386412 | 0.0453503031529 |\n",
            "|   3    | 0.0509554140127 |  0.052461221251 |\n",
            "|   4    | 0.0429936305732 | 0.0567438105655 |\n",
            "|   5    | 0.0377919320594 |  0.060978498071 |\n",
            "|   6    | 0.0343241330502 | 0.0661801965848 |\n",
            "|   7    | 0.0330603579011 | 0.0701089288575 |\n",
            "|   8    | 0.0302547770701 | 0.0735084840087 |\n",
            "|   9    | 0.0278367539514 | 0.0747469836548 |\n",
            "|   10   | 0.0256900212314 | 0.0761624118218 |\n",
            "+--------+-----------------+-----------------+\n",
            "[10 rows x 3 columns]\n",
            "\n",
            "\n",
            "Overall RMSE: 0.981937430045\n",
            "\n",
            "Per User RMSE (best)\n",
            "+------------+-------+----------------+\n",
            "| customerId | count |      rmse      |\n",
            "+------------+-------+----------------+\n",
            "|   15350    |   2   | 0.673465036122 |\n",
            "+------------+-------+----------------+\n",
            "[1 rows x 3 columns]\n",
            "\n",
            "\n",
            "Per User RMSE (worst)\n",
            "+------------+-------+------+\n",
            "| customerId | count | rmse |\n",
            "+------------+-------+------+\n",
            "|   13065    |   2   | 1.0  |\n",
            "+------------+-------+------+\n",
            "[1 rows x 3 columns]\n",
            "\n",
            "\n",
            "Per Item RMSE (best)\n",
            "+-----------+-------+----------------+\n",
            "| productId | count |      rmse      |\n",
            "+-----------+-------+----------------+\n",
            "|   22962   |   2   | 0.721894390466 |\n",
            "+-----------+-------+----------------+\n",
            "[1 rows x 3 columns]\n",
            "\n",
            "\n",
            "Per Item RMSE (worst)\n",
            "+-----------+-------+------+\n",
            "| productId | count | rmse |\n",
            "+-----------+-------+------+\n",
            "|   21355   |   2   | 1.0  |\n",
            "+-----------+-------+------+\n",
            "[1 rows x 3 columns]\n",
            "\n",
            "PROGRESS: Evaluate model Pearson Similarity on Purchase Dummy\n",
            "\n",
            "Precision and recall summary statistics by cutoff\n",
            "+--------+------------------+------------------+\n",
            "| cutoff |  mean_precision  |   mean_recall    |\n",
            "+--------+------------------+------------------+\n",
            "|   1    |       0.0        |       0.0        |\n",
            "|   2    |       0.0        |       0.0        |\n",
            "|   3    | 0.00070771408351 | 0.00212314225053 |\n",
            "|   4    | 0.0015923566879  | 0.00273256271133 |\n",
            "|   5    | 0.00169851380042 | 0.00290949123221 |\n",
            "|   6    | 0.00176928520878 | 0.00361720531572 |\n",
            "|   7    | 0.00151653017895 | 0.00361720531572 |\n",
            "|   8    | 0.00132696390658 | 0.00361720531572 |\n",
            "|   9    | 0.00117952347252 | 0.00361720531572 |\n",
            "|   10   | 0.00106157112527 | 0.00361720531572 |\n",
            "+--------+------------------+------------------+\n",
            "[10 rows x 3 columns]\n",
            "\n",
            "\n",
            "Overall RMSE: 1.0\n",
            "\n",
            "Per User RMSE (best)\n",
            "+------------+-------+------+\n",
            "| customerId | count | rmse |\n",
            "+------------+-------+------+\n",
            "|   15983    |   11  | 1.0  |\n",
            "+------------+-------+------+\n",
            "[1 rows x 3 columns]\n",
            "\n",
            "\n",
            "Per User RMSE (worst)\n",
            "+------------+-------+------+\n",
            "| customerId | count | rmse |\n",
            "+------------+-------+------+\n",
            "|   16241    |   3   | 1.0  |\n",
            "+------------+-------+------+\n",
            "[1 rows x 3 columns]\n",
            "\n",
            "\n",
            "Per Item RMSE (best)\n",
            "+-----------+-------+------+\n",
            "| productId | count | rmse |\n",
            "+-----------+-------+------+\n",
            "|   21929   |   3   | 1.0  |\n",
            "+-----------+-------+------+\n",
            "[1 rows x 3 columns]\n",
            "\n",
            "\n",
            "Per Item RMSE (worst)\n",
            "+-----------+-------+------+\n",
            "| productId | count | rmse |\n",
            "+-----------+-------+------+\n",
            "|   22176   |   1   | 1.0  |\n",
            "+-----------+-------+------+\n",
            "[1 rows x 3 columns]\n",
            "\n"
          ]
        }
      ],
      "source": "eval_dummy \u003d tc.recommender.util.compare_models(test_data_dummy, models_w_dummy, model_names\u003dnames_w_dummy)"
    },
    {
      "cell_type": "code",
      "execution_count": 62,
      "metadata": {
        "pycharm": {}
      },
      "outputs": [
        {
          "name": "stdout",
          "output_type": "stream",
          "text": [
            "PROGRESS: Evaluate model Popularity Model on Scaled Purchase Counts\n",
            "\n",
            "Precision and recall summary statistics by cutoff\n",
            "+--------+-------------------+-------------------+\n",
            "| cutoff |   mean_precision  |    mean_recall    |\n",
            "+--------+-------------------+-------------------+\n",
            "|   1    |        0.0        |        0.0        |\n",
            "|   2    |  0.00127877237852 | 0.000319693094629 |\n",
            "|   3    | 0.000852514919011 | 0.000319693094629 |\n",
            "|   4    |  0.00127877237852 | 0.000831202046036 |\n",
            "|   5    |  0.00153452685422 |  0.00108695652174 |\n",
            "|   6    |  0.00255754475703 |  0.00266410912191 |\n",
            "|   7    |  0.00255754475703 |  0.00394288150043 |\n",
            "|   8    |  0.0022378516624  |  0.00394288150043 |\n",
            "|   9    |  0.00255754475703 |  0.00483802216539 |\n",
            "|   10   |  0.00281329923274 |  0.0055200341006  |\n",
            "+--------+-------------------+-------------------+\n",
            "[10 rows x 3 columns]\n",
            "\n",
            "\n",
            "Overall RMSE: 0.345690733934\n",
            "\n",
            "Per User RMSE (best)\n",
            "+------------+-------+------+\n",
            "| customerId | count | rmse |\n",
            "+------------+-------+------+\n",
            "|   17975    |   1   | 0.0  |\n",
            "+------------+-------+------+\n",
            "[1 rows x 3 columns]\n",
            "\n",
            "\n",
            "Per User RMSE (worst)\n",
            "+------------+-------+----------------+\n",
            "| customerId | count |      rmse      |\n",
            "+------------+-------+----------------+\n",
            "|   17850    |   9   | 0.997999227241 |\n",
            "+------------+-------+----------------+\n",
            "[1 rows x 3 columns]\n",
            "\n",
            "\n",
            "Per Item RMSE (best)\n",
            "+-----------+-------+-----------------+\n",
            "| productId | count |       rmse      |\n",
            "+-----------+-------+-----------------+\n",
            "|   85123A  |   14  | 0.0244862894906 |\n",
            "+-----------+-------+-----------------+\n",
            "[1 rows x 3 columns]\n",
            "\n",
            "\n",
            "Per Item RMSE (worst)\n",
            "+-----------+-------+------+\n",
            "| productId | count | rmse |\n",
            "+-----------+-------+------+\n",
            "|   84754   |   1   | 1.0  |\n",
            "+-----------+-------+------+\n",
            "[1 rows x 3 columns]\n",
            "\n",
            "PROGRESS: Evaluate model Cosine Similarity on Scaled Purchase Counts\n",
            "\n",
            "Precision and recall summary statistics by cutoff\n",
            "+--------+------------------+------------------+\n",
            "| cutoff |  mean_precision  |   mean_recall    |\n",
            "+--------+------------------+------------------+\n",
            "|   1    | 0.0076726342711  | 0.00220233020745 |\n",
            "|   2    | 0.0076726342711  | 0.0033988957902  |\n",
            "|   3    | 0.00682011935209 | 0.00433666220111 |\n",
            "|   4    | 0.00639386189258 | 0.00485246954707 |\n",
            "|   5    | 0.00613810741688 | 0.00655749938509 |\n",
            "|   6    | 0.00596760443308 | 0.00734912038132 |\n",
            "|   7    | 0.00621118012422 | 0.00835082541115 |\n",
            "|   8    | 0.00607416879795 | 0.00922769789928 |\n",
            "|   9    | 0.00625177607275 | 0.0126377575753  |\n",
            "|   10   | 0.00664961636829 |  0.014793402442  |\n",
            "+--------+------------------+------------------+\n",
            "[10 rows x 3 columns]\n",
            "\n",
            "\n",
            "Overall RMSE: 0.319945512152\n",
            "\n",
            "Per User RMSE (best)\n",
            "+------------+-------+------+\n",
            "| customerId | count | rmse |\n",
            "+------------+-------+------+\n",
            "|   15005    |   4   | 0.0  |\n",
            "+------------+-------+------+\n",
            "[1 rows x 3 columns]\n",
            "\n",
            "\n",
            "Per User RMSE (worst)\n",
            "+------------+-------+------+\n",
            "| customerId | count | rmse |\n",
            "+------------+-------+------+\n",
            "|   15708    |   2   | 1.0  |\n",
            "+------------+-------+------+\n",
            "[1 rows x 3 columns]\n",
            "\n",
            "\n",
            "Per Item RMSE (best)\n",
            "+-----------+-------+------+\n",
            "| productId | count | rmse |\n",
            "+-----------+-------+------+\n",
            "|   21982   |   3   | 0.0  |\n",
            "+-----------+-------+------+\n",
            "[1 rows x 3 columns]\n",
            "\n",
            "\n",
            "Per Item RMSE (worst)\n",
            "+-----------+-------+------+\n",
            "| productId | count | rmse |\n",
            "+-----------+-------+------+\n",
            "|   84754   |   1   | 1.0  |\n",
            "+-----------+-------+------+\n",
            "[1 rows x 3 columns]\n",
            "\n",
            "PROGRESS: Evaluate model Pearson Similarity on Scaled Purchase Counts\n",
            "\n",
            "Precision and recall summary statistics by cutoff\n",
            "+--------+------------------+-------------------+\n",
            "| cutoff |  mean_precision  |    mean_recall    |\n",
            "+--------+------------------+-------------------+\n",
            "|   1    |       0.0        |        0.0        |\n",
            "|   2    | 0.00127877237852 | 0.000319693094629 |\n",
            "|   3    | 0.00255754475703 |  0.00159846547315 |\n",
            "|   4    | 0.00319693094629 |  0.00260321519912 |\n",
            "|   5    | 0.00306905370844 |  0.00311472415053 |\n",
            "|   6    | 0.00298380221654 |  0.00354098161004 |\n",
            "|   7    | 0.00328827183047 |  0.00430824503715 |\n",
            "|   8    | 0.00319693094629 |  0.00558701741566 |\n",
            "|   9    | 0.00341005967604 |  0.00626902935087 |\n",
            "|   10   | 0.00306905370844 |  0.00626902935087 |\n",
            "+--------+------------------+-------------------+\n",
            "[10 rows x 3 columns]\n",
            "\n",
            "\n",
            "Overall RMSE: 0.345381579939\n",
            "\n",
            "Per User RMSE (best)\n",
            "+------------+-------+------+\n",
            "| customerId | count | rmse |\n",
            "+------------+-------+------+\n",
            "|   17975    |   1   | 0.0  |\n",
            "+------------+-------+------+\n",
            "[1 rows x 3 columns]\n",
            "\n",
            "\n",
            "Per User RMSE (worst)\n",
            "+------------+-------+------+\n",
            "| customerId | count | rmse |\n",
            "+------------+-------+------+\n",
            "|   13497    |   1   | 1.0  |\n",
            "+------------+-------+------+\n",
            "[1 rows x 3 columns]\n",
            "\n",
            "\n",
            "Per Item RMSE (best)\n",
            "+-----------+-------+-----------------+\n",
            "| productId | count |       rmse      |\n",
            "+-----------+-------+-----------------+\n",
            "|   85123A  |   14  | 0.0235628087595 |\n",
            "+-----------+-------+-----------------+\n",
            "[1 rows x 3 columns]\n",
            "\n",
            "\n",
            "Per Item RMSE (worst)\n",
            "+-----------+-------+------+\n",
            "| productId | count | rmse |\n",
            "+-----------+-------+------+\n",
            "|   84754   |   1   | 1.0  |\n",
            "+-----------+-------+------+\n",
            "[1 rows x 3 columns]\n",
            "\n"
          ]
        }
      ],
      "source": "eval_norm \u003d tc.recommender.util.compare_models(test_data_norm, models_w_norm, model_names\u003dnames_w_norm)"
    },
    {
      "cell_type": "code",
      "execution_count": 63,
      "metadata": {
        "pycharm": {}
      },
      "outputs": [
        {
          "data": {
            "text/html": [
              "\u003cpre\u003eWarning: Ignoring columns purchase_count;\u003c/pre\u003e"
            ],
            "text/plain": [
              "Warning: Ignoring columns purchase_count;"
            ]
          },
          "metadata": {},
          "output_type": "display_data"
        },
        {
          "data": {
            "text/html": [
              "\u003cpre\u003e    To use these columns in scoring predictions, use a model that allows the use of additional features.\u003c/pre\u003e"
            ],
            "text/plain": [
              "    To use these columns in scoring predictions, use a model that allows the use of additional features."
            ]
          },
          "metadata": {},
          "output_type": "display_data"
        },
        {
          "data": {
            "text/html": [
              "\u003cpre\u003ePreparing data set.\u003c/pre\u003e"
            ],
            "text/plain": [
              "Preparing data set."
            ]
          },
          "metadata": {},
          "output_type": "display_data"
        },
        {
          "data": {
            "text/html": [
              "\u003cpre\u003e    Data has 12094 observations with 559 users and 1969 items.\u003c/pre\u003e"
            ],
            "text/plain": [
              "    Data has 12094 observations with 559 users and 1969 items."
            ]
          },
          "metadata": {},
          "output_type": "display_data"
        },
        {
          "data": {
            "text/html": [
              "\u003cpre\u003e    Data prepared in: 0.02361s\u003c/pre\u003e"
            ],
            "text/plain": [
              "    Data prepared in: 0.02361s"
            ]
          },
          "metadata": {},
          "output_type": "display_data"
        },
        {
          "data": {
            "text/html": [
              "\u003cpre\u003eTraining model from provided data.\u003c/pre\u003e"
            ],
            "text/plain": [
              "Training model from provided data."
            ]
          },
          "metadata": {},
          "output_type": "display_data"
        },
        {
          "data": {
            "text/html": [
              "\u003cpre\u003eGathering per-item and per-user statistics.\u003c/pre\u003e"
            ],
            "text/plain": [
              "Gathering per-item and per-user statistics."
            ]
          },
          "metadata": {},
          "output_type": "display_data"
        },
        {
          "data": {
            "text/html": [
              "\u003cpre\u003e+--------------------------------+------------+\u003c/pre\u003e"
            ],
            "text/plain": [
              "+--------------------------------+------------+"
            ]
          },
          "metadata": {},
          "output_type": "display_data"
        },
        {
          "data": {
            "text/html": [
              "\u003cpre\u003e| Elapsed Time (Item Statistics) | % Complete |\u003c/pre\u003e"
            ],
            "text/plain": [
              "| Elapsed Time (Item Statistics) | % Complete |"
            ]
          },
          "metadata": {},
          "output_type": "display_data"
        },
        {
          "data": {
            "text/html": [
              "\u003cpre\u003e+--------------------------------+------------+\u003c/pre\u003e"
            ],
            "text/plain": [
              "+--------------------------------+------------+"
            ]
          },
          "metadata": {},
          "output_type": "display_data"
        },
        {
          "data": {
            "text/html": [
              "\u003cpre\u003e| 646us                          | 100        |\u003c/pre\u003e"
            ],
            "text/plain": [
              "| 646us                          | 100        |"
            ]
          },
          "metadata": {},
          "output_type": "display_data"
        },
        {
          "data": {
            "text/html": [
              "\u003cpre\u003e+--------------------------------+------------+\u003c/pre\u003e"
            ],
            "text/plain": [
              "+--------------------------------+------------+"
            ]
          },
          "metadata": {},
          "output_type": "display_data"
        },
        {
          "data": {
            "text/html": [
              "\u003cpre\u003eSetting up lookup tables.\u003c/pre\u003e"
            ],
            "text/plain": [
              "Setting up lookup tables."
            ]
          },
          "metadata": {},
          "output_type": "display_data"
        },
        {
          "data": {
            "text/html": [
              "\u003cpre\u003eProcessing data in one pass using dense lookup tables.\u003c/pre\u003e"
            ],
            "text/plain": [
              "Processing data in one pass using dense lookup tables."
            ]
          },
          "metadata": {},
          "output_type": "display_data"
        },
        {
          "data": {
            "text/html": [
              "\u003cpre\u003e+-------------------------------------+------------------+-----------------+\u003c/pre\u003e"
            ],
            "text/plain": [
              "+-------------------------------------+------------------+-----------------+"
            ]
          },
          "metadata": {},
          "output_type": "display_data"
        },
        {
          "data": {
            "text/html": [
              "\u003cpre\u003e| Elapsed Time (Constructing Lookups) | Total % Complete | Items Processed |\u003c/pre\u003e"
            ],
            "text/plain": [
              "| Elapsed Time (Constructing Lookups) | Total % Complete | Items Processed |"
            ]
          },
          "metadata": {},
          "output_type": "display_data"
        },
        {
          "data": {
            "text/html": [
              "\u003cpre\u003e+-------------------------------------+------------------+-----------------+\u003c/pre\u003e"
            ],
            "text/plain": [
              "+-------------------------------------+------------------+-----------------+"
            ]
          },
          "metadata": {},
          "output_type": "display_data"
        },
        {
          "data": {
            "text/html": [
              "\u003cpre\u003e| 10.896ms                            | 0                | 0               |\u003c/pre\u003e"
            ],
            "text/plain": [
              "| 10.896ms                            | 0                | 0               |"
            ]
          },
          "metadata": {},
          "output_type": "display_data"
        },
        {
          "data": {
            "text/html": [
              "\u003cpre\u003e| 69.008ms                            | 100              | 1969            |\u003c/pre\u003e"
            ],
            "text/plain": [
              "| 69.008ms                            | 100              | 1969            |"
            ]
          },
          "metadata": {},
          "output_type": "display_data"
        },
        {
          "data": {
            "text/html": [
              "\u003cpre\u003e+-------------------------------------+------------------+-----------------+\u003c/pre\u003e"
            ],
            "text/plain": [
              "+-------------------------------------+------------------+-----------------+"
            ]
          },
          "metadata": {},
          "output_type": "display_data"
        },
        {
          "data": {
            "text/html": [
              "\u003cpre\u003eFinalizing lookup tables.\u003c/pre\u003e"
            ],
            "text/plain": [
              "Finalizing lookup tables."
            ]
          },
          "metadata": {},
          "output_type": "display_data"
        },
        {
          "data": {
            "text/html": [
              "\u003cpre\u003eGenerating candidate set for working with new users.\u003c/pre\u003e"
            ],
            "text/plain": [
              "Generating candidate set for working with new users."
            ]
          },
          "metadata": {},
          "output_type": "display_data"
        },
        {
          "data": {
            "text/html": [
              "\u003cpre\u003eFinished training in 0.074005s\u003c/pre\u003e"
            ],
            "text/plain": [
              "Finished training in 0.074005s"
            ]
          },
          "metadata": {},
          "output_type": "display_data"
        },
        {
          "name": "stdout",
          "output_type": "stream",
          "text": [
            "+------------+-----------+-----------------+------+\n",
            "| customerId | productId |      score      | rank |\n",
            "+------------+-----------+-----------------+------+\n",
            "|   14176    |   84709B  | 0.0828823844592 |  1   |\n",
            "|   14176    |   22068   | 0.0828823844592 |  2   |\n",
            "|   14176    |   78124   | 0.0812797678841 |  3   |\n",
            "|   14176    |   71496A  | 0.0812797678841 |  4   |\n",
            "|   14176    |   71495B  | 0.0812797678841 |  5   |\n",
            "|   14176    |   22513   | 0.0812797678841 |  6   |\n",
            "|   14176    |   21201   | 0.0792641573482 |  7   |\n",
            "|   14176    |   84509A  | 0.0746109551854 |  8   |\n",
            "|   14176    |   21205   | 0.0728127360344 |  9   |\n",
            "|   14176    |   20618   | 0.0728127360344 |  10  |\n",
            "|   13305    |   22116   |  0.170710682869 |  1   |\n",
            "|   13305    |   85129C  |  0.170710682869 |  2   |\n",
            "|   13305    |   85130A  |  0.139384686947 |  3   |\n",
            "|   13305    |   21333   |  0.136251199245 |  4   |\n",
            "|   13305    |   21179   |  0.120710682869 |  5   |\n",
            "|   13305    |   21640   |       0.1       |  6   |\n",
            "|   13305    |   22252   |       0.1       |  7   |\n",
            "|   13305    |   22251   |       0.1       |  8   |\n",
            "|   13305    |   22456   | 0.0985598564148 |  9   |\n",
            "|   13305    |   82551   | 0.0912487030029 |  10  |\n",
            "|   14679    |   84963A  |  0.577350258827 |  1   |\n",
            "|   14679    |   84279P  |  0.577350258827 |  2   |\n",
            "|   14679    |   22390   |  0.577350258827 |  3   |\n",
            "|   14679    |   21774   |  0.577350258827 |  4   |\n",
            "|   14679    |   21555   |  0.577350258827 |  5   |\n",
            "|   14679    |   21439   |  0.577350258827 |  6   |\n",
            "|   14679    |   21195   |  0.577350258827 |  7   |\n",
            "|   14679    |   84870B  |  0.408248305321 |  8   |\n",
            "|   14679    |   22483   |  0.408248305321 |  9   |\n",
            "|   14679    |   21829   |  0.408248305321 |  10  |\n",
            "+------------+-----------+-----------------+------+\n",
            "[5590 rows x 4 columns]\n",
            "\n"
          ]
        }
      ],
      "source": [
        "users_to_recommend \u003d list(customers[user_id])\n",
        "\n",
        "final_model \u003d tc.item_similarity_recommender.create(tc.SFrame(data_dummy), \n",
        "                                            user_id\u003duser_id, \n",
        "                                            item_id\u003ditem_id, \n",
        "                                            target\u003d\u0027purchase_dummy\u0027, \n",
        "                                            similarity_type\u003d\u0027cosine\u0027)\n",
        "\n",
        "recom \u003d final_model.recommend(users\u003dusers_to_recommend, k\u003dn_rec)\n",
        "recom.print_rows(n_display)"
      ]
    },
    {
      "cell_type": "code",
      "execution_count": 64,
      "metadata": {
        "pycharm": {}
      },
      "outputs": [
        {
          "name": "stdout",
          "output_type": "stream",
          "text": [
            "(5590, 4)\n"
          ]
        },
        {
          "data": {
            "text/html": [
              "\u003cdiv\u003e\n",
              "\u003cstyle scoped\u003e\n",
              "    .dataframe tbody tr th:only-of-type {\n",
              "        vertical-align: middle;\n",
              "    }\n",
              "\n",
              "    .dataframe tbody tr th {\n",
              "        vertical-align: top;\n",
              "    }\n",
              "\n",
              "    .dataframe thead th {\n",
              "        text-align: right;\n",
              "    }\n",
              "\u003c/style\u003e\n",
              "\u003ctable border\u003d\"1\" class\u003d\"dataframe\"\u003e\n",
              "  \u003cthead\u003e\n",
              "    \u003ctr style\u003d\"text-align: right;\"\u003e\n",
              "      \u003cth\u003e\u003c/th\u003e\n",
              "      \u003cth\u003ecustomerId\u003c/th\u003e\n",
              "      \u003cth\u003eproductId\u003c/th\u003e\n",
              "      \u003cth\u003escore\u003c/th\u003e\n",
              "      \u003cth\u003erank\u003c/th\u003e\n",
              "    \u003c/tr\u003e\n",
              "  \u003c/thead\u003e\n",
              "  \u003ctbody\u003e\n",
              "    \u003ctr\u003e\n",
              "      \u003cth\u003e0\u003c/th\u003e\n",
              "      \u003ctd\u003e14176\u003c/td\u003e\n",
              "      \u003ctd\u003e84709B\u003c/td\u003e\n",
              "      \u003ctd\u003e0.082882\u003c/td\u003e\n",
              "      \u003ctd\u003e1\u003c/td\u003e\n",
              "    \u003c/tr\u003e\n",
              "    \u003ctr\u003e\n",
              "      \u003cth\u003e1\u003c/th\u003e\n",
              "      \u003ctd\u003e14176\u003c/td\u003e\n",
              "      \u003ctd\u003e22068\u003c/td\u003e\n",
              "      \u003ctd\u003e0.082882\u003c/td\u003e\n",
              "      \u003ctd\u003e2\u003c/td\u003e\n",
              "    \u003c/tr\u003e\n",
              "    \u003ctr\u003e\n",
              "      \u003cth\u003e2\u003c/th\u003e\n",
              "      \u003ctd\u003e14176\u003c/td\u003e\n",
              "      \u003ctd\u003e78124\u003c/td\u003e\n",
              "      \u003ctd\u003e0.081280\u003c/td\u003e\n",
              "      \u003ctd\u003e3\u003c/td\u003e\n",
              "    \u003c/tr\u003e\n",
              "    \u003ctr\u003e\n",
              "      \u003cth\u003e3\u003c/th\u003e\n",
              "      \u003ctd\u003e14176\u003c/td\u003e\n",
              "      \u003ctd\u003e71496A\u003c/td\u003e\n",
              "      \u003ctd\u003e0.081280\u003c/td\u003e\n",
              "      \u003ctd\u003e4\u003c/td\u003e\n",
              "    \u003c/tr\u003e\n",
              "    \u003ctr\u003e\n",
              "      \u003cth\u003e4\u003c/th\u003e\n",
              "      \u003ctd\u003e14176\u003c/td\u003e\n",
              "      \u003ctd\u003e71495B\u003c/td\u003e\n",
              "      \u003ctd\u003e0.081280\u003c/td\u003e\n",
              "      \u003ctd\u003e5\u003c/td\u003e\n",
              "    \u003c/tr\u003e\n",
              "  \u003c/tbody\u003e\n",
              "\u003c/table\u003e\n",
              "\u003c/div\u003e"
            ],
            "text/plain": [
              "  customerId productId     score  rank\n",
              "0      14176    84709B  0.082882     1\n",
              "1      14176     22068  0.082882     2\n",
              "2      14176     78124  0.081280     3\n",
              "3      14176    71496A  0.081280     4\n",
              "4      14176    71495B  0.081280     5"
            ]
          },
          "execution_count": 64,
          "metadata": {},
          "output_type": "execute_result"
        }
      ],
      "source": [
        "df_rec \u003d recom.to_dataframe()\n",
        "print(df_rec.shape)\n",
        "df_rec.head()"
      ]
    },
    {
      "cell_type": "code",
      "execution_count": 68,
      "metadata": {
        "pycharm": {}
      },
      "outputs": [
        {
          "data": {
            "text/html": [
              "\u003cdiv\u003e\n",
              "\u003cstyle scoped\u003e\n",
              "    .dataframe tbody tr th:only-of-type {\n",
              "        vertical-align: middle;\n",
              "    }\n",
              "\n",
              "    .dataframe tbody tr th {\n",
              "        vertical-align: top;\n",
              "    }\n",
              "\n",
              "    .dataframe thead th {\n",
              "        text-align: right;\n",
              "    }\n",
              "\u003c/style\u003e\n",
              "\u003ctable border\u003d\"1\" class\u003d\"dataframe\"\u003e\n",
              "  \u003cthead\u003e\n",
              "    \u003ctr style\u003d\"text-align: right;\"\u003e\n",
              "      \u003cth\u003e\u003c/th\u003e\n",
              "      \u003cth\u003erecommendedProducts\u003c/th\u003e\n",
              "    \u003c/tr\u003e\n",
              "    \u003ctr\u003e\n",
              "      \u003cth\u003ecustomerId\u003c/th\u003e\n",
              "      \u003cth\u003e\u003c/th\u003e\n",
              "    \u003c/tr\u003e\n",
              "  \u003c/thead\u003e\n",
              "  \u003ctbody\u003e\n",
              "    \u003ctr\u003e\n",
              "      \u003cth\u003e12347\u003c/th\u003e\n",
              "      \u003ctd\u003e22730|84952A|21846|84997A|20655|21672|85068|47...\u003c/td\u003e\n",
              "    \u003c/tr\u003e\n",
              "    \u003ctr\u003e\n",
              "      \u003cth\u003e12386\u003c/th\u003e\n",
              "      \u003ctd\u003e22515|21534|22551|84658|84247E|84534B|22553|20...\u003c/td\u003e\n",
              "    \u003c/tr\u003e\n",
              "    \u003ctr\u003e\n",
              "      \u003cth\u003e12395\u003c/th\u003e\n",
              "      \u003ctd\u003e84991|22951|85170D|22134|22949|22695|21213|229...\u003c/td\u003e\n",
              "    \u003c/tr\u003e\n",
              "    \u003ctr\u003e\n",
              "      \u003cth\u003e12427\u003c/th\u003e\n",
              "      \u003ctd\u003e21327|22831|22703|22026|21650|21209|20839|2077...\u003c/td\u003e\n",
              "    \u003c/tr\u003e\n",
              "    \u003ctr\u003e\n",
              "      \u003cth\u003e12431\u003c/th\u003e\n",
              "      \u003ctd\u003e22728|22729|22725|22730|20655|15056N|47563A|21...\u003c/td\u003e\n",
              "    \u003c/tr\u003e\n",
              "  \u003c/tbody\u003e\n",
              "\u003c/table\u003e\n",
              "\u003c/div\u003e"
            ],
            "text/plain": [
              "                                          recommendedProducts\n",
              "customerId                                                   \n",
              "12347       22730|84952A|21846|84997A|20655|21672|85068|47...\n",
              "12386       22515|21534|22551|84658|84247E|84534B|22553|20...\n",
              "12395       84991|22951|85170D|22134|22949|22695|21213|229...\n",
              "12427       21327|22831|22703|22026|21650|21209|20839|2077...\n",
              "12431       22728|22729|22725|22730|20655|15056N|47563A|21..."
            ]
          },
          "execution_count": 68,
          "metadata": {},
          "output_type": "execute_result"
        }
      ],
      "source": [
        "df_rec[\u0027recommendedProducts\u0027] \u003d df_rec.groupby([user_id])[item_id].transform(lambda x: \u0027|\u0027.join(x.astype(str)))\n",
        "df_output \u003d df_rec[[\u0027customerId\u0027, \u0027recommendedProducts\u0027]].drop_duplicates().sort_values(\u0027customerId\u0027).set_index(\u0027customerId\u0027)\n",
        "df_output.head()"
      ]
    },
    {
      "cell_type": "code",
      "execution_count": 72,
      "metadata": {
        "pycharm": {}
      },
      "outputs": [
        {
          "name": "stdout",
          "output_type": "stream",
          "text": [
            "An output file can be found in \u0027output\u0027 folder with name \u0027option1_recommendation.csv\u0027\n"
          ]
        }
      ],
      "source": [
        " df_output.to_csv(\u0027output/option1_recommendation.csv\u0027)\n",
        "print(\"An output file can be found in \u0027output\u0027 folder with name \u0027option1_recommendation.csv\u0027\")\n"
      ]
    },
    {
      "cell_type": "code",
      "execution_count": null,
      "metadata": {
        "pycharm": {}
      },
      "outputs": [],
      "source": [
        "df_output \u003d create_output(pear_norm, users_to_recommend, n_rec, print_csv\u003dTrue)\n",
        "print(df_output.shape)\n",
        "df_output.head()"
      ]
    },
    {
      "cell_type": "code",
      "execution_count": null,
      "metadata": {
        "pycharm": {}
      },
      "outputs": [],
      "source": []
    }
  ],
  "metadata": {
    "kernelspec": {
      "display_name": "Python 2",
      "language": "python",
      "name": "python2"
    },
    "language_info": {
      "codemirror_mode": {
        "name": "ipython",
        "version": 2
      },
      "file_extension": ".py",
      "mimetype": "text/x-python",
      "name": "python",
      "nbconvert_exporter": "python",
      "pygments_lexer": "ipython2",
      "version": "2.7.12"
    }
  },
  "nbformat": 4,
  "nbformat_minor": 2
}