{
 "cells": [
  {
   "cell_type": "code",
   "execution_count": 1,
   "metadata": {},
   "outputs": [
    {
     "name": "stderr",
     "output_type": "stream",
     "text": [
      "/usr/local/lib/python2.7/dist-packages/sklearn/cross_validation.py:41: DeprecationWarning: This module was deprecated in version 0.18 in favor of the model_selection module into which all the refactored classes and functions are moved. Also note that the interface of the new CV iterators are different from that of this module. This module will be removed in 0.20.\n",
      "  \"This module will be removed in 0.20.\", DeprecationWarning)\n"
     ]
    }
   ],
   "source": [
    "import pandas as pd\n",
    "import numpy as np\n",
    "import time\n",
    "import turicreate as tc\n",
    "from sklearn.cross_validation import train_test_split"
   ]
  },
  {
   "cell_type": "code",
   "execution_count": 3,
   "metadata": {},
   "outputs": [
    {
     "name": "stdout",
     "output_type": "stream",
     "text": [
      "  customerId                                           products\n",
      "1      14176  21733|22645|22804|22810|21355|85123A|22968|211...\n",
      "2      13305                     85061W|22855|22465|22740|21385\n",
      "3      14679                                              84678\n",
      "4      14911  22968|85071A|85071C|22355|21579|21576|22147|22...\n",
      "5      14673  21485|22835|21143|22158|22633|22419|21212|2217...\n"
     ]
    }
   ],
   "source": [
    "userItemData = pd.read_csv('data2.csv',encoding = 'unicode_escape',dtype='str')\n",
    "#print(userItemData.head())\n",
    "userList=list(set(userItemData[\"CustomerID\"].tolist()))\n",
    "#print(len(userList))\n",
    "#print(userItemData.head(10))\n",
    "filteredData=pd.DataFrame(columns=('customerId','products'))\n",
    "rowCount=0\n",
    "#print(userList) \n",
    "for user in userList: \n",
    "    products=[] \n",
    "    x=userItemData[userItemData.CustomerID==user]['StockCode'].tolist() \n",
    "    #print(x)\n",
    "    s='|' \n",
    "    s=s.join(x) \n",
    "    filteredData.loc[rowCount]=[user,s] \n",
    "    rowCount+=1 \n",
    "transactions=filteredData.dropna()\n",
    "print(transactions.head())"
   ]
  },
  {
   "cell_type": "code",
   "execution_count": 4,
   "metadata": {},
   "outputs": [
    {
     "name": "stdout",
     "output_type": "stream",
     "text": [
      "<class 'pandas.core.frame.DataFrame'>\n"
     ]
    }
   ],
   "source": [
    "customers = pd.DataFrame(transactions['customerId'])\n",
    "print(type(transactions))"
   ]
  },
  {
   "cell_type": "code",
   "execution_count": 5,
   "metadata": {},
   "outputs": [
    {
     "name": "stderr",
     "output_type": "stream",
     "text": [
      "/usr/local/lib/python2.7/dist-packages/ipykernel_launcher.py:1: SettingWithCopyWarning: \n",
      "A value is trying to be set on a copy of a slice from a DataFrame.\n",
      "Try using .loc[row_indexer,col_indexer] = value instead\n",
      "\n",
      "See the caveats in the documentation: http://pandas.pydata.org/pandas-docs/stable/indexing.html#indexing-view-versus-copy\n",
      "  \"\"\"Entry point for launching an IPython kernel.\n"
     ]
    },
    {
     "data": {
      "text/html": [
       "<div>\n",
       "<style scoped>\n",
       "    .dataframe tbody tr th:only-of-type {\n",
       "        vertical-align: middle;\n",
       "    }\n",
       "\n",
       "    .dataframe tbody tr th {\n",
       "        vertical-align: top;\n",
       "    }\n",
       "\n",
       "    .dataframe thead th {\n",
       "        text-align: right;\n",
       "    }\n",
       "</style>\n",
       "<table border=\"1\" class=\"dataframe\">\n",
       "  <thead>\n",
       "    <tr style=\"text-align: right;\">\n",
       "      <th></th>\n",
       "      <th>customerId</th>\n",
       "      <th>0</th>\n",
       "      <th>1</th>\n",
       "      <th>2</th>\n",
       "      <th>3</th>\n",
       "      <th>4</th>\n",
       "      <th>5</th>\n",
       "      <th>6</th>\n",
       "      <th>7</th>\n",
       "      <th>8</th>\n",
       "    </tr>\n",
       "  </thead>\n",
       "  <tbody>\n",
       "    <tr>\n",
       "      <th>0</th>\n",
       "      <td>14176</td>\n",
       "      <td>21733</td>\n",
       "      <td>22645</td>\n",
       "      <td>22804</td>\n",
       "      <td>22810</td>\n",
       "      <td>21355</td>\n",
       "      <td>85123A</td>\n",
       "      <td>22968</td>\n",
       "      <td>21109</td>\n",
       "      <td>21108</td>\n",
       "    </tr>\n",
       "    <tr>\n",
       "      <th>1</th>\n",
       "      <td>13305</td>\n",
       "      <td>85061W</td>\n",
       "      <td>22855</td>\n",
       "      <td>22465</td>\n",
       "      <td>22740</td>\n",
       "      <td>21385</td>\n",
       "      <td>NaN</td>\n",
       "      <td>NaN</td>\n",
       "      <td>NaN</td>\n",
       "      <td>NaN</td>\n",
       "    </tr>\n",
       "  </tbody>\n",
       "</table>\n",
       "</div>"
      ],
      "text/plain": [
       "  customerId       0      1      2      3      4       5      6      7      8\n",
       "0      14176   21733  22645  22804  22810  21355  85123A  22968  21109  21108\n",
       "1      13305  85061W  22855  22465  22740  21385     NaN    NaN    NaN    NaN"
      ]
     },
     "execution_count": 5,
     "metadata": {},
     "output_type": "execute_result"
    }
   ],
   "source": [
    "transactions['products'] = transactions['products'].apply(lambda x: [str(i) for i in x.split('|')])\n",
    "transactions.head(2).set_index('customerId')['products'].apply(pd.Series).reset_index()"
   ]
  },
  {
   "cell_type": "code",
   "execution_count": 6,
   "metadata": {},
   "outputs": [
    {
     "data": {
      "text/html": [
       "<div>\n",
       "<style scoped>\n",
       "    .dataframe tbody tr th:only-of-type {\n",
       "        vertical-align: middle;\n",
       "    }\n",
       "\n",
       "    .dataframe tbody tr th {\n",
       "        vertical-align: top;\n",
       "    }\n",
       "\n",
       "    .dataframe thead th {\n",
       "        text-align: right;\n",
       "    }\n",
       "</style>\n",
       "<table border=\"1\" class=\"dataframe\">\n",
       "  <thead>\n",
       "    <tr style=\"text-align: right;\">\n",
       "      <th></th>\n",
       "      <th>customerId</th>\n",
       "      <th>productId</th>\n",
       "      <th>purchase_count</th>\n",
       "    </tr>\n",
       "  </thead>\n",
       "  <tbody>\n",
       "    <tr>\n",
       "      <th>0</th>\n",
       "      <td>13305</td>\n",
       "      <td>21385</td>\n",
       "      <td>1</td>\n",
       "    </tr>\n",
       "    <tr>\n",
       "      <th>1</th>\n",
       "      <td>13305</td>\n",
       "      <td>22465</td>\n",
       "      <td>1</td>\n",
       "    </tr>\n",
       "    <tr>\n",
       "      <th>2</th>\n",
       "      <td>13305</td>\n",
       "      <td>22740</td>\n",
       "      <td>1</td>\n",
       "    </tr>\n",
       "    <tr>\n",
       "      <th>3</th>\n",
       "      <td>13305</td>\n",
       "      <td>22855</td>\n",
       "      <td>1</td>\n",
       "    </tr>\n",
       "    <tr>\n",
       "      <th>4</th>\n",
       "      <td>13305</td>\n",
       "      <td>85061W</td>\n",
       "      <td>1</td>\n",
       "    </tr>\n",
       "    <tr>\n",
       "      <th>5</th>\n",
       "      <td>14176</td>\n",
       "      <td>21108</td>\n",
       "      <td>1</td>\n",
       "    </tr>\n",
       "    <tr>\n",
       "      <th>6</th>\n",
       "      <td>14176</td>\n",
       "      <td>21109</td>\n",
       "      <td>1</td>\n",
       "    </tr>\n",
       "    <tr>\n",
       "      <th>7</th>\n",
       "      <td>14176</td>\n",
       "      <td>21355</td>\n",
       "      <td>1</td>\n",
       "    </tr>\n",
       "    <tr>\n",
       "      <th>8</th>\n",
       "      <td>14176</td>\n",
       "      <td>21733</td>\n",
       "      <td>1</td>\n",
       "    </tr>\n",
       "    <tr>\n",
       "      <th>9</th>\n",
       "      <td>14176</td>\n",
       "      <td>22645</td>\n",
       "      <td>1</td>\n",
       "    </tr>\n",
       "    <tr>\n",
       "      <th>10</th>\n",
       "      <td>14176</td>\n",
       "      <td>22804</td>\n",
       "      <td>1</td>\n",
       "    </tr>\n",
       "    <tr>\n",
       "      <th>11</th>\n",
       "      <td>14176</td>\n",
       "      <td>22810</td>\n",
       "      <td>1</td>\n",
       "    </tr>\n",
       "    <tr>\n",
       "      <th>12</th>\n",
       "      <td>14176</td>\n",
       "      <td>22968</td>\n",
       "      <td>1</td>\n",
       "    </tr>\n",
       "    <tr>\n",
       "      <th>13</th>\n",
       "      <td>14176</td>\n",
       "      <td>85123A</td>\n",
       "      <td>1</td>\n",
       "    </tr>\n",
       "  </tbody>\n",
       "</table>\n",
       "</div>"
      ],
      "text/plain": [
       "   customerId productId  purchase_count\n",
       "0       13305     21385               1\n",
       "1       13305     22465               1\n",
       "2       13305     22740               1\n",
       "3       13305     22855               1\n",
       "4       13305    85061W               1\n",
       "5       14176     21108               1\n",
       "6       14176     21109               1\n",
       "7       14176     21355               1\n",
       "8       14176     21733               1\n",
       "9       14176     22645               1\n",
       "10      14176     22804               1\n",
       "11      14176     22810               1\n",
       "12      14176     22968               1\n",
       "13      14176    85123A               1"
      ]
     },
     "execution_count": 6,
     "metadata": {},
     "output_type": "execute_result"
    }
   ],
   "source": [
    "pd.melt(transactions.head(2).set_index('customerId')['products'].apply(pd.Series).reset_index(), \n",
    "             id_vars=['customerId'],\n",
    "             value_name='products') \\\n",
    "    .dropna().drop(['variable'], axis=1) \\\n",
    "    .groupby(['customerId', 'products']) \\\n",
    "    .agg({'products': 'count'}) \\\n",
    "    .rename(columns={'products': 'purchase_count'}) \\\n",
    "    .reset_index() \\\n",
    "    .rename(columns={'products': 'productId'})"
   ]
  },
  {
   "cell_type": "code",
   "execution_count": 7,
   "metadata": {},
   "outputs": [
    {
     "name": "stdout",
     "output_type": "stream",
     "text": [
      "('Execution time:', 0.01, 'minutes')\n"
     ]
    }
   ],
   "source": [
    "s=time.time()\n",
    "\n",
    "data = pd.melt(transactions.set_index('customerId')['products'].apply(pd.Series).reset_index(), \n",
    "             id_vars=['customerId'],\n",
    "             value_name='products') \\\n",
    "    .dropna().drop(['variable'], axis=1) \\\n",
    "    .groupby(['customerId', 'products']) \\\n",
    "    .agg({'products': 'count'}) \\\n",
    "    .rename(columns={'products': 'purchase_count'}) \\\n",
    "    .reset_index() \\\n",
    "    .rename(columns={'products': 'productId'})\n",
    "data['productId'] = data['productId'].astype(np.str)\n",
    "\n",
    "print(\"Execution time:\", round((time.time()-s)/60,2), \"minutes\")"
   ]
  },
  {
   "cell_type": "code",
   "execution_count": 8,
   "metadata": {},
   "outputs": [
    {
     "name": "stdout",
     "output_type": "stream",
     "text": [
      "(12094, 3)\n"
     ]
    },
    {
     "data": {
      "text/html": [
       "<div>\n",
       "<style scoped>\n",
       "    .dataframe tbody tr th:only-of-type {\n",
       "        vertical-align: middle;\n",
       "    }\n",
       "\n",
       "    .dataframe tbody tr th {\n",
       "        vertical-align: top;\n",
       "    }\n",
       "\n",
       "    .dataframe thead th {\n",
       "        text-align: right;\n",
       "    }\n",
       "</style>\n",
       "<table border=\"1\" class=\"dataframe\">\n",
       "  <thead>\n",
       "    <tr style=\"text-align: right;\">\n",
       "      <th></th>\n",
       "      <th>customerId</th>\n",
       "      <th>productId</th>\n",
       "      <th>purchase_count</th>\n",
       "    </tr>\n",
       "  </thead>\n",
       "  <tbody>\n",
       "    <tr>\n",
       "      <th>0</th>\n",
       "      <td>12347</td>\n",
       "      <td>20780</td>\n",
       "      <td>1</td>\n",
       "    </tr>\n",
       "    <tr>\n",
       "      <th>1</th>\n",
       "      <td>12347</td>\n",
       "      <td>20782</td>\n",
       "      <td>1</td>\n",
       "    </tr>\n",
       "    <tr>\n",
       "      <th>2</th>\n",
       "      <td>12347</td>\n",
       "      <td>21064</td>\n",
       "      <td>1</td>\n",
       "    </tr>\n",
       "    <tr>\n",
       "      <th>3</th>\n",
       "      <td>12347</td>\n",
       "      <td>21171</td>\n",
       "      <td>1</td>\n",
       "    </tr>\n",
       "    <tr>\n",
       "      <th>4</th>\n",
       "      <td>12347</td>\n",
       "      <td>21731</td>\n",
       "      <td>1</td>\n",
       "    </tr>\n",
       "  </tbody>\n",
       "</table>\n",
       "</div>"
      ],
      "text/plain": [
       "  customerId productId  purchase_count\n",
       "0      12347     20780               1\n",
       "1      12347     20782               1\n",
       "2      12347     21064               1\n",
       "3      12347     21171               1\n",
       "4      12347     21731               1"
      ]
     },
     "execution_count": 8,
     "metadata": {},
     "output_type": "execute_result"
    }
   ],
   "source": [
    "print(data.shape)\n",
    "data.head()"
   ]
  },
  {
   "cell_type": "code",
   "execution_count": 9,
   "metadata": {},
   "outputs": [],
   "source": [
    "def create_data_dummy(data):\n",
    "    data_dummy = data.copy()\n",
    "    data_dummy['purchase_dummy'] = 1\n",
    "    return data_dummy"
   ]
  },
  {
   "cell_type": "code",
   "execution_count": 10,
   "metadata": {},
   "outputs": [],
   "source": [
    "data_dummy = create_data_dummy(data)"
   ]
  },
  {
   "cell_type": "code",
   "execution_count": 11,
   "metadata": {},
   "outputs": [
    {
     "data": {
      "text/html": [
       "<div>\n",
       "<style scoped>\n",
       "    .dataframe tbody tr th:only-of-type {\n",
       "        vertical-align: middle;\n",
       "    }\n",
       "\n",
       "    .dataframe tbody tr th {\n",
       "        vertical-align: top;\n",
       "    }\n",
       "\n",
       "    .dataframe thead th {\n",
       "        text-align: right;\n",
       "    }\n",
       "</style>\n",
       "<table border=\"1\" class=\"dataframe\">\n",
       "  <thead>\n",
       "    <tr style=\"text-align: right;\">\n",
       "      <th>productId</th>\n",
       "      <th>10002</th>\n",
       "      <th>10120</th>\n",
       "      <th>10123C</th>\n",
       "      <th>10124A</th>\n",
       "      <th>10124G</th>\n",
       "      <th>10125</th>\n",
       "      <th>10133</th>\n",
       "      <th>10135</th>\n",
       "      <th>11001</th>\n",
       "      <th>15034</th>\n",
       "      <th>...</th>\n",
       "      <th>90214J</th>\n",
       "      <th>90214K</th>\n",
       "      <th>90214M</th>\n",
       "      <th>90214S</th>\n",
       "      <th>90214V</th>\n",
       "      <th>BANK CHARGES</th>\n",
       "      <th>C2</th>\n",
       "      <th>D</th>\n",
       "      <th>M</th>\n",
       "      <th>POST</th>\n",
       "    </tr>\n",
       "    <tr>\n",
       "      <th>customerId</th>\n",
       "      <th></th>\n",
       "      <th></th>\n",
       "      <th></th>\n",
       "      <th></th>\n",
       "      <th></th>\n",
       "      <th></th>\n",
       "      <th></th>\n",
       "      <th></th>\n",
       "      <th></th>\n",
       "      <th></th>\n",
       "      <th></th>\n",
       "      <th></th>\n",
       "      <th></th>\n",
       "      <th></th>\n",
       "      <th></th>\n",
       "      <th></th>\n",
       "      <th></th>\n",
       "      <th></th>\n",
       "      <th></th>\n",
       "      <th></th>\n",
       "      <th></th>\n",
       "    </tr>\n",
       "  </thead>\n",
       "  <tbody>\n",
       "    <tr>\n",
       "      <th>12347</th>\n",
       "      <td>NaN</td>\n",
       "      <td>NaN</td>\n",
       "      <td>NaN</td>\n",
       "      <td>NaN</td>\n",
       "      <td>NaN</td>\n",
       "      <td>NaN</td>\n",
       "      <td>NaN</td>\n",
       "      <td>NaN</td>\n",
       "      <td>NaN</td>\n",
       "      <td>NaN</td>\n",
       "      <td>...</td>\n",
       "      <td>NaN</td>\n",
       "      <td>NaN</td>\n",
       "      <td>NaN</td>\n",
       "      <td>NaN</td>\n",
       "      <td>NaN</td>\n",
       "      <td>NaN</td>\n",
       "      <td>NaN</td>\n",
       "      <td>NaN</td>\n",
       "      <td>NaN</td>\n",
       "      <td>NaN</td>\n",
       "    </tr>\n",
       "    <tr>\n",
       "      <th>12386</th>\n",
       "      <td>NaN</td>\n",
       "      <td>NaN</td>\n",
       "      <td>NaN</td>\n",
       "      <td>NaN</td>\n",
       "      <td>NaN</td>\n",
       "      <td>NaN</td>\n",
       "      <td>NaN</td>\n",
       "      <td>NaN</td>\n",
       "      <td>NaN</td>\n",
       "      <td>NaN</td>\n",
       "      <td>...</td>\n",
       "      <td>NaN</td>\n",
       "      <td>NaN</td>\n",
       "      <td>NaN</td>\n",
       "      <td>NaN</td>\n",
       "      <td>NaN</td>\n",
       "      <td>NaN</td>\n",
       "      <td>NaN</td>\n",
       "      <td>NaN</td>\n",
       "      <td>NaN</td>\n",
       "      <td>NaN</td>\n",
       "    </tr>\n",
       "    <tr>\n",
       "      <th>12395</th>\n",
       "      <td>NaN</td>\n",
       "      <td>NaN</td>\n",
       "      <td>NaN</td>\n",
       "      <td>NaN</td>\n",
       "      <td>NaN</td>\n",
       "      <td>NaN</td>\n",
       "      <td>NaN</td>\n",
       "      <td>NaN</td>\n",
       "      <td>NaN</td>\n",
       "      <td>NaN</td>\n",
       "      <td>...</td>\n",
       "      <td>NaN</td>\n",
       "      <td>NaN</td>\n",
       "      <td>NaN</td>\n",
       "      <td>NaN</td>\n",
       "      <td>NaN</td>\n",
       "      <td>NaN</td>\n",
       "      <td>NaN</td>\n",
       "      <td>NaN</td>\n",
       "      <td>NaN</td>\n",
       "      <td>1.0</td>\n",
       "    </tr>\n",
       "    <tr>\n",
       "      <th>12427</th>\n",
       "      <td>NaN</td>\n",
       "      <td>NaN</td>\n",
       "      <td>NaN</td>\n",
       "      <td>NaN</td>\n",
       "      <td>NaN</td>\n",
       "      <td>NaN</td>\n",
       "      <td>NaN</td>\n",
       "      <td>NaN</td>\n",
       "      <td>NaN</td>\n",
       "      <td>NaN</td>\n",
       "      <td>...</td>\n",
       "      <td>NaN</td>\n",
       "      <td>NaN</td>\n",
       "      <td>NaN</td>\n",
       "      <td>NaN</td>\n",
       "      <td>NaN</td>\n",
       "      <td>NaN</td>\n",
       "      <td>NaN</td>\n",
       "      <td>NaN</td>\n",
       "      <td>NaN</td>\n",
       "      <td>1.0</td>\n",
       "    </tr>\n",
       "    <tr>\n",
       "      <th>12431</th>\n",
       "      <td>NaN</td>\n",
       "      <td>NaN</td>\n",
       "      <td>NaN</td>\n",
       "      <td>NaN</td>\n",
       "      <td>NaN</td>\n",
       "      <td>NaN</td>\n",
       "      <td>NaN</td>\n",
       "      <td>NaN</td>\n",
       "      <td>NaN</td>\n",
       "      <td>NaN</td>\n",
       "      <td>...</td>\n",
       "      <td>NaN</td>\n",
       "      <td>NaN</td>\n",
       "      <td>NaN</td>\n",
       "      <td>NaN</td>\n",
       "      <td>NaN</td>\n",
       "      <td>NaN</td>\n",
       "      <td>NaN</td>\n",
       "      <td>NaN</td>\n",
       "      <td>NaN</td>\n",
       "      <td>NaN</td>\n",
       "    </tr>\n",
       "  </tbody>\n",
       "</table>\n",
       "<p>5 rows × 1969 columns</p>\n",
       "</div>"
      ],
      "text/plain": [
       "productId   10002  10120  10123C  10124A  10124G  10125  10133  10135  11001  \\\n",
       "customerId                                                                     \n",
       "12347         NaN    NaN     NaN     NaN     NaN    NaN    NaN    NaN    NaN   \n",
       "12386         NaN    NaN     NaN     NaN     NaN    NaN    NaN    NaN    NaN   \n",
       "12395         NaN    NaN     NaN     NaN     NaN    NaN    NaN    NaN    NaN   \n",
       "12427         NaN    NaN     NaN     NaN     NaN    NaN    NaN    NaN    NaN   \n",
       "12431         NaN    NaN     NaN     NaN     NaN    NaN    NaN    NaN    NaN   \n",
       "\n",
       "productId   15034  ...   90214J  90214K  90214M  90214S  90214V  BANK CHARGES  \\\n",
       "customerId         ...                                                          \n",
       "12347         NaN  ...      NaN     NaN     NaN     NaN     NaN           NaN   \n",
       "12386         NaN  ...      NaN     NaN     NaN     NaN     NaN           NaN   \n",
       "12395         NaN  ...      NaN     NaN     NaN     NaN     NaN           NaN   \n",
       "12427         NaN  ...      NaN     NaN     NaN     NaN     NaN           NaN   \n",
       "12431         NaN  ...      NaN     NaN     NaN     NaN     NaN           NaN   \n",
       "\n",
       "productId   C2   D   M  POST  \n",
       "customerId                    \n",
       "12347      NaN NaN NaN   NaN  \n",
       "12386      NaN NaN NaN   NaN  \n",
       "12395      NaN NaN NaN   1.0  \n",
       "12427      NaN NaN NaN   1.0  \n",
       "12431      NaN NaN NaN   NaN  \n",
       "\n",
       "[5 rows x 1969 columns]"
      ]
     },
     "execution_count": 11,
     "metadata": {},
     "output_type": "execute_result"
    }
   ],
   "source": [
    "df_matrix = pd.pivot_table(data, values='purchase_count', index='customerId', columns='productId')\n",
    "df_matrix.head()"
   ]
  },
  {
   "cell_type": "code",
   "execution_count": 12,
   "metadata": {},
   "outputs": [
    {
     "name": "stdout",
     "output_type": "stream",
     "text": [
      "(559, 1969)\n"
     ]
    },
    {
     "data": {
      "text/html": [
       "<div>\n",
       "<style scoped>\n",
       "    .dataframe tbody tr th:only-of-type {\n",
       "        vertical-align: middle;\n",
       "    }\n",
       "\n",
       "    .dataframe tbody tr th {\n",
       "        vertical-align: top;\n",
       "    }\n",
       "\n",
       "    .dataframe thead th {\n",
       "        text-align: right;\n",
       "    }\n",
       "</style>\n",
       "<table border=\"1\" class=\"dataframe\">\n",
       "  <thead>\n",
       "    <tr style=\"text-align: right;\">\n",
       "      <th>productId</th>\n",
       "      <th>10002</th>\n",
       "      <th>10120</th>\n",
       "      <th>10123C</th>\n",
       "      <th>10124A</th>\n",
       "      <th>10124G</th>\n",
       "      <th>10125</th>\n",
       "      <th>10133</th>\n",
       "      <th>10135</th>\n",
       "      <th>11001</th>\n",
       "      <th>15034</th>\n",
       "      <th>...</th>\n",
       "      <th>90214J</th>\n",
       "      <th>90214K</th>\n",
       "      <th>90214M</th>\n",
       "      <th>90214S</th>\n",
       "      <th>90214V</th>\n",
       "      <th>BANK CHARGES</th>\n",
       "      <th>C2</th>\n",
       "      <th>D</th>\n",
       "      <th>M</th>\n",
       "      <th>POST</th>\n",
       "    </tr>\n",
       "    <tr>\n",
       "      <th>customerId</th>\n",
       "      <th></th>\n",
       "      <th></th>\n",
       "      <th></th>\n",
       "      <th></th>\n",
       "      <th></th>\n",
       "      <th></th>\n",
       "      <th></th>\n",
       "      <th></th>\n",
       "      <th></th>\n",
       "      <th></th>\n",
       "      <th></th>\n",
       "      <th></th>\n",
       "      <th></th>\n",
       "      <th></th>\n",
       "      <th></th>\n",
       "      <th></th>\n",
       "      <th></th>\n",
       "      <th></th>\n",
       "      <th></th>\n",
       "      <th></th>\n",
       "      <th></th>\n",
       "    </tr>\n",
       "  </thead>\n",
       "  <tbody>\n",
       "    <tr>\n",
       "      <th>12347</th>\n",
       "      <td>NaN</td>\n",
       "      <td>NaN</td>\n",
       "      <td>NaN</td>\n",
       "      <td>NaN</td>\n",
       "      <td>NaN</td>\n",
       "      <td>NaN</td>\n",
       "      <td>NaN</td>\n",
       "      <td>NaN</td>\n",
       "      <td>NaN</td>\n",
       "      <td>NaN</td>\n",
       "      <td>...</td>\n",
       "      <td>NaN</td>\n",
       "      <td>NaN</td>\n",
       "      <td>NaN</td>\n",
       "      <td>NaN</td>\n",
       "      <td>NaN</td>\n",
       "      <td>NaN</td>\n",
       "      <td>NaN</td>\n",
       "      <td>NaN</td>\n",
       "      <td>NaN</td>\n",
       "      <td>NaN</td>\n",
       "    </tr>\n",
       "    <tr>\n",
       "      <th>12386</th>\n",
       "      <td>NaN</td>\n",
       "      <td>NaN</td>\n",
       "      <td>NaN</td>\n",
       "      <td>NaN</td>\n",
       "      <td>NaN</td>\n",
       "      <td>NaN</td>\n",
       "      <td>NaN</td>\n",
       "      <td>NaN</td>\n",
       "      <td>NaN</td>\n",
       "      <td>NaN</td>\n",
       "      <td>...</td>\n",
       "      <td>NaN</td>\n",
       "      <td>NaN</td>\n",
       "      <td>NaN</td>\n",
       "      <td>NaN</td>\n",
       "      <td>NaN</td>\n",
       "      <td>NaN</td>\n",
       "      <td>NaN</td>\n",
       "      <td>NaN</td>\n",
       "      <td>NaN</td>\n",
       "      <td>NaN</td>\n",
       "    </tr>\n",
       "    <tr>\n",
       "      <th>12395</th>\n",
       "      <td>NaN</td>\n",
       "      <td>NaN</td>\n",
       "      <td>NaN</td>\n",
       "      <td>NaN</td>\n",
       "      <td>NaN</td>\n",
       "      <td>NaN</td>\n",
       "      <td>NaN</td>\n",
       "      <td>NaN</td>\n",
       "      <td>NaN</td>\n",
       "      <td>NaN</td>\n",
       "      <td>...</td>\n",
       "      <td>NaN</td>\n",
       "      <td>NaN</td>\n",
       "      <td>NaN</td>\n",
       "      <td>NaN</td>\n",
       "      <td>NaN</td>\n",
       "      <td>NaN</td>\n",
       "      <td>NaN</td>\n",
       "      <td>NaN</td>\n",
       "      <td>NaN</td>\n",
       "      <td>0.0</td>\n",
       "    </tr>\n",
       "    <tr>\n",
       "      <th>12427</th>\n",
       "      <td>NaN</td>\n",
       "      <td>NaN</td>\n",
       "      <td>NaN</td>\n",
       "      <td>NaN</td>\n",
       "      <td>NaN</td>\n",
       "      <td>NaN</td>\n",
       "      <td>NaN</td>\n",
       "      <td>NaN</td>\n",
       "      <td>NaN</td>\n",
       "      <td>NaN</td>\n",
       "      <td>...</td>\n",
       "      <td>NaN</td>\n",
       "      <td>NaN</td>\n",
       "      <td>NaN</td>\n",
       "      <td>NaN</td>\n",
       "      <td>NaN</td>\n",
       "      <td>NaN</td>\n",
       "      <td>NaN</td>\n",
       "      <td>NaN</td>\n",
       "      <td>NaN</td>\n",
       "      <td>0.0</td>\n",
       "    </tr>\n",
       "    <tr>\n",
       "      <th>12431</th>\n",
       "      <td>NaN</td>\n",
       "      <td>NaN</td>\n",
       "      <td>NaN</td>\n",
       "      <td>NaN</td>\n",
       "      <td>NaN</td>\n",
       "      <td>NaN</td>\n",
       "      <td>NaN</td>\n",
       "      <td>NaN</td>\n",
       "      <td>NaN</td>\n",
       "      <td>NaN</td>\n",
       "      <td>...</td>\n",
       "      <td>NaN</td>\n",
       "      <td>NaN</td>\n",
       "      <td>NaN</td>\n",
       "      <td>NaN</td>\n",
       "      <td>NaN</td>\n",
       "      <td>NaN</td>\n",
       "      <td>NaN</td>\n",
       "      <td>NaN</td>\n",
       "      <td>NaN</td>\n",
       "      <td>NaN</td>\n",
       "    </tr>\n",
       "  </tbody>\n",
       "</table>\n",
       "<p>5 rows × 1969 columns</p>\n",
       "</div>"
      ],
      "text/plain": [
       "productId   10002  10120  10123C  10124A  10124G  10125  10133  10135  11001  \\\n",
       "customerId                                                                     \n",
       "12347         NaN    NaN     NaN     NaN     NaN    NaN    NaN    NaN    NaN   \n",
       "12386         NaN    NaN     NaN     NaN     NaN    NaN    NaN    NaN    NaN   \n",
       "12395         NaN    NaN     NaN     NaN     NaN    NaN    NaN    NaN    NaN   \n",
       "12427         NaN    NaN     NaN     NaN     NaN    NaN    NaN    NaN    NaN   \n",
       "12431         NaN    NaN     NaN     NaN     NaN    NaN    NaN    NaN    NaN   \n",
       "\n",
       "productId   15034  ...   90214J  90214K  90214M  90214S  90214V  BANK CHARGES  \\\n",
       "customerId         ...                                                          \n",
       "12347         NaN  ...      NaN     NaN     NaN     NaN     NaN           NaN   \n",
       "12386         NaN  ...      NaN     NaN     NaN     NaN     NaN           NaN   \n",
       "12395         NaN  ...      NaN     NaN     NaN     NaN     NaN           NaN   \n",
       "12427         NaN  ...      NaN     NaN     NaN     NaN     NaN           NaN   \n",
       "12431         NaN  ...      NaN     NaN     NaN     NaN     NaN           NaN   \n",
       "\n",
       "productId   C2   D   M  POST  \n",
       "customerId                    \n",
       "12347      NaN NaN NaN   NaN  \n",
       "12386      NaN NaN NaN   NaN  \n",
       "12395      NaN NaN NaN   0.0  \n",
       "12427      NaN NaN NaN   0.0  \n",
       "12431      NaN NaN NaN   NaN  \n",
       "\n",
       "[5 rows x 1969 columns]"
      ]
     },
     "execution_count": 12,
     "metadata": {},
     "output_type": "execute_result"
    }
   ],
   "source": [
    "df_matrix_norm = (df_matrix-df_matrix.min())/(df_matrix.max()-df_matrix.min())\n",
    "print(df_matrix_norm.shape)\n",
    "df_matrix_norm.head()"
   ]
  },
  {
   "cell_type": "code",
   "execution_count": 13,
   "metadata": {},
   "outputs": [
    {
     "name": "stdout",
     "output_type": "stream",
     "text": [
      "(6476, 3)\n"
     ]
    },
    {
     "data": {
      "text/html": [
       "<div>\n",
       "<style scoped>\n",
       "    .dataframe tbody tr th:only-of-type {\n",
       "        vertical-align: middle;\n",
       "    }\n",
       "\n",
       "    .dataframe tbody tr th {\n",
       "        vertical-align: top;\n",
       "    }\n",
       "\n",
       "    .dataframe thead th {\n",
       "        text-align: right;\n",
       "    }\n",
       "</style>\n",
       "<table border=\"1\" class=\"dataframe\">\n",
       "  <thead>\n",
       "    <tr style=\"text-align: right;\">\n",
       "      <th></th>\n",
       "      <th>customerId</th>\n",
       "      <th>productId</th>\n",
       "      <th>scaled_purchase_freq</th>\n",
       "    </tr>\n",
       "  </thead>\n",
       "  <tbody>\n",
       "    <tr>\n",
       "      <th>3386</th>\n",
       "      <td>12748</td>\n",
       "      <td>10133</td>\n",
       "      <td>1.0</td>\n",
       "    </tr>\n",
       "    <tr>\n",
       "      <th>3680</th>\n",
       "      <td>15983</td>\n",
       "      <td>10133</td>\n",
       "      <td>0.0</td>\n",
       "    </tr>\n",
       "    <tr>\n",
       "      <th>3801</th>\n",
       "      <td>17259</td>\n",
       "      <td>10133</td>\n",
       "      <td>0.0</td>\n",
       "    </tr>\n",
       "    <tr>\n",
       "      <th>3901</th>\n",
       "      <td>18118</td>\n",
       "      <td>10133</td>\n",
       "      <td>0.0</td>\n",
       "    </tr>\n",
       "    <tr>\n",
       "      <th>7847</th>\n",
       "      <td>12682</td>\n",
       "      <td>15056BL</td>\n",
       "      <td>0.0</td>\n",
       "    </tr>\n",
       "  </tbody>\n",
       "</table>\n",
       "</div>"
      ],
      "text/plain": [
       "     customerId productId  scaled_purchase_freq\n",
       "3386      12748     10133                   1.0\n",
       "3680      15983     10133                   0.0\n",
       "3801      17259     10133                   0.0\n",
       "3901      18118     10133                   0.0\n",
       "7847      12682   15056BL                   0.0"
      ]
     },
     "execution_count": 13,
     "metadata": {},
     "output_type": "execute_result"
    }
   ],
   "source": [
    "d = df_matrix_norm.reset_index()\n",
    "d.index.names = ['scaled_purchase_freq']\n",
    "data_norm = pd.melt(d, id_vars=['customerId'], value_name='scaled_purchase_freq').dropna()\n",
    "print(data_norm.shape)\n",
    "data_norm.head()"
   ]
  },
  {
   "cell_type": "code",
   "execution_count": 14,
   "metadata": {},
   "outputs": [],
   "source": [
    "def normalize_data(data):\n",
    "    df_matrix = pd.pivot_table(data, values='purchase_count', index='customerId', columns='productId')\n",
    "    df_matrix_norm = (df_matrix-df_matrix.min())/(df_matrix.max()-df_matrix.min())\n",
    "    d = df_matrix_norm.reset_index()\n",
    "    d.index.names = ['scaled_purchase_freq']\n",
    "    return pd.melt(d, id_vars=['customerId'], value_name='scaled_purchase_freq').dropna()"
   ]
  },
  {
   "cell_type": "code",
   "execution_count": 15,
   "metadata": {},
   "outputs": [
    {
     "name": "stdout",
     "output_type": "stream",
     "text": [
      "((9675, 3), (2419, 3))\n"
     ]
    }
   ],
   "source": [
    "train, test = train_test_split(data, test_size = .2)\n",
    "print(train.shape, test.shape)"
   ]
  },
  {
   "cell_type": "code",
   "execution_count": 16,
   "metadata": {},
   "outputs": [],
   "source": [
    "\n",
    "train_data = tc.SFrame(train)\n",
    "test_data = tc.SFrame(test)"
   ]
  },
  {
   "cell_type": "code",
   "execution_count": 17,
   "metadata": {},
   "outputs": [
    {
     "data": {
      "text/html": [
       "<div style=\"max-height:1000px;max-width:1500px;overflow:auto;\"><table frame=\"box\" rules=\"cols\">\n",
       "    <tr>\n",
       "        <th style=\"padding-left: 1em; padding-right: 1em; text-align: center\">customerId</th>\n",
       "        <th style=\"padding-left: 1em; padding-right: 1em; text-align: center\">productId</th>\n",
       "        <th style=\"padding-left: 1em; padding-right: 1em; text-align: center\">purchase_count</th>\n",
       "    </tr>\n",
       "    <tr>\n",
       "        <td style=\"padding-left: 1em; padding-right: 1em; text-align: center; vertical-align: top\">16539</td>\n",
       "        <td style=\"padding-left: 1em; padding-right: 1em; text-align: center; vertical-align: top\">22855</td>\n",
       "        <td style=\"padding-left: 1em; padding-right: 1em; text-align: center; vertical-align: top\">1</td>\n",
       "    </tr>\n",
       "    <tr>\n",
       "        <td style=\"padding-left: 1em; padding-right: 1em; text-align: center; vertical-align: top\">15601</td>\n",
       "        <td style=\"padding-left: 1em; padding-right: 1em; text-align: center; vertical-align: top\">21520</td>\n",
       "        <td style=\"padding-left: 1em; padding-right: 1em; text-align: center; vertical-align: top\">1</td>\n",
       "    </tr>\n",
       "    <tr>\n",
       "        <td style=\"padding-left: 1em; padding-right: 1em; text-align: center; vertical-align: top\">17341</td>\n",
       "        <td style=\"padding-left: 1em; padding-right: 1em; text-align: center; vertical-align: top\">21376</td>\n",
       "        <td style=\"padding-left: 1em; padding-right: 1em; text-align: center; vertical-align: top\">1</td>\n",
       "    </tr>\n",
       "    <tr>\n",
       "        <td style=\"padding-left: 1em; padding-right: 1em; text-align: center; vertical-align: top\">16150</td>\n",
       "        <td style=\"padding-left: 1em; padding-right: 1em; text-align: center; vertical-align: top\">22969</td>\n",
       "        <td style=\"padding-left: 1em; padding-right: 1em; text-align: center; vertical-align: top\">1</td>\n",
       "    </tr>\n",
       "    <tr>\n",
       "        <td style=\"padding-left: 1em; padding-right: 1em; text-align: center; vertical-align: top\">13715</td>\n",
       "        <td style=\"padding-left: 1em; padding-right: 1em; text-align: center; vertical-align: top\">21042</td>\n",
       "        <td style=\"padding-left: 1em; padding-right: 1em; text-align: center; vertical-align: top\">1</td>\n",
       "    </tr>\n",
       "    <tr>\n",
       "        <td style=\"padding-left: 1em; padding-right: 1em; text-align: center; vertical-align: top\">17596</td>\n",
       "        <td style=\"padding-left: 1em; padding-right: 1em; text-align: center; vertical-align: top\">22551</td>\n",
       "        <td style=\"padding-left: 1em; padding-right: 1em; text-align: center; vertical-align: top\">1</td>\n",
       "    </tr>\n",
       "    <tr>\n",
       "        <td style=\"padding-left: 1em; padding-right: 1em; text-align: center; vertical-align: top\">14213</td>\n",
       "        <td style=\"padding-left: 1em; padding-right: 1em; text-align: center; vertical-align: top\">22942</td>\n",
       "        <td style=\"padding-left: 1em; padding-right: 1em; text-align: center; vertical-align: top\">1</td>\n",
       "    </tr>\n",
       "    <tr>\n",
       "        <td style=\"padding-left: 1em; padding-right: 1em; text-align: center; vertical-align: top\">13523</td>\n",
       "        <td style=\"padding-left: 1em; padding-right: 1em; text-align: center; vertical-align: top\">22180</td>\n",
       "        <td style=\"padding-left: 1em; padding-right: 1em; text-align: center; vertical-align: top\">1</td>\n",
       "    </tr>\n",
       "    <tr>\n",
       "        <td style=\"padding-left: 1em; padding-right: 1em; text-align: center; vertical-align: top\">12967</td>\n",
       "        <td style=\"padding-left: 1em; padding-right: 1em; text-align: center; vertical-align: top\">21086</td>\n",
       "        <td style=\"padding-left: 1em; padding-right: 1em; text-align: center; vertical-align: top\">1</td>\n",
       "    </tr>\n",
       "    <tr>\n",
       "        <td style=\"padding-left: 1em; padding-right: 1em; text-align: center; vertical-align: top\">16016</td>\n",
       "        <td style=\"padding-left: 1em; padding-right: 1em; text-align: center; vertical-align: top\">21916</td>\n",
       "        <td style=\"padding-left: 1em; padding-right: 1em; text-align: center; vertical-align: top\">1</td>\n",
       "    </tr>\n",
       "</table>\n",
       "[9675 rows x 3 columns]<br/>Note: Only the head of the SFrame is printed.<br/>You can use print_rows(num_rows=m, num_columns=n) to print more rows and columns.\n",
       "</div>"
      ],
      "text/plain": [
       "Columns:\n",
       "\tcustomerId\tstr\n",
       "\tproductId\tstr\n",
       "\tpurchase_count\tint\n",
       "\n",
       "Rows: 9675\n",
       "\n",
       "Data:\n",
       "+------------+-----------+----------------+\n",
       "| customerId | productId | purchase_count |\n",
       "+------------+-----------+----------------+\n",
       "|   16539    |   22855   |       1        |\n",
       "|   15601    |   21520   |       1        |\n",
       "|   17341    |   21376   |       1        |\n",
       "|   16150    |   22969   |       1        |\n",
       "|   13715    |   21042   |       1        |\n",
       "|   17596    |   22551   |       1        |\n",
       "|   14213    |   22942   |       1        |\n",
       "|   13523    |   22180   |       1        |\n",
       "|   12967    |   21086   |       1        |\n",
       "|   16016    |   21916   |       1        |\n",
       "+------------+-----------+----------------+\n",
       "[9675 rows x 3 columns]\n",
       "Note: Only the head of the SFrame is printed.\n",
       "You can use print_rows(num_rows=m, num_columns=n) to print more rows and columns."
      ]
     },
     "execution_count": 17,
     "metadata": {},
     "output_type": "execute_result"
    }
   ],
   "source": [
    "train_data"
   ]
  },
  {
   "cell_type": "code",
   "execution_count": 18,
   "metadata": {},
   "outputs": [
    {
     "data": {
      "text/html": [
       "<div style=\"max-height:1000px;max-width:1500px;overflow:auto;\"><table frame=\"box\" rules=\"cols\">\n",
       "    <tr>\n",
       "        <th style=\"padding-left: 1em; padding-right: 1em; text-align: center\">customerId</th>\n",
       "        <th style=\"padding-left: 1em; padding-right: 1em; text-align: center\">productId</th>\n",
       "        <th style=\"padding-left: 1em; padding-right: 1em; text-align: center\">purchase_count</th>\n",
       "    </tr>\n",
       "    <tr>\n",
       "        <td style=\"padding-left: 1em; padding-right: 1em; text-align: center; vertical-align: top\">15716</td>\n",
       "        <td style=\"padding-left: 1em; padding-right: 1em; text-align: center; vertical-align: top\">22572</td>\n",
       "        <td style=\"padding-left: 1em; padding-right: 1em; text-align: center; vertical-align: top\">1</td>\n",
       "    </tr>\n",
       "    <tr>\n",
       "        <td style=\"padding-left: 1em; padding-right: 1em; text-align: center; vertical-align: top\">14307</td>\n",
       "        <td style=\"padding-left: 1em; padding-right: 1em; text-align: center; vertical-align: top\">22914</td>\n",
       "        <td style=\"padding-left: 1em; padding-right: 1em; text-align: center; vertical-align: top\">1</td>\n",
       "    </tr>\n",
       "    <tr>\n",
       "        <td style=\"padding-left: 1em; padding-right: 1em; text-align: center; vertical-align: top\">12921</td>\n",
       "        <td style=\"padding-left: 1em; padding-right: 1em; text-align: center; vertical-align: top\">22748</td>\n",
       "        <td style=\"padding-left: 1em; padding-right: 1em; text-align: center; vertical-align: top\">1</td>\n",
       "    </tr>\n",
       "    <tr>\n",
       "        <td style=\"padding-left: 1em; padding-right: 1em; text-align: center; vertical-align: top\">13013</td>\n",
       "        <td style=\"padding-left: 1em; padding-right: 1em; text-align: center; vertical-align: top\">21216</td>\n",
       "        <td style=\"padding-left: 1em; padding-right: 1em; text-align: center; vertical-align: top\">1</td>\n",
       "    </tr>\n",
       "    <tr>\n",
       "        <td style=\"padding-left: 1em; padding-right: 1em; text-align: center; vertical-align: top\">14449</td>\n",
       "        <td style=\"padding-left: 1em; padding-right: 1em; text-align: center; vertical-align: top\">22383</td>\n",
       "        <td style=\"padding-left: 1em; padding-right: 1em; text-align: center; vertical-align: top\">1</td>\n",
       "    </tr>\n",
       "    <tr>\n",
       "        <td style=\"padding-left: 1em; padding-right: 1em; text-align: center; vertical-align: top\">16140</td>\n",
       "        <td style=\"padding-left: 1em; padding-right: 1em; text-align: center; vertical-align: top\">22409</td>\n",
       "        <td style=\"padding-left: 1em; padding-right: 1em; text-align: center; vertical-align: top\">1</td>\n",
       "    </tr>\n",
       "    <tr>\n",
       "        <td style=\"padding-left: 1em; padding-right: 1em; text-align: center; vertical-align: top\">17884</td>\n",
       "        <td style=\"padding-left: 1em; padding-right: 1em; text-align: center; vertical-align: top\">22570</td>\n",
       "        <td style=\"padding-left: 1em; padding-right: 1em; text-align: center; vertical-align: top\">1</td>\n",
       "    </tr>\n",
       "    <tr>\n",
       "        <td style=\"padding-left: 1em; padding-right: 1em; text-align: center; vertical-align: top\">16891</td>\n",
       "        <td style=\"padding-left: 1em; padding-right: 1em; text-align: center; vertical-align: top\">22851</td>\n",
       "        <td style=\"padding-left: 1em; padding-right: 1em; text-align: center; vertical-align: top\">1</td>\n",
       "    </tr>\n",
       "    <tr>\n",
       "        <td style=\"padding-left: 1em; padding-right: 1em; text-align: center; vertical-align: top\">14404</td>\n",
       "        <td style=\"padding-left: 1em; padding-right: 1em; text-align: center; vertical-align: top\">22423</td>\n",
       "        <td style=\"padding-left: 1em; padding-right: 1em; text-align: center; vertical-align: top\">1</td>\n",
       "    </tr>\n",
       "    <tr>\n",
       "        <td style=\"padding-left: 1em; padding-right: 1em; text-align: center; vertical-align: top\">16402</td>\n",
       "        <td style=\"padding-left: 1em; padding-right: 1em; text-align: center; vertical-align: top\">22638</td>\n",
       "        <td style=\"padding-left: 1em; padding-right: 1em; text-align: center; vertical-align: top\">1</td>\n",
       "    </tr>\n",
       "</table>\n",
       "[2419 rows x 3 columns]<br/>Note: Only the head of the SFrame is printed.<br/>You can use print_rows(num_rows=m, num_columns=n) to print more rows and columns.\n",
       "</div>"
      ],
      "text/plain": [
       "Columns:\n",
       "\tcustomerId\tstr\n",
       "\tproductId\tstr\n",
       "\tpurchase_count\tint\n",
       "\n",
       "Rows: 2419\n",
       "\n",
       "Data:\n",
       "+------------+-----------+----------------+\n",
       "| customerId | productId | purchase_count |\n",
       "+------------+-----------+----------------+\n",
       "|   15716    |   22572   |       1        |\n",
       "|   14307    |   22914   |       1        |\n",
       "|   12921    |   22748   |       1        |\n",
       "|   13013    |   21216   |       1        |\n",
       "|   14449    |   22383   |       1        |\n",
       "|   16140    |   22409   |       1        |\n",
       "|   17884    |   22570   |       1        |\n",
       "|   16891    |   22851   |       1        |\n",
       "|   14404    |   22423   |       1        |\n",
       "|   16402    |   22638   |       1        |\n",
       "+------------+-----------+----------------+\n",
       "[2419 rows x 3 columns]\n",
       "Note: Only the head of the SFrame is printed.\n",
       "You can use print_rows(num_rows=m, num_columns=n) to print more rows and columns."
      ]
     },
     "execution_count": 18,
     "metadata": {},
     "output_type": "execute_result"
    }
   ],
   "source": [
    "test_data"
   ]
  },
  {
   "cell_type": "code",
   "execution_count": 19,
   "metadata": {},
   "outputs": [],
   "source": [
    "def split_data(data):\n",
    "    '''\n",
    "    Splits dataset into training and test set.\n",
    "    \n",
    "    Args:\n",
    "        data (pandas.DataFrame)\n",
    "        \n",
    "    Returns\n",
    "        train_data (tc.SFrame)\n",
    "        test_data (tc.SFrame)\n",
    "    '''\n",
    "    train, test = train_test_split(data, test_size = .2)\n",
    "    train_data = tc.SFrame(train)\n",
    "    test_data = tc.SFrame(test)\n",
    "    return train_data, test_data"
   ]
  },
  {
   "cell_type": "code",
   "execution_count": 20,
   "metadata": {},
   "outputs": [],
   "source": [
    "train_data_dummy, test_data_dummy = split_data(data_dummy)\n",
    "train_data_norm, test_data_norm = split_data(data_norm)"
   ]
  },
  {
   "cell_type": "code",
   "execution_count": 21,
   "metadata": {},
   "outputs": [],
   "source": [
    "user_id = 'customerId'\n",
    "item_id = 'productId'\n",
    "target = 'purchase_count'\n",
    "users_to_recommend = list(transactions[user_id])\n",
    "n_rec = 10 # number of items to recommend\n",
    "n_display = 30"
   ]
  },
  {
   "cell_type": "code",
   "execution_count": 22,
   "metadata": {},
   "outputs": [
    {
     "data": {
      "text/html": [
       "<pre>Preparing data set.</pre>"
      ],
      "text/plain": [
       "Preparing data set."
      ]
     },
     "metadata": {},
     "output_type": "display_data"
    },
    {
     "data": {
      "text/html": [
       "<pre>    Data has 9675 observations with 553 users and 1841 items.</pre>"
      ],
      "text/plain": [
       "    Data has 9675 observations with 553 users and 1841 items."
      ]
     },
     "metadata": {},
     "output_type": "display_data"
    },
    {
     "data": {
      "text/html": [
       "<pre>    Data prepared in: 0.108856s</pre>"
      ],
      "text/plain": [
       "    Data prepared in: 0.108856s"
      ]
     },
     "metadata": {},
     "output_type": "display_data"
    },
    {
     "data": {
      "text/html": [
       "<pre>9675 observations to process; with 1841 unique items.</pre>"
      ],
      "text/plain": [
       "9675 observations to process; with 1841 unique items."
      ]
     },
     "metadata": {},
     "output_type": "display_data"
    }
   ],
   "source": [
    "popularity_model = tc.popularity_recommender.create(train_data, \n",
    "                                                    user_id=user_id, \n",
    "                                                    item_id=item_id, \n",
    "                                                    target=target)"
   ]
  },
  {
   "cell_type": "code",
   "execution_count": 23,
   "metadata": {},
   "outputs": [
    {
     "name": "stdout",
     "output_type": "stream",
     "text": [
      "+------------+-----------+---------------+------+\n",
      "| customerId | productId |     score     | rank |\n",
      "+------------+-----------+---------------+------+\n",
      "|   14176    |   22803   |      8.0      |  1   |\n",
      "|   14176    |   21068   | 5.66666666667 |  2   |\n",
      "|   14176    |   21448   |      5.0      |  3   |\n",
      "|   14176    |   84827   |      4.0      |  4   |\n",
      "|   14176    |   21071   | 3.33333333333 |  5   |\n",
      "|   14176    |   21730   | 3.28571428571 |  6   |\n",
      "|   14176    |   21650   |      3.0      |  7   |\n",
      "|   14176    |   21651   |      3.0      |  8   |\n",
      "|   14176    |   21415   |      3.0      |  9   |\n",
      "|   14176    |   90082B  |      3.0      |  10  |\n",
      "|   13305    |   22803   |      8.0      |  1   |\n",
      "|   13305    |   21068   | 5.66666666667 |  2   |\n",
      "|   13305    |   21448   |      5.0      |  3   |\n",
      "|   13305    |   84827   |      4.0      |  4   |\n",
      "|   13305    |   21071   | 3.33333333333 |  5   |\n",
      "|   13305    |   21730   | 3.28571428571 |  6   |\n",
      "|   13305    |   21650   |      3.0      |  7   |\n",
      "|   13305    |   21651   |      3.0      |  8   |\n",
      "|   13305    |   21415   |      3.0      |  9   |\n",
      "|   13305    |   90082B  |      3.0      |  10  |\n",
      "|   14679    |   22803   |      8.0      |  1   |\n",
      "|   14679    |   21068   | 5.66666666667 |  2   |\n",
      "|   14679    |   21448   |      5.0      |  3   |\n",
      "|   14679    |   84827   |      4.0      |  4   |\n",
      "|   14679    |   21071   | 3.33333333333 |  5   |\n",
      "|   14679    |   21730   | 3.28571428571 |  6   |\n",
      "|   14679    |   21650   |      3.0      |  7   |\n",
      "|   14679    |   21651   |      3.0      |  8   |\n",
      "|   14679    |   21415   |      3.0      |  9   |\n",
      "|   14679    |   90082B  |      3.0      |  10  |\n",
      "+------------+-----------+---------------+------+\n",
      "[5590 rows x 4 columns]\n",
      "\n"
     ]
    }
   ],
   "source": [
    "# Get recommendations for a list of users to recommend (from customers file)\n",
    "# Printed below is head / top 30 rows for first 3 customers with 10 recommendations each\n",
    "\n",
    "popularity_recomm = popularity_model.recommend(users=users_to_recommend, k=n_rec)\n",
    "popularity_recomm.print_rows(n_display)"
   ]
  },
  {
   "cell_type": "code",
   "execution_count": 24,
   "metadata": {},
   "outputs": [],
   "source": [
    "def model(train_data, name, user_id, item_id, target, users_to_recommend, n_rec, n_display):\n",
    "    if name == 'popularity':\n",
    "        model = tc.popularity_recommender.create(train_data, \n",
    "                                                    user_id=user_id, \n",
    "                                                    item_id=item_id, \n",
    "                                                    target=target)\n",
    "    elif name == 'cosine':\n",
    "        model = tc.item_similarity_recommender.create(train_data, \n",
    "                                                    user_id=user_id, \n",
    "                                                    item_id=item_id, \n",
    "                                                    target=target, \n",
    "                                                    similarity_type='cosine')\n",
    "    elif name == 'pearson':\n",
    "        model = tc.item_similarity_recommender.create(train_data, \n",
    "                                                    user_id=user_id, \n",
    "                                                    item_id=item_id, \n",
    "                                                    target=target, \n",
    "                                                    similarity_type='pearson')\n",
    "        \n",
    "    recom = model.recommend(users=users_to_recommend, k=n_rec)\n",
    "    recom.print_rows(n_display)\n",
    "    return model"
   ]
  },
  {
   "cell_type": "code",
   "execution_count": 25,
   "metadata": {},
   "outputs": [],
   "source": [
    "user_id = 'customerId'\n",
    "item_id = 'productId'\n",
    "users_to_recommend = list(customers[user_id])\n",
    "n_rec = 10 # number of items to recommend\n",
    "n_display = 30 # to print the head / first few rows in a defined dataset"
   ]
  },
  {
   "cell_type": "code",
   "execution_count": 26,
   "metadata": {},
   "outputs": [
    {
     "data": {
      "text/html": [
       "<pre>Warning: Ignoring columns purchase_count;</pre>"
      ],
      "text/plain": [
       "Warning: Ignoring columns purchase_count;"
      ]
     },
     "metadata": {},
     "output_type": "display_data"
    },
    {
     "data": {
      "text/html": [
       "<pre>    To use these columns in scoring predictions, use a model that allows the use of additional features.</pre>"
      ],
      "text/plain": [
       "    To use these columns in scoring predictions, use a model that allows the use of additional features."
      ]
     },
     "metadata": {},
     "output_type": "display_data"
    },
    {
     "data": {
      "text/html": [
       "<pre>Preparing data set.</pre>"
      ],
      "text/plain": [
       "Preparing data set."
      ]
     },
     "metadata": {},
     "output_type": "display_data"
    },
    {
     "data": {
      "text/html": [
       "<pre>    Data has 9675 observations with 553 users and 1857 items.</pre>"
      ],
      "text/plain": [
       "    Data has 9675 observations with 553 users and 1857 items."
      ]
     },
     "metadata": {},
     "output_type": "display_data"
    },
    {
     "data": {
      "text/html": [
       "<pre>    Data prepared in: 0.066335s</pre>"
      ],
      "text/plain": [
       "    Data prepared in: 0.066335s"
      ]
     },
     "metadata": {},
     "output_type": "display_data"
    },
    {
     "data": {
      "text/html": [
       "<pre>9675 observations to process; with 1857 unique items.</pre>"
      ],
      "text/plain": [
       "9675 observations to process; with 1857 unique items."
      ]
     },
     "metadata": {},
     "output_type": "display_data"
    },
    {
     "name": "stdout",
     "output_type": "stream",
     "text": [
      "+------------+-----------+-------+------+\n",
      "| customerId | productId | score | rank |\n",
      "+------------+-----------+-------+------+\n",
      "|   14176    |   22837   |  1.0  |  1   |\n",
      "|   14176    |   22635   |  1.0  |  2   |\n",
      "|   14176    |   20679   |  1.0  |  3   |\n",
      "|   14176    |   82582   |  1.0  |  4   |\n",
      "|   14176    |   21467   |  1.0  |  5   |\n",
      "|   14176    |   21930   |  1.0  |  6   |\n",
      "|   14176    |   84347   |  1.0  |  7   |\n",
      "|   14176    |   21464   |  1.0  |  8   |\n",
      "|   14176    |   22800   |  1.0  |  9   |\n",
      "|   14176    |   22144   |  1.0  |  10  |\n",
      "|   13305    |   22837   |  1.0  |  1   |\n",
      "|   13305    |   22635   |  1.0  |  2   |\n",
      "|   13305    |   20679   |  1.0  |  3   |\n",
      "|   13305    |   82582   |  1.0  |  4   |\n",
      "|   13305    |   21467   |  1.0  |  5   |\n",
      "|   13305    |   21930   |  1.0  |  6   |\n",
      "|   13305    |   84347   |  1.0  |  7   |\n",
      "|   13305    |   21464   |  1.0  |  8   |\n",
      "|   13305    |   22800   |  1.0  |  9   |\n",
      "|   13305    |   22144   |  1.0  |  10  |\n",
      "|   14679    |   22837   |  1.0  |  1   |\n",
      "|   14679    |   22635   |  1.0  |  2   |\n",
      "|   14679    |   20679   |  1.0  |  3   |\n",
      "|   14679    |   82582   |  1.0  |  4   |\n",
      "|   14679    |   21467   |  1.0  |  5   |\n",
      "|   14679    |   21930   |  1.0  |  6   |\n",
      "|   14679    |   84347   |  1.0  |  7   |\n",
      "|   14679    |   21464   |  1.0  |  8   |\n",
      "|   14679    |   22800   |  1.0  |  9   |\n",
      "|   14679    |   22144   |  1.0  |  10  |\n",
      "+------------+-----------+-------+------+\n",
      "[5590 rows x 4 columns]\n",
      "\n"
     ]
    }
   ],
   "source": [
    "name = 'popularity'\n",
    "target = 'purchase_dummy'\n",
    "pop_dummy = model(train_data_dummy, name, user_id, item_id, target, users_to_recommend, n_rec, n_display)"
   ]
  },
  {
   "cell_type": "code",
   "execution_count": 27,
   "metadata": {},
   "outputs": [
    {
     "data": {
      "text/html": [
       "<pre>Preparing data set.</pre>"
      ],
      "text/plain": [
       "Preparing data set."
      ]
     },
     "metadata": {},
     "output_type": "display_data"
    },
    {
     "data": {
      "text/html": [
       "<pre>    Data has 5180 observations with 519 users and 502 items.</pre>"
      ],
      "text/plain": [
       "    Data has 5180 observations with 519 users and 502 items."
      ]
     },
     "metadata": {},
     "output_type": "display_data"
    },
    {
     "data": {
      "text/html": [
       "<pre>    Data prepared in: 0.013839s</pre>"
      ],
      "text/plain": [
       "    Data prepared in: 0.013839s"
      ]
     },
     "metadata": {},
     "output_type": "display_data"
    },
    {
     "data": {
      "text/html": [
       "<pre>5180 observations to process; with 502 unique items.</pre>"
      ],
      "text/plain": [
       "5180 observations to process; with 502 unique items."
      ]
     },
     "metadata": {},
     "output_type": "display_data"
    },
    {
     "name": "stdout",
     "output_type": "stream",
     "text": [
      "+------------+-----------+----------------+------+\n",
      "| customerId | productId |     score      | rank |\n",
      "+------------+-----------+----------------+------+\n",
      "|   14176    |   47471   |      1.0       |  1   |\n",
      "|   14176    |   22649   |      1.0       |  2   |\n",
      "|   14176    |   90082D  |      1.0       |  3   |\n",
      "|   14176    |   22211   |      1.0       |  4   |\n",
      "|   14176    |   22200   |      1.0       |  5   |\n",
      "|   14176    |   84625C  |      1.0       |  6   |\n",
      "|   14176    |   22535   |      1.0       |  7   |\n",
      "|   14176    |   21192   | 0.666666666667 |  8   |\n",
      "|   14176    |   20986   | 0.666666666667 |  9   |\n",
      "|   14176    |   35953   | 0.666666666667 |  10  |\n",
      "|   13305    |   47471   |      1.0       |  1   |\n",
      "|   13305    |   22649   |      1.0       |  2   |\n",
      "|   13305    |   90082D  |      1.0       |  3   |\n",
      "|   13305    |   22211   |      1.0       |  4   |\n",
      "|   13305    |   22200   |      1.0       |  5   |\n",
      "|   13305    |   84625C  |      1.0       |  6   |\n",
      "|   13305    |   22535   |      1.0       |  7   |\n",
      "|   13305    |   21192   | 0.666666666667 |  8   |\n",
      "|   13305    |   20986   | 0.666666666667 |  9   |\n",
      "|   13305    |   35953   | 0.666666666667 |  10  |\n",
      "|   14679    |   47471   |      1.0       |  1   |\n",
      "|   14679    |   22649   |      1.0       |  2   |\n",
      "|   14679    |   90082D  |      1.0       |  3   |\n",
      "|   14679    |   22211   |      1.0       |  4   |\n",
      "|   14679    |   22200   |      1.0       |  5   |\n",
      "|   14679    |   84625C  |      1.0       |  6   |\n",
      "|   14679    |   22535   |      1.0       |  7   |\n",
      "|   14679    |   21192   | 0.666666666667 |  8   |\n",
      "|   14679    |   20986   | 0.666666666667 |  9   |\n",
      "|   14679    |   35953   | 0.666666666667 |  10  |\n",
      "+------------+-----------+----------------+------+\n",
      "[5590 rows x 4 columns]\n",
      "\n"
     ]
    }
   ],
   "source": [
    "name = 'popularity'\n",
    "target = 'scaled_purchase_freq'\n",
    "pop_norm = model(train_data_norm, name, user_id, item_id, target, users_to_recommend, n_rec, n_display)"
   ]
  },
  {
   "cell_type": "code",
   "execution_count": 28,
   "metadata": {},
   "outputs": [
    {
     "data": {
      "text/plain": [
       "productId\n",
       "22803     8.000000\n",
       "21068     5.666667\n",
       "21448     5.000000\n",
       "84827     4.000000\n",
       "21071     3.333333\n",
       "21730     3.285714\n",
       "21785     3.000000\n",
       "90082B    3.000000\n",
       "21651     3.000000\n",
       "21650     3.000000\n",
       "90199C    3.000000\n",
       "21415     3.000000\n",
       "21871     2.857143\n",
       "79000     2.500000\n",
       "37370     2.363636\n",
       "70007     2.250000\n",
       "82483     2.166667\n",
       "21090     2.000000\n",
       "21812     2.000000\n",
       "47580     2.000000\n",
       "Name: purchase_count, dtype: float64"
      ]
     },
     "execution_count": 28,
     "metadata": {},
     "output_type": "execute_result"
    }
   ],
   "source": [
    "train.groupby(by=item_id)['purchase_count'].mean().sort_values(ascending=False).head(20)"
   ]
  },
  {
   "cell_type": "code",
   "execution_count": 29,
   "metadata": {},
   "outputs": [
    {
     "data": {
      "text/html": [
       "<pre>Preparing data set.</pre>"
      ],
      "text/plain": [
       "Preparing data set."
      ]
     },
     "metadata": {},
     "output_type": "display_data"
    },
    {
     "data": {
      "text/html": [
       "<pre>    Data has 9675 observations with 553 users and 1841 items.</pre>"
      ],
      "text/plain": [
       "    Data has 9675 observations with 553 users and 1841 items."
      ]
     },
     "metadata": {},
     "output_type": "display_data"
    },
    {
     "data": {
      "text/html": [
       "<pre>    Data prepared in: 0.025153s</pre>"
      ],
      "text/plain": [
       "    Data prepared in: 0.025153s"
      ]
     },
     "metadata": {},
     "output_type": "display_data"
    },
    {
     "data": {
      "text/html": [
       "<pre>Training model from provided data.</pre>"
      ],
      "text/plain": [
       "Training model from provided data."
      ]
     },
     "metadata": {},
     "output_type": "display_data"
    },
    {
     "data": {
      "text/html": [
       "<pre>Gathering per-item and per-user statistics.</pre>"
      ],
      "text/plain": [
       "Gathering per-item and per-user statistics."
      ]
     },
     "metadata": {},
     "output_type": "display_data"
    },
    {
     "data": {
      "text/html": [
       "<pre>+--------------------------------+------------+</pre>"
      ],
      "text/plain": [
       "+--------------------------------+------------+"
      ]
     },
     "metadata": {},
     "output_type": "display_data"
    },
    {
     "data": {
      "text/html": [
       "<pre>| Elapsed Time (Item Statistics) | % Complete |</pre>"
      ],
      "text/plain": [
       "| Elapsed Time (Item Statistics) | % Complete |"
      ]
     },
     "metadata": {},
     "output_type": "display_data"
    },
    {
     "data": {
      "text/html": [
       "<pre>+--------------------------------+------------+</pre>"
      ],
      "text/plain": [
       "+--------------------------------+------------+"
      ]
     },
     "metadata": {},
     "output_type": "display_data"
    },
    {
     "data": {
      "text/html": [
       "<pre>| 5.211ms                        | 100        |</pre>"
      ],
      "text/plain": [
       "| 5.211ms                        | 100        |"
      ]
     },
     "metadata": {},
     "output_type": "display_data"
    },
    {
     "data": {
      "text/html": [
       "<pre>+--------------------------------+------------+</pre>"
      ],
      "text/plain": [
       "+--------------------------------+------------+"
      ]
     },
     "metadata": {},
     "output_type": "display_data"
    },
    {
     "data": {
      "text/html": [
       "<pre>Setting up lookup tables.</pre>"
      ],
      "text/plain": [
       "Setting up lookup tables."
      ]
     },
     "metadata": {},
     "output_type": "display_data"
    },
    {
     "data": {
      "text/html": [
       "<pre>Processing data in one pass using dense lookup tables.</pre>"
      ],
      "text/plain": [
       "Processing data in one pass using dense lookup tables."
      ]
     },
     "metadata": {},
     "output_type": "display_data"
    },
    {
     "data": {
      "text/html": [
       "<pre>+-------------------------------------+------------------+-----------------+</pre>"
      ],
      "text/plain": [
       "+-------------------------------------+------------------+-----------------+"
      ]
     },
     "metadata": {},
     "output_type": "display_data"
    },
    {
     "data": {
      "text/html": [
       "<pre>| Elapsed Time (Constructing Lookups) | Total % Complete | Items Processed |</pre>"
      ],
      "text/plain": [
       "| Elapsed Time (Constructing Lookups) | Total % Complete | Items Processed |"
      ]
     },
     "metadata": {},
     "output_type": "display_data"
    },
    {
     "data": {
      "text/html": [
       "<pre>+-------------------------------------+------------------+-----------------+</pre>"
      ],
      "text/plain": [
       "+-------------------------------------+------------------+-----------------+"
      ]
     },
     "metadata": {},
     "output_type": "display_data"
    },
    {
     "data": {
      "text/html": [
       "<pre>| 75.041ms                            | 0                | 1               |</pre>"
      ],
      "text/plain": [
       "| 75.041ms                            | 0                | 1               |"
      ]
     },
     "metadata": {},
     "output_type": "display_data"
    },
    {
     "data": {
      "text/html": [
       "<pre>| 120.374ms                           | 100              | 1841            |</pre>"
      ],
      "text/plain": [
       "| 120.374ms                           | 100              | 1841            |"
      ]
     },
     "metadata": {},
     "output_type": "display_data"
    },
    {
     "data": {
      "text/html": [
       "<pre>+-------------------------------------+------------------+-----------------+</pre>"
      ],
      "text/plain": [
       "+-------------------------------------+------------------+-----------------+"
      ]
     },
     "metadata": {},
     "output_type": "display_data"
    },
    {
     "data": {
      "text/html": [
       "<pre>Finalizing lookup tables.</pre>"
      ],
      "text/plain": [
       "Finalizing lookup tables."
      ]
     },
     "metadata": {},
     "output_type": "display_data"
    },
    {
     "data": {
      "text/html": [
       "<pre>Generating candidate set for working with new users.</pre>"
      ],
      "text/plain": [
       "Generating candidate set for working with new users."
      ]
     },
     "metadata": {},
     "output_type": "display_data"
    },
    {
     "data": {
      "text/html": [
       "<pre>Finished training in 1.12507s</pre>"
      ],
      "text/plain": [
       "Finished training in 1.12507s"
      ]
     },
     "metadata": {},
     "output_type": "display_data"
    },
    {
     "name": "stdout",
     "output_type": "stream",
     "text": [
      "+------------+-----------+-----------------+------+\n",
      "| customerId | productId |      score      | rank |\n",
      "+------------+-----------+-----------------+------+\n",
      "|   14176    |   22809   |  0.107370361686 |  1   |\n",
      "|   14176    |   21110   |  0.106541872025 |  2   |\n",
      "|   14176    |   22073   |  0.100222967565 |  3   |\n",
      "|   14176    |   22068   | 0.0984775349498 |  4   |\n",
      "|   14176    |   22513   | 0.0944911241531 |  5   |\n",
      "|   14176    |   71496A  | 0.0944911241531 |  6   |\n",
      "|   14176    |   78124   | 0.0944911241531 |  7   |\n",
      "|   14176    |   84509A  | 0.0913298279047 |  8   |\n",
      "|   14176    |   21358   | 0.0818317085505 |  9   |\n",
      "|   14176    |   82581   | 0.0804065689445 |  10  |\n",
      "|   13305    |   72351B  |  0.115470051765 |  1   |\n",
      "|   13305    |   22680   |  0.115470051765 |  2   |\n",
      "|   13305    |   22252   |       0.1       |  3   |\n",
      "|   13305    |   21640   |       0.1       |  4   |\n",
      "|   13305    |   22610   |       0.1       |  5   |\n",
      "|   13305    |   21638   |       0.1       |  6   |\n",
      "|   13305    |   22251   |       0.1       |  7   |\n",
      "|   13305    |   22116   |       0.1       |  8   |\n",
      "|   13305    |   46000P  |       0.1       |  9   |\n",
      "|   13305    |   21906   |  0.089442718029 |  10  |\n",
      "|   14679    |   17021   |       0.5       |  1   |\n",
      "|   14679    |   22189   |  0.133630633354 |  2   |\n",
      "|   14679    |   21916   |       0.0       |  3   |\n",
      "|   14679    |   21086   |       0.0       |  4   |\n",
      "|   14679    |   22180   |       0.0       |  5   |\n",
      "|   14679    |   22942   |       0.0       |  6   |\n",
      "|   14679    |   22551   |       0.0       |  7   |\n",
      "|   14679    |   21042   |       0.0       |  8   |\n",
      "|   14679    |   22969   |       0.0       |  9   |\n",
      "|   14679    |   21376   |       0.0       |  10  |\n",
      "+------------+-----------+-----------------+------+\n",
      "[5590 rows x 4 columns]\n",
      "\n"
     ]
    }
   ],
   "source": [
    "name = 'cosine'\n",
    "target = 'purchase_count'\n",
    "cos = model(train_data, name, user_id, item_id, target, users_to_recommend, n_rec, n_display)"
   ]
  },
  {
   "cell_type": "code",
   "execution_count": 30,
   "metadata": {},
   "outputs": [
    {
     "data": {
      "text/html": [
       "<pre>Warning: Ignoring columns purchase_count;</pre>"
      ],
      "text/plain": [
       "Warning: Ignoring columns purchase_count;"
      ]
     },
     "metadata": {},
     "output_type": "display_data"
    },
    {
     "data": {
      "text/html": [
       "<pre>    To use these columns in scoring predictions, use a model that allows the use of additional features.</pre>"
      ],
      "text/plain": [
       "    To use these columns in scoring predictions, use a model that allows the use of additional features."
      ]
     },
     "metadata": {},
     "output_type": "display_data"
    },
    {
     "data": {
      "text/html": [
       "<pre>Preparing data set.</pre>"
      ],
      "text/plain": [
       "Preparing data set."
      ]
     },
     "metadata": {},
     "output_type": "display_data"
    },
    {
     "data": {
      "text/html": [
       "<pre>    Data has 9675 observations with 553 users and 1857 items.</pre>"
      ],
      "text/plain": [
       "    Data has 9675 observations with 553 users and 1857 items."
      ]
     },
     "metadata": {},
     "output_type": "display_data"
    },
    {
     "data": {
      "text/html": [
       "<pre>    Data prepared in: 0.045359s</pre>"
      ],
      "text/plain": [
       "    Data prepared in: 0.045359s"
      ]
     },
     "metadata": {},
     "output_type": "display_data"
    },
    {
     "data": {
      "text/html": [
       "<pre>Training model from provided data.</pre>"
      ],
      "text/plain": [
       "Training model from provided data."
      ]
     },
     "metadata": {},
     "output_type": "display_data"
    },
    {
     "data": {
      "text/html": [
       "<pre>Gathering per-item and per-user statistics.</pre>"
      ],
      "text/plain": [
       "Gathering per-item and per-user statistics."
      ]
     },
     "metadata": {},
     "output_type": "display_data"
    },
    {
     "data": {
      "text/html": [
       "<pre>+--------------------------------+------------+</pre>"
      ],
      "text/plain": [
       "+--------------------------------+------------+"
      ]
     },
     "metadata": {},
     "output_type": "display_data"
    },
    {
     "data": {
      "text/html": [
       "<pre>| Elapsed Time (Item Statistics) | % Complete |</pre>"
      ],
      "text/plain": [
       "| Elapsed Time (Item Statistics) | % Complete |"
      ]
     },
     "metadata": {},
     "output_type": "display_data"
    },
    {
     "data": {
      "text/html": [
       "<pre>+--------------------------------+------------+</pre>"
      ],
      "text/plain": [
       "+--------------------------------+------------+"
      ]
     },
     "metadata": {},
     "output_type": "display_data"
    },
    {
     "data": {
      "text/html": [
       "<pre>| 574us                          | 100        |</pre>"
      ],
      "text/plain": [
       "| 574us                          | 100        |"
      ]
     },
     "metadata": {},
     "output_type": "display_data"
    },
    {
     "data": {
      "text/html": [
       "<pre>+--------------------------------+------------+</pre>"
      ],
      "text/plain": [
       "+--------------------------------+------------+"
      ]
     },
     "metadata": {},
     "output_type": "display_data"
    },
    {
     "data": {
      "text/html": [
       "<pre>Setting up lookup tables.</pre>"
      ],
      "text/plain": [
       "Setting up lookup tables."
      ]
     },
     "metadata": {},
     "output_type": "display_data"
    },
    {
     "data": {
      "text/html": [
       "<pre>Processing data in one pass using dense lookup tables.</pre>"
      ],
      "text/plain": [
       "Processing data in one pass using dense lookup tables."
      ]
     },
     "metadata": {},
     "output_type": "display_data"
    },
    {
     "data": {
      "text/html": [
       "<pre>+-------------------------------------+------------------+-----------------+</pre>"
      ],
      "text/plain": [
       "+-------------------------------------+------------------+-----------------+"
      ]
     },
     "metadata": {},
     "output_type": "display_data"
    },
    {
     "data": {
      "text/html": [
       "<pre>| Elapsed Time (Constructing Lookups) | Total % Complete | Items Processed |</pre>"
      ],
      "text/plain": [
       "| Elapsed Time (Constructing Lookups) | Total % Complete | Items Processed |"
      ]
     },
     "metadata": {},
     "output_type": "display_data"
    },
    {
     "data": {
      "text/html": [
       "<pre>+-------------------------------------+------------------+-----------------+</pre>"
      ],
      "text/plain": [
       "+-------------------------------------+------------------+-----------------+"
      ]
     },
     "metadata": {},
     "output_type": "display_data"
    },
    {
     "data": {
      "text/html": [
       "<pre>| 5.763ms                             | 0.25             | 5               |</pre>"
      ],
      "text/plain": [
       "| 5.763ms                             | 0.25             | 5               |"
      ]
     },
     "metadata": {},
     "output_type": "display_data"
    },
    {
     "data": {
      "text/html": [
       "<pre>| 54.561ms                            | 100              | 1857            |</pre>"
      ],
      "text/plain": [
       "| 54.561ms                            | 100              | 1857            |"
      ]
     },
     "metadata": {},
     "output_type": "display_data"
    },
    {
     "data": {
      "text/html": [
       "<pre>+-------------------------------------+------------------+-----------------+</pre>"
      ],
      "text/plain": [
       "+-------------------------------------+------------------+-----------------+"
      ]
     },
     "metadata": {},
     "output_type": "display_data"
    },
    {
     "data": {
      "text/html": [
       "<pre>Finalizing lookup tables.</pre>"
      ],
      "text/plain": [
       "Finalizing lookup tables."
      ]
     },
     "metadata": {},
     "output_type": "display_data"
    },
    {
     "data": {
      "text/html": [
       "<pre>Generating candidate set for working with new users.</pre>"
      ],
      "text/plain": [
       "Generating candidate set for working with new users."
      ]
     },
     "metadata": {},
     "output_type": "display_data"
    },
    {
     "data": {
      "text/html": [
       "<pre>Finished training in 0.060818s</pre>"
      ],
      "text/plain": [
       "Finished training in 0.060818s"
      ]
     },
     "metadata": {},
     "output_type": "display_data"
    },
    {
     "name": "stdout",
     "output_type": "stream",
     "text": [
      "+------------+-----------+-----------------+------+\n",
      "| customerId | productId |      score      | rank |\n",
      "+------------+-----------+-----------------+------+\n",
      "|   14176    |   21896   |  0.111506700516 |  1   |\n",
      "|   14176    |   21377   |  0.111506700516 |  2   |\n",
      "|   14176    |   21205   |  0.111506700516 |  3   |\n",
      "|   14176    |   21375   |  0.111506700516 |  4   |\n",
      "|   14176    |   20618   |  0.111506700516 |  5   |\n",
      "|   14176    |   21558   |  0.106765576771 |  6   |\n",
      "|   14176    |   21356   |  0.101263982909 |  7   |\n",
      "|   14176    |   21865   | 0.0969926629748 |  8   |\n",
      "|   14176    |   22808   | 0.0824786084039 |  9   |\n",
      "|   14176    |   85187   | 0.0824786084039 |  10  |\n",
      "|   13305    |   22116   |  0.166666666667 |  1   |\n",
      "|   13305    |   85129C  |  0.166666666667 |  2   |\n",
      "|   13305    |   85130A  |  0.166666666667 |  3   |\n",
      "|   13305    |   46000P  |  0.13608276844  |  4   |\n",
      "|   13305    |   10124G  |  0.13608276844  |  5   |\n",
      "|   13305    |   21638   |  0.13608276844  |  6   |\n",
      "|   13305    |   21906   |  0.13608276844  |  7   |\n",
      "|   13305    |   21385   |  0.13608276844  |  8   |\n",
      "|   13305    |   84519B  |  0.13608276844  |  9   |\n",
      "|   13305    |   22610   |  0.13608276844  |  10  |\n",
      "|   14679    |   17021   |       0.5       |  1   |\n",
      "|   14679    |   22059   |  0.288675129414 |  2   |\n",
      "|   14679    |   21154   |  0.23570227623  |  3   |\n",
      "|   14679    |   22189   |  0.223606824875 |  4   |\n",
      "|   14679    |   22188   |  0.223606824875 |  5   |\n",
      "|   14679    |   22837   |       0.0       |  6   |\n",
      "|   14679    |   22635   |       0.0       |  7   |\n",
      "|   14679    |   20679   |       0.0       |  8   |\n",
      "|   14679    |   82582   |       0.0       |  9   |\n",
      "|   14679    |   21467   |       0.0       |  10  |\n",
      "+------------+-----------+-----------------+------+\n",
      "[5590 rows x 4 columns]\n",
      "\n"
     ]
    }
   ],
   "source": [
    "name = 'cosine'\n",
    "target = 'purchase_dummy'\n",
    "cos_dummy = model(train_data_dummy, name, user_id, item_id, target, users_to_recommend, n_rec, n_display)"
   ]
  },
  {
   "cell_type": "code",
   "execution_count": 31,
   "metadata": {},
   "outputs": [
    {
     "data": {
      "text/html": [
       "<pre>Preparing data set.</pre>"
      ],
      "text/plain": [
       "Preparing data set."
      ]
     },
     "metadata": {},
     "output_type": "display_data"
    },
    {
     "data": {
      "text/html": [
       "<pre>    Data has 5180 observations with 519 users and 502 items.</pre>"
      ],
      "text/plain": [
       "    Data has 5180 observations with 519 users and 502 items."
      ]
     },
     "metadata": {},
     "output_type": "display_data"
    },
    {
     "data": {
      "text/html": [
       "<pre>    Data prepared in: 0.013077s</pre>"
      ],
      "text/plain": [
       "    Data prepared in: 0.013077s"
      ]
     },
     "metadata": {},
     "output_type": "display_data"
    },
    {
     "data": {
      "text/html": [
       "<pre>Training model from provided data.</pre>"
      ],
      "text/plain": [
       "Training model from provided data."
      ]
     },
     "metadata": {},
     "output_type": "display_data"
    },
    {
     "data": {
      "text/html": [
       "<pre>Gathering per-item and per-user statistics.</pre>"
      ],
      "text/plain": [
       "Gathering per-item and per-user statistics."
      ]
     },
     "metadata": {},
     "output_type": "display_data"
    },
    {
     "data": {
      "text/html": [
       "<pre>+--------------------------------+------------+</pre>"
      ],
      "text/plain": [
       "+--------------------------------+------------+"
      ]
     },
     "metadata": {},
     "output_type": "display_data"
    },
    {
     "data": {
      "text/html": [
       "<pre>| Elapsed Time (Item Statistics) | % Complete |</pre>"
      ],
      "text/plain": [
       "| Elapsed Time (Item Statistics) | % Complete |"
      ]
     },
     "metadata": {},
     "output_type": "display_data"
    },
    {
     "data": {
      "text/html": [
       "<pre>+--------------------------------+------------+</pre>"
      ],
      "text/plain": [
       "+--------------------------------+------------+"
      ]
     },
     "metadata": {},
     "output_type": "display_data"
    },
    {
     "data": {
      "text/html": [
       "<pre>| 528us                          | 100        |</pre>"
      ],
      "text/plain": [
       "| 528us                          | 100        |"
      ]
     },
     "metadata": {},
     "output_type": "display_data"
    },
    {
     "data": {
      "text/html": [
       "<pre>+--------------------------------+------------+</pre>"
      ],
      "text/plain": [
       "+--------------------------------+------------+"
      ]
     },
     "metadata": {},
     "output_type": "display_data"
    },
    {
     "data": {
      "text/html": [
       "<pre>Setting up lookup tables.</pre>"
      ],
      "text/plain": [
       "Setting up lookup tables."
      ]
     },
     "metadata": {},
     "output_type": "display_data"
    },
    {
     "data": {
      "text/html": [
       "<pre>Processing data in one pass using dense lookup tables.</pre>"
      ],
      "text/plain": [
       "Processing data in one pass using dense lookup tables."
      ]
     },
     "metadata": {},
     "output_type": "display_data"
    },
    {
     "data": {
      "text/html": [
       "<pre>+-------------------------------------+------------------+-----------------+</pre>"
      ],
      "text/plain": [
       "+-------------------------------------+------------------+-----------------+"
      ]
     },
     "metadata": {},
     "output_type": "display_data"
    },
    {
     "data": {
      "text/html": [
       "<pre>| Elapsed Time (Constructing Lookups) | Total % Complete | Items Processed |</pre>"
      ],
      "text/plain": [
       "| Elapsed Time (Constructing Lookups) | Total % Complete | Items Processed |"
      ]
     },
     "metadata": {},
     "output_type": "display_data"
    },
    {
     "data": {
      "text/html": [
       "<pre>+-------------------------------------+------------------+-----------------+</pre>"
      ],
      "text/plain": [
       "+-------------------------------------+------------------+-----------------+"
      ]
     },
     "metadata": {},
     "output_type": "display_data"
    },
    {
     "data": {
      "text/html": [
       "<pre>| 949us                               | 0.25             | 1               |</pre>"
      ],
      "text/plain": [
       "| 949us                               | 0.25             | 1               |"
      ]
     },
     "metadata": {},
     "output_type": "display_data"
    },
    {
     "data": {
      "text/html": [
       "<pre>| 8.618ms                             | 100              | 502             |</pre>"
      ],
      "text/plain": [
       "| 8.618ms                             | 100              | 502             |"
      ]
     },
     "metadata": {},
     "output_type": "display_data"
    },
    {
     "name": "stdout",
     "output_type": "stream",
     "text": [
      "+------------+-----------+------------------+------+\n",
      "| customerId | productId |      score       | rank |\n",
      "+------------+-----------+------------------+------+\n",
      "|   14176    |   85231B  |       0.0        |  1   |\n",
      "|   14176    |   21889   |       0.0        |  2   |\n",
      "|   14176    |   22865   |       0.0        |  3   |\n",
      "|   14176    |   22568   |       0.0        |  4   |\n",
      "|   14176    |   22727   |       0.0        |  5   |\n",
      "|   14176    |   20975   |       0.0        |  6   |\n",
      "|   14176    |   22082   |       0.0        |  7   |\n",
      "|   14176    |   85123A  |       0.0        |  8   |\n",
      "|   14176    |   22927   |       0.0        |  9   |\n",
      "|   14176    |   84949   |       0.0        |  10  |\n",
      "|   13305    |   72800E  | 0.00772116541862 |  1   |\n",
      "|   13305    |   21982   | 0.00742901444435 |  2   |\n",
      "|   13305    |   22554   | 0.00725902199745 |  3   |\n",
      "|   13305    |   72799E  | 0.00660726070404 |  4   |\n",
      "|   13305    |   72131   | 0.00660726070404 |  5   |\n",
      "|   13305    |   20757   | 0.00660726070404 |  6   |\n",
      "|   13305    |   21329   | 0.00660726070404 |  7   |\n",
      "|   13305    |   21231   | 0.00660726070404 |  8   |\n",
      "|   13305    |   85099F  | 0.00660726070404 |  9   |\n",
      "|   13305    |   82582   | 0.00660726070404 |  10  |\n",
      "|   14679    |   72800E  | 0.00772116541862 |  1   |\n",
      "|   14679    |   21982   | 0.00742901444435 |  2   |\n",
      "|   14679    |   22554   | 0.00725902199745 |  3   |\n",
      "|   14679    |   72799E  | 0.00660726070404 |  4   |\n",
      "|   14679    |   72131   | 0.00660726070404 |  5   |\n",
      "|   14679    |   20757   | 0.00660726070404 |  6   |\n",
      "|   14679    |   21329   | 0.00660726070404 |  7   |\n",
      "|   14679    |   21231   | 0.00660726070404 |  8   |\n",
      "|   14679    |   85099F  | 0.00660726070404 |  9   |\n",
      "|   14679    |   82582   | 0.00660726070404 |  10  |\n",
      "+------------+-----------+------------------+------+\n",
      "[5590 rows x 4 columns]\n",
      "\n"
     ]
    },
    {
     "data": {
      "text/html": [
       "<pre>+-------------------------------------+------------------+-----------------+</pre>"
      ],
      "text/plain": [
       "+-------------------------------------+------------------+-----------------+"
      ]
     },
     "metadata": {},
     "output_type": "display_data"
    },
    {
     "data": {
      "text/html": [
       "<pre>Finalizing lookup tables.</pre>"
      ],
      "text/plain": [
       "Finalizing lookup tables."
      ]
     },
     "metadata": {},
     "output_type": "display_data"
    },
    {
     "data": {
      "text/html": [
       "<pre>Generating candidate set for working with new users.</pre>"
      ],
      "text/plain": [
       "Generating candidate set for working with new users."
      ]
     },
     "metadata": {},
     "output_type": "display_data"
    },
    {
     "data": {
      "text/html": [
       "<pre>Finished training in 0.010272s</pre>"
      ],
      "text/plain": [
       "Finished training in 0.010272s"
      ]
     },
     "metadata": {},
     "output_type": "display_data"
    }
   ],
   "source": [
    "name = 'cosine'\n",
    "target = 'scaled_purchase_freq'\n",
    "cos_norm = model(train_data_norm, name, user_id, item_id, target, users_to_recommend, n_rec, n_display)"
   ]
  },
  {
   "cell_type": "code",
   "execution_count": 32,
   "metadata": {},
   "outputs": [
    {
     "data": {
      "text/html": [
       "<pre>Preparing data set.</pre>"
      ],
      "text/plain": [
       "Preparing data set."
      ]
     },
     "metadata": {},
     "output_type": "display_data"
    },
    {
     "data": {
      "text/html": [
       "<pre>    Data has 9675 observations with 553 users and 1841 items.</pre>"
      ],
      "text/plain": [
       "    Data has 9675 observations with 553 users and 1841 items."
      ]
     },
     "metadata": {},
     "output_type": "display_data"
    },
    {
     "data": {
      "text/html": [
       "<pre>    Data prepared in: 0.080119s</pre>"
      ],
      "text/plain": [
       "    Data prepared in: 0.080119s"
      ]
     },
     "metadata": {},
     "output_type": "display_data"
    },
    {
     "data": {
      "text/html": [
       "<pre>Training model from provided data.</pre>"
      ],
      "text/plain": [
       "Training model from provided data."
      ]
     },
     "metadata": {},
     "output_type": "display_data"
    },
    {
     "data": {
      "text/html": [
       "<pre>Gathering per-item and per-user statistics.</pre>"
      ],
      "text/plain": [
       "Gathering per-item and per-user statistics."
      ]
     },
     "metadata": {},
     "output_type": "display_data"
    },
    {
     "data": {
      "text/html": [
       "<pre>+--------------------------------+------------+</pre>"
      ],
      "text/plain": [
       "+--------------------------------+------------+"
      ]
     },
     "metadata": {},
     "output_type": "display_data"
    },
    {
     "data": {
      "text/html": [
       "<pre>| Elapsed Time (Item Statistics) | % Complete |</pre>"
      ],
      "text/plain": [
       "| Elapsed Time (Item Statistics) | % Complete |"
      ]
     },
     "metadata": {},
     "output_type": "display_data"
    },
    {
     "data": {
      "text/html": [
       "<pre>+--------------------------------+------------+</pre>"
      ],
      "text/plain": [
       "+--------------------------------+------------+"
      ]
     },
     "metadata": {},
     "output_type": "display_data"
    },
    {
     "data": {
      "text/html": [
       "<pre>| 721us                          | 100        |</pre>"
      ],
      "text/plain": [
       "| 721us                          | 100        |"
      ]
     },
     "metadata": {},
     "output_type": "display_data"
    },
    {
     "data": {
      "text/html": [
       "<pre>+--------------------------------+------------+</pre>"
      ],
      "text/plain": [
       "+--------------------------------+------------+"
      ]
     },
     "metadata": {},
     "output_type": "display_data"
    },
    {
     "data": {
      "text/html": [
       "<pre>Setting up lookup tables.</pre>"
      ],
      "text/plain": [
       "Setting up lookup tables."
      ]
     },
     "metadata": {},
     "output_type": "display_data"
    },
    {
     "data": {
      "text/html": [
       "<pre>Processing data in one pass using dense lookup tables.</pre>"
      ],
      "text/plain": [
       "Processing data in one pass using dense lookup tables."
      ]
     },
     "metadata": {},
     "output_type": "display_data"
    },
    {
     "data": {
      "text/html": [
       "<pre>+-------------------------------------+------------------+-----------------+</pre>"
      ],
      "text/plain": [
       "+-------------------------------------+------------------+-----------------+"
      ]
     },
     "metadata": {},
     "output_type": "display_data"
    },
    {
     "data": {
      "text/html": [
       "<pre>| Elapsed Time (Constructing Lookups) | Total % Complete | Items Processed |</pre>"
      ],
      "text/plain": [
       "| Elapsed Time (Constructing Lookups) | Total % Complete | Items Processed |"
      ]
     },
     "metadata": {},
     "output_type": "display_data"
    },
    {
     "data": {
      "text/html": [
       "<pre>+-------------------------------------+------------------+-----------------+</pre>"
      ],
      "text/plain": [
       "+-------------------------------------+------------------+-----------------+"
      ]
     },
     "metadata": {},
     "output_type": "display_data"
    },
    {
     "data": {
      "text/html": [
       "<pre>| 7.961ms                             | 0                | 1               |</pre>"
      ],
      "text/plain": [
       "| 7.961ms                             | 0                | 1               |"
      ]
     },
     "metadata": {},
     "output_type": "display_data"
    },
    {
     "data": {
      "text/html": [
       "<pre>| 36.258ms                            | 100              | 1841            |</pre>"
      ],
      "text/plain": [
       "| 36.258ms                            | 100              | 1841            |"
      ]
     },
     "metadata": {},
     "output_type": "display_data"
    },
    {
     "data": {
      "text/html": [
       "<pre>+-------------------------------------+------------------+-----------------+</pre>"
      ],
      "text/plain": [
       "+-------------------------------------+------------------+-----------------+"
      ]
     },
     "metadata": {},
     "output_type": "display_data"
    },
    {
     "data": {
      "text/html": [
       "<pre>Finalizing lookup tables.</pre>"
      ],
      "text/plain": [
       "Finalizing lookup tables."
      ]
     },
     "metadata": {},
     "output_type": "display_data"
    },
    {
     "data": {
      "text/html": [
       "<pre>Generating candidate set for working with new users.</pre>"
      ],
      "text/plain": [
       "Generating candidate set for working with new users."
      ]
     },
     "metadata": {},
     "output_type": "display_data"
    },
    {
     "data": {
      "text/html": [
       "<pre>Finished training in 0.039872s</pre>"
      ],
      "text/plain": [
       "Finished training in 0.039872s"
      ]
     },
     "metadata": {},
     "output_type": "display_data"
    },
    {
     "name": "stdout",
     "output_type": "stream",
     "text": [
      "+------------+-----------+---------------+------+\n",
      "| customerId | productId |     score     | rank |\n",
      "+------------+-----------+---------------+------+\n",
      "|   14176    |   22803   |      8.0      |  1   |\n",
      "|   14176    |   21068   | 5.66666666667 |  2   |\n",
      "|   14176    |   21448   |      5.0      |  3   |\n",
      "|   14176    |   84827   |      4.0      |  4   |\n",
      "|   14176    |   21071   | 3.33324073752 |  5   |\n",
      "|   14176    |   21730   | 3.28571428571 |  6   |\n",
      "|   14176    |   21650   |      3.0      |  7   |\n",
      "|   14176    |   21651   |      3.0      |  8   |\n",
      "|   14176    |   21415   |      3.0      |  9   |\n",
      "|   14176    |   90082B  |      3.0      |  10  |\n",
      "|   13305    |   22803   |      8.0      |  1   |\n",
      "|   13305    |   21068   | 5.59316350381 |  2   |\n",
      "|   13305    |   21448   |      5.0      |  3   |\n",
      "|   13305    |   84827   |      4.0      |  4   |\n",
      "|   13305    |   21071   | 3.24164468726 |  5   |\n",
      "|   13305    |   21730   | 3.19138895665 |  6   |\n",
      "|   13305    |   21650   |      3.0      |  7   |\n",
      "|   13305    |   21651   |      3.0      |  8   |\n",
      "|   13305    |   21415   |      3.0      |  9   |\n",
      "|   13305    |   90082B  |      3.0      |  10  |\n",
      "|   14679    |   22803   |      8.0      |  1   |\n",
      "|   14679    |   21068   | 5.59316350381 |  2   |\n",
      "|   14679    |   21448   |      5.0      |  3   |\n",
      "|   14679    |   84827   |      4.0      |  4   |\n",
      "|   14679    |   21071   | 3.24164468726 |  5   |\n",
      "|   14679    |   21730   | 3.19138895665 |  6   |\n",
      "|   14679    |   21650   |      3.0      |  7   |\n",
      "|   14679    |   21651   |      3.0      |  8   |\n",
      "|   14679    |   21415   |      3.0      |  9   |\n",
      "|   14679    |   90082B  |      3.0      |  10  |\n",
      "+------------+-----------+---------------+------+\n",
      "[5590 rows x 4 columns]\n",
      "\n"
     ]
    }
   ],
   "source": [
    "name = 'pearson'\n",
    "target = 'purchase_count'\n",
    "pear = model(train_data, name, user_id, item_id, target, users_to_recommend, n_rec, n_display)"
   ]
  },
  {
   "cell_type": "code",
   "execution_count": 33,
   "metadata": {},
   "outputs": [
    {
     "data": {
      "text/html": [
       "<pre>Warning: Ignoring columns purchase_count;</pre>"
      ],
      "text/plain": [
       "Warning: Ignoring columns purchase_count;"
      ]
     },
     "metadata": {},
     "output_type": "display_data"
    },
    {
     "data": {
      "text/html": [
       "<pre>    To use these columns in scoring predictions, use a model that allows the use of additional features.</pre>"
      ],
      "text/plain": [
       "    To use these columns in scoring predictions, use a model that allows the use of additional features."
      ]
     },
     "metadata": {},
     "output_type": "display_data"
    },
    {
     "data": {
      "text/html": [
       "<pre>Preparing data set.</pre>"
      ],
      "text/plain": [
       "Preparing data set."
      ]
     },
     "metadata": {},
     "output_type": "display_data"
    },
    {
     "data": {
      "text/html": [
       "<pre>    Data has 9675 observations with 553 users and 1857 items.</pre>"
      ],
      "text/plain": [
       "    Data has 9675 observations with 553 users and 1857 items."
      ]
     },
     "metadata": {},
     "output_type": "display_data"
    },
    {
     "data": {
      "text/html": [
       "<pre>    Data prepared in: 0.022555s</pre>"
      ],
      "text/plain": [
       "    Data prepared in: 0.022555s"
      ]
     },
     "metadata": {},
     "output_type": "display_data"
    },
    {
     "data": {
      "text/html": [
       "<pre>Training model from provided data.</pre>"
      ],
      "text/plain": [
       "Training model from provided data."
      ]
     },
     "metadata": {},
     "output_type": "display_data"
    },
    {
     "data": {
      "text/html": [
       "<pre>Gathering per-item and per-user statistics.</pre>"
      ],
      "text/plain": [
       "Gathering per-item and per-user statistics."
      ]
     },
     "metadata": {},
     "output_type": "display_data"
    },
    {
     "data": {
      "text/html": [
       "<pre>+--------------------------------+------------+</pre>"
      ],
      "text/plain": [
       "+--------------------------------+------------+"
      ]
     },
     "metadata": {},
     "output_type": "display_data"
    },
    {
     "data": {
      "text/html": [
       "<pre>| Elapsed Time (Item Statistics) | % Complete |</pre>"
      ],
      "text/plain": [
       "| Elapsed Time (Item Statistics) | % Complete |"
      ]
     },
     "metadata": {},
     "output_type": "display_data"
    },
    {
     "data": {
      "text/html": [
       "<pre>+--------------------------------+------------+</pre>"
      ],
      "text/plain": [
       "+--------------------------------+------------+"
      ]
     },
     "metadata": {},
     "output_type": "display_data"
    },
    {
     "data": {
      "text/html": [
       "<pre>| 8.722ms                        | 100        |</pre>"
      ],
      "text/plain": [
       "| 8.722ms                        | 100        |"
      ]
     },
     "metadata": {},
     "output_type": "display_data"
    },
    {
     "data": {
      "text/html": [
       "<pre>+--------------------------------+------------+</pre>"
      ],
      "text/plain": [
       "+--------------------------------+------------+"
      ]
     },
     "metadata": {},
     "output_type": "display_data"
    },
    {
     "data": {
      "text/html": [
       "<pre>Setting up lookup tables.</pre>"
      ],
      "text/plain": [
       "Setting up lookup tables."
      ]
     },
     "metadata": {},
     "output_type": "display_data"
    },
    {
     "data": {
      "text/html": [
       "<pre>Processing data in one pass using dense lookup tables.</pre>"
      ],
      "text/plain": [
       "Processing data in one pass using dense lookup tables."
      ]
     },
     "metadata": {},
     "output_type": "display_data"
    },
    {
     "data": {
      "text/html": [
       "<pre>+-------------------------------------+------------------+-----------------+</pre>"
      ],
      "text/plain": [
       "+-------------------------------------+------------------+-----------------+"
      ]
     },
     "metadata": {},
     "output_type": "display_data"
    },
    {
     "data": {
      "text/html": [
       "<pre>| Elapsed Time (Constructing Lookups) | Total % Complete | Items Processed |</pre>"
      ],
      "text/plain": [
       "| Elapsed Time (Constructing Lookups) | Total % Complete | Items Processed |"
      ]
     },
     "metadata": {},
     "output_type": "display_data"
    },
    {
     "data": {
      "text/html": [
       "<pre>+-------------------------------------+------------------+-----------------+</pre>"
      ],
      "text/plain": [
       "+-------------------------------------+------------------+-----------------+"
      ]
     },
     "metadata": {},
     "output_type": "display_data"
    },
    {
     "data": {
      "text/html": [
       "<pre>| 14.479ms                            | 0.25             | 5               |</pre>"
      ],
      "text/plain": [
       "| 14.479ms                            | 0.25             | 5               |"
      ]
     },
     "metadata": {},
     "output_type": "display_data"
    },
    {
     "data": {
      "text/html": [
       "<pre>| 41.107ms                            | 100              | 1857            |</pre>"
      ],
      "text/plain": [
       "| 41.107ms                            | 100              | 1857            |"
      ]
     },
     "metadata": {},
     "output_type": "display_data"
    },
    {
     "data": {
      "text/html": [
       "<pre>+-------------------------------------+------------------+-----------------+</pre>"
      ],
      "text/plain": [
       "+-------------------------------------+------------------+-----------------+"
      ]
     },
     "metadata": {},
     "output_type": "display_data"
    },
    {
     "data": {
      "text/html": [
       "<pre>Finalizing lookup tables.</pre>"
      ],
      "text/plain": [
       "Finalizing lookup tables."
      ]
     },
     "metadata": {},
     "output_type": "display_data"
    },
    {
     "name": "stdout",
     "output_type": "stream",
     "text": [
      "+------------+-----------+-------+------+\n",
      "| customerId | productId | score | rank |\n",
      "+------------+-----------+-------+------+\n",
      "|   14176    |   22837   |  0.0  |  1   |\n",
      "|   14176    |   22635   |  0.0  |  2   |\n",
      "|   14176    |   20679   |  0.0  |  3   |\n",
      "|   14176    |   82582   |  0.0  |  4   |\n",
      "|   14176    |   21467   |  0.0  |  5   |\n",
      "|   14176    |   21930   |  0.0  |  6   |\n",
      "|   14176    |   84347   |  0.0  |  7   |\n",
      "|   14176    |   21464   |  0.0  |  8   |\n",
      "|   14176    |   22800   |  0.0  |  9   |\n",
      "|   14176    |   22144   |  0.0  |  10  |\n",
      "|   13305    |   22837   |  0.0  |  1   |\n",
      "|   13305    |   22635   |  0.0  |  2   |\n",
      "|   13305    |   20679   |  0.0  |  3   |\n",
      "|   13305    |   82582   |  0.0  |  4   |\n",
      "|   13305    |   21467   |  0.0  |  5   |\n",
      "|   13305    |   21930   |  0.0  |  6   |\n",
      "|   13305    |   84347   |  0.0  |  7   |\n",
      "|   13305    |   21464   |  0.0  |  8   |\n",
      "|   13305    |   22800   |  0.0  |  9   |\n",
      "|   13305    |   22144   |  0.0  |  10  |\n",
      "|   14679    |   22837   |  0.0  |  1   |\n",
      "|   14679    |   22635   |  0.0  |  2   |\n",
      "|   14679    |   20679   |  0.0  |  3   |\n",
      "|   14679    |   82582   |  0.0  |  4   |\n",
      "|   14679    |   21467   |  0.0  |  5   |\n",
      "|   14679    |   21930   |  0.0  |  6   |\n",
      "|   14679    |   84347   |  0.0  |  7   |\n",
      "|   14679    |   21464   |  0.0  |  8   |\n",
      "|   14679    |   22800   |  0.0  |  9   |\n",
      "|   14679    |   22144   |  0.0  |  10  |\n",
      "+------------+-----------+-------+------+\n",
      "[5590 rows x 4 columns]\n",
      "\n"
     ]
    },
    {
     "data": {
      "text/html": [
       "<pre>Generating candidate set for working with new users.</pre>"
      ],
      "text/plain": [
       "Generating candidate set for working with new users."
      ]
     },
     "metadata": {},
     "output_type": "display_data"
    },
    {
     "data": {
      "text/html": [
       "<pre>Finished training in 0.043527s</pre>"
      ],
      "text/plain": [
       "Finished training in 0.043527s"
      ]
     },
     "metadata": {},
     "output_type": "display_data"
    }
   ],
   "source": [
    "name = 'pearson'\n",
    "target = 'purchase_dummy'\n",
    "pear_dummy = model(train_data_dummy, name, user_id, item_id, target, users_to_recommend, n_rec, n_display)"
   ]
  },
  {
   "cell_type": "code",
   "execution_count": 34,
   "metadata": {},
   "outputs": [
    {
     "data": {
      "text/html": [
       "<pre>Preparing data set.</pre>"
      ],
      "text/plain": [
       "Preparing data set."
      ]
     },
     "metadata": {},
     "output_type": "display_data"
    },
    {
     "data": {
      "text/html": [
       "<pre>    Data has 5180 observations with 519 users and 502 items.</pre>"
      ],
      "text/plain": [
       "    Data has 5180 observations with 519 users and 502 items."
      ]
     },
     "metadata": {},
     "output_type": "display_data"
    },
    {
     "data": {
      "text/html": [
       "<pre>    Data prepared in: 0.08879s</pre>"
      ],
      "text/plain": [
       "    Data prepared in: 0.08879s"
      ]
     },
     "metadata": {},
     "output_type": "display_data"
    },
    {
     "data": {
      "text/html": [
       "<pre>Training model from provided data.</pre>"
      ],
      "text/plain": [
       "Training model from provided data."
      ]
     },
     "metadata": {},
     "output_type": "display_data"
    },
    {
     "data": {
      "text/html": [
       "<pre>Gathering per-item and per-user statistics.</pre>"
      ],
      "text/plain": [
       "Gathering per-item and per-user statistics."
      ]
     },
     "metadata": {},
     "output_type": "display_data"
    },
    {
     "data": {
      "text/html": [
       "<pre>+--------------------------------+------------+</pre>"
      ],
      "text/plain": [
       "+--------------------------------+------------+"
      ]
     },
     "metadata": {},
     "output_type": "display_data"
    },
    {
     "data": {
      "text/html": [
       "<pre>| Elapsed Time (Item Statistics) | % Complete |</pre>"
      ],
      "text/plain": [
       "| Elapsed Time (Item Statistics) | % Complete |"
      ]
     },
     "metadata": {},
     "output_type": "display_data"
    },
    {
     "data": {
      "text/html": [
       "<pre>+--------------------------------+------------+</pre>"
      ],
      "text/plain": [
       "+--------------------------------+------------+"
      ]
     },
     "metadata": {},
     "output_type": "display_data"
    },
    {
     "data": {
      "text/html": [
       "<pre>| 10.46ms                        | 100        |</pre>"
      ],
      "text/plain": [
       "| 10.46ms                        | 100        |"
      ]
     },
     "metadata": {},
     "output_type": "display_data"
    },
    {
     "data": {
      "text/html": [
       "<pre>+--------------------------------+------------+</pre>"
      ],
      "text/plain": [
       "+--------------------------------+------------+"
      ]
     },
     "metadata": {},
     "output_type": "display_data"
    },
    {
     "data": {
      "text/html": [
       "<pre>Setting up lookup tables.</pre>"
      ],
      "text/plain": [
       "Setting up lookup tables."
      ]
     },
     "metadata": {},
     "output_type": "display_data"
    },
    {
     "data": {
      "text/html": [
       "<pre>Processing data in one pass using dense lookup tables.</pre>"
      ],
      "text/plain": [
       "Processing data in one pass using dense lookup tables."
      ]
     },
     "metadata": {},
     "output_type": "display_data"
    },
    {
     "data": {
      "text/html": [
       "<pre>+-------------------------------------+------------------+-----------------+</pre>"
      ],
      "text/plain": [
       "+-------------------------------------+------------------+-----------------+"
      ]
     },
     "metadata": {},
     "output_type": "display_data"
    },
    {
     "data": {
      "text/html": [
       "<pre>| Elapsed Time (Constructing Lookups) | Total % Complete | Items Processed |</pre>"
      ],
      "text/plain": [
       "| Elapsed Time (Constructing Lookups) | Total % Complete | Items Processed |"
      ]
     },
     "metadata": {},
     "output_type": "display_data"
    },
    {
     "data": {
      "text/html": [
       "<pre>+-------------------------------------+------------------+-----------------+</pre>"
      ],
      "text/plain": [
       "+-------------------------------------+------------------+-----------------+"
      ]
     },
     "metadata": {},
     "output_type": "display_data"
    },
    {
     "data": {
      "text/html": [
       "<pre>| 11.145ms                            | 0.25             | 1               |</pre>"
      ],
      "text/plain": [
       "| 11.145ms                            | 0.25             | 1               |"
      ]
     },
     "metadata": {},
     "output_type": "display_data"
    },
    {
     "data": {
      "text/html": [
       "<pre>| 24.166ms                            | 100              | 502             |</pre>"
      ],
      "text/plain": [
       "| 24.166ms                            | 100              | 502             |"
      ]
     },
     "metadata": {},
     "output_type": "display_data"
    },
    {
     "data": {
      "text/html": [
       "<pre>+-------------------------------------+------------------+-----------------+</pre>"
      ],
      "text/plain": [
       "+-------------------------------------+------------------+-----------------+"
      ]
     },
     "metadata": {},
     "output_type": "display_data"
    },
    {
     "data": {
      "text/html": [
       "<pre>Finalizing lookup tables.</pre>"
      ],
      "text/plain": [
       "Finalizing lookup tables."
      ]
     },
     "metadata": {},
     "output_type": "display_data"
    },
    {
     "data": {
      "text/html": [
       "<pre>Generating candidate set for working with new users.</pre>"
      ],
      "text/plain": [
       "Generating candidate set for working with new users."
      ]
     },
     "metadata": {},
     "output_type": "display_data"
    },
    {
     "data": {
      "text/html": [
       "<pre>Finished training in 0.02778s</pre>"
      ],
      "text/plain": [
       "Finished training in 0.02778s"
      ]
     },
     "metadata": {},
     "output_type": "display_data"
    },
    {
     "name": "stdout",
     "output_type": "stream",
     "text": [
      "+------------+-----------+----------------+------+\n",
      "| customerId | productId |     score      | rank |\n",
      "+------------+-----------+----------------+------+\n",
      "|   14176    |   47471   |      1.0       |  1   |\n",
      "|   14176    |   22649   |      1.0       |  2   |\n",
      "|   14176    |   90082D  |      1.0       |  3   |\n",
      "|   14176    |   22211   |      1.0       |  4   |\n",
      "|   14176    |   22200   |      1.0       |  5   |\n",
      "|   14176    |   84625C  |      1.0       |  6   |\n",
      "|   14176    |   22535   |      1.0       |  7   |\n",
      "|   14176    |   21192   | 0.666666666667 |  8   |\n",
      "|   14176    |   20986   | 0.666666666667 |  9   |\n",
      "|   14176    |   35953   | 0.666666666667 |  10  |\n",
      "|   13305    |   47471   |      1.0       |  1   |\n",
      "|   13305    |   22649   |      1.0       |  2   |\n",
      "|   13305    |   90082D  |      1.0       |  3   |\n",
      "|   13305    |   22211   |      1.0       |  4   |\n",
      "|   13305    |   22200   |      1.0       |  5   |\n",
      "|   13305    |   84625C  |      1.0       |  6   |\n",
      "|   13305    |   22535   |      1.0       |  7   |\n",
      "|   13305    |   21192   | 0.666666666667 |  8   |\n",
      "|   13305    |   20986   | 0.666666666667 |  9   |\n",
      "|   13305    |   35953   | 0.666666666667 |  10  |\n",
      "|   14679    |   47471   |      1.0       |  1   |\n",
      "|   14679    |   22649   |      1.0       |  2   |\n",
      "|   14679    |   90082D  |      1.0       |  3   |\n",
      "|   14679    |   22211   |      1.0       |  4   |\n",
      "|   14679    |   22200   |      1.0       |  5   |\n",
      "|   14679    |   84625C  |      1.0       |  6   |\n",
      "|   14679    |   22535   |      1.0       |  7   |\n",
      "|   14679    |   21192   | 0.666666666667 |  8   |\n",
      "|   14679    |   20986   | 0.666666666667 |  9   |\n",
      "|   14679    |   35953   | 0.666666666667 |  10  |\n",
      "+------------+-----------+----------------+------+\n",
      "[5590 rows x 4 columns]\n",
      "\n"
     ]
    }
   ],
   "source": [
    "name = 'pearson'\n",
    "target = 'scaled_purchase_freq'\n",
    "pear_norm = model(train_data_norm, name, user_id, item_id, target, users_to_recommend, n_rec, n_display)"
   ]
  },
  {
   "cell_type": "code",
   "execution_count": 35,
   "metadata": {},
   "outputs": [],
   "source": [
    "models_w_counts = [popularity_model, cos, pear]\n",
    "models_w_dummy = [pop_dummy, cos_dummy, pear_dummy]\n",
    "models_w_norm = [pop_norm, cos_norm, pear_norm]\n",
    "\n",
    "names_w_counts = ['Popularity Model on Purchase Counts', 'Cosine Similarity on Purchase Counts', 'Pearson Similarity on Purchase Counts']\n",
    "names_w_dummy = ['Popularity Model on Purchase Dummy', 'Cosine Similarity on Purchase Dummy', 'Pearson Similarity on Purchase Dummy']\n",
    "names_w_norm = ['Popularity Model on Scaled Purchase Counts', 'Cosine Similarity on Scaled Purchase Counts', 'Pearson Similarity on Scaled Purchase Counts']"
   ]
  },
  {
   "cell_type": "code",
   "execution_count": 36,
   "metadata": {},
   "outputs": [
    {
     "name": "stdout",
     "output_type": "stream",
     "text": [
      "PROGRESS: Evaluate model Popularity Model on Purchase Counts\n",
      "\n",
      "Precision and recall summary statistics by cutoff\n",
      "+--------+-------------------+-------------------+\n",
      "| cutoff |   mean_precision  |    mean_recall    |\n",
      "+--------+-------------------+-------------------+\n",
      "|   1    |  0.00213675213675 | 0.000125691302162 |\n",
      "|   2    |  0.00106837606838 | 0.000125691302162 |\n",
      "|   3    | 0.000712250712251 | 0.000125691302162 |\n",
      "|   4    |  0.00106837606838 | 0.000363108206245 |\n",
      "|   5    | 0.000854700854701 | 0.000363108206245 |\n",
      "|   6    |  0.00178062678063 |  0.0036394614826  |\n",
      "|   7    |  0.0018315018315  |  0.00406681190995 |\n",
      "|   8    |  0.00160256410256 |  0.00406681190995 |\n",
      "|   9    |  0.0014245014245  |  0.00406681190995 |\n",
      "|   10   |  0.00149572649573 |  0.00428048712362 |\n",
      "+--------+-------------------+-------------------+\n",
      "[10 rows x 3 columns]\n",
      "\n",
      "\n",
      "Overall RMSE: 0.739923182125\n",
      "\n",
      "Per User RMSE (best)\n",
      "+------------+-------+------+\n",
      "| customerId | count | rmse |\n",
      "+------------+-------+------+\n",
      "|   17857    |   2   | 0.0  |\n",
      "+------------+-------+------+\n",
      "[1 rows x 3 columns]\n",
      "\n",
      "\n",
      "Per User RMSE (worst)\n",
      "+------------+-------+--------------+\n",
      "| customerId | count |     rmse     |\n",
      "+------------+-------+--------------+\n",
      "|   17850    |   5   | 13.901291458 |\n",
      "+------------+-------+--------------+\n",
      "[1 rows x 3 columns]\n",
      "\n",
      "\n",
      "Per Item RMSE (best)\n",
      "+-----------+-------+------+\n",
      "| productId | count | rmse |\n",
      "+-----------+-------+------+\n",
      "|   21929   |   6   | 0.0  |\n",
      "+-----------+-------+------+\n",
      "[1 rows x 3 columns]\n",
      "\n",
      "\n",
      "Per Item RMSE (worst)\n",
      "+-----------+-------+--------------+\n",
      "| productId | count |     rmse     |\n",
      "+-----------+-------+--------------+\n",
      "|   71053   |   2   | 11.313708499 |\n",
      "+-----------+-------+--------------+\n",
      "[1 rows x 3 columns]\n",
      "\n",
      "PROGRESS: Evaluate model Cosine Similarity on Purchase Counts\n",
      "\n",
      "Precision and recall summary statistics by cutoff\n",
      "+--------+-----------------+-----------------+\n",
      "| cutoff |  mean_precision |   mean_recall   |\n",
      "+--------+-----------------+-----------------+\n",
      "|   1    | 0.0534188034188 | 0.0171749398512 |\n",
      "|   2    | 0.0480769230769 | 0.0329479785409 |\n",
      "|   3    | 0.0434472934473 | 0.0440209333639 |\n",
      "|   4    |  0.036858974359 | 0.0485674670771 |\n",
      "|   5    |  0.032905982906 | 0.0543198165794 |\n",
      "|   6    | 0.0292022792023 | 0.0571891694488 |\n",
      "|   7    | 0.0274725274725 | 0.0641539639136 |\n",
      "|   8    | 0.0245726495726 | 0.0648865646462 |\n",
      "|   9    | 0.0232668566002 | 0.0688395560992 |\n",
      "|   10   | 0.0220085470085 | 0.0708964735407 |\n",
      "+--------+-----------------+-----------------+\n",
      "[10 rows x 3 columns]\n",
      "\n",
      "\n",
      "Overall RMSE: 1.28353716018\n",
      "\n",
      "Per User RMSE (best)\n",
      "+------------+-------+----------------+\n",
      "| customerId | count |      rmse      |\n",
      "+------------+-------+----------------+\n",
      "|   12557    |   2   | 0.638479056353 |\n",
      "+------------+-------+----------------+\n",
      "[1 rows x 3 columns]\n",
      "\n",
      "\n",
      "Per User RMSE (worst)\n",
      "+------------+-------+--------------+\n",
      "| customerId | count |     rmse     |\n",
      "+------------+-------+--------------+\n",
      "|   17850    |   5   | 14.786742744 |\n",
      "+------------+-------+--------------+\n",
      "[1 rows x 3 columns]\n",
      "\n",
      "\n",
      "Per Item RMSE (best)\n",
      "+-----------+-------+----------------+\n",
      "| productId | count |      rmse      |\n",
      "+-----------+-------+----------------+\n",
      "|   21936   |   1   | 0.800410246849 |\n",
      "+-----------+-------+----------------+\n",
      "[1 rows x 3 columns]\n",
      "\n",
      "\n",
      "Per Item RMSE (worst)\n",
      "+-----------+-------+---------------+\n",
      "| productId | count |      rmse     |\n",
      "+-----------+-------+---------------+\n",
      "|   71053   |   2   | 12.0415945788 |\n",
      "+-----------+-------+---------------+\n",
      "[1 rows x 3 columns]\n",
      "\n",
      "PROGRESS: Evaluate model Pearson Similarity on Purchase Counts\n",
      "\n",
      "Precision and recall summary statistics by cutoff\n",
      "+--------+-------------------+-------------------+\n",
      "| cutoff |   mean_precision  |    mean_recall    |\n",
      "+--------+-------------------+-------------------+\n",
      "|   1    |  0.00213675213675 | 0.000125691302162 |\n",
      "|   2    |  0.00106837606838 | 0.000125691302162 |\n",
      "|   3    | 0.000712250712251 | 0.000125691302162 |\n",
      "|   4    |  0.00106837606838 | 0.000363108206245 |\n",
      "|   5    | 0.000854700854701 | 0.000363108206245 |\n",
      "|   6    |  0.00178062678063 |  0.0036394614826  |\n",
      "|   7    |  0.00152625152625 |  0.0036394614826  |\n",
      "|   8    |  0.00133547008547 |  0.0036394614826  |\n",
      "|   9    |  0.00118708452042 |  0.0036394614826  |\n",
      "|   10   |  0.00128205128205 |  0.00385313669627 |\n",
      "+--------+-------------------+-------------------+\n",
      "[10 rows x 3 columns]\n",
      "\n",
      "\n",
      "Overall RMSE: 0.78456482953\n",
      "\n",
      "Per User RMSE (best)\n",
      "+------------+-------+------+\n",
      "| customerId | count | rmse |\n",
      "+------------+-------+------+\n",
      "|   17857    |   2   | 0.0  |\n",
      "+------------+-------+------+\n",
      "[1 rows x 3 columns]\n",
      "\n",
      "\n",
      "Per User RMSE (worst)\n",
      "+------------+-------+---------------+\n",
      "| customerId | count |      rmse     |\n",
      "+------------+-------+---------------+\n",
      "|   17850    |   5   | 13.8707305606 |\n",
      "+------------+-------+---------------+\n",
      "[1 rows x 3 columns]\n",
      "\n",
      "\n",
      "Per Item RMSE (best)\n",
      "+-----------+-------+------+\n",
      "| productId | count | rmse |\n",
      "+-----------+-------+------+\n",
      "|   21929   |   6   | 0.0  |\n",
      "+-----------+-------+------+\n",
      "[1 rows x 3 columns]\n",
      "\n",
      "\n",
      "Per Item RMSE (worst)\n",
      "+-----------+-------+--------------+\n",
      "| productId | count |     rmse     |\n",
      "+-----------+-------+--------------+\n",
      "|   71053   |   2   | 11.313708499 |\n",
      "+-----------+-------+--------------+\n",
      "[1 rows x 3 columns]\n",
      "\n"
     ]
    }
   ],
   "source": [
    "eval_counts = tc.recommender.util.compare_models(test_data, models_w_counts, model_names=names_w_counts)"
   ]
  },
  {
   "cell_type": "code",
   "execution_count": 37,
   "metadata": {},
   "outputs": [
    {
     "name": "stdout",
     "output_type": "stream",
     "text": [
      "PROGRESS: Evaluate model Popularity Model on Purchase Dummy\n",
      "\n",
      "Precision and recall summary statistics by cutoff\n",
      "+--------+------------------+------------------+\n",
      "| cutoff |  mean_precision  |   mean_recall    |\n",
      "+--------+------------------+------------------+\n",
      "|   1    |       0.0        |       0.0        |\n",
      "|   2    | 0.00108459869848 | 0.00108459869848 |\n",
      "|   3    | 0.00289226319595 | 0.00158423463738 |\n",
      "|   4    | 0.0027114967462  | 0.00172884779718 |\n",
      "|   5    | 0.00216919739696 | 0.00172884779718 |\n",
      "|   6    | 0.00216919739696 | 0.00183730766703 |\n",
      "|   7    | 0.00216919739696 | 0.00214719300945 |\n",
      "|   8    | 0.00216919739696 | 0.00234439277281 |\n",
      "|   9    | 0.00216919739696 | 0.0027782322522  |\n",
      "|   10   | 0.00195227765727 | 0.0027782322522  |\n",
      "+--------+------------------+------------------+\n",
      "[10 rows x 3 columns]\n",
      "\n",
      "\n",
      "Overall RMSE: 0.0\n",
      "\n",
      "Per User RMSE (best)\n",
      "+------------+-------+------+\n",
      "| customerId | count | rmse |\n",
      "+------------+-------+------+\n",
      "|   15983    |   9   | 0.0  |\n",
      "+------------+-------+------+\n",
      "[1 rows x 3 columns]\n",
      "\n",
      "\n",
      "Per User RMSE (worst)\n",
      "+------------+-------+------+\n",
      "| customerId | count | rmse |\n",
      "+------------+-------+------+\n",
      "|   16241    |   3   | 0.0  |\n",
      "+------------+-------+------+\n",
      "[1 rows x 3 columns]\n",
      "\n",
      "\n",
      "Per Item RMSE (best)\n",
      "+-----------+-------+------+\n",
      "| productId | count | rmse |\n",
      "+-----------+-------+------+\n",
      "|   20867   |   1   | 0.0  |\n",
      "+-----------+-------+------+\n",
      "[1 rows x 3 columns]\n",
      "\n",
      "\n",
      "Per Item RMSE (worst)\n",
      "+-----------+-------+------+\n",
      "| productId | count | rmse |\n",
      "+-----------+-------+------+\n",
      "|   22176   |   1   | 0.0  |\n",
      "+-----------+-------+------+\n",
      "[1 rows x 3 columns]\n",
      "\n",
      "PROGRESS: Evaluate model Cosine Similarity on Purchase Dummy\n",
      "\n",
      "Precision and recall summary statistics by cutoff\n",
      "+--------+-----------------+-----------------+\n",
      "| cutoff |  mean_precision |   mean_recall   |\n",
      "+--------+-----------------+-----------------+\n",
      "|   1    | 0.0737527114967 |  0.023569440923 |\n",
      "|   2    | 0.0694143167028 | 0.0490625426634 |\n",
      "|   3    |  0.05712219812  |  0.059317110944 |\n",
      "|   4    | 0.0477223427332 | 0.0649396758941 |\n",
      "|   5    | 0.0412147505423 | 0.0675109416975 |\n",
      "|   6    | 0.0390455531453 | 0.0743886747141 |\n",
      "|   7    |  0.034397273009 | 0.0754897067261 |\n",
      "|   8    |  0.031453362256 | 0.0803445770908 |\n",
      "|   9    | 0.0294046758255 | 0.0831421530988 |\n",
      "|   10   | 0.0281995661605 | 0.0870741213474 |\n",
      "+--------+-----------------+-----------------+\n",
      "[10 rows x 3 columns]\n",
      "\n",
      "\n",
      "Overall RMSE: 0.981571433537\n",
      "\n",
      "Per User RMSE (best)\n",
      "+------------+-------+----------------+\n",
      "| customerId | count |      rmse      |\n",
      "+------------+-------+----------------+\n",
      "|   16638    |   1   | 0.508289217949 |\n",
      "+------------+-------+----------------+\n",
      "[1 rows x 3 columns]\n",
      "\n",
      "\n",
      "Per User RMSE (worst)\n",
      "+------------+-------+------+\n",
      "| customerId | count | rmse |\n",
      "+------------+-------+------+\n",
      "|   16905    |   1   | 1.0  |\n",
      "+------------+-------+------+\n",
      "[1 rows x 3 columns]\n",
      "\n",
      "\n",
      "Per Item RMSE (best)\n",
      "+-----------+-------+----------------+\n",
      "| productId | count |      rmse      |\n",
      "+-----------+-------+----------------+\n",
      "|   22332   |   1   | 0.726142221376 |\n",
      "+-----------+-------+----------------+\n",
      "[1 rows x 3 columns]\n",
      "\n",
      "\n",
      "Per Item RMSE (worst)\n",
      "+-----------+-------+------+\n",
      "| productId | count | rmse |\n",
      "+-----------+-------+------+\n",
      "|   22396   |   2   | 1.0  |\n",
      "+-----------+-------+------+\n",
      "[1 rows x 3 columns]\n",
      "\n",
      "PROGRESS: Evaluate model Pearson Similarity on Purchase Dummy\n",
      "\n",
      "Precision and recall summary statistics by cutoff\n",
      "+--------+------------------+------------------+\n",
      "| cutoff |  mean_precision  |   mean_recall    |\n",
      "+--------+------------------+------------------+\n",
      "|   1    |       0.0        |       0.0        |\n",
      "|   2    | 0.00108459869848 | 0.00108459869848 |\n",
      "|   3    | 0.00289226319595 | 0.00158423463738 |\n",
      "|   4    | 0.0027114967462  | 0.00172884779718 |\n",
      "|   5    | 0.00216919739696 | 0.00172884779718 |\n",
      "|   6    | 0.00216919739696 | 0.00183730766703 |\n",
      "|   7    | 0.00216919739696 | 0.00214719300945 |\n",
      "|   8    | 0.00216919739696 | 0.00234439277281 |\n",
      "|   9    | 0.00216919739696 | 0.0027782322522  |\n",
      "|   10   | 0.00195227765727 | 0.0027782322522  |\n",
      "+--------+------------------+------------------+\n",
      "[10 rows x 3 columns]\n",
      "\n",
      "\n",
      "Overall RMSE: 1.0\n",
      "\n",
      "Per User RMSE (best)\n",
      "+------------+-------+------+\n",
      "| customerId | count | rmse |\n",
      "+------------+-------+------+\n",
      "|   15983    |   9   | 1.0  |\n",
      "+------------+-------+------+\n",
      "[1 rows x 3 columns]\n",
      "\n",
      "\n",
      "Per User RMSE (worst)\n",
      "+------------+-------+------+\n",
      "| customerId | count | rmse |\n",
      "+------------+-------+------+\n",
      "|   16241    |   3   | 1.0  |\n",
      "+------------+-------+------+\n",
      "[1 rows x 3 columns]\n",
      "\n",
      "\n",
      "Per Item RMSE (best)\n",
      "+-----------+-------+------+\n",
      "| productId | count | rmse |\n",
      "+-----------+-------+------+\n",
      "|   20867   |   1   | 1.0  |\n",
      "+-----------+-------+------+\n",
      "[1 rows x 3 columns]\n",
      "\n",
      "\n",
      "Per Item RMSE (worst)\n",
      "+-----------+-------+------+\n",
      "| productId | count | rmse |\n",
      "+-----------+-------+------+\n",
      "|   22176   |   1   | 1.0  |\n",
      "+-----------+-------+------+\n",
      "[1 rows x 3 columns]\n",
      "\n"
     ]
    }
   ],
   "source": [
    "eval_dummy = tc.recommender.util.compare_models(test_data_dummy, models_w_dummy, model_names=names_w_dummy)"
   ]
  },
  {
   "cell_type": "code",
   "execution_count": 38,
   "metadata": {},
   "outputs": [
    {
     "name": "stdout",
     "output_type": "stream",
     "text": [
      "PROGRESS: Evaluate model Popularity Model on Scaled Purchase Counts\n",
      "\n",
      "Precision and recall summary statistics by cutoff\n",
      "+--------+------------------+-------------------+\n",
      "| cutoff |  mean_precision  |    mean_recall    |\n",
      "+--------+------------------+-------------------+\n",
      "|   1    | 0.00251256281407 | 0.000251256281407 |\n",
      "|   2    | 0.00376884422111 |  0.00234505862647 |\n",
      "|   3    | 0.00335008375209 |  0.00276381909548 |\n",
      "|   4    | 0.00314070351759 |  0.00288346494377 |\n",
      "|   5    | 0.00402010050251 |  0.00439100263221 |\n",
      "|   6    | 0.00376884422111 |  0.00522852357023 |\n",
      "|   7    | 0.00430725053841 |  0.0060200268743  |\n",
      "|   8    | 0.00408291457286 |  0.00664816757782 |\n",
      "|   9    | 0.00390843104411 |  0.00692734122382 |\n",
      "|   10   | 0.0035175879397  |  0.00692734122382 |\n",
      "+--------+------------------+-------------------+\n",
      "[10 rows x 3 columns]\n",
      "\n",
      "\n",
      "Overall RMSE: 0.352527142163\n",
      "\n",
      "Per User RMSE (best)\n",
      "+------------+-------+------+\n",
      "| customerId | count | rmse |\n",
      "+------------+-------+------+\n",
      "|   13786    |   1   | 0.0  |\n",
      "+------------+-------+------+\n",
      "[1 rows x 3 columns]\n",
      "\n",
      "\n",
      "Per User RMSE (worst)\n",
      "+------------+-------+------+\n",
      "| customerId | count | rmse |\n",
      "+------------+-------+------+\n",
      "|   16858    |   1   | 1.0  |\n",
      "+------------+-------+------+\n",
      "[1 rows x 3 columns]\n",
      "\n",
      "\n",
      "Per Item RMSE (best)\n",
      "+-----------+-------+-----------------+\n",
      "| productId | count |       rmse      |\n",
      "+-----------+-------+-----------------+\n",
      "|   22632   |   8   | 0.0272112995557 |\n",
      "+-----------+-------+-----------------+\n",
      "[1 rows x 3 columns]\n",
      "\n",
      "\n",
      "Per Item RMSE (worst)\n",
      "+-----------+-------+------+\n",
      "| productId | count | rmse |\n",
      "+-----------+-------+------+\n",
      "|   62018   |   1   | 1.0  |\n",
      "+-----------+-------+------+\n",
      "[1 rows x 3 columns]\n",
      "\n",
      "PROGRESS: Evaluate model Cosine Similarity on Scaled Purchase Counts\n",
      "\n",
      "Precision and recall summary statistics by cutoff\n",
      "+--------+------------------+-------------------+\n",
      "| cutoff |  mean_precision  |    mean_recall    |\n",
      "+--------+------------------+-------------------+\n",
      "|   1    | 0.00502512562814 | 0.000921273031826 |\n",
      "|   2    | 0.00628140703518 |  0.00223737736301 |\n",
      "|   3    | 0.00502512562814 |  0.00235702321129 |\n",
      "|   4    | 0.00690954773869 |  0.00416068437425 |\n",
      "|   5    | 0.00552763819095 |  0.00416068437425 |\n",
      "|   6    | 0.00502512562814 |  0.00457944484326 |\n",
      "|   7    | 0.00466618808327 |  0.00483070112467 |\n",
      "|   8    | 0.00471105527638 |  0.00546545383559 |\n",
      "|   9    | 0.00446677833613 |  0.00596796639841 |\n",
      "|   10   | 0.00427135678392 |  0.00632690394328 |\n",
      "+--------+------------------+-------------------+\n",
      "[10 rows x 3 columns]\n",
      "\n",
      "\n",
      "Overall RMSE: 0.330433065148\n",
      "\n",
      "Per User RMSE (best)\n",
      "+------------+-------+------+\n",
      "| customerId | count | rmse |\n",
      "+------------+-------+------+\n",
      "|   15005    |   6   | 0.0  |\n",
      "+------------+-------+------+\n",
      "[1 rows x 3 columns]\n",
      "\n",
      "\n",
      "Per User RMSE (worst)\n",
      "+------------+-------+------+\n",
      "| customerId | count | rmse |\n",
      "+------------+-------+------+\n",
      "|   14766    |   1   | 1.0  |\n",
      "+------------+-------+------+\n",
      "[1 rows x 3 columns]\n",
      "\n",
      "\n",
      "Per Item RMSE (best)\n",
      "+-----------+-------+------+\n",
      "| productId | count | rmse |\n",
      "+-----------+-------+------+\n",
      "|   21977   |   5   | 0.0  |\n",
      "+-----------+-------+------+\n",
      "[1 rows x 3 columns]\n",
      "\n",
      "\n",
      "Per Item RMSE (worst)\n",
      "+-----------+-------+------+\n",
      "| productId | count | rmse |\n",
      "+-----------+-------+------+\n",
      "|   22902   |   1   | 1.0  |\n",
      "+-----------+-------+------+\n",
      "[1 rows x 3 columns]\n",
      "\n",
      "PROGRESS: Evaluate model Pearson Similarity on Scaled Purchase Counts\n",
      "\n",
      "Precision and recall summary statistics by cutoff\n",
      "+--------+------------------+-------------------+\n",
      "| cutoff |  mean_precision  |    mean_recall    |\n",
      "+--------+------------------+-------------------+\n",
      "|   1    | 0.00251256281407 | 0.000251256281407 |\n",
      "|   2    | 0.00628140703518 |  0.00318257956449 |\n",
      "|   3    | 0.00502512562814 |  0.00402010050251 |\n",
      "|   4    | 0.00439698492462 |  0.0041397463508  |\n",
      "|   5    | 0.00452261306533 |  0.00473797559225 |\n",
      "|   6    | 0.00418760469012 |  0.00557549653027 |\n",
      "|   7    | 0.00430725053841 |  0.0060200268743  |\n",
      "|   8    | 0.00376884422111 |  0.0060200268743  |\n",
      "|   9    | 0.0036292573981  |  0.00629920052031 |\n",
      "|   10   | 0.00376884422111 |  0.00705958137193 |\n",
      "+--------+------------------+-------------------+\n",
      "[10 rows x 3 columns]\n",
      "\n",
      "\n",
      "Overall RMSE: 0.352080185959\n",
      "\n",
      "Per User RMSE (best)\n",
      "+------------+-------+------+\n",
      "| customerId | count | rmse |\n",
      "+------------+-------+------+\n",
      "|   13786    |   1   | 0.0  |\n",
      "+------------+-------+------+\n",
      "[1 rows x 3 columns]\n",
      "\n",
      "\n",
      "Per User RMSE (worst)\n",
      "+------------+-------+------+\n",
      "| customerId | count | rmse |\n",
      "+------------+-------+------+\n",
      "|   15221    |   1   | 1.0  |\n",
      "+------------+-------+------+\n",
      "[1 rows x 3 columns]\n",
      "\n",
      "\n",
      "Per Item RMSE (best)\n",
      "+-----------+-------+-----------------+\n",
      "| productId | count |       rmse      |\n",
      "+-----------+-------+-----------------+\n",
      "|   22632   |   8   | 0.0260369090516 |\n",
      "+-----------+-------+-----------------+\n",
      "[1 rows x 3 columns]\n",
      "\n",
      "\n",
      "Per Item RMSE (worst)\n",
      "+-----------+-------+------+\n",
      "| productId | count | rmse |\n",
      "+-----------+-------+------+\n",
      "|   62018   |   1   | 1.0  |\n",
      "+-----------+-------+------+\n",
      "[1 rows x 3 columns]\n",
      "\n"
     ]
    }
   ],
   "source": [
    "eval_norm = tc.recommender.util.compare_models(test_data_norm, models_w_norm, model_names=names_w_norm)"
   ]
  },
  {
   "cell_type": "code",
   "execution_count": 39,
   "metadata": {},
   "outputs": [
    {
     "data": {
      "text/html": [
       "<pre>Warning: Ignoring columns purchase_count;</pre>"
      ],
      "text/plain": [
       "Warning: Ignoring columns purchase_count;"
      ]
     },
     "metadata": {},
     "output_type": "display_data"
    },
    {
     "data": {
      "text/html": [
       "<pre>    To use these columns in scoring predictions, use a model that allows the use of additional features.</pre>"
      ],
      "text/plain": [
       "    To use these columns in scoring predictions, use a model that allows the use of additional features."
      ]
     },
     "metadata": {},
     "output_type": "display_data"
    },
    {
     "data": {
      "text/html": [
       "<pre>Preparing data set.</pre>"
      ],
      "text/plain": [
       "Preparing data set."
      ]
     },
     "metadata": {},
     "output_type": "display_data"
    },
    {
     "data": {
      "text/html": [
       "<pre>    Data has 12094 observations with 559 users and 1969 items.</pre>"
      ],
      "text/plain": [
       "    Data has 12094 observations with 559 users and 1969 items."
      ]
     },
     "metadata": {},
     "output_type": "display_data"
    },
    {
     "data": {
      "text/html": [
       "<pre>    Data prepared in: 0.023404s</pre>"
      ],
      "text/plain": [
       "    Data prepared in: 0.023404s"
      ]
     },
     "metadata": {},
     "output_type": "display_data"
    },
    {
     "data": {
      "text/html": [
       "<pre>Training model from provided data.</pre>"
      ],
      "text/plain": [
       "Training model from provided data."
      ]
     },
     "metadata": {},
     "output_type": "display_data"
    },
    {
     "data": {
      "text/html": [
       "<pre>Gathering per-item and per-user statistics.</pre>"
      ],
      "text/plain": [
       "Gathering per-item and per-user statistics."
      ]
     },
     "metadata": {},
     "output_type": "display_data"
    },
    {
     "data": {
      "text/html": [
       "<pre>+--------------------------------+------------+</pre>"
      ],
      "text/plain": [
       "+--------------------------------+------------+"
      ]
     },
     "metadata": {},
     "output_type": "display_data"
    },
    {
     "data": {
      "text/html": [
       "<pre>| Elapsed Time (Item Statistics) | % Complete |</pre>"
      ],
      "text/plain": [
       "| Elapsed Time (Item Statistics) | % Complete |"
      ]
     },
     "metadata": {},
     "output_type": "display_data"
    },
    {
     "data": {
      "text/html": [
       "<pre>+--------------------------------+------------+</pre>"
      ],
      "text/plain": [
       "+--------------------------------+------------+"
      ]
     },
     "metadata": {},
     "output_type": "display_data"
    },
    {
     "data": {
      "text/html": [
       "<pre>| 669us                          | 100        |</pre>"
      ],
      "text/plain": [
       "| 669us                          | 100        |"
      ]
     },
     "metadata": {},
     "output_type": "display_data"
    },
    {
     "data": {
      "text/html": [
       "<pre>+--------------------------------+------------+</pre>"
      ],
      "text/plain": [
       "+--------------------------------+------------+"
      ]
     },
     "metadata": {},
     "output_type": "display_data"
    },
    {
     "data": {
      "text/html": [
       "<pre>Setting up lookup tables.</pre>"
      ],
      "text/plain": [
       "Setting up lookup tables."
      ]
     },
     "metadata": {},
     "output_type": "display_data"
    },
    {
     "data": {
      "text/html": [
       "<pre>Processing data in one pass using dense lookup tables.</pre>"
      ],
      "text/plain": [
       "Processing data in one pass using dense lookup tables."
      ]
     },
     "metadata": {},
     "output_type": "display_data"
    },
    {
     "data": {
      "text/html": [
       "<pre>+-------------------------------------+------------------+-----------------+</pre>"
      ],
      "text/plain": [
       "+-------------------------------------+------------------+-----------------+"
      ]
     },
     "metadata": {},
     "output_type": "display_data"
    },
    {
     "data": {
      "text/html": [
       "<pre>| Elapsed Time (Constructing Lookups) | Total % Complete | Items Processed |</pre>"
      ],
      "text/plain": [
       "| Elapsed Time (Constructing Lookups) | Total % Complete | Items Processed |"
      ]
     },
     "metadata": {},
     "output_type": "display_data"
    },
    {
     "data": {
      "text/html": [
       "<pre>+-------------------------------------+------------------+-----------------+</pre>"
      ],
      "text/plain": [
       "+-------------------------------------+------------------+-----------------+"
      ]
     },
     "metadata": {},
     "output_type": "display_data"
    },
    {
     "data": {
      "text/html": [
       "<pre>| 11.986ms                            | 0                | 1               |</pre>"
      ],
      "text/plain": [
       "| 11.986ms                            | 0                | 1               |"
      ]
     },
     "metadata": {},
     "output_type": "display_data"
    },
    {
     "data": {
      "text/html": [
       "<pre>| 77.256ms                            | 100              | 1969            |</pre>"
      ],
      "text/plain": [
       "| 77.256ms                            | 100              | 1969            |"
      ]
     },
     "metadata": {},
     "output_type": "display_data"
    },
    {
     "data": {
      "text/html": [
       "<pre>+-------------------------------------+------------------+-----------------+</pre>"
      ],
      "text/plain": [
       "+-------------------------------------+------------------+-----------------+"
      ]
     },
     "metadata": {},
     "output_type": "display_data"
    },
    {
     "data": {
      "text/html": [
       "<pre>Finalizing lookup tables.</pre>"
      ],
      "text/plain": [
       "Finalizing lookup tables."
      ]
     },
     "metadata": {},
     "output_type": "display_data"
    },
    {
     "data": {
      "text/html": [
       "<pre>Generating candidate set for working with new users.</pre>"
      ],
      "text/plain": [
       "Generating candidate set for working with new users."
      ]
     },
     "metadata": {},
     "output_type": "display_data"
    },
    {
     "data": {
      "text/html": [
       "<pre>Finished training in 0.083465s</pre>"
      ],
      "text/plain": [
       "Finished training in 0.083465s"
      ]
     },
     "metadata": {},
     "output_type": "display_data"
    },
    {
     "name": "stdout",
     "output_type": "stream",
     "text": [
      "+------------+-----------+-----------------+------+\n",
      "| customerId | productId |      score      | rank |\n",
      "+------------+-----------+-----------------+------+\n",
      "|   14176    |   84709B  | 0.0828823844592 |  1   |\n",
      "|   14176    |   22068   | 0.0828823844592 |  2   |\n",
      "|   14176    |   78124   | 0.0812797678841 |  3   |\n",
      "|   14176    |   71496A  | 0.0812797678841 |  4   |\n",
      "|   14176    |   71495B  | 0.0812797678841 |  5   |\n",
      "|   14176    |   22513   | 0.0812797678841 |  6   |\n",
      "|   14176    |   21201   | 0.0792641573482 |  7   |\n",
      "|   14176    |   84509A  | 0.0746109551854 |  8   |\n",
      "|   14176    |   21205   | 0.0728127360344 |  9   |\n",
      "|   14176    |   20618   | 0.0728127360344 |  10  |\n",
      "|   13305    |   22116   |  0.170710682869 |  1   |\n",
      "|   13305    |   85129C  |  0.170710682869 |  2   |\n",
      "|   13305    |   85130A  |  0.139384686947 |  3   |\n",
      "|   13305    |   21333   |  0.136251199245 |  4   |\n",
      "|   13305    |   21179   |  0.120710682869 |  5   |\n",
      "|   13305    |   21640   |       0.1       |  6   |\n",
      "|   13305    |   22252   |       0.1       |  7   |\n",
      "|   13305    |   22251   |       0.1       |  8   |\n",
      "|   13305    |   22456   | 0.0985598564148 |  9   |\n",
      "|   13305    |   82551   | 0.0912487030029 |  10  |\n",
      "|   14679    |   84963A  |  0.577350258827 |  1   |\n",
      "|   14679    |   84279P  |  0.577350258827 |  2   |\n",
      "|   14679    |   22390   |  0.577350258827 |  3   |\n",
      "|   14679    |   21774   |  0.577350258827 |  4   |\n",
      "|   14679    |   21555   |  0.577350258827 |  5   |\n",
      "|   14679    |   21439   |  0.577350258827 |  6   |\n",
      "|   14679    |   21195   |  0.577350258827 |  7   |\n",
      "|   14679    |   84870B  |  0.408248305321 |  8   |\n",
      "|   14679    |   22483   |  0.408248305321 |  9   |\n",
      "|   14679    |   21829   |  0.408248305321 |  10  |\n",
      "+------------+-----------+-----------------+------+\n",
      "[5590 rows x 4 columns]\n",
      "\n"
     ]
    }
   ],
   "source": [
    "users_to_recommend = list(customers[user_id])\n",
    "\n",
    "final_model = tc.item_similarity_recommender.create(tc.SFrame(data_dummy), \n",
    "                                            user_id=user_id, \n",
    "                                            item_id=item_id, \n",
    "                                            target='purchase_dummy', \n",
    "                                            similarity_type='cosine')\n",
    "\n",
    "recom = final_model.recommend(users=users_to_recommend, k=n_rec)\n",
    "recom.print_rows(n_display)"
   ]
  },
  {
   "cell_type": "code",
   "execution_count": 40,
   "metadata": {},
   "outputs": [
    {
     "name": "stdout",
     "output_type": "stream",
     "text": [
      "(5590, 4)\n"
     ]
    },
    {
     "data": {
      "text/html": [
       "<div>\n",
       "<style scoped>\n",
       "    .dataframe tbody tr th:only-of-type {\n",
       "        vertical-align: middle;\n",
       "    }\n",
       "\n",
       "    .dataframe tbody tr th {\n",
       "        vertical-align: top;\n",
       "    }\n",
       "\n",
       "    .dataframe thead th {\n",
       "        text-align: right;\n",
       "    }\n",
       "</style>\n",
       "<table border=\"1\" class=\"dataframe\">\n",
       "  <thead>\n",
       "    <tr style=\"text-align: right;\">\n",
       "      <th></th>\n",
       "      <th>customerId</th>\n",
       "      <th>productId</th>\n",
       "      <th>score</th>\n",
       "      <th>rank</th>\n",
       "    </tr>\n",
       "  </thead>\n",
       "  <tbody>\n",
       "    <tr>\n",
       "      <th>0</th>\n",
       "      <td>14176</td>\n",
       "      <td>84709B</td>\n",
       "      <td>0.082882</td>\n",
       "      <td>1</td>\n",
       "    </tr>\n",
       "    <tr>\n",
       "      <th>1</th>\n",
       "      <td>14176</td>\n",
       "      <td>22068</td>\n",
       "      <td>0.082882</td>\n",
       "      <td>2</td>\n",
       "    </tr>\n",
       "    <tr>\n",
       "      <th>2</th>\n",
       "      <td>14176</td>\n",
       "      <td>78124</td>\n",
       "      <td>0.081280</td>\n",
       "      <td>3</td>\n",
       "    </tr>\n",
       "    <tr>\n",
       "      <th>3</th>\n",
       "      <td>14176</td>\n",
       "      <td>71496A</td>\n",
       "      <td>0.081280</td>\n",
       "      <td>4</td>\n",
       "    </tr>\n",
       "    <tr>\n",
       "      <th>4</th>\n",
       "      <td>14176</td>\n",
       "      <td>71495B</td>\n",
       "      <td>0.081280</td>\n",
       "      <td>5</td>\n",
       "    </tr>\n",
       "  </tbody>\n",
       "</table>\n",
       "</div>"
      ],
      "text/plain": [
       "  customerId productId     score  rank\n",
       "0      14176    84709B  0.082882     1\n",
       "1      14176     22068  0.082882     2\n",
       "2      14176     78124  0.081280     3\n",
       "3      14176    71496A  0.081280     4\n",
       "4      14176    71495B  0.081280     5"
      ]
     },
     "execution_count": 40,
     "metadata": {},
     "output_type": "execute_result"
    }
   ],
   "source": [
    "df_rec = recom.to_dataframe()\n",
    "print(df_rec.shape)\n",
    "df_rec.head()"
   ]
  },
  {
   "cell_type": "code",
   "execution_count": 41,
   "metadata": {},
   "outputs": [
    {
     "data": {
      "text/html": [
       "<div>\n",
       "<style scoped>\n",
       "    .dataframe tbody tr th:only-of-type {\n",
       "        vertical-align: middle;\n",
       "    }\n",
       "\n",
       "    .dataframe tbody tr th {\n",
       "        vertical-align: top;\n",
       "    }\n",
       "\n",
       "    .dataframe thead th {\n",
       "        text-align: right;\n",
       "    }\n",
       "</style>\n",
       "<table border=\"1\" class=\"dataframe\">\n",
       "  <thead>\n",
       "    <tr style=\"text-align: right;\">\n",
       "      <th></th>\n",
       "      <th>recommendedProducts</th>\n",
       "    </tr>\n",
       "    <tr>\n",
       "      <th>customerId</th>\n",
       "      <th></th>\n",
       "    </tr>\n",
       "  </thead>\n",
       "  <tbody>\n",
       "    <tr>\n",
       "      <th>12347</th>\n",
       "      <td>22730|84952A|21846|84997A|20655|21672|85068|47...</td>\n",
       "    </tr>\n",
       "    <tr>\n",
       "      <th>12386</th>\n",
       "      <td>22553|22515|21534|22551|84658|84247E|84534B|20...</td>\n",
       "    </tr>\n",
       "    <tr>\n",
       "      <th>12395</th>\n",
       "      <td>84991|22951|85170D|22134|22949|21213|22932|211...</td>\n",
       "    </tr>\n",
       "    <tr>\n",
       "      <th>12427</th>\n",
       "      <td>21327|21785|21650|21209|21167|21090|20839|2077...</td>\n",
       "    </tr>\n",
       "    <tr>\n",
       "      <th>12431</th>\n",
       "      <td>22728|22729|22725|22730|20655|15056N|47563A|21...</td>\n",
       "    </tr>\n",
       "  </tbody>\n",
       "</table>\n",
       "</div>"
      ],
      "text/plain": [
       "                                          recommendedProducts\n",
       "customerId                                                   \n",
       "12347       22730|84952A|21846|84997A|20655|21672|85068|47...\n",
       "12386       22553|22515|21534|22551|84658|84247E|84534B|20...\n",
       "12395       84991|22951|85170D|22134|22949|21213|22932|211...\n",
       "12427       21327|21785|21650|21209|21167|21090|20839|2077...\n",
       "12431       22728|22729|22725|22730|20655|15056N|47563A|21..."
      ]
     },
     "execution_count": 41,
     "metadata": {},
     "output_type": "execute_result"
    }
   ],
   "source": [
    "df_rec['recommendedProducts'] = df_rec.groupby([user_id])[item_id].transform(lambda x: '|'.join(x.astype(str)))\n",
    "df_output = df_rec[['customerId', 'recommendedProducts']].drop_duplicates().sort_values('customerId').set_index('customerId')\n",
    "df_output.head()"
   ]
  },
  {
   "cell_type": "code",
   "execution_count": 43,
   "metadata": {},
   "outputs": [
    {
     "name": "stdout",
     "output_type": "stream",
     "text": [
      "An output file can be found in 'output' folder with name 'option1_recommendation.csv'\n"
     ]
    }
   ],
   "source": [
    "df_output.to_csv('output/option1_recommendation.csv')\n",
    "print(\"An output file can be found in 'output' folder with name 'option1_recommendation.csv'\")"
   ]
  },
  {
   "cell_type": "code",
   "execution_count": null,
   "metadata": {},
   "outputs": [],
   "source": []
  },
  {
   "cell_type": "code",
   "execution_count": 54,
   "metadata": {},
   "outputs": [],
   "source": [
    "def customer_recomendation(customer_id):\n",
    "    if customer_id not in df_output.index:\n",
    "        print('Customer not found.')\n",
    "        return customer_id\n",
    "   # return df_output.loc[customer_id]\n",
    "    else:\n",
    "        desc=df_output.loc[customer_id][\"recommendedProducts\"]\n",
    "        prod=list(desc.split(\"|\"))\n",
    "        recomproducts=[]\n",
    "        for each in prod:\n",
    "            z=list(set(userItemData[userItemData.StockCode==each][\"Description\"].tolist()))\n",
    "            recomproducts.append(z[0])\n",
    "        return recomproducts"
   ]
  },
  {
   "cell_type": "code",
   "execution_count": 55,
   "metadata": {},
   "outputs": [
    {
     "data": {
      "text/plain": [
       "[u'ALARM CLOCK BAKELIKE PINK',\n",
       " u'ALARM CLOCK BAKELIKE ORANGE',\n",
       " u'ALARM CLOCK BAKELIKE CHOCOLATE',\n",
       " u'ALARM CLOCK BAKELIKE IVORY',\n",
       " u'QUEEN OF SKIES LUGGAGE TAG',\n",
       " u'EDWARDIAN PARASOL NATURAL',\n",
       " u'RETRO LONGBOARD IRONING BOARD COVER',\n",
       " u\"POTTING SHED SOW 'N' GROW SET\",\n",
       " u'MIRRORED WALL ART FOXY',\n",
       " u'BIRTHDAY CARD, RETRO SPOT']"
      ]
     },
     "execution_count": 55,
     "metadata": {},
     "output_type": "execute_result"
    }
   ],
   "source": [
    "customer_recomendation('12431')"
   ]
  },
  {
   "cell_type": "code",
   "execution_count": null,
   "metadata": {},
   "outputs": [],
   "source": []
  }
 ],
 "metadata": {
  "kernelspec": {
   "display_name": "Python 2",
   "language": "python",
   "name": "python2"
  },
  "language_info": {
   "codemirror_mode": {
    "name": "ipython",
    "version": 2
   },
   "file_extension": ".py",
   "mimetype": "text/x-python",
   "name": "python",
   "nbconvert_exporter": "python",
   "pygments_lexer": "ipython2",
   "version": "2.7.12"
  }
 },
 "nbformat": 4,
 "nbformat_minor": 2
}
